{
  "nbformat": 4,
  "nbformat_minor": 0,
  "metadata": {
    "colab": {
      "provenance": [],
      "authorship_tag": "ABX9TyPsrJupwbe6/BY0/mqD5u6m",
      "include_colab_link": true
    },
    "kernelspec": {
      "name": "python3",
      "display_name": "Python 3"
    },
    "language_info": {
      "name": "python"
    }
  },
  "cells": [
    {
      "cell_type": "markdown",
      "metadata": {
        "id": "view-in-github",
        "colab_type": "text"
      },
      "source": [
        "<a href=\"https://colab.research.google.com/github/cloudpedagogy/data-visualisation-python/blob/main/02_Getting_Started_with_Seaborn.ipynb\" target=\"_parent\"><img src=\"https://colab.research.google.com/assets/colab-badge.svg\" alt=\"Open In Colab\"/></a>"
      ]
    },
    {
      "cell_type": "markdown",
      "source": [
        "##Loading and exploring datasets for visualization\n",
        "To load and explore datasets for visualization in Seaborn, you can use the pandas library to load the dataset and then utilize Seaborn's visualization functions to explore and visualize the data. Here's an example using the Pima Indian Diabetes dataset:\n"
      ],
      "metadata": {
        "id": "2z5xu9WgiPox"
      }
    },
    {
      "cell_type": "code",
      "source": [
        "import pandas as pd\n",
        "import seaborn as sns\n",
        "import matplotlib.pyplot as plt\n",
        "\n",
        "# Load the Pima Indian Diabetes dataset\n",
        "url = \"https://raw.githubusercontent.com/jbrownlee/Datasets/master/pima-indians-diabetes.data.csv\"\n",
        "column_names = [\"Pregnancies\", \"Glucose\", \"BloodPressure\", \"SkinThickness\", \"Insulin\", \"BMI\", \"DiabetesPedigreeFunction\", \"Age\", \"Outcome\"]\n",
        "dataset = pd.read_csv(url, names=column_names)\n",
        "\n",
        "# Explore the dataset\n",
        "print(dataset.head())  # Print the first few rows of the dataset\n",
        "print(dataset.info())  # Print information about the dataset\n",
        "\n",
        "# Visualize the dataset using Seaborn\n",
        "sns.set(style=\"ticks\")\n",
        "sns.pairplot(dataset, hue=\"Outcome\", diag_kind=\"kde\")\n",
        "plt.show()\n"
      ],
      "metadata": {
        "id": "Jhwnv3eLinpf"
      },
      "execution_count": null,
      "outputs": []
    },
    {
      "cell_type": "markdown",
      "source": [
        "In this example, we start by loading the Pima Indian Diabetes dataset using the `pd.read_csv()` function from the pandas library. We provide the URL of the dataset and specify the column names.\n",
        "\n",
        "Next, we explore the dataset by printing the first few rows using `dataset.head()` and printing information about the dataset using `dataset.info()`. This helps us understand the structure and contents of the dataset.\n",
        "\n",
        "Finally, we visualize the dataset using Seaborn. We use `sns.pairplot()` to create a scatter plot matrix, where each variable is plotted against each other variable. We set `hue=\"Outcome\"` to differentiate the scatter plots based on the \"Outcome\" column. We also set `diag_kind=\"kde\"` to display kernel density estimation plots on the diagonal. The `sns.set()` function is used to set the style of the plots. Finally, we call `plt.show()` to display the visualization.\n",
        "\n",
        "This example demonstrates how to load the dataset, explore its contents, and create a scatter plot matrix using Seaborn to visualize the relationships between variables in the Pima Indian Diabetes dataset.\n"
      ],
      "metadata": {
        "id": "MSfXF4d0itiV"
      }
    },
    {
      "cell_type": "markdown",
      "source": [
        "#Reflection points"
      ],
      "metadata": {
        "id": "qvYOFzakiy-Q"
      }
    },
    {
      "cell_type": "markdown",
      "source": [
        "1. **Introduction to the Seaborn API and basic concepts**:\n",
        "   - Reflect on the key concepts and features introduced in the Seaborn API.\n",
        "   - How did you find the documentation and examples provided by Seaborn?\n",
        "   - Did you experiment with different plot types and customization options? What did you discover?\n",
        "\n",
        "   Sample answer: The Seaborn API introduced me to various plot types, such as scatter plots, bar plots, and box plots, along with customization options like color palettes and styling. I found the documentation and examples on the Seaborn website to be comprehensive and helpful in understanding the different parameters and usage patterns. I experimented with different plot types and discovered how easily Seaborn allows you to create visually appealing and informative visualizations with just a few lines of code.\n",
        "\n",
        "2. **Loading and exploring datasets for visualization**:\n",
        "   - Reflect on the process of loading and exploring datasets in preparation for visualization.\n",
        "   - What techniques did you use to load datasets into your Python environment?\n",
        "   - How did you assess the quality and structure of the datasets before visualizing them?\n",
        "\n",
        "   Sample answer: I utilized libraries such as Pandas to load datasets into my Python environment. I used functions like `read_csv()` to load CSV files and `read_excel()` to load Excel files. Before visualizing the data, I inspected the datasets by examining the first few rows, checking for missing values, and understanding the column names and data types. I also used Pandas functions like `head()`, `info()`, and `describe()` to get a summary of the data and assess its quality.\n"
      ],
      "metadata": {
        "id": "jFvKf9kRi45W"
      }
    }
  ]
}