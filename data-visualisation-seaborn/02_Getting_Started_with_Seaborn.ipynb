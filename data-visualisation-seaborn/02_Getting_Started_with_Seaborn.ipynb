{
  "nbformat": 4,
  "nbformat_minor": 0,
  "metadata": {
    "colab": {
      "provenance": [],
      "toc_visible": true,
      "authorship_tag": "ABX9TyOmBIsh3hvCPQnO/oTPvET1",
      "include_colab_link": true
    },
    "kernelspec": {
      "name": "python3",
      "display_name": "Python 3"
    },
    "language_info": {
      "name": "python"
    }
  },
  "cells": [
    {
      "cell_type": "markdown",
      "metadata": {
        "id": "view-in-github",
        "colab_type": "text"
      },
      "source": [
        "<a href=\"https://colab.research.google.com/github/cloudpedagogy/data-science-programming/blob/main/data-visualisation-seaborn/02_Getting_Started_with_Seaborn.ipynb\" target=\"_parent\"><img src=\"https://colab.research.google.com/assets/colab-badge.svg\" alt=\"Open In Colab\"/></a>"
      ]
    },
    {
      "cell_type": "markdown",
      "source": [
        "# Loading and exploring datasets for visualization\n"
      ],
      "metadata": {
        "id": "mNIaUVlwB-K1"
      }
    },
    {
      "cell_type": "markdown",
      "source": [
        "To load and explore datasets for visualization in Seaborn, you can use the pandas library to load the dataset and then utilize Seaborn's visualization functions to explore and visualize the data. Here's an example using the Pima Indian Diabetes dataset:\n"
      ],
      "metadata": {
        "id": "2z5xu9WgiPox"
      }
    },
    {
      "cell_type": "code",
      "source": [
        "import pandas as pd\n",
        "import seaborn as sns\n",
        "import matplotlib.pyplot as plt\n",
        "\n",
        "# Load the Pima Indian Diabetes dataset\n",
        "url = \"https://raw.githubusercontent.com/jbrownlee/Datasets/master/pima-indians-diabetes.data.csv\"\n",
        "column_names = [\"Pregnancies\", \"Glucose\", \"BloodPressure\", \"SkinThickness\", \"Insulin\", \"BMI\", \"DiabetesPedigreeFunction\", \"Age\", \"Outcome\"]\n",
        "dataset = pd.read_csv(url, names=column_names)\n",
        "\n",
        "# Explore the dataset\n",
        "print(dataset.head())  # Print the first few rows of the dataset\n",
        "print(dataset.info())  # Print information about the dataset\n",
        "\n",
        "# Visualize the dataset using Seaborn\n",
        "sns.set(style=\"ticks\")\n",
        "sns.pairplot(dataset, hue=\"Outcome\", diag_kind=\"kde\")\n",
        "plt.show()\n"
      ],
      "metadata": {
        "id": "Jhwnv3eLinpf"
      },
      "execution_count": null,
      "outputs": []
    },
    {
      "cell_type": "markdown",
      "source": [
        "In this example, we start by loading the Pima Indian Diabetes dataset using the `pd.read_csv()` function from the pandas library. We provide the URL of the dataset and specify the column names.\n",
        "\n",
        "Next, we explore the dataset by printing the first few rows using `dataset.head()` and printing information about the dataset using `dataset.info()`. This helps us understand the structure and contents of the dataset.\n",
        "\n",
        "Finally, we visualize the dataset using Seaborn. We use `sns.pairplot()` to create a scatter plot matrix, where each variable is plotted against each other variable. We set `hue=\"Outcome\"` to differentiate the scatter plots based on the \"Outcome\" column. We also set `diag_kind=\"kde\"` to display kernel density estimation plots on the diagonal. The `sns.set()` function is used to set the style of the plots. Finally, we call `plt.show()` to display the visualization.\n",
        "\n",
        "This example demonstrates how to load the dataset, explore its contents, and create a scatter plot matrix using Seaborn to visualize the relationships between variables in the Pima Indian Diabetes dataset.\n"
      ],
      "metadata": {
        "id": "MSfXF4d0itiV"
      }
    },
    {
      "cell_type": "markdown",
      "source": [
        "# Reflection points"
      ],
      "metadata": {
        "id": "qvYOFzakiy-Q"
      }
    },
    {
      "cell_type": "markdown",
      "source": [
        "1. **Introduction to the Seaborn API and basic concepts**:\n",
        "   - Reflect on the key concepts and features introduced in the Seaborn API.\n",
        "   - How did you find the documentation and examples provided by Seaborn?\n",
        "   - Did you experiment with different plot types and customization options? What did you discover?\n",
        "\n",
        "   Sample answer: The Seaborn API introduced me to various plot types, such as scatter plots, bar plots, and box plots, along with customization options like color palettes and styling. I found the documentation and examples on the Seaborn website to be comprehensive and helpful in understanding the different parameters and usage patterns. I experimented with different plot types and discovered how easily Seaborn allows you to create visually appealing and informative visualizations with just a few lines of code.\n",
        "\n",
        "2. **Loading and exploring datasets for visualization**:\n",
        "   - Reflect on the process of loading and exploring datasets in preparation for visualization.\n",
        "   - What techniques did you use to load datasets into your Python environment?\n",
        "   - How did you assess the quality and structure of the datasets before visualizing them?\n",
        "\n",
        "   Sample answer: I utilized libraries such as Pandas to load datasets into my Python environment. I used functions like `read_csv()` to load CSV files and `read_excel()` to load Excel files. Before visualizing the data, I inspected the datasets by examining the first few rows, checking for missing values, and understanding the column names and data types. I also used Pandas functions like `head()`, `info()`, and `describe()` to get a summary of the data and assess its quality.\n"
      ],
      "metadata": {
        "id": "jFvKf9kRi45W"
      }
    },
    {
      "cell_type": "markdown",
      "source": [
        "# Exercise"
      ],
      "metadata": {
        "id": "dHUX1V6wiW6I"
      }
    },
    {
      "cell_type": "markdown",
      "source": [
        "\n",
        "1. Use the 'pandas' library to load the dataset from the provided URL.\n",
        "2. Print the first few rows of the dataset to understand its structure.\n",
        "3. Check for missing values and handle them if any.\n",
        "4. Explore the basic statistics of the dataset, such as mean, standard deviation, etc.\n",
        "5. Visualize the distribution of individual features using Seaborn plots (e.g., histogram, boxplot, etc.).\n",
        "6. Create Seaborn plots to explore relationships between features, like scatter plots or pair plots.\n",
        "7. Use Seaborn's count plot to visualize the distribution of the target variable (diabetes) in the dataset.\n"
      ],
      "metadata": {
        "id": "zGdHQDfdiYl5"
      }
    },
    {
      "cell_type": "markdown",
      "source": [
        "# Sample Solution"
      ],
      "metadata": {
        "id": "AVQevUy3igUB"
      }
    },
    {
      "cell_type": "code",
      "source": [
        "import pandas as pd\n",
        "import seaborn as sns\n",
        "import matplotlib.pyplot as plt\n",
        "\n",
        "# Step 1: Load the dataset\n",
        "url = \"https://raw.githubusercontent.com/jbrownlee/Datasets/master/pima-indians-diabetes.data.csv\"\n",
        "df = pd.read_csv(url, header=None)\n",
        "\n",
        "# Step 2: Print the first few rows of the dataset\n",
        "print(df.head())\n",
        "\n",
        "# Step 3: Check for missing values\n",
        "print(\"Number of missing values in each column:\")\n",
        "print(df.isnull().sum())\n",
        "\n",
        "# Step 4: Explore basic statistics\n",
        "print(\"\\nBasic statistics of the dataset:\")\n",
        "print(df.describe())\n",
        "\n",
        "# Step 5: Visualize individual features using Seaborn plots\n",
        "plt.figure(figsize=(12, 8))\n",
        "sns.set_style(\"whitegrid\")\n",
        "plt.subplot(2, 2, 1)\n",
        "sns.histplot(df[1], kde=True)\n",
        "plt.title(\"Distribution of Pregnancies\")\n",
        "\n",
        "plt.subplot(2, 2, 2)\n",
        "sns.histplot(df[5], kde=True)\n",
        "plt.title(\"Distribution of BMI\")\n",
        "\n",
        "plt.subplot(2, 2, 3)\n",
        "sns.boxplot(x=df[8], y=df[1])\n",
        "plt.title(\"BMI vs. Pregnancies\")\n",
        "\n",
        "plt.subplot(2, 2, 4)\n",
        "sns.boxplot(x=df[8], y=df[5])\n",
        "plt.title(\"BMI vs. Glucose Level\")\n",
        "\n",
        "plt.tight_layout()\n",
        "plt.show()\n",
        "\n",
        "# Step 6: Visualize relationships between features using Seaborn plots\n",
        "sns.pairplot(df, hue=8, diag_kind=\"hist\")\n",
        "plt.suptitle(\"Pair Plot of Features\")\n",
        "plt.show()\n",
        "\n",
        "# Step 7: Visualize the distribution of the target variable (diabetes)\n",
        "plt.figure(figsize=(6, 4))\n",
        "sns.countplot(x=df[8])\n",
        "plt.title(\"Distribution of Diabetes\")\n",
        "plt.show()\n"
      ],
      "metadata": {
        "id": "HeJf91dRinew"
      },
      "execution_count": null,
      "outputs": []
    }
  ]
}