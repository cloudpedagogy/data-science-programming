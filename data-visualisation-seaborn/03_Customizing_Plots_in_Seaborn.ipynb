{
  "nbformat": 4,
  "nbformat_minor": 0,
  "metadata": {
    "colab": {
      "provenance": [],
      "toc_visible": true
    },
    "kernelspec": {
      "name": "python3",
      "display_name": "Python 3"
    },
    "language_info": {
      "name": "python"
    }
  },
  "cells": [
    {
      "cell_type": "markdown",
      "source": [
        "# Customizing Plots in Seaborn\n",
        "\n"
      ],
      "metadata": {
        "id": "gumWxHD0jJaJ"
      }
    },
    {
      "cell_type": "markdown",
      "source": [
        "## Overview"
      ],
      "metadata": {
        "id": "xO0OG4mCvUtn"
      }
    },
    {
      "cell_type": "markdown",
      "source": [
        "\n",
        "\n",
        "Customizing plots in Seaborn involves manipulating various plot elements such as colors, labels, axes, legends, grids, and more. By leveraging these customization options, you can tailor your visualizations to effectively communicate your data and insights.\n",
        "\n",
        "One of the key aspects of customization in Seaborn is controlling the overall appearance of the plot. You can choose from different preset themes, including darkgrid, whitegrid, dark, white, and ticks, which provide distinctive visual styles and grid configurations. Moreover, Seaborn allows you to modify the color palette used in your plots, either by selecting from a range of predefined palettes or by creating your own custom color schemes to match the desired aesthetic or convey specific information.\n",
        "\n",
        "Additionally, Seaborn offers flexibility in customizing individual plot components. You can modify the labels and titles of axes, change the appearance of markers or lines in scatter plots and line plots, adjust the legend position and labels, and even tweak the layout and formatting of tick marks and gridlines. Furthermore, Seaborn provides tools to control the size, aspect ratio, and overall dimensions of your plots, allowing you to adapt them for different output formats or optimize them for specific display media.\n",
        "\n",
        "Another essential aspect of customizing plots in Seaborn is the ability to annotate and add textual or statistical information to your visualizations. You can include text annotations, such as titles, subtitles, axis labels, and captions, to provide context and clarify the purpose of the plot. Additionally, Seaborn enables you to overlay statistical summaries like regression lines, confidence intervals, or correlation coefficients to enhance the interpretability of your plots.\n",
        "\n",
        "In conclusion, Seaborn offers extensive options for customizing your plots, enabling you to create visually appealing and informative data visualizations. By leveraging its built-in customization tools, you can tailor your plots to match your specific requirements, communicate your findings effectively, and produce captivating visual representations of your data. Whether it's adjusting colors, labels, axes, or incorporating statistical summaries, Seaborn empowers you to create beautiful and customized plots that showcase your data in the most impactful way."
      ],
      "metadata": {
        "id": "QVIqrckpvXa8"
      }
    },
    {
      "cell_type": "markdown",
      "source": [
        "# Styling and formatting options in Seaborn\n"
      ],
      "metadata": {
        "id": "up_sKvw3uoOR"
      }
    },
    {
      "cell_type": "markdown",
      "source": [
        "Seaborn is a popular data visualization library in Python that is built on top of Matplotlib. It provides a high-level interface for creating aesthetically pleasing and informative statistical graphics. Seaborn offers various styling and formatting options to customize the appearance of plots. Here are some common styling options in Seaborn:\n",
        "\n",
        "1. Color Palettes: Seaborn provides a range of color palettes to choose from, allowing you to set different color schemes for your plots. You can use built-in palettes like \"deep,\" \"bright,\" \"pastel,\" or choose from a variety of color options.\n",
        "\n",
        "2. Themes: Seaborn comes with different themes that affect the overall style of the plot. The default theme is called \"darkgrid,\" but you can also use other themes such as \"whitegrid,\" \"dark,\" \"white,\" or \"ticks.\" Each theme offers a distinct look and feel.\n",
        "\n",
        "3. Plot Styles: Seaborn provides different plot styles that control the overall aesthetics of the plot, including the background, gridlines, and font sizes. You can use styles like \"darkgrid,\" \"whitegrid,\" \"dark,\" \"white,\" or \"ticks\" to customize the plot appearance.\n",
        "\n",
        "4. Figure Size: You can adjust the size of the figure using the `plt.figure()` function or by specifying the `figsize` parameter when creating a plot. This allows you to control the dimensions of the plot and ensure it fits well within your desired space.\n",
        "\n",
        "Here's an example of using Seaborn styling options with the Pima Indian Diabetes dataset:\n"
      ],
      "metadata": {
        "id": "jminxKPwutRC"
      }
    },
    {
      "cell_type": "code",
      "source": [
        "import seaborn as sns\n",
        "import pandas as pd\n",
        "from matplotlib import pyplot as plt\n",
        "\n",
        "\n",
        "\n",
        "# Load the Pima Indian Diabetes dataset\n",
        "url = \"https://raw.githubusercontent.com/jbrownlee/Datasets/master/pima-indians-diabetes.data.csv\"\n",
        "column_names = [\"Pregnancies\", \"Glucose\", \"BloodPressure\", \"SkinThickness\", \"Insulin\", \"BMI\", \"DiabetesPedigreeFunction\", \"Age\", \"Outcome\"]\n",
        "dataset = pd.read_csv(url, names=column_names)\n",
        "\n",
        "# Set the color palette\n",
        "sns.set_palette(\"pastel\")\n",
        "\n",
        "# Set the theme\n",
        "sns.set_theme(style=\"whitegrid\")\n",
        "\n",
        "# Set the figure size\n",
        "sns.set(rc={\"figure.figsize\": (8, 6)})\n",
        "\n",
        "# Plot a bar chart of the number of people with diabetes\n",
        "sns.countplot(x='Outcome', data=dataset)\n",
        "\n",
        "# Set the title and labels\n",
        "plt.title('Number of People with Diabetes')\n",
        "plt.xlabel('Diabetes Outcome')\n",
        "plt.ylabel('Count')\n",
        "\n",
        "# Show the plot\n",
        "plt.show()\n"
      ],
      "metadata": {
        "id": "ZcWO7f3Guw6x"
      },
      "execution_count": null,
      "outputs": []
    },
    {
      "cell_type": "markdown",
      "source": [
        "In this example, we load the Pima Indian Diabetes dataset using Pandas. We then use Seaborn styling options to customize the appearance of the plot.\n",
        "\n",
        "We set the color palette using `sns.set_palette()` to \"pastel,\" which applies a soft and muted color scheme to the plot. The `sns.set_theme()` function is used to set the theme to \"whitegrid,\" which provides a white background with gridlines.\n",
        "\n",
        "We adjust the figure size using `sns.set()` and specifying the `rc` parameter with the desired dimensions.\n",
        "\n",
        "Next, we create a bar chart using `sns.countplot()` to visualize the number of people with diabetes. We set the title, x-axis label, and y-axis label using `plt.title()`, `plt.xlabel()`, and `plt.ylabel()` functions, respectively.\n",
        "\n",
        "Finally, we show the plot using `plt.show()`.\n",
        "\n",
        "By using these Seaborn styling options, you can easily customize the appearance of your plots to suit your needs and enhance data visualization.\n"
      ],
      "metadata": {
        "id": "ayPYFpcau0h_"
      }
    },
    {
      "cell_type": "markdown",
      "source": [
        "# Modifying plot aesthetics and themes\n"
      ],
      "metadata": {
        "id": "3i9nRh16u5Xf"
      }
    },
    {
      "cell_type": "markdown",
      "source": [
        "To modify plot aesthetics and themes in Seaborn, you can use various functions and parameters provided by the library. Seaborn allows you to customize the appearance of your plots by changing the colors, styles, fonts, and other visual elements.\n",
        "\n",
        "Here's an example of modifying plot aesthetics and themes using the Pima Indian Diabetes dataset:\n"
      ],
      "metadata": {
        "id": "fFCbKkjvu8tl"
      }
    },
    {
      "cell_type": "code",
      "source": [
        "import pandas as pd\n",
        "import seaborn as sns\n",
        "import matplotlib.pyplot as plt\n",
        "\n",
        "# Load the Pima Indian Diabetes dataset\n",
        "url = \"https://raw.githubusercontent.com/jbrownlee/Datasets/master/pima-indians-diabetes.data.csv\"\n",
        "column_names = [\"Pregnancies\", \"Glucose\", \"BloodPressure\", \"SkinThickness\", \"Insulin\", \"BMI\", \"DiabetesPedigreeFunction\", \"Age\", \"Outcome\"]\n",
        "dataset = pd.read_csv(url, names=column_names)\n",
        "\n",
        "# Set the Seaborn theme and style\n",
        "sns.set_theme(style=\"whitegrid\")\n",
        "\n",
        "# Set the color palette\n",
        "custom_palette = [\"#1f77b4\", \"#ff7f0e\"]\n",
        "sns.set_palette(custom_palette)\n",
        "\n",
        "# Plot the histogram of glucose levels\n",
        "sns.histplot(data=dataset, x=\"Glucose\", hue=\"Outcome\", kde=True, multiple=\"stack\")\n",
        "\n",
        "# Set plot title and axis labels\n",
        "plt.title(\"Distribution of Glucose Levels\")\n",
        "plt.xlabel(\"Glucose Level\")\n",
        "plt.ylabel(\"Count\")\n",
        "\n",
        "# Show the plot\n",
        "plt.show()\n"
      ],
      "metadata": {
        "id": "pCCluIu_u_j2"
      },
      "execution_count": null,
      "outputs": []
    },
    {
      "cell_type": "markdown",
      "source": [
        "In this example, we use Seaborn to modify the plot aesthetics and themes for a histogram of glucose levels in the Pima Indian Diabetes dataset.\n",
        "\n",
        "We start by loading the dataset using Pandas. Then, we set the Seaborn theme to \"whitegrid\" using `sns.set_theme()`, which provides a white background with grid lines.\n",
        "\n",
        "Next, we set a custom color palette using `sns.set_palette()`. The custom palette contains two colors represented by hexadecimal codes, `#1f77b4` and `#ff7f0e`, which will be used to differentiate the histogram bars based on the diabetes outcome.\n",
        "\n",
        "We create the histogram using `sns.histplot()` and pass the dataset, the 'Glucose' column as the x-axis variable, and the 'Outcome' column as the hue variable to distinguish bars based on the diabetes outcome. We enable kernel density estimation (KDE) with `kde=True` and stack the bars using `multiple=\"stack\"`.\n",
        "\n",
        "We then set the plot title, x-axis label, and y-axis label using `plt.title()`, `plt.xlabel()`, and `plt.ylabel()` functions from Matplotlib.\n",
        "\n",
        "Finally, we display the plot using `plt.show()`.\n",
        "\n",
        "By modifying the theme, color palette, and other aesthetics, you can customize the appearance of your Seaborn plots to suit your preferences and enhance data visualization.\n"
      ],
      "metadata": {
        "id": "J3jr2yfbvDiM"
      }
    },
    {
      "cell_type": "markdown",
      "source": [
        "# Reflection Points"
      ],
      "metadata": {
        "id": "0cWSBZmlkPnS"
      }
    },
    {
      "cell_type": "markdown",
      "source": [
        "1. **Seaborn Styling and Formatting Options**:\n",
        "   - Reflect on the different styling options available in Seaborn for enhancing your visualizations.\n",
        "   - Consider how styling choices, such as fonts, gridlines, and background colors, impact the overall look and feel of your plots.\n",
        "   - Reflect on the benefits of using Seaborn's built-in styles versus customizing the styling manually.\n",
        "\n",
        "2. **Choosing Appropriate Color Palettes**:\n",
        "   - Reflect on the importance of color in data visualizations and its impact on conveying information effectively.\n",
        "   - Consider different factors to weigh when selecting color palettes, such as the type of data, the intended message, and the target audience.\n",
        "   - Reflect on the use of qualitative, sequential, and diverging color palettes and their suitability for different types of data.\n",
        "\n",
        "3. **Modifying Plot Aesthetics and Themes**:\n",
        "   - Reflect on the role of plot aesthetics in creating visually appealing and informative visualizations.\n",
        "   - Consider the benefits of modifying plot elements like titles, labels, legends, and annotations to enhance clarity and understanding.\n",
        "   - Reflect on the importance of choosing appropriate themes that align with the purpose and context of your visualizations.\n",
        "\n",
        "**Sample Answers**:\n",
        "\n",
        "1. **Seaborn Styling and Formatting Options**:\n",
        "   - How can Seaborn's styling options enhance the visual appeal and readability of your plots?\n",
        "   - What are the advantages of using Seaborn's pre-defined styles (e.g., \"darkgrid,\" \"whitegrid,\" \"ticks\") compared to manually customizing the styling?\n",
        "   - Reflect on a scenario where adjusting the font size or background color in Seaborn improved the overall aesthetics and made the plot more engaging.\n",
        "\n",
        "2. **Choosing Appropriate Color Palettes**:\n",
        "   - How does the choice of color palette impact the clarity and interpretation of your data visualizations?\n",
        "   - Reflect on a situation where you had to select a color palette for a specific dataset and explain the factors you considered in making your decision.\n",
        "   - Discuss the benefits and limitations of using qualitative color palettes (categorical data) versus sequential or diverging color palettes (numerical data).\n",
        "\n",
        "3. **Modifying Plot Aesthetics and Themes**:\n",
        "   - Reflect on a time when modifying plot aesthetics, such as adjusting the title or axis labels, significantly improved the readability and understanding of your visualization.\n",
        "   - How can modifying the theme or style of a plot contribute to the overall cohesiveness and visual impact of a project or report?\n",
        "   - Discuss the considerations you would take into account when choosing a theme for a specific visualization project and explain why it is important to select an appropriate theme.\n"
      ],
      "metadata": {
        "id": "s37Sdsk_ktkW"
      }
    },
    {
      "cell_type": "markdown",
      "source": [
        "# Exercise"
      ],
      "metadata": {
        "id": "TEqRzBNXjFPM"
      }
    },
    {
      "cell_type": "markdown",
      "source": [
        "\n",
        "1. Load the dataset from the given URL.\n",
        "2. Explore the dataset and handle any missing values, if present.\n",
        "3. Use Seaborn to create various types of plots with customizations:\n",
        "   a. Create a count plot to visualize the distribution of diabetic and non-diabetic patients.\n",
        "   b. Create a histogram for the \"glucose\" feature.\n",
        "   c. Create a scatter plot between \"glucose\" and \"BMI\" features, differentiating diabetic and non-diabetic patients using colors.\n",
        "   d. Create a box plot to visualize the distribution of the \"age\" feature among diabetic and non-diabetic patients.\n",
        "4. Customize each plot with appropriate titles, axis labels, and colors.\n"
      ],
      "metadata": {
        "id": "eNZox0ZnjG15"
      }
    },
    {
      "cell_type": "markdown",
      "source": [
        "# Sample Solution"
      ],
      "metadata": {
        "id": "7mLpFf2KjN5E"
      }
    },
    {
      "cell_type": "code",
      "source": [
        "import pandas as pd\n",
        "import seaborn as sns\n",
        "import matplotlib.pyplot as plt\n",
        "\n",
        "# Step 1: Load the dataset\n",
        "url = 'https://raw.githubusercontent.com/jbrownlee/Datasets/master/pima-indians-diabetes.data.csv'\n",
        "column_names = ['pregnancies', 'glucose', 'blood_pressure', 'skin_thickness', 'insulin', 'bmi', 'diabetes_pedigree', 'age', 'diabetes']\n",
        "df = pd.read_csv(url, names=column_names)\n",
        "\n",
        "# Step 2: Handling missing values (if needed)\n",
        "# Assuming that the missing values have already been handled in the dataset.\n",
        "\n",
        "# Step 3: Creating and customizing plots\n",
        "# Set the Seaborn style for better aesthetics\n",
        "sns.set(style='whitegrid')\n",
        "\n",
        "# a. Count plot for the \"diabetes\" target variable\n",
        "plt.figure(figsize=(8, 5))\n",
        "sns.countplot(x='diabetes', data=df, palette='pastel')\n",
        "plt.title('Distribution of Diabetic and Non-Diabetic Patients')\n",
        "plt.xlabel('Diabetes Status (0: Non-Diabetic, 1: Diabetic)')\n",
        "plt.ylabel('Count')\n",
        "plt.show()\n",
        "\n",
        "# b. Histogram for the \"glucose\" feature\n",
        "plt.figure(figsize=(8, 5))\n",
        "sns.histplot(df['glucose'], bins=15, kde=True, color='skyblue')\n",
        "plt.title('Distribution of Glucose Levels')\n",
        "plt.xlabel('Glucose')\n",
        "plt.ylabel('Frequency')\n",
        "plt.show()\n",
        "\n",
        "# c. Scatter plot between \"glucose\" and \"BMI\" features with diabetes status differentiation\n",
        "plt.figure(figsize=(8, 5))\n",
        "sns.scatterplot(x='glucose', y='bmi', hue='diabetes', data=df, palette='coolwarm')\n",
        "plt.title('Glucose vs. BMI with Diabetes Status Differentiation')\n",
        "plt.xlabel('Glucose')\n",
        "plt.ylabel('BMI')\n",
        "plt.legend(title='Diabetes', loc='upper right', labels=['Non-Diabetic', 'Diabetic'])\n",
        "plt.show()\n",
        "\n",
        "# d. Box plot for the \"age\" feature with diabetes status differentiation\n",
        "plt.figure(figsize=(8, 5))\n",
        "sns.boxplot(x='diabetes', y='age', data=df, palette='Set2')\n",
        "plt.title('Distribution of Age Among Diabetic and Non-Diabetic Patients')\n",
        "plt.xlabel('Diabetes Status (0: Non-Diabetic, 1: Diabetic)')\n",
        "plt.ylabel('Age')\n",
        "plt.xticks([0, 1], ['Non-Diabetic', 'Diabetic'])\n",
        "plt.show()\n"
      ],
      "metadata": {
        "id": "pAougkFxjR_v"
      },
      "execution_count": null,
      "outputs": []
    },
    {
      "cell_type": "markdown",
      "source": [
        "# A quiz on Customizing Plots in Seaborn"
      ],
      "metadata": {
        "id": "UplA8rRNwSIZ"
      }
    },
    {
      "cell_type": "markdown",
      "source": [
        "\n",
        "\n",
        "1. Which Seaborn function allows you to set the color palette for your plots?\n",
        "<br>a) `set_style`\n",
        "<br>b) `set_palette`\n",
        "<br>c) `set_color_palette`\n",
        "<br>d) `set_context`\n",
        "\n",
        "2. What function is used to remove the top and right spines from a Seaborn plot?\n",
        "<br>a) `remove_spines`\n",
        "<br>b) `despine`\n",
        "<br>c) `hide_spines`\n",
        "<br>d) `spine_off`\n",
        "\n",
        "3. Which Seaborn function is used to control the scaling of the plot elements?\n",
        "<br>a) `set_style`\n",
        "<br>b) `set_palette`\n",
        "<br>c) `set_context`\n",
        "<br>d) `set_scale`\n",
        "\n",
        "4. True or False: Seaborn allows you to modify the style of individual plot elements, such as axis labels and tick marks.\n",
        "\n",
        "5. Which Seaborn function is used to control the overall aesthetic of the plot?\n",
        "<br>a) `set_style`\n",
        "<br>b) `set_palette`\n",
        "<br>c) `set_context`\n",
        "<br>d) `set_theme`\n",
        "\n",
        "6. What is the default context in Seaborn?\n",
        "<br>a) `paper`\n",
        "<br>b) `notebook`\n",
        "<br>c) `talk`\n",
        "<br>d) `poster`\n",
        "\n",
        "7. Which function in Seaborn is used to set the default aesthetic parameters for all plots?\n",
        "<br>a) `set`\n",
        "<br>b) `set_style`\n",
        "<br>c) `set_theme`\n",
        "<br>d) `set_defaults`\n",
        "\n",
        "8. What Seaborn function is used to change the size of plot elements such as the figure size and font size?\n",
        "<br>a) `set_style`\n",
        "<br>b) `set_palette`\n",
        "<br>c) `set_context`\n",
        "<br>d) `set_size`\n",
        "\n",
        "9. True or False: Seaborn supports customizing the color palettes used in plots.\n",
        "\n",
        "10. What Seaborn function is used to apply predefined themes to your plots?\n",
        "<br>a) `set_theme`\n",
        "<br>b) `set_style`\n",
        "<br>c) `set_palette`\n",
        "<br>d) `set_context`\n",
        "---\n",
        "**Answers:**\n",
        "\n",
        "1. b) `set_palette`\n",
        "2. b) `despine`\n",
        "3. c) `set_context`\n",
        "4. True\n",
        "5. a) `set_style`\n",
        "6. b) `notebook`\n",
        "7. c) `set_theme`\n",
        "8. c) `set_context`\n",
        "9. True\n",
        "10. a) `set_theme`\n",
        "---"
      ],
      "metadata": {
        "id": "mlK5EuY-wVw9"
      }
    }
  ]
}