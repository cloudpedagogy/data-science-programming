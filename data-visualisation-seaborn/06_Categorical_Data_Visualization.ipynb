{
  "nbformat": 4,
  "nbformat_minor": 0,
  "metadata": {
    "colab": {
      "provenance": [],
      "toc_visible": true,
      "authorship_tag": "ABX9TyOeVai5u3BjV5iFUWz7oFTO",
      "include_colab_link": true
    },
    "kernelspec": {
      "name": "python3",
      "display_name": "Python 3"
    },
    "language_info": {
      "name": "python"
    }
  },
  "cells": [
    {
      "cell_type": "markdown",
      "metadata": {
        "id": "view-in-github",
        "colab_type": "text"
      },
      "source": [
        "<a href=\"https://colab.research.google.com/github/cloudpedagogy/data-visualisation-python/blob/main/06_Categorical_Data_Visualization.ipynb\" target=\"_parent\"><img src=\"https://colab.research.google.com/assets/colab-badge.svg\" alt=\"Open In Colab\"/></a>"
      ]
    },
    {
      "cell_type": "markdown",
      "source": [
        "#Categorical Data Visualization\n"
      ],
      "metadata": {
        "id": "01pL54KBqEPC"
      }
    },
    {
      "cell_type": "markdown",
      "source": [
        "##Overview"
      ],
      "metadata": {
        "id": "0o9KbXnPVK3F"
      }
    },
    {
      "cell_type": "markdown",
      "source": [
        "**Introduction to Categorical Data Visualization using Python Seaborn**\n",
        "\n",
        "Categorical data visualization is a crucial aspect of data analysis and exploration, especially when dealing with discrete or qualitative data. In many real-world scenarios, data can be grouped into categories or classes, and understanding the patterns and relationships between these categories is essential for making informed decisions.\n",
        "\n",
        "\n",
        "**Key Features of Seaborn for Categorical Data Visualization:**\n",
        "\n",
        "1. **Categorical Plots:** Seaborn offers a variety of categorical plots, including bar plots, count plots, point plots, and many more. These plots are specifically designed to showcase the distribution and relationships between different categories in the data.\n",
        "\n",
        "2. **Colorful Palettes:** Seaborn comes with a broad range of color palettes that are thoughtfully designed to enhance the visual appeal of your plots. These palettes help differentiate between categories and make the plots more informative and engaging.\n",
        "\n",
        "3. **Statistical Estimations:** Seaborn's categorical plots can automatically compute and display various statistical estimations, such as confidence intervals, standard deviations, and aggregations, to provide a deeper understanding of the data.\n",
        "\n",
        "4. **Faceting Capabilities:** Seaborn allows you to create faceted categorical plots, where you can visualize multiple subsets of the data side by side or in a grid. This feature is invaluable when you want to compare various aspects of the data across different categories.\n",
        "\n",
        "5. **Customization Options:** Seaborn offers an array of customization options, enabling you to fine-tune the appearance of your plots. You can customize the colors, styles, labels, and other elements to match your visualization preferences or the specific requirements of your audience.\n",
        "\n"
      ],
      "metadata": {
        "id": "9HQDXpqfVNUJ"
      }
    },
    {
      "cell_type": "markdown",
      "source": [
        "#Bar plots and count plots\n"
      ],
      "metadata": {
        "id": "DcKnTsdnW9gE"
      }
    },
    {
      "cell_type": "markdown",
      "source": [
        "##Bar plots"
      ],
      "metadata": {
        "id": "5qXhsnEjXAsX"
      }
    },
    {
      "cell_type": "markdown",
      "source": [
        "\n",
        "\n",
        "\n",
        "Bar plots in Seaborn are a type of visualization used to display categorical data. They are useful for comparing and visualizing the distribution of a categorical variable or the relationship between two categorical variables. In a bar plot, the height of each bar represents the frequency or count of each category.\n",
        "\n",
        "Seaborn provides the `barplot()` function to create bar plots. It is a high-level interface to create visually appealing and informative bar plots with minimal code.\n",
        "\n",
        "Here's an example of creating a bar plot using the Pima Indian Diabetes dataset:\n"
      ],
      "metadata": {
        "id": "8yMsxKzbqIvk"
      }
    },
    {
      "cell_type": "code",
      "source": [
        "import pandas as pd\n",
        "import seaborn as sns\n",
        "import matplotlib.pyplot as plt\n",
        "\n",
        "# Load the Pima Indian Diabetes dataset\n",
        "url = \"https://raw.githubusercontent.com/jbrownlee/Datasets/master/pima-indians-diabetes.data.csv\"\n",
        "column_names = [\"Pregnancies\", \"Glucose\", \"BloodPressure\", \"SkinThickness\", \"Insulin\", \"BMI\", \"DiabetesPedigreeFunction\", \"Age\", \"Outcome\"]\n",
        "dataset = pd.read_csv(url, names=column_names)\n",
        "\n",
        "# Count the number of people with and without diabetes\n",
        "diabetes_counts = dataset['Outcome'].value_counts()\n",
        "\n",
        "# Create a bar plot using Seaborn\n",
        "sns.set(style=\"darkgrid\")\n",
        "plt.figure(figsize=(6, 4))\n",
        "sns.barplot(x=diabetes_counts.index, y=diabetes_counts.values)\n",
        "plt.title(\"Number of People with and without Diabetes\")\n",
        "plt.xlabel(\"Diabetes\")\n",
        "plt.ylabel(\"Count\")\n",
        "plt.show()\n"
      ],
      "metadata": {
        "id": "OvAGjqBZqNIM"
      },
      "execution_count": null,
      "outputs": []
    },
    {
      "cell_type": "markdown",
      "source": [
        "In this example, we first load the Pima Indian Diabetes dataset using Pandas. Next, we use the `value_counts()` function to count the number of people with and without diabetes by counting the frequency of each unique value in the 'Outcome' column.\n",
        "\n",
        "We then create a bar plot using Seaborn's `barplot()` function. We set the style to \"darkgrid\" using `sns.set()` to give the plot a grid background. We specify the x-axis values as the unique values in the 'Outcome' column (`diabetes_counts.index`) and the y-axis values as the corresponding counts (`diabetes_counts.values`).\n",
        "\n",
        "Finally, we add a title, x-label, and y-label to the plot using Matplotlib functions, and display the plot using `plt.show()`.\n",
        "\n",
        "The resulting bar plot shows the number of people with and without diabetes, where the height of each bar represents the count for each category.\n"
      ],
      "metadata": {
        "id": "wC7EbAnSqSvR"
      }
    },
    {
      "cell_type": "markdown",
      "source": [
        "##Count plots\n"
      ],
      "metadata": {
        "id": "4fEQO_RwXDYh"
      }
    },
    {
      "cell_type": "markdown",
      "source": [
        "\n",
        "Count plots in Seaborn are used to visualize the count or frequency of categorical variables in a dataset. It displays the number of occurrences of each category on the y-axis, while the x-axis represents the categories themselves. Count plots are useful for exploring the distribution of categorical variables and identifying the most common categories within a dataset.\n",
        "\n",
        "Here's an example of using a count plot in Seaborn with the Pima Indian Diabetes dataset:\n"
      ],
      "metadata": {
        "id": "j4ufj4uhqWB9"
      }
    },
    {
      "cell_type": "code",
      "source": [
        "import pandas as pd\n",
        "import seaborn as sns\n",
        "import matplotlib.pyplot as plt\n",
        "\n",
        "# Load the Pima Indian Diabetes dataset\n",
        "url = \"https://raw.githubusercontent.com/jbrownlee/Datasets/master/pima-indians-diabetes.data.csv\"\n",
        "column_names = [\"Pregnancies\", \"Glucose\", \"BloodPressure\", \"SkinThickness\", \"Insulin\", \"BMI\", \"DiabetesPedigreeFunction\", \"Age\", \"Outcome\"]\n",
        "dataset = pd.read_csv(url, names=column_names)\n",
        "\n",
        "# Plot the count of diabetes outcome\n",
        "sns.countplot(x='Outcome', data=dataset)\n",
        "plt.title(\"Count of Diabetes Outcome\")\n",
        "plt.show()\n"
      ],
      "metadata": {
        "id": "7jdBgs33qZR5"
      },
      "execution_count": null,
      "outputs": []
    },
    {
      "cell_type": "markdown",
      "source": [
        "In this example, we use Seaborn to create a count plot to visualize the frequency of the diabetes outcome in the Pima Indian Diabetes dataset.\n",
        "\n",
        "We first load the dataset using Pandas as before. Then, we use the `sns.countplot()` function from Seaborn to create the count plot. We specify `x='Outcome'` to indicate that we want to plot the count of the 'Outcome' variable.\n",
        "\n",
        "Finally, we add a title to the plot using `plt.title()` from Matplotlib, and display the plot using `plt.show()`.\n",
        "\n",
        "The resulting count plot will show the number of occurrences for each category of the 'Outcome' variable, representing the count of individuals with and without diabetes in the dataset.\n"
      ],
      "metadata": {
        "id": "Iq0yUeSuqelX"
      }
    },
    {
      "cell_type": "markdown",
      "source": [
        "#Point plots and factor plots\n"
      ],
      "metadata": {
        "id": "eCpatYZcXF0j"
      }
    },
    {
      "cell_type": "markdown",
      "source": [
        "##Point plots\n"
      ],
      "metadata": {
        "id": "u6KSiBfcXHmV"
      }
    },
    {
      "cell_type": "markdown",
      "source": [
        "\n",
        "In Seaborn, a point plot is a type of categorical plot that shows the relationship between two categorical variables and a numeric variable. It displays the estimate of the central tendency (usually the mean) of the numeric variable as a point, along with a confidence interval represented by error bars. Point plots are useful for comparing groups or categories and identifying patterns or differences.\n",
        "\n",
        "Here's an example of using a point plot in Seaborn with the Pima Indian Diabetes dataset:\n"
      ],
      "metadata": {
        "id": "TyNGD985qhzu"
      }
    },
    {
      "cell_type": "code",
      "source": [
        "import pandas as pd\n",
        "import seaborn as sns\n",
        "import matplotlib.pyplot as plt\n",
        "\n",
        "# Load the Pima Indian Diabetes dataset\n",
        "url = \"https://raw.githubusercontent.com/jbrownlee/Datasets/master/pima-indians-diabetes.data.csv\"\n",
        "column_names = [\"Pregnancies\", \"Glucose\", \"BloodPressure\", \"SkinThickness\", \"Insulin\", \"BMI\", \"DiabetesPedigreeFunction\", \"Age\", \"Outcome\"]\n",
        "dataset = pd.read_csv(url, names=column_names)\n",
        "\n",
        "# Create a point plot to compare the average glucose levels for different outcomes\n",
        "sns.pointplot(x=\"Outcome\", y=\"Glucose\", data=dataset, ci=\"sd\")\n",
        "\n",
        "# Set the plot title and axis labels\n",
        "plt.title(\"Average Glucose Levels by Outcome\")\n",
        "plt.xlabel(\"Outcome\")\n",
        "plt.ylabel(\"Glucose\")\n",
        "\n",
        "# Display the plot\n",
        "plt.show()\n"
      ],
      "metadata": {
        "id": "OenMg3KJqnys"
      },
      "execution_count": null,
      "outputs": []
    },
    {
      "cell_type": "markdown",
      "source": [
        "In this example, we use Seaborn to create a point plot that compares the average glucose levels for different outcomes (diabetic or non-diabetic) in the Pima Indian Diabetes dataset.\n",
        "\n",
        "We use the `sns.pointplot()` function and specify the `x` and `y` variables as \"Outcome\" and \"Glucose\", respectively, to determine the grouping and numeric values to plot. The `ci` parameter is set to \"sd\" to show the standard deviation as the confidence interval.\n",
        "\n",
        "We then customize the plot by adding a title using `plt.title()`, and setting the labels for the x-axis and y-axis using `plt.xlabel()` and `plt.ylabel()`, respectively.\n",
        "\n",
        "Finally, we display the plot using `plt.show()`.\n",
        "\n",
        "The resulting point plot visualizes the average glucose levels for diabetic and non-diabetic individuals, allowing for a comparison between the two groups. The error bars represent the confidence interval, providing an understanding of the variability in the data.\n"
      ],
      "metadata": {
        "id": "Jj6Ify08qr3a"
      }
    },
    {
      "cell_type": "markdown",
      "source": [
        "##Factor Plot"
      ],
      "metadata": {
        "id": "ELBLcG88aEDR"
      }
    },
    {
      "cell_type": "markdown",
      "source": [
        "To create a factor plot using Seaborn with the Pima Indian dataset, we first need to import the necessary libraries and load the dataset. The Pima Indian dataset contains information about Pima Indian women, including features such as age, number of pregnancies, glucose levels, blood pressure, skinfold thickness, insulin levels, BMI, diabetes pedigree function, and a target variable indicating whether the individual developed diabetes (1) or not (0).\n",
        "\n",
        "Let's assume you have already imported the required libraries (`seaborn`, `pandas`, and `matplotlib.pyplot`) and read the dataset into a pandas DataFrame named `pima_data`. Now, let's proceed with creating the factor plot.\n",
        "\n"
      ],
      "metadata": {
        "id": "VSHGOmb7aKN9"
      }
    },
    {
      "cell_type": "code",
      "source": [
        "import pandas as pd\n",
        "import seaborn as sns\n",
        "import matplotlib.pyplot as plt\n",
        "\n",
        "# Load the Pima Indian dataset\n",
        "url = 'https://raw.githubusercontent.com/jbrownlee/Datasets/master/pima-indians-diabetes.data.csv'\n",
        "column_names = ['Pregnancies', 'Glucose', 'BloodPressure', 'SkinThickness', 'Insulin', 'BMI', 'DiabetesPedigree', 'Age', 'Outcome']\n",
        "pima_data = pd.read_csv(url, names=column_names)\n",
        "\n",
        "# Creating the factor plot\n",
        "sns.set(style=\"whitegrid\")\n",
        "factor_plot = sns.factorplot(x=\"Outcome\", y=\"Glucose\", hue=\"Outcome\", data=pima_data, kind=\"box\", size=6, aspect=1.5)\n",
        "factor_plot.set(xlabel=\"Diabetes Outcome\", ylabel=\"Glucose Level\", title=\"Factor Plot of Glucose Level and Diabetes Outcome\")\n",
        "\n",
        "# Show the plot\n",
        "plt.show()"
      ],
      "metadata": {
        "id": "DITusg_yaM5m"
      },
      "execution_count": null,
      "outputs": []
    },
    {
      "cell_type": "markdown",
      "source": [
        "In the code above, we use the `sns.factorplot()` function from Seaborn to create the factor plot. We specify the x-axis variable as \"Outcome\", which represents the target variable indicating the diabetes outcome (0 or 1). The y-axis variable is \"Glucose\", which represents the glucose levels of the Pima Indian women.\n",
        "\n",
        "We also use the `hue` parameter to color the box plot by the \"Outcome\" variable, making it easy to distinguish the glucose levels for diabetic (Outcome=1) and non-diabetic (Outcome=0) individuals. The `kind` parameter is set to \"box\" to create a box plot, which displays the median, quartiles, and any outliers in the data.\n",
        "\n",
        "The resulting factor plot will show two side-by-side box plots, one for each diabetes outcome category, allowing us to visually compare the distribution of glucose levels for diabetic and non-diabetic individuals. This type of visualization is useful for understanding how glucose levels differ between the two groups and can provide insights into potential associations with diabetes development."
      ],
      "metadata": {
        "id": "1pDAbE1eaHD5"
      }
    },
    {
      "cell_type": "markdown",
      "source": [
        "#Heatmaps and cluster maps\n"
      ],
      "metadata": {
        "id": "7G3lTdwha13D"
      }
    },
    {
      "cell_type": "markdown",
      "source": [
        "##Heatmaps\n"
      ],
      "metadata": {
        "id": "SRtsuxg-a3jO"
      }
    },
    {
      "cell_type": "markdown",
      "source": [
        "\n",
        "Heatmaps in Seaborn are a visualization technique used to represent data in a tabular form using colors. They are particularly useful for displaying and interpreting the relationships or patterns in a dataset. Heatmaps provide a visual summary of the data by using color intensity to represent the values of a variable across different dimensions.\n",
        "\n",
        "Seaborn is a popular data visualization library in Python that provides a high-level interface to create aesthetically pleasing and informative visualizations. It includes a built-in function `heatmap()` that allows you to easily create heatmaps.\n",
        "\n",
        "Here's an example of creating a heatmap using Seaborn with the Pima Indian Diabetes dataset:\n"
      ],
      "metadata": {
        "id": "F6Yi13btrDFR"
      }
    },
    {
      "cell_type": "code",
      "source": [
        "import pandas as pd\n",
        "import seaborn as sns\n",
        "import matplotlib.pyplot as plt\n",
        "\n",
        "# Load the Pima Indian Diabetes dataset\n",
        "url = \"https://raw.githubusercontent.com/jbrownlee/Datasets/master/pima-indians-diabetes.data.csv\"\n",
        "column_names = [\"Pregnancies\", \"Glucose\", \"BloodPressure\", \"SkinThickness\", \"Insulin\", \"BMI\", \"DiabetesPedigreeFunction\", \"Age\", \"Outcome\"]\n",
        "dataset = pd.read_csv(url, names=column_names)\n",
        "\n",
        "# Calculate the correlation matrix\n",
        "correlation_matrix = dataset.corr()\n",
        "\n",
        "# Create a heatmap\n",
        "plt.figure(figsize=(10, 8))\n",
        "sns.heatmap(correlation_matrix, annot=True, cmap=\"coolwarm\")\n",
        "plt.title(\"Correlation Heatmap - Pima Indian Diabetes Dataset\")\n",
        "plt.show()\n"
      ],
      "metadata": {
        "id": "WJMN32BVrIIG"
      },
      "execution_count": null,
      "outputs": []
    },
    {
      "cell_type": "markdown",
      "source": [
        "In this example, we use Seaborn to create a correlation heatmap for the Pima Indian Diabetes dataset.\n",
        "\n",
        "First, we calculate the correlation matrix of the dataset using the `corr()` method, which computes the pairwise correlations between the columns.\n",
        "\n",
        "Next, we create a heatmap using the `heatmap()` function from Seaborn. We pass the correlation matrix as the data to be visualized. The `annot=True` argument adds annotations to the heatmap, displaying the correlation values in each cell. The `cmap=\"coolwarm\"` argument specifies the color map to be used.\n",
        "\n",
        "Finally, we customize the plot by setting the figure size, adding a title, and displaying the heatmap using `plt.show()` from the Matplotlib library.\n",
        "\n",
        "The resulting heatmap visually represents the correlations between the different features in the Pima Indian Diabetes dataset. Brighter colors indicate stronger positive or negative correlations, while darker colors represent weaker correlations. The annotations provide the actual correlation values in each cell, helping in interpreting the heatmap.\n"
      ],
      "metadata": {
        "id": "ISILOWqArMHT"
      }
    },
    {
      "cell_type": "markdown",
      "source": [
        "##Cluster maps\n"
      ],
      "metadata": {
        "id": "YZXI4EafbATU"
      }
    },
    {
      "cell_type": "markdown",
      "source": [
        "\n",
        "Cluster maps in Seaborn are a type of heatmap that is enhanced with hierarchical clustering. They provide a visual representation of the similarity or dissimilarity between samples (rows) and variables (columns) in a dataset. Cluster maps use hierarchical clustering algorithms to group similar rows and columns together, creating clusters that are visually highlighted in the heatmap.\n",
        "\n",
        "Here's an example of using a cluster map with the Pima Indian Diabetes dataset:\n"
      ],
      "metadata": {
        "id": "yDxvDWxurPXv"
      }
    },
    {
      "cell_type": "code",
      "source": [
        "import pandas as pd\n",
        "import seaborn as sns\n",
        "import matplotlib.pyplot as plt\n",
        "\n",
        "# Load the Pima Indian Diabetes dataset\n",
        "url = \"https://raw.githubusercontent.com/jbrownlee/Datasets/master/pima-indians-diabetes.data.csv\"\n",
        "column_names = [\"Pregnancies\", \"Glucose\", \"BloodPressure\", \"SkinThickness\", \"Insulin\", \"BMI\", \"DiabetesPedigreeFunction\", \"Age\", \"Outcome\"]\n",
        "dataset = pd.read_csv(url, names=column_names)\n",
        "\n",
        "# Remove the 'Outcome' column for clustering analysis\n",
        "data_for_clustering = dataset.drop('Outcome', axis=1)\n",
        "\n",
        "# Perform hierarchical clustering and create a cluster map\n",
        "cluster_map = sns.clustermap(data_for_clustering, cmap='coolwarm', standard_scale=1)\n",
        "\n",
        "# Display the plot\n",
        "plt.show()\n"
      ],
      "metadata": {
        "id": "e1LzWLCprUTQ"
      },
      "execution_count": null,
      "outputs": []
    },
    {
      "cell_type": "markdown",
      "source": [
        "In this example, we load the Pima Indian Diabetes dataset using Pandas. To create the cluster map, we remove the 'Outcome' column from the dataset since it represents the class labels and is not relevant for clustering analysis.\n",
        "\n",
        "We use the `clustermap()` function from Seaborn to perform hierarchical clustering on the remaining columns of the dataset. The `cmap='coolwarm'` argument sets the color map for the heatmap, and `standard_scale=1` standardizes the data by subtracting the mean and dividing by the standard deviation.\n",
        "\n",
        "The resulting cluster map is displayed using Matplotlib's `plt.show()` function. The cluster map visualizes the similarity or dissimilarity between the samples (rows) and variables (columns) in the dataset. Clusters of similar samples and variables are grouped together and represented by different colors in the heatmap.\n",
        "\n",
        "Cluster maps are useful for identifying patterns, similarities, or outliers in the data, and can provide insights into the underlying structure of the dataset.\n"
      ],
      "metadata": {
        "id": "cX9yZOTYrYkr"
      }
    },
    {
      "cell_type": "markdown",
      "source": [
        "#Reflection points"
      ],
      "metadata": {
        "id": "9171N7pWrbSw"
      }
    },
    {
      "cell_type": "markdown",
      "source": [
        "**1. Bar Plots and Count Plots:**\n",
        "- What are the main differences between bar plots and count plots?\n",
        "- In what situations would you choose to use a bar plot over a count plot, and vice versa?\n",
        "- How can you customize the appearance of bar plots and count plots to enhance their visual representation?\n",
        "- Can you think of any real-world scenarios where bar plots or count plots would be useful for data analysis or visualization?\n",
        "\n",
        "**2. Point Plots and Factor Plots:**\n",
        "- How do point plots and factor plots differ in terms of their visual representation and the insights they provide?\n",
        "- What are some key considerations when choosing between point plots and factor plots for analyzing categorical data?\n",
        "- Can you explain how to interpret the information presented in point plots and factor plots?\n",
        "- Are there any limitations or potential pitfalls when using point plots or factor plots that learners should be aware of?\n",
        "\n",
        "**3. Heatmaps and Cluster Maps:**\n",
        "- What are the primary purposes and applications of heatmaps and cluster maps in data analysis and visualization?\n",
        "- How can heatmaps and cluster maps help identify patterns and relationships within a dataset?\n",
        "- What are some techniques to customize and enhance the interpretation of heatmaps and cluster maps?\n",
        "- Can you think of specific examples or use cases where heatmaps and cluster maps would be valuable tools for data exploration and decision-making?\n"
      ],
      "metadata": {
        "id": "3UEcpV41rgJU"
      }
    },
    {
      "cell_type": "markdown",
      "source": [
        "#A quiz on Categorical Data Visualization"
      ],
      "metadata": {
        "id": "t8SdjUyob1iF"
      }
    },
    {
      "cell_type": "markdown",
      "source": [
        "\n",
        "**Bar Plots and Count Plots:**\n",
        "\n",
        "1. Which type of plot is used to visualize the distribution of categorical data?\n",
        "   <br>a) Bar Plot\n",
        "   <br>b) Count Plot\n",
        "   <br>c) Point Plot\n",
        "   <br>d) Heatmap\n",
        "\n",
        "2. In a count plot, what does the height of each bar represent?\n",
        "   <br>a) The count of unique values in the category\n",
        "   <br>b) The count of occurrences of each category\n",
        "   <br>c) The average value of each category\n",
        "   <br>d) The standard deviation of each category\n",
        "\n",
        "**Point Plots and Factor Plots:**\n",
        "\n",
        "3. Point plots are used to show the relationship between two numerical variables. What type of estimate is shown by default in a point plot?\n",
        "   <br>a) Mean\n",
        "   <br>b) Median\n",
        "   <br>c) Mode\n",
        "   <br>d) Standard Deviation\n",
        "\n",
        "4. Factor plots are a generalized form of categorical plots in Seaborn. Which parameter is used to specify the kind of factor plot to create?\n",
        "   <br>a) plot_type\n",
        "   <br>b) factor_kind\n",
        "   <br>c) kind\n",
        "   <br>d) plot_kind\n",
        "\n",
        "**Heatmaps and Cluster Maps:**\n",
        "\n",
        "5. Heatmaps are useful for visualizing:\n",
        "   <br>a) The distribution of a single numerical variable\n",
        "   <br>b) The distribution of two numerical variables\n",
        "   <br>c) The distribution of a single categorical variable\n",
        "   <br>d) The correlation between two or more variables\n",
        "\n",
        "6. Cluster maps are used to:\n",
        "   <br>a) Display a cluster of points on a scatter plot\n",
        "   <br>b) Cluster and visualize similarity between variables or samples\n",
        "   <br>c) Create clusters of categorical variables for analysis\n",
        "   <br>d) Plot data points in a hierarchical clustering arrangement\n",
        "\n",
        "---\n",
        "**Answers:**\n",
        "\n",
        "1. b) Count Plot\n",
        "2. b) The count of occurrences of each category\n",
        "3. a) Mean\n",
        "4. c) kind\n",
        "5. d) The correlation between two or more variables\n",
        "6. b) Cluster and visualize similarity between variables or samples\n",
        "\n",
        "---"
      ],
      "metadata": {
        "id": "h9EEEc7xb5Hf"
      }
    }
  ]
}