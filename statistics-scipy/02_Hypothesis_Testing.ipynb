{
  "nbformat": 4,
  "nbformat_minor": 0,
  "metadata": {
    "colab": {
      "provenance": [],
      "toc_visible": true,
      "authorship_tag": "ABX9TyMA1NYbBSKqBPQxkaJsUCc1",
      "include_colab_link": true
    },
    "kernelspec": {
      "name": "python3",
      "display_name": "Python 3"
    },
    "language_info": {
      "name": "python"
    }
  },
  "cells": [
    {
      "cell_type": "markdown",
      "metadata": {
        "id": "view-in-github",
        "colab_type": "text"
      },
      "source": [
        "<a href=\"https://colab.research.google.com/github/cloudpedagogy/data-science-programming/blob/main/statistics-scipy/02_Hypothesis_Testing.ipynb\" target=\"_parent\"><img src=\"https://colab.research.google.com/assets/colab-badge.svg\" alt=\"Open In Colab\"/></a>"
      ]
    },
    {
      "cell_type": "markdown",
      "source": [
        "#Hypothesis Testing\n"
      ],
      "metadata": {
        "id": "_1RFcAn2OnLq"
      }
    },
    {
      "cell_type": "markdown",
      "source": [
        "##Overview"
      ],
      "metadata": {
        "id": "5va3LlHb0mu2"
      }
    },
    {
      "cell_type": "markdown",
      "source": [
        "\n",
        "Hypothesis testing is a fundamental concept in statistics that allows us to make informed decisions about populations based on sample data. It involves formulating two competing statements, the null hypothesis (H0) and the alternative hypothesis (H1), and then using statistical methods to determine which hypothesis is more likely to be supported by the evidence.\n",
        "\n",
        "In hypothesis testing, the null hypothesis represents the status quo or the default assumption. It suggests that there is no significant difference or effect in the population being studied. On the other hand, the alternative hypothesis is the statement we aim to support with evidence, suggesting that there is a significant difference or effect in the population.\n",
        "\n",
        "To perform hypothesis testing in Python, the SciPy library provides a comprehensive set of functions that cover a wide range of statistical tests. SciPy is a powerful and user-friendly open-source library for scientific computing and statistical analysis.\n",
        "\n",
        "The hypothesis testing process typically involves the following steps:\n",
        "\n",
        "1. Formulating the Hypotheses: Clearly define the null hypothesis and the alternative hypothesis based on the research question or problem at hand.\n",
        "\n",
        "2. Choosing a Test: Depending on the nature of the data and the research question, select an appropriate statistical test from SciPy's wide range of functions, such as t-tests, ANOVA, chi-square tests, correlation tests, and more.\n",
        "\n",
        "3. Collecting and Preparing Data: Gather relevant data and ensure it is in the appropriate format for analysis. SciPy functions usually take data in the form of NumPy arrays or pandas DataFrames.\n",
        "\n",
        "4. Setting the Significance Level: Decide on the significance level (alpha), which represents the probability of rejecting the null hypothesis when it is true. Commonly used values are 0.05 or 0.01, indicating a 5% or 1% chance of making a Type I error, respectively.\n",
        "\n",
        "5. Conducting the Test: Use the chosen SciPy function to perform the statistical test on the data. The output will provide a test statistic and a p-value.\n",
        "\n",
        "6. Interpreting Results: Compare the p-value to the significance level. If the p-value is less than or equal to alpha, we reject the null hypothesis in favor of the alternative hypothesis. Otherwise, we fail to reject the null hypothesis.\n",
        "\n",
        "7. Drawing Conclusions: Based on the test result, draw conclusions about the population and the relationship between variables. Be cautious not to over-interpret or make causal claims solely based on the test outcome.\n",
        "\n",
        "By using the SciPy library in Python, hypothesis testing becomes a straightforward and accessible process. It allows researchers, data scientists, and analysts to make evidence-based decisions and draw meaningful insights from their data, enhancing the rigor and validity of statistical analyses."
      ],
      "metadata": {
        "id": "FKCMO84U0obA"
      }
    },
    {
      "cell_type": "markdown",
      "source": [
        "#Implementing t-tests, chi-square tests, ANOVA\n"
      ],
      "metadata": {
        "id": "Cwisb_Y20DUg"
      }
    },
    {
      "cell_type": "markdown",
      "source": [
        "##t-tests\n"
      ],
      "metadata": {
        "id": "-hnMFDRa0H6s"
      }
    },
    {
      "cell_type": "markdown",
      "source": [
        "\n",
        "T-tests are a type of hypothesis test that allows you to compare means to determine if they are significantly different from each other. In Python, we can use the `scipy` library to perform T-tests.\n",
        "\n",
        "The Pima Indians Diabetes dataset contains information about female patients at least 21 years old of Pima Indian heritage. The datasets consist of several medical predictor variables and one binary target variable, Outcome. Predictor variables include the number of pregnancies the patient has had, their BMI, insulin level, age, etc.\n",
        "\n",
        "Suppose you want to compare the mean glucose level between people with diabetes and without diabetes. Here's how you can perform an independent t-test:\n"
      ],
      "metadata": {
        "id": "9tDCIy2pOr6H"
      }
    },
    {
      "cell_type": "code",
      "source": [
        "# Import required libraries\n",
        "import pandas as pd\n",
        "from scipy import stats\n",
        "\n",
        "# Load data\n",
        "url = \"https://raw.githubusercontent.com/jbrownlee/Datasets/master/pima-indians-diabetes.data.csv\"\n",
        "names = ['Pregnancies', 'Glucose', 'BloodPressure', 'SkinThickness', 'Insulin', 'BMI', 'DiabetesPedigreeFunction', 'Age', 'Outcome']\n",
        "dataframe = pd.read_csv(url, names=names)\n",
        "\n",
        "# Split the data into two groups\n",
        "group1 = dataframe[dataframe['Outcome'] == 0]['Glucose']\n",
        "group2 = dataframe[dataframe['Outcome'] == 1]['Glucose']\n",
        "\n",
        "# Perform the t-test\n",
        "t_stat, p_val = stats.ttest_ind(group1, group2, equal_var = False, nan_policy='omit')\n",
        "\n",
        "# Print the results\n",
        "print(f\"T-statistic: {t_stat}\")\n",
        "print(f\"P-value: {p_val}\")\n"
      ],
      "metadata": {
        "id": "FH2NljMDOxOO"
      },
      "execution_count": null,
      "outputs": []
    },
    {
      "cell_type": "markdown",
      "source": [
        "The `ttest_ind` function from `scipy.stats` is used to perform the independent two sample t-test.\n",
        "\n",
        "The `equal_var = False` argument is used because we do not want to assume that the two populations have the same variance (this is known as Welch's T-test).\n",
        "\n",
        "`nan_policy='omit'` is used because the dataset contains NaN values. With this setting, the function will automatically exclude these values.\n",
        "\n",
        "The `t_stat` variable represents the calculated t-statistic, while `p_val` is the two-tailed p-value. If the p-value is less than your significance level (often 0.05), you can reject the null hypothesis and conclude that the means of glucose levels between people with diabetes and without diabetes are significantly different.\n"
      ],
      "metadata": {
        "id": "xBLliGdwO37C"
      }
    },
    {
      "cell_type": "markdown",
      "source": [
        "##chi-square tests\n"
      ],
      "metadata": {
        "id": "gkPR2-TV0N_3"
      }
    },
    {
      "cell_type": "markdown",
      "source": [
        "\n",
        "Chi-Square tests are often used in hypothesis testing to examine the independence of two categorical vectors. In the context of the Pima Indian Diabetes dataset, one might want to investigate if there's a relationship between having diabetes (a binary categorical variable) and the number of pregnancies (which we can convert to a categorical variable for the sake of this example).\n",
        "\n",
        "Let's see how to perform a chi-square test in Python using the scipy library.\n",
        "\n",
        "First, you need to import necessary libraries and load the data:\n"
      ],
      "metadata": {
        "id": "sqcedMtRPBeO"
      }
    },
    {
      "cell_type": "code",
      "source": [
        "import pandas as pd\n",
        "import scipy.stats as stats\n",
        "\n",
        "url = \"https://raw.githubusercontent.com/jbrownlee/Datasets/master/pima-indians-diabetes.data.csv\"\n",
        "names = ['Pregnancies', 'Glucose', 'BloodPressure', 'SkinThickness', 'Insulin', 'BMI', 'DiabetesPedigreeFunction', 'Age', 'Outcome']\n",
        "dataframe = pd.read_csv(url, names=names)\n"
      ],
      "metadata": {
        "id": "rGN9Oty8PGvl"
      },
      "execution_count": null,
      "outputs": []
    },
    {
      "cell_type": "markdown",
      "source": [
        "We can make the 'Pregnancies' variable categorical by dividing it into three groups: '0-3', '4-6', and '7+'. The 'Outcome' variable is already categorical (0 for non-diabetes, 1 for diabetes)."
      ],
      "metadata": {
        "id": "lEwDBGpxPKHC"
      }
    },
    {
      "cell_type": "code",
      "source": [
        "# Create a categorical 'Pregnancies' variable\n",
        "dataframe['Pregnancies_cat'] = pd.cut(dataframe['Pregnancies'], bins=[-1,3,6,float('inf')], labels=['0-3','4-6','7+'])\n"
      ],
      "metadata": {
        "id": "6gltfKGCPNDG"
      },
      "execution_count": null,
      "outputs": []
    },
    {
      "cell_type": "markdown",
      "source": [
        "Then you can use the `pd.crosstab` function to create a contingency table:\n"
      ],
      "metadata": {
        "id": "DuvB_2ZxPQDx"
      }
    },
    {
      "cell_type": "code",
      "source": [
        "contingency_table = pd.crosstab(dataframe['Outcome'], dataframe['Pregnancies_cat'])\n"
      ],
      "metadata": {
        "id": "IDpmg97RPSXr"
      },
      "execution_count": null,
      "outputs": []
    },
    {
      "cell_type": "markdown",
      "source": [
        "Now, you can perform the Chi-Square test of independence:\n"
      ],
      "metadata": {
        "id": "zFDMTnY_PVEy"
      }
    },
    {
      "cell_type": "code",
      "source": [
        "chi2, p, dof, ex = stats.chi2_contingency(contingency_table)\n",
        "\n",
        "print(f\"Chi-square statistic = {chi2}\")\n",
        "print(f\"p-value = {p}\")\n"
      ],
      "metadata": {
        "id": "_JMX5j1CPXyN"
      },
      "execution_count": null,
      "outputs": []
    },
    {
      "cell_type": "markdown",
      "source": [
        "The p-value tells you whether or not the differences between the groups are statistically significant. If the p-value is less than or equal to 0.05, you would reject the null hypothesis that the variables are independent, and conclude that there is a significant relationship between them. If the p-value is greater than 0.05, you would not reject the null hypothesis.\n",
        "\n",
        "Please note that it's always important to examine the data and understand the assumptions behind statistical tests before applying them.\n"
      ],
      "metadata": {
        "id": "W5KD-06KPa3G"
      }
    },
    {
      "cell_type": "markdown",
      "source": [
        "##ANOVA\n"
      ],
      "metadata": {
        "id": "ZLaVgwdy0UN_"
      }
    },
    {
      "cell_type": "markdown",
      "source": [
        "\n",
        "**ANOVA (Analysis of Variance)** is a statistical method used to analyze the differences between two or more groups by comparing the variances within each group to the variance between the groups. It helps determine whether the means of the groups are significantly different from each other.\n",
        "\n",
        "In ANOVA, we test the null hypothesis that the means of all groups are equal against the alternative hypothesis that at least one group mean is different. If the p-value is below a chosen significance level (e.g., 0.05), we reject the null hypothesis and conclude that there is a significant difference between at least one pair of group means.\n",
        "\n",
        "Now let's demonstrate how to perform ANOVA using the Python `scipy` library with the Pima Indian Diabetes dataset:\n"
      ],
      "metadata": {
        "id": "bvWq6qMiPeMY"
      }
    },
    {
      "cell_type": "code",
      "source": [
        "import pandas as pd\n",
        "from scipy.stats import f_oneway\n",
        "\n",
        "# Load the Pima Indian Diabetes dataset\n",
        "url = \"https://raw.githubusercontent.com/jbrownlee/Datasets/master/pima-indians-diabetes.data.csv\"\n",
        "names = ['Pregnancies', 'Glucose', 'BloodPressure', 'SkinThickness', 'Insulin', 'BMI', 'DiabetesPedigreeFunction', 'Age', 'Outcome']\n",
        "data = pd.read_csv(url, names=names)\n",
        "\n",
        "# Split the data into groups based on the 'Outcome' variable\n",
        "group0 = data[data['Outcome'] == 0]['Glucose']\n",
        "group1 = data[data['Outcome'] == 1]['Glucose']\n",
        "\n",
        "# Perform ANOVA\n",
        "statistic, p_value = f_oneway(group0, group1)\n",
        "\n",
        "# Print the results\n",
        "print(\"ANOVA results:\")\n",
        "print(\"F-statistic:\", statistic)\n",
        "print(\"p-value:\", p_value)\n"
      ],
      "metadata": {
        "id": "X9bn5gdxPiIN"
      },
      "execution_count": null,
      "outputs": []
    },
    {
      "cell_type": "markdown",
      "source": [
        "In this example, we split the dataset into two groups based on the 'Outcome' variable: group0 (non-diabetic) and group1 (diabetic). We then use the `f_oneway()` function from `scipy.stats` to perform the ANOVA test. The function returns the F-statistic and the p-value.\n",
        "\n",
        "The F-statistic represents the ratio of between-group variance to within-group variance. A larger F-statistic indicates a larger difference between the group means relative to the variation within each group. The p-value represents the probability of observing the data given that the null hypothesis is true. If the p-value is below the chosen significance level (e.g., 0.05), we reject the null hypothesis and conclude that there is a significant difference between the group means.\n",
        "\n",
        "Note that in this example, we only performed ANOVA on a single variable ('Glucose') and split the data based on the 'Outcome' variable. In a real-world scenario, you might want to perform ANOVA on multiple variables or analyze different groupings based on other variables. Additionally, ANOVA assumes certain assumptions, such as normally distributed data and homogeneity of variances, which should be validated before interpreting the results.\n"
      ],
      "metadata": {
        "id": "AU8g-LrXPmkO"
      }
    },
    {
      "cell_type": "markdown",
      "source": [
        "#Mann-Whitney U test\n"
      ],
      "metadata": {
        "id": "mf4juAwh1JL2"
      }
    },
    {
      "cell_type": "markdown",
      "source": [
        "\n",
        "Below is an example of how to perform the Mann-Whitney U test using Python's SciPy library, using the Pima Indian dataset as an example. Please make sure you have the SciPy library installed before running the code.\n"
      ],
      "metadata": {
        "id": "DGojnI-kPpA3"
      }
    },
    {
      "cell_type": "code",
      "source": [
        "import pandas as pd\n",
        "from scipy.stats import mannwhitneyu\n",
        "\n",
        "# Load the dataset\n",
        "url = 'https://raw.githubusercontent.com/jbrownlee/Datasets/master/pima-indians-diabetes.data.csv'\n",
        "data = pd.read_csv(url, header=None)\n",
        "\n",
        "# Assign the two groups for comparison\n",
        "group1 = data[data[8] == 0][1]  # Non-diabetic group\n",
        "group2 = data[data[8] == 1][1]  # Diabetic group\n",
        "\n",
        "# Perform the Mann-Whitney U test\n",
        "statistic, p_value = mannwhitneyu(group1, group2)\n",
        "\n",
        "# Print the results\n",
        "print(\"Mann-Whitney U test results:\")\n",
        "print(f\"Statistic: {statistic}\")\n",
        "print(f\"P-value: {p_value}\")\n"
      ],
      "metadata": {
        "id": "y0iO-x9APtNv"
      },
      "execution_count": null,
      "outputs": []
    },
    {
      "cell_type": "markdown",
      "source": [
        "In the code above, we start by importing the necessary libraries. We then load the Pima Indian dataset from the provided URL using `pd.read_csv()`. Since the dataset does not have column names, we pass `header=None` to the function.\n",
        "\n",
        "Next, we define `group1` and `group2` by filtering the dataset based on the outcome variable (column 8), where `0` represents non-diabetic individuals and `1` represents diabetic individuals.\n",
        "\n",
        "We then use the `mannwhitneyu()` function from SciPy to perform the Mann-Whitney U test on the two groups. The function returns the test statistic and the p-value.\n",
        "\n",
        "Finally, we print the test results, including the statistic and the p-value.\n",
        "\n",
        "Please note that the example assumes that the dataset is in the CSV format and that the outcome variable is in column 8. You may need to adjust the code according to your specific dataset structure.\n"
      ],
      "metadata": {
        "id": "lYJQdWYoPx_k"
      }
    },
    {
      "cell_type": "markdown",
      "source": [
        "#Wilcoxon signed-rank test\n"
      ],
      "metadata": {
        "id": "468RfojZ1NA8"
      }
    },
    {
      "cell_type": "markdown",
      "source": [
        "\n",
        "The Wilcoxon signed-rank test is a non-parametric statistical test used to compare two related samples. In this example, we will use the Pima Indians Diabetes dataset and perform the Wilcoxon signed-rank test using the Python `scipy` library.\n"
      ],
      "metadata": {
        "id": "l4i658j8RioO"
      }
    },
    {
      "cell_type": "code",
      "source": [
        "import pandas as pd\n",
        "from scipy.stats import wilcoxon\n",
        "\n",
        "# Load the Pima Indians Diabetes dataset\n",
        "url = \"https://raw.githubusercontent.com/jbrownlee/Datasets/master/pima-indians-diabetes.data.csv\"\n",
        "data = pd.read_csv(url, header=None)\n",
        "sample1 = data[0].values\n",
        "sample2 = data[1].values\n",
        "\n",
        "# Perform the Wilcoxon signed-rank test\n",
        "statistic, p_value = wilcoxon(sample1, sample2)\n",
        "\n",
        "# Print the results\n",
        "print(\"Wilcoxon signed-rank test\")\n",
        "print(\"Statistic:\", statistic)\n",
        "print(\"P-value:\", p_value)\n"
      ],
      "metadata": {
        "id": "Ya2objDERq6L"
      },
      "execution_count": null,
      "outputs": []
    },
    {
      "cell_type": "markdown",
      "source": [
        "In this code, we load the Pima Indians Diabetes dataset from the provided URL using the `pandas` library. We extract two samples from the dataset (`sample1` and `sample2`), representing two related variables that we want to compare.\n",
        "\n",
        "Then, we use the `wilcoxon` function from `scipy.stats` to perform the Wilcoxon signed-rank test. The `wilcoxon` function takes the two samples as input and returns the test statistic and the p-value.\n",
        "\n",
        "Finally, we print the test results, including the calculated statistic and the p-value.\n",
        "\n",
        "Please note that the Pima Indians Diabetes dataset is typically used for classification tasks, and the Wilcoxon signed-rank test is not commonly applied to this dataset. This example is provided solely for demonstrating how to use the test with the given dataset.\n"
      ],
      "metadata": {
        "id": "UFZ7ZfydRwNJ"
      }
    },
    {
      "cell_type": "markdown",
      "source": [
        "#Reflection Points"
      ],
      "metadata": {
        "id": "7PxpfhIQRyi4"
      }
    },
    {
      "cell_type": "markdown",
      "source": [
        "1. **T-tests**:\n",
        "   - Reflection: What are t-tests used for, and in what scenarios would you choose a t-test over other statistical tests?\n",
        "   - Answer: T-tests are used to compare the means of two groups and determine if they are statistically different. They are suitable when the data is normally distributed, and you want to assess the significance of the mean difference between groups.\n",
        "\n",
        "2. **Analysis of Variance (ANOVA)**:\n",
        "   - Reflection: When would you choose ANOVA instead of a t-test? What are the key assumptions of ANOVA?\n",
        "   - Answer: ANOVA is used when you have three or more groups to compare. It examines whether there are statistically significant differences in the means across multiple groups. The key assumptions include normally distributed data, equal variances across groups, and independent observations.\n",
        "\n",
        "3. **Chi-square test**:\n",
        "   - Reflection: What is the purpose of the Chi-square test, and in what scenarios would you use it?\n",
        "   - Answer: The Chi-square test is used to determine the independence or association between categorical variables. It is commonly applied when analyzing data in contingency tables or conducting hypothesis testing with categorical data.\n",
        "\n",
        "4. **Mann-Whitney U test**:\n",
        "   - Reflection: When would you choose the Mann-Whitney U test instead of a t-test? What does it assess?\n",
        "   - Answer: The Mann-Whitney U test is a non-parametric test used to compare two independent groups when the assumptions of the t-test are not met (e.g., non-normal distributions or unequal variances). It assesses if there is a statistically significant difference in the medians between the groups.\n",
        "\n",
        "5. **Wilcoxon signed-rank test**:\n",
        "   - Reflection: In what situations would you use the Wilcoxon signed-rank test, and what does it measure?\n",
        "   - Answer: The Wilcoxon signed-rank test is used to compare paired samples or repeated measures when the assumptions for parametric tests are not met. It assesses if there is a statistically significant difference in the medians before and after an intervention or between two related groups.\n"
      ],
      "metadata": {
        "id": "lmWkEuhmR5CJ"
      }
    },
    {
      "cell_type": "markdown",
      "source": [
        "#A quiz on Hypothesis Testing using Scipy"
      ],
      "metadata": {
        "id": "bl0LcWPW0tRY"
      }
    },
    {
      "cell_type": "markdown",
      "source": [
        "\n",
        "1. Which statistical test should be used when comparing means of two independent samples?\n",
        "   <br>a) t-test  \n",
        "   <br>b) Mann-Whitney U test  \n",
        "   <br>c) Wilcoxon signed-rank test  \n",
        "   <br>d) Chi-square test  \n",
        "\n",
        "2. When is the Mann-Whitney U test preferred over the t-test?\n",
        "   <br>a) When the sample size is large  \n",
        "   <br>b) When the data is normally distributed  \n",
        "   <br>c) When the sample size is small and the data is not normally distributed  \n",
        "   <br>d) When the data is binary  \n",
        "\n",
        "3. The Wilcoxon signed-rank test is used to compare:\n",
        "   <br>a) Means of two independent samples  \n",
        "   <br>b) Proportions of two independent samples  \n",
        "   <br>c) Paired samples  \n",
        "   <br>d) Variances of two independent samples  \n",
        "\n",
        "4. In a chi-square test, the null hypothesis states that:\n",
        "   <br>a) There is no difference between the means of two independent samples  \n",
        "   <br>b) There is no association between two categorical variables  \n",
        "   <br>c) The distribution of the data is normal  \n",
        "   <br>d) The data is not normally distributed  \n",
        "\n",
        "5. Which Scipy function can be used to perform a t-test for two independent samples with unequal variances?\n",
        "   <br>a) `scipy.stats.ttest_1samp`  \n",
        "   <br>b) `scipy.stats.ttest_rel`  \n",
        "   <br>c) `scipy.stats.ttest_ind`  \n",
        "   <br>d) `scipy.stats.ttest_ind_from_stats`  \n",
        "\n",
        "---\n",
        "**Answers:**\n",
        "\n",
        "1. a) t-test\n",
        "2. c) When the sample size is small and the data is not normally distributed\n",
        "3. c) Paired samples\n",
        "4. b) There is no association between two categorical variables\n",
        "5. d) `scipy.stats.ttest_ind_from_stats`\n",
        "---"
      ],
      "metadata": {
        "id": "fh7V4rPW00Kj"
      }
    }
  ]
}
