{
  "nbformat": 4,
  "nbformat_minor": 0,
  "metadata": {
    "colab": {
      "provenance": [],
      "toc_visible": true,
      "authorship_tag": "ABX9TyNfR374x9acB3rLDA4eha0h",
      "include_colab_link": true
    },
    "kernelspec": {
      "name": "python3",
      "display_name": "Python 3"
    },
    "language_info": {
      "name": "python"
    }
  },
  "cells": [
    {
      "cell_type": "markdown",
      "metadata": {
        "id": "view-in-github",
        "colab_type": "text"
      },
      "source": [
        "<a href=\"https://colab.research.google.com/github/cloudpedagogy/data-science-programming/blob/main/statistics-scipy/06_Nonparametric_Tests.ipynb\" target=\"_parent\"><img src=\"https://colab.research.google.com/assets/colab-badge.svg\" alt=\"Open In Colab\"/></a>"
      ]
    },
    {
      "cell_type": "markdown",
      "source": [
        "# Nonparametric Tests\n"
      ],
      "metadata": {
        "id": "J3e7V9ywg6C6"
      }
    },
    {
      "cell_type": "markdown",
      "source": [
        "## Overview"
      ],
      "metadata": {
        "id": "J8jsyHFsZTaY"
      }
    },
    {
      "cell_type": "markdown",
      "source": [
        "\n",
        "In data science, the analysis of data often involves making statistical inferences and drawing conclusions about populations based on samples. Traditional statistical methods, known as parametric tests, rely on assumptions about the underlying data distribution, such as normality and homogeneity of variance. While these assumptions are often met in practice, there are situations where they may not hold, making parametric tests less reliable and potentially leading to erroneous conclusions.\n",
        "\n",
        "Nonparametric tests, on the other hand, provide a valuable alternative for data analysis when the assumptions of parametric tests are violated or when dealing with data that do not have a specific known distribution. These tests are also applicable in cases where the sample size is small, and it is difficult to assess the data's distribution accurately.\n",
        "\n",
        "Nonparametric tests are designed to make fewer assumptions about the data and are robust against violations of normality or other distributional assumptions. Instead of estimating population parameters, these tests focus on ranking and comparing observations, making them more versatile in various scenarios.\n",
        "\n",
        "Key advantages of nonparametric tests include their simplicity, flexibility, and ease of interpretation, making them particularly useful in situations where data does not meet the stringent assumptions of parametric tests. Moreover, nonparametric tests are effective in analyzing ordinal or categorical data, making them suitable for a wide range of applications, including social sciences, biology, healthcare, and marketing research.\n",
        "\n",
        "Some commonly used nonparametric tests in data science include the Mann-Whitney U test (Wilcoxon rank-sum test), Kruskal-Wallis test, Wilcoxon signed-rank test, and Spearman's rank correlation, among others. These tests enable data scientists to draw meaningful conclusions from their data, even in situations where traditional parametric methods would be inadequate.\n",
        "\n",
        "In summary, nonparametric tests play a crucial role in data science by providing robust and versatile statistical techniques for hypothesis testing, significance analysis, and correlation assessment. By relaxing the strict assumptions of parametric tests, nonparametric methods empower data scientists to gain deeper insights into their data and make informed decisions, ultimately enhancing the reliability and accuracy of data-driven conclusions."
      ],
      "metadata": {
        "id": "vQ-vbD7HZU5y"
      }
    },
    {
      "cell_type": "markdown",
      "source": [
        "# Kruskal-Wallis H-test\n"
      ],
      "metadata": {
        "id": "hBfLgrmfZdGS"
      }
    },
    {
      "cell_type": "markdown",
      "source": [
        "The Kruskal-Wallis H-test is a non-parametric statistical test used to determine whether there are differences between two or more independent groups. We can use the `scipy` library in Python to perform the Kruskal-Wallis H-test.\n"
      ],
      "metadata": {
        "id": "Nl2Fdw_eg_GC"
      }
    },
    {
      "cell_type": "code",
      "source": [
        "import pandas as pd\n",
        "import numpy as np\n",
        "from scipy.stats import kruskal\n",
        "\n",
        "# Load the Pima Indian dataset\n",
        "url = 'https://raw.githubusercontent.com/jbrownlee/Datasets/master/pima-indians-diabetes.data.csv'\n",
        "data = pd.read_csv(url, header=None)\n",
        "data.columns = ['Pregnancies', 'Glucose', 'BloodPressure', 'SkinThickness', 'Insulin', 'BMI',\n",
        "                'DiabetesPedigreeFunction', 'Age', 'Outcome']\n",
        "\n",
        "# Separate the data based on the outcome (diabetes/non-diabetes)\n",
        "diabetes = data[data['Outcome'] == 1]['Glucose']\n",
        "non_diabetes = data[data['Outcome'] == 0]['Glucose']\n",
        "\n",
        "# Perform the Kruskal-Wallis H-test\n",
        "statistic, p_value = kruskal(diabetes, non_diabetes)\n",
        "\n",
        "# Print the results\n",
        "print(f\"Kruskal-Wallis H-test statistic: {statistic}\")\n",
        "print(f\"p-value: {p_value}\")\n"
      ],
      "metadata": {
        "id": "3wiJSLR_hSck"
      },
      "execution_count": null,
      "outputs": []
    },
    {
      "cell_type": "markdown",
      "source": [
        "In the code above, we first import the necessary libraries: `pandas`, `numpy`, and `kruskal` from `scipy.stats`. We then load the Pima Indian dataset from the provided URL and assign appropriate column names.\n",
        "\n",
        "Next, we separate the data based on the outcome (diabetes or non-diabetes) by filtering the `Glucose` values. The Kruskal-Wallis H-test is performed using the `kruskal` function, which takes the groups as separate arguments.\n"
      ],
      "metadata": {
        "id": "2ca0MvKyhaMC"
      }
    },
    {
      "cell_type": "markdown",
      "source": [
        "# Friedman test\n"
      ],
      "metadata": {
        "id": "WZUmgW7NZiWd"
      }
    },
    {
      "cell_type": "markdown",
      "source": [
        "\n",
        "The Friedman test is a non-parametric statistical test used to compare multiple related samples. It is an extension of the Wilcoxon signed-rank test and is used when we want to determine if there are any significant differences between groups across multiple treatments. In this case, we'll use the Pima Indian dataset as an example.\n"
      ],
      "metadata": {
        "id": "MaONaOfZhdS6"
      }
    },
    {
      "cell_type": "code",
      "source": [
        "import pandas as pd\n",
        "from scipy.stats import friedmanchisquare\n",
        "\n",
        "# Load the Pima Indian dataset\n",
        "url = 'https://raw.githubusercontent.com/jbrownlee/Datasets/master/pima-indians-diabetes.data.csv'\n",
        "data = pd.read_csv(url, header=None)\n",
        "data.columns = ['Pregnancies', 'Glucose', 'BloodPressure', 'SkinThickness', 'Insulin', 'BMI', 'DiabetesPedigreeFunction', 'Age', 'Outcome']\n",
        "\n",
        "# Assuming we have three treatments (columns 0, 1, 2) to compare\n",
        "treatment_1 = data.iloc[:, 0]\n",
        "treatment_2 = data.iloc[:, 1]\n",
        "treatment_3 = data.iloc[:, 2]\n",
        "\n",
        "# Perform the Friedman test\n",
        "statistic, p_value = friedmanchisquare(treatment_1, treatment_2, treatment_3)\n",
        "\n",
        "print(f\"Friedman Test Statistic: {statistic}\")\n",
        "print(f\"P-value: {p_value}\")\n"
      ],
      "metadata": {
        "id": "b_JSGgk8hiSl"
      },
      "execution_count": null,
      "outputs": []
    },
    {
      "cell_type": "markdown",
      "source": [
        "In the code above, we first load the Pima Indian dataset using `pd.read_csv()`. Then, we define three treatments based on columns 0, 1, and 2 of the dataset. Finally, we use `friedmanchisquare()` from `scipy.stats` to perform the Friedman test and obtain the test statistic and p-value.\n",
        "\n",
        "Note that in this example, we assumed three treatments for simplicity. You can adjust the code according to the number of treatments you have in your dataset.\n"
      ],
      "metadata": {
        "id": "Tu838Q9whmUR"
      }
    },
    {
      "cell_type": "markdown",
      "source": [
        "# Reflection Points"
      ],
      "metadata": {
        "id": "cdEUYrp4ijS3"
      }
    },
    {
      "cell_type": "markdown",
      "source": [
        "1. **Understanding Statistical Tests**: Reflect on the importance of statistical tests in data analysis and their role in making informed decisions. Consider how the Kruskal-Wallis H-test, Friedman test, and Rank-sum test contribute to statistical analysis in different scenarios.\n",
        "\n",
        "2. **Use Cases**: Explore real-world applications where the Kruskal-Wallis H-test, Friedman test, and Rank-sum test are commonly used. Reflect on the types of data and research questions for which these tests are suitable.\n",
        "\n",
        "3. **Assumptions and Limitations**: Consider the assumptions underlying the Kruskal-Wallis H-test, Friedman test, and Rank-sum test. Reflect on the limitations of these tests and situations in which alternative tests may be more appropriate.\n",
        "\n",
        "4. **Interpreting Test Results**: Reflect on how to interpret the results of these tests. Consider the statistical measures provided by these tests, such as p-values, test statistics, and effect sizes, and how they contribute to drawing meaningful conclusions from the data.\n",
        "\n",
        "5. **Comparing Multiple Groups**: Reflect on the Kruskal-Wallis H-test and its ability to compare multiple independent groups. Consider scenarios in which this test is advantageous over other methods, such as one-way ANOVA.\n",
        "\n",
        "6. **Repeated Measures Design**: Explore the Friedman test and its application in repeated measures designs. Reflect on situations where this test is suitable and how it accounts for correlated observations within subjects.\n",
        "\n",
        "7. **Nonparametric Tests**: Consider the advantages and disadvantages of nonparametric tests like the Rank-sum test. Reflect on situations in which nonparametric tests are preferred over parametric tests and the implications of the underlying assumptions.\n",
        "\n",
        "8. **Implementing Tests in Python**: Reflect on the practical aspects of implementing these tests using the scipy library in Python. Consider the required data input formats, function parameters, and how to interpret the output.\n",
        "\n",
        "9. **Data Preprocessing**: Reflect on the importance of data preprocessing before applying these tests. Consider the steps involved in handling missing data, outliers, and ensuring data meets the assumptions of the tests.\n",
        "\n",
        "10. **Further Learning**: Reflect on the knowledge gained from studying the Kruskal-Wallis H-test, Friedman test. Consider additional resources or advanced topics related to these tests that you may want to explore to deepen your understanding.\n"
      ],
      "metadata": {
        "id": "x1Q5pEGGinGg"
      }
    },
    {
      "cell_type": "markdown",
      "source": [
        "# Exercise"
      ],
      "metadata": {
        "id": "qPEYcUNQTueQ"
      }
    },
    {
      "cell_type": "markdown",
      "source": [
        "\n",
        "1. Load the dataset into a pandas DataFrame.\n",
        "2. Preprocess the data by removing any missing values or irrelevant columns.\n",
        "3. Split the data into two groups: diabetic and non-diabetic women based on the 'diabetes' column.\n",
        "4. Perform a nonparametric test (Mann-Whitney U test) to compare the glucose levels between the two groups.\n",
        "5. Interpret the results of the test and draw conclusions.\n"
      ],
      "metadata": {
        "id": "8exiL9i_T6vU"
      }
    },
    {
      "cell_type": "code",
      "source": [
        "import pandas as pd\n",
        "from scipy.stats import mannwhitneyu\n",
        "\n",
        "# Task 1: Load the dataset into a pandas DataFrame\n",
        "url = \"https://raw.githubusercontent.com/jbrownlee/Datasets/master/pima-indians-diabetes.data.csv\"\n",
        "df = pd.read_csv(url, header=None)\n",
        "\n",
        "# Task 2: Preprocess the data\n",
        "df.columns = ['Pregnancies', 'Glucose', 'BloodPressure', 'SkinThickness', 'Insulin', 'BMI', 'DiabetesPedigree', 'Age', 'Outcome']\n",
        "df.dropna(inplace=True)\n",
        "\n",
        "# Task 3: Split the data into diabetic and non-diabetic groups\n",
        "diabetic_group = df[df['Outcome'] == 1]\n",
        "non_diabetic_group = df[df['Outcome'] == 0]\n",
        "\n",
        "# Task 4: Perform the Mann-Whitney U test\n",
        "statistic, p_value = mannwhitneyu(diabetic_group['Glucose'], non_diabetic_group['Glucose'])\n",
        "\n",
        "# Task 5: Interpret the results\n",
        "alpha = 0.05\n",
        "print(f\"Mann-Whitney U Statistic: {statistic}\")\n",
        "print(f\"P-value: {p_value}\")\n",
        "\n",
        "if p_value < alpha:\n",
        "    print(\"The p-value is less than the significance level (alpha), so we reject the null hypothesis.\")\n",
        "    print(\"There is significant evidence to suggest that there is a difference in glucose levels between diabetic and non-diabetic women.\")\n",
        "else:\n",
        "    print(\"The p-value is greater than the significance level (alpha), so we fail to reject the null hypothesis.\")\n",
        "    print(\"There is no significant evidence to suggest that there is a difference in glucose levels between diabetic and non-diabetic women.\")\n"
      ],
      "metadata": {
        "id": "sRSxoly6TwCb"
      },
      "execution_count": null,
      "outputs": []
    },
    {
      "cell_type": "markdown",
      "source": [
        "Note: In this exercise, we used the Mann-Whitney U test, which is a nonparametric test used to compare two independent groups' distributions when the data is not normally distributed. It's suitable for comparing the glucose levels between diabetic and non-diabetic groups, as the glucose levels might not follow a normal distribution in the dataset."
      ],
      "metadata": {
        "id": "4crVsEaoUBYN"
      }
    },
    {
      "cell_type": "markdown",
      "source": [
        "# A quiz on Nonparametric Tests"
      ],
      "metadata": {
        "id": "BtRmeULZaODv"
      }
    },
    {
      "cell_type": "markdown",
      "source": [
        "\n",
        "1. Non-parametric tests are used when:\n",
        "   <br>a) The data is normally distributed.\n",
        "   <br>b) The data does not follow a specific distribution or when assumptions of parametric tests are violated.\n",
        "   <br>c) The data has a large sample size.\n",
        "   <br>d) The data has a small sample size.\n",
        "\n",
        "2. Which of the following is NOT an example of a non-parametric test?\n",
        "   <br>a) Mann-Whitney U test\n",
        "   <br>b) Kruskal-Wallis test\n",
        "   <br>c) Pearson correlation test\n",
        "   <br>d) Wilcoxon signed-rank test\n",
        "\n",
        "3. The Mann-Whitney U test is used to compare:\n",
        "   <br>a) Two independent samples.\n",
        "   <br>b) Two dependent samples.\n",
        "   <br>c) Three or more independent samples.\n",
        "   <br>d) Three or more dependent samples.\n",
        "\n",
        "4. The Kruskal-Wallis test is an extension of which parametric test?\n",
        "   <br>a) Independent samples t-test\n",
        "   <br>b) Paired t-test\n",
        "   <br>c) One-way ANOVA\n",
        "   <br>d) Chi-square test\n",
        "\n",
        "5. The Wilcoxon signed-rank test is used to compare:\n",
        "   <br>a) Two independent samples.\n",
        "   <br>b) Two dependent samples.\n",
        "   <br>c) Three or more independent samples.\n",
        "   <br>d) Three or more dependent samples.\n",
        "\n",
        "6. When should you use the Chi-square test?\n",
        "   <br>a) To compare two independent samples.\n",
        "   <br>b) To compare two dependent samples.\n",
        "   <br>c) To compare three or more independent samples.\n",
        "   <br>d) To compare three or more dependent samples.\n",
        "\n",
        "7. The Kruskal-Wallis test can be used as an alternative to which parametric test?\n",
        "   <br>a) Independent samples t-test\n",
        "   <br>b) Paired t-test\n",
        "   <br>c) One-way ANOVA\n",
        "   <br>d) Two-way ANOVA\n",
        "\n",
        "8. The Chi-square test is suitable for testing the association between:\n",
        "   <br>a) Two continuous variables.\n",
        "   <br>b) Two categorical variables.\n",
        "   <br>c) A categorical variable and a continuous variable.\n",
        "   <br>d) Two dependent samples.\n",
        "---\n",
        "Answers:\n",
        "1. b) The data does not follow a specific distribution or when assumptions of parametric tests are violated.\n",
        "2. c) Pearson correlation test\n",
        "3. a) Two independent samples.\n",
        "4. c) One-way ANOVA\n",
        "5. b) Two dependent samples.\n",
        "6. c) To compare three or more independent samples.\n",
        "7. c) One-way ANOVA\n",
        "8. b) Two categorical variables.\n",
        "---"
      ],
      "metadata": {
        "id": "gocv20UVaVXC"
      }
    }
  ]
}