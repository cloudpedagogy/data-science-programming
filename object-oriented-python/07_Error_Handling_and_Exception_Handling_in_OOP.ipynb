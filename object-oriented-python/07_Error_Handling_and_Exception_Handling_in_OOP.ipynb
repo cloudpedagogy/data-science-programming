{
  "nbformat": 4,
  "nbformat_minor": 0,
  "metadata": {
    "colab": {
      "provenance": [],
      "toc_visible": true,
      "authorship_tag": "ABX9TyOsZsfqTUAKD2P/7jQuf6vy",
      "include_colab_link": true
    },
    "kernelspec": {
      "name": "python3",
      "display_name": "Python 3"
    },
    "language_info": {
      "name": "python"
    }
  },
  "cells": [
    {
      "cell_type": "markdown",
      "metadata": {
        "id": "view-in-github",
        "colab_type": "text"
      },
      "source": [
        "<a href=\"https://colab.research.google.com/github/cloudpedagogy/data-science-programming/blob/main/object-oriented-python/07_Error_Handling_and_Exception_Handling_in_OOP.ipynb\" target=\"_parent\"><img src=\"https://colab.research.google.com/assets/colab-badge.svg\" alt=\"Open In Colab\"/></a>"
      ]
    },
    {
      "cell_type": "markdown",
      "source": [
        "#Error Handling and Exception Handling in OOP\n"
      ],
      "metadata": {
        "id": "fmjxuQR6NimZ"
      }
    },
    {
      "cell_type": "markdown",
      "source": [
        "##Overview"
      ],
      "metadata": {
        "id": "cI1rGCaIHPIQ"
      }
    },
    {
      "cell_type": "markdown",
      "source": [
        "\n",
        "In the realm of Object-Oriented Programming (OOP), one of the fundamental challenges developers face is ensuring the robustness and reliability of their code. As software becomes increasingly complex, errors and unexpected situations are bound to arise during program execution. Error handling and exception handling are crucial concepts that empower programmers to manage such issues effectively, thereby preventing program crashes and providing more informative feedback to users.\n",
        "\n",
        "**Error Handling:**\n",
        "Error handling involves the systematic process of identifying, anticipating, and addressing errors that might occur during the execution of a program. These errors can take various forms, including syntax errors, logical errors, or runtime errors. Proper error handling helps programmers detect and diagnose issues early in the development cycle, which, in turn, enhances code quality and maintainability. In OOP, error handling techniques often rely on the use of conditional statements, such as try-except blocks, to gracefully handle potential errors and provide appropriate responses or fallback procedures.\n",
        "\n",
        "**Exception Handling:**\n",
        "Exception handling is a specialized form of error handling that specifically targets exceptional situations or conditions that disrupt the normal flow of a program. An exception is an object that represents an abnormal state or event and is raised when an error occurs during runtime. The primary goal of exception handling is to intercept and manage these exceptional cases gracefully without disrupting the entire program execution. In OOP, exceptions are typically handled using try-except blocks, where code that might raise an exception is placed within the \"try\" block, and the corresponding handling logic is written in the \"except\" block.\n",
        "\n",
        "By incorporating error handling and exception handling techniques into their OOP code, developers can create more resilient and user-friendly software. These practices not only improve the overall user experience by providing meaningful error messages but also contribute to the maintainability and stability of the software. Additionally, well-handled exceptions enable developers to log critical information about the issues encountered, facilitating the debugging process and allowing for continuous improvement of the codebase.\n",
        "\n"
      ],
      "metadata": {
        "id": "KR1Ve2BaHQn6"
      }
    },
    {
      "cell_type": "markdown",
      "source": [
        "##Handling exceptions in OOP\n",
        "\n",
        "Handling exceptions in object-oriented programming (OOP) in Python involves using try-except blocks to catch and handle exceptions that may occur during the execution of code within class methods. By handling exceptions, you can gracefully handle errors and prevent your program from crashing.\n",
        "\n",
        "Here's an example of exception handling in OOP using the Pima Indian Diabetes dataset:\n",
        "\n"
      ],
      "metadata": {
        "id": "kkL2cXxFNmOa"
      }
    },
    {
      "cell_type": "code",
      "source": [
        "import pandas as pd\n",
        "\n",
        "# Load the Pima Indian Diabetes dataset\n",
        "url = \"https://raw.githubusercontent.com/jbrownlee/Datasets/master/pima-indians-diabetes.data.csv\"\n",
        "column_names = [\"Pregnancies\", \"Glucose\", \"BloodPressure\", \"SkinThickness\", \"Insulin\", \"BMI\", \"DiabetesPedigreeFunction\", \"Age\", \"Outcome\"]\n",
        "\n",
        "class DiabetesData:\n",
        "    def __init__(self):\n",
        "        self.dataset = None\n",
        "\n",
        "    def load_dataset(self, url, names):\n",
        "        try:\n",
        "            self.dataset = pd.read_csv(url, names=names)\n",
        "        except pd.errors.ParserError:\n",
        "            print(\"Error: Failed to load the dataset. Invalid format.\")\n",
        "        except pd.errors.EmptyDataError:\n",
        "            print(\"Error: Failed to load the dataset. Empty data.\")\n",
        "\n",
        "    def calculate_average_glucose(self):\n",
        "        try:\n",
        "            glucose_values = self.dataset['Glucose']\n",
        "            total_glucose = sum(glucose_values)\n",
        "            num_entries = len(glucose_values)\n",
        "            average_glucose = total_glucose / num_entries\n",
        "            return average_glucose\n",
        "        except TypeError:\n",
        "            print(\"Error: Invalid dataset. Glucose data not available.\")\n",
        "        except KeyError:\n",
        "            print(\"Error: Invalid dataset. 'Glucose' column not found.\")\n",
        "\n",
        "# Create an instance of the DiabetesData class\n",
        "diabetes_data = DiabetesData()\n",
        "\n",
        "# Load the dataset\n",
        "diabetes_data.load_dataset(url, column_names)\n",
        "\n",
        "# Calculate the average glucose level\n",
        "average_glucose = diabetes_data.calculate_average_glucose()\n",
        "if average_glucose is not None:\n",
        "    print(\"Average Glucose Level:\", average_glucose)\n"
      ],
      "metadata": {
        "id": "0Io4FizvNtuh"
      },
      "execution_count": null,
      "outputs": []
    },
    {
      "cell_type": "markdown",
      "source": [
        "In this example, we define a class `DiabetesData` that encapsulates functionality related to the Pima Indian Diabetes dataset. It has two methods: `load_dataset()` and `calculate_average_glucose()`.\n",
        "\n",
        "The `load_dataset()` method attempts to load the dataset from a given URL and column names. It uses a try-except block to handle exceptions that may occur during the loading process. If an exception is raised, it catches the specific exception type (`pd.errors.ParserError` and `pd.errors.EmptyDataError` in this case) and displays an error message.\n",
        "\n",
        "The `calculate_average_glucose()` method calculates the average glucose level using the dataset. It also utilizes a try-except block to catch specific exceptions (`TypeError` and `KeyError`) that may occur during the calculation. If an exception is raised, it catches the exception and displays an appropriate error message.\n",
        "\n",
        "Finally, we create an instance of the `DiabetesData` class, load the dataset using the `load_dataset()` method, and calculate the average glucose level using the `calculate_average_glucose()` method. We check if the average glucose is not None before printing the result, as an error during dataset loading or calculation may result in a None value.\n",
        "\n",
        "By handling exceptions in this manner, we can gracefully handle potential errors during dataset loading and analysis, providing informative error messages without crashing the program.\n"
      ],
      "metadata": {
        "id": "Li0qrcP3N0Te"
      }
    },
    {
      "cell_type": "markdown",
      "source": [
        "##Custom exception classes\n",
        "\n",
        "In Python, you can create custom exception classes to handle specific errors or exceptional situations that may arise in your code. Custom exception classes allow you to define your own types of exceptions with custom error messages and behavior.\n",
        "\n",
        "Here's an example of a custom exception class using the Pima Indian Diabetes dataset:\n"
      ],
      "metadata": {
        "id": "pownDSFjN3OC"
      }
    },
    {
      "cell_type": "code",
      "source": [
        "import pandas as pd\n",
        "\n",
        "# Custom exception class for an invalid glucose level\n",
        "class InvalidGlucoseLevelError(Exception):\n",
        "    def __init__(self, glucose_level):\n",
        "        self.glucose_level = glucose_level\n",
        "        self.message = f\"Invalid glucose level: {glucose_level}. Glucose level should be between 0 and 200.\"\n",
        "\n",
        "# Function to check if a glucose level is valid\n",
        "def check_glucose_level(glucose):\n",
        "    if glucose < 0 or glucose > 200:\n",
        "        raise InvalidGlucoseLevelError(glucose)\n",
        "    else:\n",
        "        print(\"Valid glucose level\")\n",
        "\n",
        "# Load the Pima Indian Diabetes dataset\n",
        "url = \"https://raw.githubusercontent.com/jbrownlee/Datasets/master/pima-indians-diabetes.data.csv\"\n",
        "column_names = [\"Pregnancies\", \"Glucose\", \"BloodPressure\", \"SkinThickness\", \"Insulin\", \"BMI\", \"DiabetesPedigreeFunction\", \"Age\", \"Outcome\"]\n",
        "dataset = pd.read_csv(url, names=column_names)\n",
        "\n",
        "# Example usage: check a glucose level from the dataset\n",
        "glucose_level = dataset.loc[0, 'Glucose']\n",
        "\n",
        "try:\n",
        "    check_glucose_level(glucose_level)\n",
        "except InvalidGlucoseLevelError as e:\n",
        "    print(e.message)\n"
      ],
      "metadata": {
        "id": "h06_YqbAN72Z"
      },
      "execution_count": null,
      "outputs": []
    },
    {
      "cell_type": "markdown",
      "source": [
        "In this example, we define a custom exception class called `InvalidGlucoseLevelError` that inherits from the base `Exception` class. This custom exception class has an `__init__` method to initialize the exception with the invalid glucose level and a custom error message.\n",
        "\n",
        "The `check_glucose_level()` function takes a glucose level as input and checks if it falls within the valid range (0 to 200). If the glucose level is invalid, it raises an instance of the `InvalidGlucoseLevelError` exception, passing the invalid glucose level to the exception.\n",
        "\n",
        "We load the Pima Indian Diabetes dataset using Pandas and extract a glucose level from the dataset. We then use a try-except block to call the `check_glucose_level()` function with the extracted glucose level. If the glucose level is invalid, the custom exception is raised and caught in the except block, where we print the custom error message.\n",
        "\n",
        "Using custom exception classes allows you to handle specific errors or exceptional situations in a more controlled and descriptive manner, making it easier to debug and handle errors in your code.\n"
      ],
      "metadata": {
        "id": "1Yy8vakhN_m4"
      }
    },
    {
      "cell_type": "markdown",
      "source": [
        "##Exception handling best practices\n",
        "\n",
        "Exception handling in Python is a crucial aspect of writing robust and reliable code. It allows you to handle and recover from unexpected errors or exceptional conditions that may occur during program execution. Here are some best practices for exception handling in Python:\n",
        "\n",
        "1. Use specific exception types: Catch specific exception types rather than using a generic `except` clause. This helps in handling different types of exceptions differently and provides more specific error messages.\n",
        "\n",
        "2. Use `try-except` blocks: Wrap the code that may raise an exception inside a `try` block, and handle the exception in the corresponding `except` block. This ensures that any exceptions raised within the `try` block are caught and handled appropriately.\n",
        "\n",
        "3. Keep `try` blocks minimal: Only include the necessary code that may raise an exception inside the `try` block. Keeping the `try` block minimal helps in pinpointing the exact location where the exception occurred.\n",
        "\n",
        "4. Avoid bare `except` clauses: Avoid using a bare `except` clause without specifying the exception type. This can hide important errors and make it harder to debug the code. Instead, catch specific exceptions or use a broad exception like `Exception` to handle unexpected errors.\n",
        "\n",
        "5. Use `else` and `finally` blocks: Use the `else` block to specify code that should run if no exceptions are raised. Use the `finally` block to specify code that must be executed, regardless of whether an exception occurred or not. The `finally` block is useful for releasing resources or cleaning up after an operation.\n",
        "\n",
        "Here's an example that demonstrates exception handling using the Pima Indian Diabetes dataset:\n"
      ],
      "metadata": {
        "id": "j0x3-Ov2OCZ_"
      }
    },
    {
      "cell_type": "code",
      "source": [
        "import pandas as pd\n",
        "\n",
        "# Load the Pima Indian Diabetes dataset\n",
        "url = \"https://raw.githubusercontent.com/jbrownlee/Datasets/master/pima-indians-diabetes.data.csv\"\n",
        "column_names = [\"Pregnancies\", \"Glucose\", \"BloodPressure\", \"SkinThickness\", \"Insulin\", \"BMI\", \"DiabetesPedigreeFunction\", \"Age\", \"Outcome\"]\n",
        "\n",
        "try:\n",
        "    dataset = pd.read_csv(url, names=column_names)\n",
        "    # Perform some operations on the dataset\n",
        "    result = 100 / len(dataset['Glucose'])\n",
        "    print(\"Result:\", result)\n",
        "\n",
        "except FileNotFoundError:\n",
        "    print(\"The file was not found.\")\n",
        "\n",
        "except pd.errors.ParserError:\n",
        "    print(\"Error occurred while parsing the dataset.\")\n",
        "\n",
        "except ZeroDivisionError:\n",
        "    print(\"ZeroDivisionError occurred.\")\n",
        "\n",
        "except Exception as e:\n",
        "    print(\"An unexpected error occurred:\", str(e))\n",
        "\n",
        "else:\n",
        "    print(\"No exceptions occurred.\")\n",
        "\n",
        "finally:\n",
        "    print(\"Finally block executed, releasing resources if any.\")\n"
      ],
      "metadata": {
        "id": "jU9d7TezOGyp"
      },
      "execution_count": null,
      "outputs": []
    },
    {
      "cell_type": "markdown",
      "source": [
        "In this example, we use exception handling to load the Pima Indian Diabetes dataset and perform some operations on it.\n",
        "\n",
        "We wrap the code that may raise exceptions in a `try` block. If any exceptions occur, they are caught in the respective `except` blocks, where we handle them by printing appropriate error messages.\n",
        "\n",
        "We have specific exception handlers for `FileNotFoundError`, `ParserError` (specific to pandas parsing), and `ZeroDivisionError`. For any other unexpected exceptions, we catch them using the broad `Exception` type.\n",
        "\n",
        "The `else` block is executed only if no exceptions occur within the `try` block. The `finally` block is executed regardless of whether an exception occurred or not, allowing us to release any resources if necessary.\n",
        "\n",
        "By using specific exception types and providing appropriate error handling, we can improve the robustness and reliability of our code.\n"
      ],
      "metadata": {
        "id": "Sr1UN4UIOKTu"
      }
    },
    {
      "cell_type": "markdown",
      "source": [
        "#Reflection points"
      ],
      "metadata": {
        "id": "7Z4kKeInONCJ"
      }
    },
    {
      "cell_type": "markdown",
      "source": [
        "1. **Handling Exceptions in OOP**:\n",
        "   - Reflect on the benefits of handling exceptions within an object-oriented programming paradigm.\n",
        "   - How can encapsulating exception handling logic within classes enhance code modularity and reusability?\n",
        "\n",
        "   Sample Answer: Handling exceptions in OOP allows for encapsulation of error-handling logic within classes, promoting code modularity and reusability. It enables the separation of concerns, making the code more maintainable and easier to understand. By handling exceptions within class methods, we can isolate error handling from the rest of the codebase and provide clear and consistent error reporting mechanisms.\n",
        "\n",
        "2. **Custom Exception Classes**:\n",
        "   - Reflect on the advantages of creating custom exception classes over using built-in exceptions for specific use cases.\n",
        "   - How can custom exception classes enhance code readability, maintainability, and error traceability?\n",
        "\n",
        "   Sample Answer: Custom exception classes provide a way to create more meaningful and specific exceptions that accurately represent the nature of the error. By subclassing built-in exception classes or the `Exception` base class, we can customize the behavior, attributes, and error messages associated with the exception. This improves code readability, as the exceptions become self-explanatory, and it enhances maintainability by centralizing exception handling logic. Additionally, custom exception classes enable better error traceability, making it easier to identify the source of exceptions in the codebase.\n",
        "\n",
        "3. **Exception Handling Best Practices**:\n",
        "   - Reflect on the best practices for handling exceptions in Python.\n",
        "   - What are some common error-handling techniques, such as using `try-except` blocks and `finally` clauses?\n",
        "   - How can the appropriate use of exception handling techniques contribute to robust and reliable code?\n",
        "\n",
        "   Sample Answer: Exception handling best practices involve using `try-except` blocks to catch and handle specific exceptions, preventing unexpected program termination. The `finally` clause is used to specify cleanup actions that must be performed regardless of whether an exception occurred or not. Some best practices include avoiding overly broad `except` statements, handling exceptions at the appropriate level of the program, logging exceptions for debugging purposes, and gracefully recovering from exceptions where possible. Proper exception handling contributes to robust and reliable code by anticipating and managing errors, ensuring that the program can gracefully handle exceptional scenarios and recover from them whenever feasible.\n"
      ],
      "metadata": {
        "id": "npmyfXrYgzuI"
      }
    },
    {
      "cell_type": "markdown",
      "source": [
        "#A quiz on Error Handling and Exception Handling in OOP"
      ],
      "metadata": {
        "id": "mK3ZGXHt-IdV"
      }
    },
    {
      "cell_type": "markdown",
      "source": [
        "\n",
        "1. What is an exception in Python?\n",
        "   <br>a) A syntax error in the code\n",
        "   <br>b) An error that occurs during program execution and disrupts the normal flow\n",
        "   <br>c) A warning message generated by the Python interpreter\n",
        "\n",
        "2. Which keyword is used to handle exceptions in Python?\n",
        "   <br>a) `try`\n",
        "   <br>b) `except`\n",
        "   <br>c) `finally`\n",
        "\n",
        "3. When should you use custom exception classes?\n",
        "   <br>a) Whenever you want to complicate your code\n",
        "   <br>b) When built-in exceptions are not suitable for expressing the error condition\n",
        "   <br>c) Custom exception classes are not recommended in Python\n",
        "\n",
        "4. In Python, which keyword is used to raise an exception manually?\n",
        "   <br>a) `catch`\n",
        "   <br>b) `throw`\n",
        "   <br>c) `raise`\n",
        "\n",
        "5. How can you handle multiple exceptions in Python?\n",
        "   <br>a) Using multiple `try` blocks\n",
        "   <br>b) Using a single `try` block with multiple `except` clauses\n",
        "   <br>c) Using the `else` block with `try`\n",
        "\n",
        "6. What is the purpose of the `finally` block in exception handling?\n",
        "   <br>a) It is used to define clean-up actions that should be executed regardless of whether an exception occurred or not.\n",
        "   <br>b) It is used to handle any exceptions that were not caught by `except` blocks.\n",
        "   <br>c) It is used to specify the final value of a variable.\n",
        "\n",
        "7. Considering the Pima Indian dataset, which type of exception could occur when trying to open a non-existent file?\n",
        "   <br>a) `FileNotFoundError`\n",
        "   <br>b) `IOException`\n",
        "   <br>c) `ValueError`\n",
        "\n",
        "8. If you want to perform some actions on the exception instance itself, which `except` clause should you use?\n",
        "   <br>a) `except Exception as e`\n",
        "   <br>b) `except Error as e`\n",
        "   <br>c) `except BaseException as e`\n",
        "\n",
        "9. Which of the following is a best practice for exception handling in Python?\n",
        "   <br>a) Using broad exception clauses to catch all possible exceptions\n",
        "   <br>b) Using specific exception clauses to catch only the expected exceptions\n",
        "   <br>c) Avoiding exception handling altogether\n",
        "\n",
        "10. What does the following code snippet do?\n",
        "    ```python\n",
        "    class CustomError(Exception):\n",
        "        pass\n",
        "\n",
        "    def validate_age(age):\n",
        "        if age < 0:\n",
        "            raise CustomError(\"Age cannot be negative\")\n",
        "    ```\n",
        "    a) It defines a custom exception class `CustomError` and a function `validate_age` to raise that exception when the age is negative.\n",
        "    b) It defines a custom exception class `CustomError` and a function `validate_age` to handle negative age values.\n",
        "    c) It raises a built-in exception when the age is negative.\n",
        "---\n",
        "**Answers:**\n",
        "1. b) An error that occurs during program execution and disrupts the normal flow\n",
        "2. a) `try`\n",
        "3. b) When built-in exceptions are not suitable for expressing the error condition\n",
        "4. c) `raise`\n",
        "5. b) Using a single `try` block with multiple `except` clauses\n",
        "6. a) It is used to define clean-up actions that should be executed regardless of whether an exception occurred or not.\n",
        "7. a) `FileNotFoundError`\n",
        "8. a) `except Exception as e`\n",
        "9. b) Using specific exception clauses to catch only the expected exceptions\n",
        "10. a) It defines a custom exception class `CustomError` and a function `validate_age` to raise that exception when the age is negative.\n",
        "---"
      ],
      "metadata": {
        "id": "BVG9aj3y-MNk"
      }
    }
  ]
}
