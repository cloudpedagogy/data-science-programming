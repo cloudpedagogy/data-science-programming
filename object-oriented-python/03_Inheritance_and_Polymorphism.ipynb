{
  "nbformat": 4,
  "nbformat_minor": 0,
  "metadata": {
    "colab": {
      "provenance": [],
      "toc_visible": true
    },
    "kernelspec": {
      "name": "python3",
      "display_name": "Python 3"
    },
    "language_info": {
      "name": "python"
    }
  },
  "cells": [
    {
      "cell_type": "markdown",
      "source": [
        "# Inheritance and Polymorphism\n"
      ],
      "metadata": {
        "id": "JCkGzCmFD4Cg"
      }
    },
    {
      "cell_type": "markdown",
      "source": [
        "## Overview"
      ],
      "metadata": {
        "id": "hfvpfKPZFLKD"
      }
    },
    {
      "cell_type": "markdown",
      "source": [
        "\n",
        "\n",
        "Inheritance and polymorphism are two fundamental concepts in object-oriented programming (OOP) that play a crucial role in designing robust and maintainable code. Python, being an object-oriented language, fully supports these concepts, allowing developers to create efficient and organized software solutions.\n",
        "\n",
        "**Inheritance:**\n",
        "Inheritance is a mechanism in OOP that enables a class to inherit the properties and behaviors of another class, known as the base or parent class. The class that inherits these attributes is called the derived or child class. Inheritance establishes a hierarchical relationship between classes, promoting code reusability and facilitating the organization of code into logical and cohesive structures.\n",
        "\n",
        "When a child class inherits from a parent class, it gains access to all the attributes (variables) and methods (functions) defined in the parent class. This allows the child class to extend or override the functionalities of the parent class while retaining its own unique attributes and behaviors. By leveraging inheritance, developers can build specialized classes that share common functionalities, leading to more manageable and scalable codebases.\n",
        "\n",
        "**Polymorphism:**\n",
        "Polymorphism, which means \"many forms,\" is another core concept of OOP that allows objects of different classes to be treated as objects of a common base class. This enables the same interface to be used for various data types, making the code more flexible and adaptable to different scenarios. Polymorphism is achieved through method overriding and method overloading.\n",
        "\n",
        "Method overriding involves providing a specific implementation of a method in the child class that has the same name and parameters as a method in the parent class. When the method is called on an object of the child class, the overridden method in the child class will be executed instead of the one in the parent class.\n",
        "\n",
        "Method overloading, on the other hand, allows a single method name to be used for multiple methods with different parameter lists. Python does not support traditional method overloading like some other languages, but it can be achieved using default arguments or variable-length arguments, such as *args and **kwargs.\n",
        "\n",
        "The combination of inheritance and polymorphism in Python provides a powerful way to design flexible and modular code. Inheritance enables code reuse and promotes a hierarchical organization of classes, while polymorphism ensures that code can handle different data types and scenarios in a unified and consistent manner. Mastering these concepts empowers Python developers to write more maintainable, extensible, and efficient software solutions."
      ],
      "metadata": {
        "id": "tadO9IBiFMpP"
      }
    },
    {
      "cell_type": "markdown",
      "source": [
        "## Understanding inheritance and its types\n"
      ],
      "metadata": {
        "id": "irGZ93v6R5hD"
      }
    },
    {
      "cell_type": "markdown",
      "source": [
        "\n",
        "Inheritance is a fundamental concept in object-oriented programming (OOP) that allows one class to inherit the properties and methods of another class. It promotes code reusability and establishes a hierarchical relationship between classes.\n",
        "\n",
        "In Python, there are three types of inheritance:\n",
        "\n",
        "1. Single Inheritance: In single inheritance, a class inherits properties and methods from a single parent class.\n",
        "\n",
        "Example with the Pima Indian Diabetes dataset:\n"
      ],
      "metadata": {
        "id": "pCbhRN-aD8iT"
      }
    },
    {
      "cell_type": "code",
      "source": [
        "import pandas as pd\n",
        "\n",
        "# Load the Pima Indian Diabetes dataset\n",
        "url = \"https://raw.githubusercontent.com/jbrownlee/Datasets/master/pima-indians-diabetes.data.csv\"\n",
        "column_names = [\"Pregnancies\", \"Glucose\", \"BloodPressure\", \"SkinThickness\", \"Insulin\", \"BMI\", \"DiabetesPedigreeFunction\", \"Age\", \"Outcome\"]\n",
        "dataset = pd.read_csv(url, names=column_names)\n",
        "\n",
        "# Parent class\n",
        "class DataAnalysis:\n",
        "    def analyze_data(self):\n",
        "        print(\"Performing data analysis...\")\n",
        "\n",
        "# Child class inheriting from the parent class\n",
        "class DiabetesDataAnalysis(DataAnalysis):\n",
        "    def perform_analysis(self):\n",
        "        self.analyze_data()\n",
        "        # Additional analysis steps specific to diabetes data\n",
        "\n",
        "# Create an instance of the child class\n",
        "diabetes_analysis = DiabetesDataAnalysis()\n",
        "\n",
        "# Perform analysis on the diabetes dataset\n",
        "diabetes_analysis.perform_analysis()\n"
      ],
      "metadata": {
        "id": "a9wy_TnAEAfA"
      },
      "execution_count": null,
      "outputs": []
    },
    {
      "cell_type": "markdown",
      "source": [
        "In this example, we have a parent class `DataAnalysis` with a method `analyze_data()` that performs general data analysis. The child class `DiabetesDataAnalysis` inherits from the parent class using single inheritance. It adds a method `perform_analysis()` specific to analyzing diabetes data.\n",
        "\n",
        "By creating an instance of the child class and calling the `perform_analysis()` method, we can perform analysis on the Pima Indian Diabetes dataset. The child class inherits the `analyze_data()` method from the parent class, demonstrating single inheritance.\n",
        "\n",
        "2. Multiple Inheritance: Multiple inheritance allows a class to inherit properties and methods from multiple parent classes.\n",
        "\n",
        "Example:\n"
      ],
      "metadata": {
        "id": "b0h6Iy6YEGgq"
      }
    },
    {
      "cell_type": "code",
      "source": [
        "# Parent classes\n",
        "class DataAnalysis:\n",
        "    def analyze_data(self):\n",
        "        print(\"Performing data analysis...\")\n",
        "\n",
        "class DataVisualization:\n",
        "    def visualize_data(self):\n",
        "        print(\"Visualizing data...\")\n",
        "\n",
        "# Child class inheriting from multiple parents\n",
        "class DiabetesDataAnalysis(DataAnalysis, DataVisualization):\n",
        "    def perform_analysis(self):\n",
        "        self.analyze_data()\n",
        "        self.visualize_data()\n",
        "        # Additional analysis steps specific to diabetes data\n",
        "\n",
        "# Create an instance of the child class\n",
        "diabetes_analysis = DiabetesDataAnalysis()\n",
        "\n",
        "# Perform analysis on the diabetes dataset\n",
        "diabetes_analysis.perform_analysis()\n"
      ],
      "metadata": {
        "id": "Ype9xZGREN45"
      },
      "execution_count": null,
      "outputs": []
    },
    {
      "cell_type": "markdown",
      "source": [
        "In this example, we have two parent classes: `DataAnalysis` and `DataVisualization`. The child class `DiabetesDataAnalysis` inherits from both parent classes using multiple inheritance. It has access to the methods `analyze_data()` from the `DataAnalysis` class and `visualize_data()` from the `DataVisualization` class.\n",
        "\n",
        "3. Multilevel Inheritance: Multilevel inheritance refers to a class inheriting from a derived class, which further inherits from another class.\n",
        "\n",
        "Example:\n"
      ],
      "metadata": {
        "id": "aJ5gcuOrEUM2"
      }
    },
    {
      "cell_type": "code",
      "source": [
        "# Grandparent class\n",
        "class DataAnalysis:\n",
        "    def analyze_data(self):\n",
        "        print(\"Performing data analysis...\")\n",
        "\n",
        "# Parent class inheriting from the grandparent class\n",
        "class MedicalDataAnalysis(DataAnalysis):\n",
        "    def analyze_medical_data(self):\n",
        "        print(\"Performing medical data analysis...\")\n",
        "\n",
        "# Child class inheriting from the parent class\n",
        "class DiabetesDataAnalysis(MedicalDataAnalysis):\n",
        "    def perform_analysis(self):\n",
        "        self.analyze_data()\n",
        "        self.analyze_medical_data()\n",
        "        # Additional analysis steps specific to diabetes data\n",
        "\n",
        "# Create an instance of the child class\n",
        "diabetes_analysis = DiabetesDataAnalysis()\n",
        "\n",
        "# Perform analysis on the diabetes dataset\n",
        "diabetes_analysis.perform_analysis()\n"
      ],
      "metadata": {
        "id": "EnzVmWzfEW8f"
      },
      "execution_count": null,
      "outputs": []
    },
    {
      "cell_type": "markdown",
      "source": [
        "In this example, we have a grandparent class `DataAnalysis` with a method `analyze_data()`. The parent class `MedicalDataAnalysis` inherits from the grandparent class and adds a method `analyze_medical_data()` specific to analyzing medical data. The child class `DiabetesDataAnalysis` inherits from the parent class and adds a method `perform_analysis()` specific to analyzing diabetes data.\n",
        "\n",
        "By creating an instance of the child class and calling the `perform_analysis()` method, we can perform multilevel analysis on the Pima Indian Diabetes dataset.\n",
        "\n",
        "These examples demonstrate different types of inheritance in Python and how they can be used with the Pima Indian Diabetes dataset.\n"
      ],
      "metadata": {
        "id": "3UXm7sn-Eb02"
      }
    },
    {
      "cell_type": "markdown",
      "source": [
        "## Overriding methods and properties\n"
      ],
      "metadata": {
        "id": "lJcGeZ1DR7Y7"
      }
    },
    {
      "cell_type": "markdown",
      "source": [
        "\n",
        "Overriding methods and properties in Python allows a subclass to provide its own implementation of a method or property that is already defined in its superclass. This feature enables customization and modification of behavior inherited from the superclass.\n",
        "\n",
        "Here's an example of method overriding using the Pima Indian Diabetes dataset:\n"
      ],
      "metadata": {
        "id": "n1FK27D9EeeY"
      }
    },
    {
      "cell_type": "code",
      "source": [
        "import pandas as pd\n",
        "\n",
        "# Define a parent class\n",
        "class Dataset:\n",
        "    def __init__(self, data):\n",
        "        self.data = data\n",
        "\n",
        "    def process_data(self):\n",
        "        print(\"Processing the dataset...\")\n",
        "\n",
        "# Define a subclass that overrides the process_data() method\n",
        "class DiabetesDataset(Dataset):\n",
        "    def process_data(self):\n",
        "        # Call the parent class method\n",
        "        super().process_data()\n",
        "        print(\"Processing the diabetes-specific data...\")\n",
        "\n",
        "# Create an instance of the subclass\n",
        "# Load the Pima Indian Diabetes dataset\n",
        "url = \"https://raw.githubusercontent.com/jbrownlee/Datasets/master/pima-indians-diabetes.data.csv\"\n",
        "column_names = [\"Pregnancies\", \"Glucose\", \"BloodPressure\", \"SkinThickness\", \"Insulin\", \"BMI\", \"DiabetesPedigreeFunction\", \"Age\", \"Outcome\"]\n",
        "dataset = pd.read_csv(url, names=column_names)\n",
        "\n",
        "diabetes_dataset = DiabetesDataset(dataset)\n",
        "\n",
        "# Call the overridden method\n",
        "diabetes_dataset.process_data()\n"
      ],
      "metadata": {
        "id": "U2lFY0-hEjiX"
      },
      "execution_count": null,
      "outputs": []
    },
    {
      "cell_type": "markdown",
      "source": [
        "In this example, we have a parent class `Dataset` with a method `process_data()`. The `Dataset` class takes the data as input and has a default implementation of processing the dataset.\n",
        "\n",
        "We then define a subclass `DiabetesDataset` that inherits from the `Dataset` class. The subclass overrides the `process_data()` method by providing its own implementation. In this case, it calls the parent class method using `super().process_data()` and adds additional processing specific to diabetes data.\n",
        "\n",
        "We create an instance of the `DiabetesDataset` class, passing the Pima Indian Diabetes dataset as the input. When we call the `process_data()` method on the instance, the overridden method in the subclass is executed. The parent class method is called first using `super().process_data()`, and then the additional processing specific to diabetes data is performed.\n",
        "\n",
        "Method overriding allows customization and specialization of behavior in subclasses while still utilizing the common functionality provided by the superclass.\n"
      ],
      "metadata": {
        "id": "Yl8krGW0FD7R"
      }
    },
    {
      "cell_type": "markdown",
      "source": [
        "## Polymorphism and method overloading\n"
      ],
      "metadata": {
        "id": "9TbPQDFnR9XI"
      }
    },
    {
      "cell_type": "markdown",
      "source": [
        "\n",
        "Polymorphism in Python refers to the ability of an object to take on different forms or exhibit different behaviors depending on the context. It allows objects of different classes to be treated as objects of a common base class, enabling code to be written in a more generic and flexible manner.\n",
        "\n",
        "Method overloading, on the other hand, is a feature in some programming languages that allows multiple methods with the same name but different parameters to be defined in a class. However, Python does not natively support method overloading in the same way as languages like Java or C++. In Python, the behavior of methods can be dynamically changed based on the type or number of arguments passed, which is a form of polymorphism.\n",
        "\n",
        "Here's an example that showcases polymorphism in Python using the Pima Indian Diabetes dataset:\n"
      ],
      "metadata": {
        "id": "7X9GA7QZFGzp"
      }
    },
    {
      "cell_type": "code",
      "source": [
        "import pandas as pd\n",
        "\n",
        "# Load the Pima Indian Diabetes dataset\n",
        "url = \"https://raw.githubusercontent.com/jbrownlee/Datasets/master/pima-indians-diabetes.data.csv\"\n",
        "column_names = [\"Pregnancies\", \"Glucose\", \"BloodPressure\", \"SkinThickness\", \"Insulin\", \"BMI\", \"DiabetesPedigreeFunction\", \"Age\", \"Outcome\"]\n",
        "dataset = pd.read_csv(url, names=column_names)\n",
        "\n",
        "\n",
        "# Define a generic analysis function that works with different datasets\n",
        "def analyze_data(data):\n",
        "    if isinstance(data, pd.DataFrame):\n",
        "        # Perform analysis specific to a DataFrame\n",
        "        num_records = len(data)\n",
        "        num_features = len(data.columns)\n",
        "        print(\"Data analysis for DataFrame:\")\n",
        "        print(\"Number of records:\", num_records)\n",
        "        print(\"Number of features:\", num_features)\n",
        "    elif isinstance(data, list):\n",
        "        # Perform analysis specific to a list\n",
        "        num_elements = len(data)\n",
        "        print(\"Data analysis for List:\")\n",
        "        print(\"Number of elements:\", num_elements)\n",
        "    else:\n",
        "        print(\"Unsupported data type for analysis.\")\n",
        "\n",
        "# Call the analyze_data function with different types of data\n",
        "analyze_data(dataset)\n",
        "analyze_data([1, 2, 3, 4, 5])\n",
        "analyze_data(\"Invalid data\")\n"
      ],
      "metadata": {
        "id": "N1hA7K4PFMSs"
      },
      "execution_count": null,
      "outputs": []
    },
    {
      "cell_type": "markdown",
      "source": [
        "In this example, we define a function called `analyze_data()` that accepts a parameter named `data`. The function demonstrates polymorphism by behaving differently based on the type of data provided.\n",
        "\n",
        "When the `data` parameter is of type `pd.DataFrame` (as in the first call), the function performs analysis specific to a DataFrame. It calculates the number of records and features in the DataFrame and prints the results accordingly.\n",
        "\n",
        "When the `data` parameter is of type `list` (as in the second call), the function performs analysis specific to a list. It calculates the number of elements in the list and prints the results accordingly.\n",
        "\n",
        "In the third call, when the `data` parameter is of an unsupported type (a string in this case), the function prints a message indicating that the data type is unsupported.\n",
        "\n",
        "By using polymorphism, the `analyze_data()` function can work with different types of data and perform analysis based on the specific data type.\n"
      ],
      "metadata": {
        "id": "zgKgvD1PFQno"
      }
    },
    {
      "cell_type": "markdown",
      "source": [
        "## Polymorphism and method overriding\n"
      ],
      "metadata": {
        "id": "mWFLaj5hR_fo"
      }
    },
    {
      "cell_type": "markdown",
      "source": [
        "\n",
        "Polymorphism and method overriding are concepts in object-oriented programming (OOP) that allow different objects to be treated in a uniform way and provide flexibility in implementing methods with the same name in different classes.\n",
        "\n",
        "Polymorphism refers to the ability of an object to take on many forms. In Python, polymorphism is achieved through method overriding and method overloading.\n",
        "\n",
        "Method overriding is the process of redefining a method in a subclass that is already defined in its parent class. When a method is overridden, the subclass provides a different implementation of the method.\n",
        "\n",
        "Here's an example of polymorphism and method overriding using the Pima Indian Diabetes dataset:\n"
      ],
      "metadata": {
        "id": "7yXtE_NfFTTD"
      }
    },
    {
      "cell_type": "code",
      "source": [
        "import pandas as pd\n",
        "\n",
        "# Define parent class\n",
        "class Dataset:\n",
        "    def __init__(self, name):\n",
        "        self.name = name\n",
        "\n",
        "    def load_data(self):\n",
        "        print(\"Loading data from\", self.name)\n",
        "\n",
        "    def analyze(self):\n",
        "        print(\"Analyzing the dataset\")\n",
        "\n",
        "# Define child classes\n",
        "class PimaDataset(Dataset):\n",
        "    def __init__(self):\n",
        "        super().__init__(\"Pima Indian Diabetes Dataset\")\n",
        "\n",
        "    def load_data(self):\n",
        "        super().load_data()\n",
        "        # Additional steps specific to loading Pima dataset\n",
        "        print(\"Performing additional loading steps for Pima dataset\")\n",
        "\n",
        "    def analyze(self):\n",
        "        super().analyze()\n",
        "        # Additional analysis steps specific to Pima dataset\n",
        "        print(\"Performing additional analysis steps for Pima dataset\")\n",
        "\n",
        "# Create instances of different datasets\n",
        "dataset1 = Dataset(\"Generic Dataset\")\n",
        "dataset2 = PimaDataset()\n",
        "\n",
        "# Call the load_data() method\n",
        "dataset1.load_data()\n",
        "dataset2.load_data()\n",
        "\n",
        "# Call the analyze() method\n",
        "dataset1.analyze()\n",
        "dataset2.analyze()\n"
      ],
      "metadata": {
        "id": "fqQGs93FFZ75"
      },
      "execution_count": null,
      "outputs": []
    },
    {
      "cell_type": "markdown",
      "source": [
        "In this example, we have a parent class `Dataset` that defines two methods: `load_data()` and `analyze()`. The `load_data()` method loads data from a generic dataset, and the `analyze()` method performs generic dataset analysis.\n",
        "\n",
        "We also have a child class `PimaDataset` that inherits from the `Dataset` class. The `PimaDataset` class overrides the `load_data()` and `analyze()` methods to provide specific implementations for loading and analyzing the Pima Indian Diabetes dataset.\n",
        "\n",
        "When we create instances of the parent and child classes (`dataset1` and `dataset2`), we can call the `load_data()` and `analyze()` methods on both objects. The polymorphic behavior allows us to treat both objects uniformly, even though they have different implementations for the overridden methods.\n",
        "\n",
        "The output of the example would be:\n",
        "\n",
        "```\n",
        "Loading data from Generic Dataset\n",
        "Loading data from Pima Indian Diabetes Dataset\n",
        "Performing additional loading steps for Pima dataset\n",
        "Analyzing the dataset\n",
        "Performing additional analysis steps for Pima dataset\n",
        "```\n",
        "\n",
        "In this example, the `load_data()` and `analyze()` methods are overridden in the `PimaDataset` class to add specific steps for the Pima dataset while utilizing the common behavior defined in the parent class `Dataset`. This demonstrates polymorphism and method overriding in Python.\n"
      ],
      "metadata": {
        "id": "_dZtrYJHFkpy"
      }
    },
    {
      "cell_type": "markdown",
      "source": [
        "# Reflection Points"
      ],
      "metadata": {
        "id": "U2FwU12jFn-b"
      }
    },
    {
      "cell_type": "markdown",
      "source": [
        "1. **Understanding Inheritance and its Types**\n",
        "   - What is inheritance in Python and why is it useful in programming?\n",
        "   - Explain the concept of superclass and subclass.\n",
        "   - Differentiate between single inheritance, multiple inheritance, and multilevel inheritance.\n",
        "   - How does inheritance promote code reusability and maintainability?\n",
        "   - Provide an example scenario where inheritance can be applied to solve a problem effectively.\n",
        "\n",
        "2. **Overriding Methods and Properties**\n",
        "   - Define method overriding and explain its purpose.\n",
        "   - What is the difference between overriding a method and overloading a method?\n",
        "   - How does method overriding contribute to code extensibility and flexibility?\n",
        "   - Explain the use of the `super()` function in method overriding.\n",
        "   - Provide an example that demonstrates the concept of method overriding in Python.\n",
        "\n",
        "3. **Polymorphism and Method Overloading**\n",
        "   - Define polymorphism and its significance in object-oriented programming.\n",
        "   - What is method overloading, and how does it relate to polymorphism?\n",
        "   - Can Python directly support method overloading like some other programming languages? Explain.\n",
        "   - Discuss alternative approaches in Python to achieve method overloading.\n",
        "   - Provide an example illustrating polymorphism through method overloading in Python.\n",
        "\n",
        "4. **Polymorphism and Method Overriding**\n",
        "   - Differentiate between method overloading and method overriding.\n",
        "   - Explain the concept of dynamic binding and its relation to polymorphism.\n",
        "   - How does method overriding demonstrate polymorphic behavior?\n",
        "   - Discuss the importance of method signatures and the `@abstractmethod` decorator in method overriding.\n",
        "   - Provide an example showcasing polymorphism through method overriding in Python.\n"
      ],
      "metadata": {
        "id": "bNCAiWqtFr23"
      }
    },
    {
      "cell_type": "markdown",
      "source": [
        "# Exercise"
      ],
      "metadata": {
        "id": "uO1n8weyKwYG"
      }
    },
    {
      "cell_type": "markdown",
      "source": [
        "\n",
        "1. Create a base class called `Dataset` that will handle loading and basic preprocessing of the dataset.\n",
        "2. Create a subclass called `DiabetesDataset` that will inherit from the `Dataset` class and handle diabetes-specific operations.\n",
        "3. Implement a method in `DiabetesDataset` to calculate and print the percentage of positive and negative instances in the dataset.\n",
        "4. Implement a method in `DiabetesDataset` to calculate and return the average age of the people in the dataset.\n",
        "5. Use polymorphism to implement a method that prints a welcome message when an object of either the base class `Dataset` or the subclass `DiabetesDataset` is created.\n"
      ],
      "metadata": {
        "id": "IXRNx2-JLIHi"
      }
    },
    {
      "cell_type": "code",
      "source": [
        "import pandas as pd\n",
        "\n",
        "class Dataset:\n",
        "    def __init__(self, data_path):\n",
        "        self.data_path = data_path\n",
        "        self.data = None\n",
        "        self.load_data()\n",
        "\n",
        "    def load_data(self):\n",
        "        self.data = pd.read_csv(self.data_path, header=None)\n",
        "\n",
        "    def welcome_message(self):\n",
        "        print(\"Welcome to the Dataset class!\")\n",
        "\n",
        "class DiabetesDataset(Dataset):\n",
        "    def __init__(self, data_path):\n",
        "        super().__init__(data_path)\n",
        "\n",
        "    def welcome_message(self):\n",
        "        print(\"Welcome to the DiabetesDataset class!\")\n",
        "\n",
        "    def calculate_positive_negative_percentage(self):\n",
        "        positive_count = self.data.iloc[:, -1].sum()\n",
        "        negative_count = len(self.data) - positive_count\n",
        "        total_count = len(self.data)\n",
        "        positive_percentage = (positive_count / total_count) * 100\n",
        "        negative_percentage = (negative_count / total_count) * 100\n",
        "        print(f\"Percentage of positive instances: {positive_percentage:.2f}%\")\n",
        "        print(f\"Percentage of negative instances: {negative_percentage:.2f}%\")\n",
        "\n",
        "    def calculate_average_age(self):\n",
        "        average_age = self.data.iloc[:, 1].mean()\n",
        "        return average_age\n",
        "\n",
        "# Usage example:\n",
        "if __name__ == \"__main__\":\n",
        "    data_path = \"https://raw.githubusercontent.com/jbrownlee/Datasets/master/pima-indians-diabetes.data.csv\"\n",
        "\n",
        "    # Create an object of the DiabetesDataset class\n",
        "    diabetes_data = DiabetesDataset(data_path)\n",
        "\n",
        "    # Polymorphism in action, welcome_message will be called based on the class\n",
        "    diabetes_data.welcome_message()\n",
        "\n",
        "    # Calculate and print the percentage of positive and negative instances\n",
        "    diabetes_data.calculate_positive_negative_percentage()\n",
        "\n",
        "    # Calculate and print the average age\n",
        "    average_age = diabetes_data.calculate_average_age()\n",
        "    print(f\"Average age: {average_age:.2f}\")\n"
      ],
      "metadata": {
        "id": "5peYhEQNKzwa"
      },
      "execution_count": null,
      "outputs": []
    },
    {
      "cell_type": "markdown",
      "source": [
        "# A quiz on Inheritance and Polymorphism"
      ],
      "metadata": {
        "id": "2gbdUo_XzV9K"
      }
    },
    {
      "cell_type": "markdown",
      "source": [
        "\n",
        "\n",
        "1. **What is inheritance in object-oriented programming?**\n",
        "   <br>a) The process of creating multiple instances of a class.\n",
        "   <br>b) The process of acquiring properties and behaviors from a parent class.\n",
        "   <br>c) The process of creating a new class from scratch.\n",
        "   <br>d) The process of hiding certain class members from the outside world.\n",
        "\n",
        "2. **Which of the following are true about method overriding?**\n",
        "   <br>a) It occurs when a subclass provides a specific implementation for a method defined in the superclass.\n",
        "   <br>b) It allows a subclass to have multiple inheritance from different superclasses.\n",
        "   <br>c) It only occurs when a subclass has no methods of its own.\n",
        "   <br>d) It is used to create a completely new method unrelated to the superclass method.\n",
        "\n",
        "3. **What is the difference between method overloading and method overriding?**\n",
        "   <br>a) Method overloading allows multiple methods with the same name in a class, while method overriding does not.\n",
        "   <br>b) Method overloading occurs in the superclass, while method overriding occurs in the subclass.\n",
        "   <br>c) Method overriding allows multiple methods with the same name in a class, while method overloading does not.\n",
        "   <br>d) Method overriding changes the method's return type, while method overloading does not.\n",
        "\n",
        "4. **Polymorphism in object-oriented programming refers to:**\n",
        "   <br>a) The ability of a class to create multiple instances of itself.\n",
        "   <br>b) The ability of a subclass to override methods of the superclass.\n",
        "   <br>c) The ability of a method to have different forms or behaviors in different contexts.\n",
        "   <br>d) The process of creating a new class from an existing class.\n",
        "\n",
        "5. **Which of the following best describes the concept of polymorphism using the Pima Indian Dataset example?**\n",
        "   <br>a) The dataset can be used to create multiple instances of itself.\n",
        "   <br>b) The dataset can be transformed into various formats such as CSV, JSON, or Excel.\n",
        "   <br>c) The dataset can be split into subsets to be used for training, testing, and validation.\n",
        "   <br>d) The dataset can be processed using different algorithms for classification or regression tasks.\n",
        "---\n",
        "**Answers:**\n",
        "1. b) The process of acquiring properties and behaviors from a parent class.\n",
        "\n",
        "2. a) It occurs when a subclass provides a specific implementation for a method defined in the superclass.\n",
        "3. a) Method overloading allows multiple methods with the same name in a class, while method overriding does not.\n",
        "4. c) The ability of a method to have different forms or behaviors in different contexts.\n",
        "5. d) The dataset can be processed using different algorithms for classification or regression tasks.\n",
        "---"
      ],
      "metadata": {
        "id": "ei10dXGjzcFh"
      }
    }
  ]
}