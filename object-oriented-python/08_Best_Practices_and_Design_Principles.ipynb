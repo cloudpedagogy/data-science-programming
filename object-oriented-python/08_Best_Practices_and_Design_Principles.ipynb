{
  "nbformat": 4,
  "nbformat_minor": 0,
  "metadata": {
    "colab": {
      "provenance": [],
      "toc_visible": true,
      "authorship_tag": "ABX9TyNe60LsAaN34q+E6rz4DF/O",
      "include_colab_link": true
    },
    "kernelspec": {
      "name": "python3",
      "display_name": "Python 3"
    },
    "language_info": {
      "name": "python"
    }
  },
  "cells": [
    {
      "cell_type": "markdown",
      "metadata": {
        "id": "view-in-github",
        "colab_type": "text"
      },
      "source": [
        "<a href=\"https://colab.research.google.com/github/cloudpedagogy/data-science-programming/blob/main/object-oriented-python/08_Best_Practices_and_Design_Principles.ipynb\" target=\"_parent\"><img src=\"https://colab.research.google.com/assets/colab-badge.svg\" alt=\"Open In Colab\"/></a>"
      ]
    },
    {
      "cell_type": "markdown",
      "source": [
        "# Best Practices and Design Principles Using SOLID\n"
      ],
      "metadata": {
        "id": "GgoSzD-rQkGE"
      }
    },
    {
      "cell_type": "markdown",
      "source": [
        "## Overview"
      ],
      "metadata": {
        "id": "5qmLClGYHwDe"
      }
    },
    {
      "cell_type": "markdown",
      "source": [
        "**Introduction to SOLID Principles in Object-Oriented Programming (OOP)**\n",
        "\n",
        "In the realm of Object-Oriented Programming (OOP), software design and development are guided by a set of fundamental principles known as the SOLID principles. These principles serve as a compass, providing developers with a clear direction on how to build maintainable, scalable, and robust software systems. SOLID is an acronym that stands for five essential design principles: Single Responsibility Principle (SRP), Open/Closed Principle (OCP), Liskov Substitution Principle (LSP), Interface Segregation Principle (ISP), and Dependency Inversion Principle (DIP).\n",
        "\n",
        "The SOLID principles were first introduced by Robert C. Martin, also known as \"Uncle Bob,\" in the early 2000s. They have since become cornerstones in software architecture and design, forming the foundation for writing clean, modular, and extensible code. By adhering to these principles, developers can create software that is more adaptable to change, easier to test, and less prone to bugs and maintenance headaches.\n",
        "\n",
        "The Single Responsibility Principle (SRP) emphasizes the importance of having a class or module with a single, well-defined responsibility. In other words, a class should have only one reason to change. This principle encourages the separation of concerns, making the codebase more manageable and reducing the risk of introducing errors when modifying code.\n",
        "\n",
        "The Open/Closed Principle (OCP) encourages software entities to be open for extension but closed for modification. It advocates designing classes and modules in a way that allows them to be easily extended to add new functionality without modifying their existing code. This promotes code reusability and prevents unnecessary disruptions in the existing system during updates.\n",
        "\n",
        "The Liskov Substitution Principle (LSP) focuses on the behavior of derived classes in relation to their base classes. It states that objects of a superclass should be replaceable with objects of its subclasses without altering the correctness of the program. In other words, derived classes should adhere to the contract set by their base classes and not introduce unexpected behaviors.\n",
        "\n",
        "The Interface Segregation Principle (ISP) emphasizes that clients should not be forced to depend on interfaces they do not use. Instead, the principle promotes the creation of specific, smaller interfaces that cater to the needs of individual clients. This helps prevent the creation of bloated interfaces and keeps the system more cohesive and flexible.\n",
        "\n",
        "The Dependency Inversion Principle (DIP) suggests that high-level modules should not depend on low-level modules but rather both should depend on abstractions. This principle promotes the use of interfaces or abstract classes to decouple different parts of the system, allowing for easier swapping of components and reducing tight coupling.\n",
        "\n",
        "By understanding and applying these SOLID principles, software developers can create code that is more maintainable, extensible, and easier to comprehend. They provide a roadmap for designing modular and scalable systems, making it possible to adapt to changing requirements and ensuring a higher quality of software development in the long run."
      ],
      "metadata": {
        "id": "TQMPwwsDHyN2"
      }
    },
    {
      "cell_type": "markdown",
      "source": [
        "# SOLID principles\n",
        "\n",
        "The SOLID principles are a set of design principles that help in writing clean, maintainable, and scalable code. The SOLID acronym stands for:\n",
        "\n",
        "1. Single Responsibility Principle (SRP): A class should have only one reason to change. It states that a class should have only one responsibility or a single purpose.\n",
        "\n",
        "2. Open-Closed Principle (OCP): Software entities (classes, modules, functions, etc.) should be open for extension but closed for modification. It suggests that code should be designed in a way that allows adding new features or functionality without modifying the existing code.\n",
        "\n",
        "3. Liskov Substitution Principle (LSP): Subtypes must be substitutable for their base types. It states that objects of a superclass should be replaceable with objects of its subclasses without affecting the correctness of the program.\n",
        "\n",
        "4. Interface Segregation Principle (ISP): Clients should not be forced to depend on interfaces they do not use. It encourages the creation of smaller and more focused interfaces instead of having a large and bloated interface.\n",
        "\n",
        "5. Dependency Inversion Principle (DIP): High-level modules should not depend on low-level modules. Both should depend on abstractions. It promotes decoupling by depending on abstractions (interfaces or abstract classes) rather than concrete implementations.\n",
        "\n",
        "Here's an example that demonstrates the application of SOLID principles using the Pima Indian Diabetes dataset:\n"
      ],
      "metadata": {
        "id": "X7HY09C-Qg5Q"
      }
    },
    {
      "cell_type": "code",
      "source": [
        "import pandas as pd\n",
        "\n",
        "# Interface segregation principle (ISP)\n",
        "class DataLoader:\n",
        "    def load_data(self):\n",
        "        pass\n",
        "\n",
        "# High-level module that depends on an abstraction (DIP)\n",
        "class DataAnalyzer:\n",
        "    def __init__(self, data_loader: DataLoader):\n",
        "        self.data_loader = data_loader\n",
        "\n",
        "    def analyze_data(self):\n",
        "        data = self.data_loader.load_data()\n",
        "        # Perform data analysis\n",
        "\n",
        "# Low-level module implementing the DataLoader interface (DIP)\n",
        "class CSVDataLoader(DataLoader):\n",
        "    def load_data(self):\n",
        "        url = \"https://raw.githubusercontent.com/jbrownlee/Datasets/master/pima-indians-diabetes.data.csv\"\n",
        "        column_names = [\"Pregnancies\", \"Glucose\", \"BloodPressure\", \"SkinThickness\", \"Insulin\", \"BMI\", \"DiabetesPedigreeFunction\", \"Age\", \"Outcome\"]\n",
        "        dataset = pd.read_csv(url, names=column_names)\n",
        "        return dataset\n",
        "\n",
        "# Usage of the DataAnalyzer class\n",
        "csv_data_loader = CSVDataLoader()\n",
        "data_analyzer = DataAnalyzer(csv_data_loader)\n",
        "data_analyzer.analyze_data()\n"
      ],
      "metadata": {
        "id": "mEzZUEGWQsoW"
      },
      "execution_count": null,
      "outputs": []
    },
    {
      "cell_type": "markdown",
      "source": [
        "In this example, we demonstrate the SOLID principles by separating concerns and applying dependency inversion.\n",
        "\n",
        "First, we define an interface, `DataLoader`, which declares a method `load_data()`. This satisfies the interface segregation principle (ISP) by providing a focused and minimal interface.\n",
        "\n",
        "Next, the `DataAnalyzer` class depends on the `DataLoader` abstraction, following the dependency inversion principle (DIP). The `DataAnalyzer` class takes an instance of `DataLoader` as a dependency in its constructor.\n",
        "\n",
        "We then implement the `CSVDataLoader` class, which inherits from `DataLoader` and provides a concrete implementation of the `load_data()` method. Here, we load the Pima Indian Diabetes dataset from a CSV file.\n",
        "\n",
        "Finally, we create an instance of `CSVDataLoader` and pass it to the `DataAnalyzer` class. The `DataAnalyzer` class can now perform data analysis using the dataset loaded by the `CSVDataLoader` class.\n",
        "\n",
        "By following the SOLID principles, we achieve modularity, maintainability, and flexibility in our code.\n"
      ],
      "metadata": {
        "id": "O1NUoLycQzqT"
      }
    },
    {
      "cell_type": "markdown",
      "source": [
        "## DRY (Don't Repeat Yourself) principle\n",
        "The DRY (Don't Repeat Yourself) principle is a software development principle that promotes code reusability and maintainability. It states that every piece of knowledge or logic should have a single, unambiguous representation in a codebase. DRY encourages developers to avoid duplicating code and instead use abstraction, modularization, and code organization techniques to eliminate redundancy.\n",
        "\n",
        "Here's an example of applying the DRY principle using the Pima Indian Diabetes dataset:\n"
      ],
      "metadata": {
        "id": "qgfQFID5Q2w3"
      }
    },
    {
      "cell_type": "code",
      "source": [
        "import pandas as pd\n",
        "\n",
        "# Load the Pima Indian Diabetes dataset\n",
        "url = \"https://raw.githubusercontent.com/jbrownlee/Datasets/master/pima-indians-diabetes.data.csv\"\n",
        "column_names = [\"Pregnancies\", \"Glucose\", \"BloodPressure\", \"SkinThickness\", \"Insulin\", \"BMI\", \"DiabetesPedigreeFunction\", \"Age\", \"Outcome\"]\n",
        "dataset = pd.read_csv(url, names=column_names)\n",
        "\n",
        "# Function to calculate statistics for a given column\n",
        "def calculate_statistics(data, column):\n",
        "    column_values = data[column]\n",
        "    total = sum(column_values)\n",
        "    average = total / len(column_values)\n",
        "    return {\n",
        "        'total': total,\n",
        "        'average': average\n",
        "    }\n",
        "\n",
        "# Calculate statistics for 'Glucose' column\n",
        "glucose_stats = calculate_statistics(dataset, 'Glucose')\n",
        "print(\"Statistics for Glucose column:\")\n",
        "print(\"Total:\", glucose_stats['total'])\n",
        "print(\"Average:\", glucose_stats['average'])\n",
        "\n",
        "# Calculate statistics for 'BMI' column\n",
        "bmi_stats = calculate_statistics(dataset, 'BMI')\n",
        "print(\"Statistics for BMI column:\")\n",
        "print(\"Total:\", bmi_stats['total'])\n",
        "print(\"Average:\", bmi_stats['average'])\n"
      ],
      "metadata": {
        "id": "9iEy4wIXQ63G"
      },
      "execution_count": null,
      "outputs": []
    },
    {
      "cell_type": "markdown",
      "source": [
        "In this example, we define a `calculate_statistics()` function that takes the dataset and a column name as inputs. The function retrieves the values of the specified column from the dataset, calculates the total by summing the values, and calculates the average by dividing the total by the number of values. The function returns a dictionary containing the calculated statistics.\n",
        "\n",
        "By using this function, we can avoid duplicating code when calculating statistics for different columns. We call the function twice, once for the 'Glucose' column and once for the 'BMI' column, passing the respective column names. The function calculates the statistics based on the provided column and returns the results as a dictionary.\n",
        "\n",
        "Applying the DRY principle in this example eliminates the need to repeat the code for calculating statistics for different columns. The logic is encapsulated within a function, promoting reusability and making the code more maintainable.\n"
      ],
      "metadata": {
        "id": "dJviue9UQ-Ch"
      }
    },
    {
      "cell_type": "markdown",
      "source": [
        "## Code organization and modularity\n",
        "Code organization and modularity in Python refer to the practice of structuring code in a way that promotes clarity, maintainability, and reusability. It involves dividing code into logical modules, functions, and classes, and arranging them in a structured manner.\n",
        "\n",
        "Here's an example of code organization and modularity using the Pima Indian Diabetes dataset:\n"
      ],
      "metadata": {
        "id": "uOGERtllRA5l"
      }
    },
    {
      "cell_type": "code",
      "source": [
        "import pandas as pd\n",
        "\n",
        "# Function to load the dataset\n",
        "def load_dataset(url, column_names):\n",
        "    dataset = pd.read_csv(url, names=column_names)\n",
        "    return dataset\n",
        "\n",
        "# Function to calculate the average of a column\n",
        "def calculate_average(data, column_name):\n",
        "    column_values = data[column_name]\n",
        "    total_sum = sum(column_values)\n",
        "    num_entries = len(column_values)\n",
        "    average = total_sum / num_entries\n",
        "    return average\n",
        "\n",
        "# Function to filter the dataset based on a condition\n",
        "def filter_dataset(data, column_name, threshold):\n",
        "    filtered_data = data[data[column_name] >= threshold]\n",
        "    return filtered_data\n",
        "\n",
        "# Main function to perform data analysis\n",
        "def main():\n",
        "    # Dataset information\n",
        "    url = \"https://raw.githubusercontent.com/jbrownlee/Datasets/master/pima-indians-diabetes.data.csv\"\n",
        "    column_names = [\"Pregnancies\", \"Glucose\", \"BloodPressure\", \"SkinThickness\", \"Insulin\", \"BMI\", \"DiabetesPedigreeFunction\", \"Age\", \"Outcome\"]\n",
        "\n",
        "    # Load the dataset\n",
        "    dataset = load_dataset(url, column_names)\n",
        "\n",
        "    # Calculate and print the average glucose level\n",
        "    average_glucose = calculate_average(dataset, \"Glucose\")\n",
        "    print(\"Average Glucose Level:\", average_glucose)\n",
        "\n",
        "    # Filter the dataset based on BMI\n",
        "    filtered_data = filter_dataset(dataset, \"BMI\", 30)\n",
        "\n",
        "    # Print the filtered dataset\n",
        "    print(\"Filtered Dataset:\")\n",
        "    print(filtered_data)\n",
        "\n",
        "# Call the main function to execute the program\n",
        "if __name__ == \"__main__\":\n",
        "    main()\n"
      ],
      "metadata": {
        "id": "hJKwYns1RF30"
      },
      "execution_count": null,
      "outputs": []
    },
    {
      "cell_type": "markdown",
      "source": [
        "In this example, we demonstrate code organization and modularity by dividing the code into separate functions with specific responsibilities.\n",
        "\n",
        "- The `load_dataset()` function loads the dataset from a given URL and returns it.\n",
        "- The `calculate_average()` function calculates the average of a specified column in the dataset and returns the result.\n",
        "- The `filter_dataset()` function filters the dataset based on a given column and threshold and returns the filtered data.\n",
        "- The `main()` function serves as the entry point for the program, where all the necessary functions are called in a logical sequence.\n",
        "\n",
        "By organizing the code in this manner, each function has a clear purpose and can be reused or modified independently. The `main()` function orchestrates the flow of the program, making it easier to understand and maintain.\n",
        "\n",
        "The use of modular functions improves code readability, allows for easier testing and debugging, and enables code reuse across different parts of the program.\n"
      ],
      "metadata": {
        "id": "ll-YfuffRJki"
      }
    },
    {
      "cell_type": "markdown",
      "source": [
        "## Writing clean and maintainable code\n",
        "Writing clean and maintainable code in Python is essential for improving code readability, reducing complexity, and making it easier to understand, modify, and debug. Here are some principles and techniques for writing clean and maintainable code:\n",
        "\n",
        "1. Use meaningful variable and function names: Choose descriptive names that accurately represent the purpose or functionality of the variables and functions. This improves code readability and makes it easier to understand the code's intent.\n",
        "\n",
        "2. Follow the DRY (Don't Repeat Yourself) principle: Avoid duplicating code by extracting common functionality into functions or reusable components. This reduces code redundancy and makes it easier to update or modify the code in one place.\n",
        "\n",
        "3. Write modular and well-organized code: Break your code into smaller, self-contained functions or modules. Each function should have a clear purpose and perform a single task. This improves code readability and allows for easier maintenance and testing.\n",
        "\n",
        "4. Use comments and docstrings: Add comments and docstrings to explain the purpose, functionality, and usage of your code. Well-documented code helps other developers (including your future self) understand and use the code effectively.\n",
        "\n",
        "5. Handle errors and exceptions gracefully: Use try-except blocks to handle potential errors or exceptions in your code. By handling errors gracefully, you can prevent program crashes and provide meaningful error messages to users or developers.\n",
        "\n",
        "6. Format your code consistently: Follow a consistent and readable code formatting style. Python's PEP 8 style guide provides recommendations for code formatting, including indentation, line length, naming conventions, and more. Consistent formatting improves code readability and makes it easier to collaborate with other developers.\n",
        "\n",
        "Here's an example of writing clean and maintainable code using the Pima Indian Diabetes dataset:\n"
      ],
      "metadata": {
        "id": "cykHMg2xRMW7"
      }
    },
    {
      "cell_type": "code",
      "source": [
        "import pandas as pd\n",
        "\n",
        "def load_dataset(url):\n",
        "    # Load the Pima Indian Diabetes dataset from the given URL\n",
        "    column_names = [\"Pregnancies\", \"Glucose\", \"BloodPressure\", \"SkinThickness\", \"Insulin\", \"BMI\", \"DiabetesPedigreeFunction\", \"Age\", \"Outcome\"]\n",
        "    dataset = pd.read_csv(url, names=column_names)\n",
        "    return dataset\n",
        "\n",
        "def calculate_average_glucose(data):\n",
        "    # Calculate the average glucose level in the dataset\n",
        "    glucose_values = data['Glucose']\n",
        "    average_glucose = glucose_values.mean()\n",
        "    return average_glucose\n",
        "\n",
        "def check_diabetes(data, threshold):\n",
        "    # Check the number of people with diabetes (Glucose >= threshold and Outcome = 1)\n",
        "    num_diabetes = data[(data['Glucose'] >= threshold) & (data['Outcome'] == 1)].shape[0]\n",
        "    return num_diabetes\n",
        "\n",
        "# Define constants\n",
        "DIABETES_THRESHOLD = 140\n",
        "\n",
        "# Load the dataset\n",
        "dataset_url = \"https://raw.githubusercontent.com/jbrownlee/Datasets/master/pima-indians-diabetes.data.csv\"\n",
        "dataset = load_dataset(dataset_url)\n",
        "\n",
        "# Calculate and print the average glucose level\n",
        "average_glucose = calculate_average_glucose(dataset)\n",
        "print(\"Average Glucose Level:\", average_glucose)\n",
        "\n",
        "# Check the number of people with diabetes\n",
        "num_diabetes = check_diabetes(dataset, DIABETES_THRESHOLD)\n",
        "print(\"Number of People with Diabetes:\", num_diabetes)\n"
      ],
      "metadata": {
        "id": "349CAIjJRQ-6"
      },
      "execution_count": null,
      "outputs": []
    },
    {
      "cell_type": "markdown",
      "source": [
        "In this example, we apply clean coding practices to the Pima Indian Diabetes dataset code.\n",
        "\n",
        "We have separate functions for loading the dataset, calculating the average glucose level, and checking the number of people with diabetes. Each function has a clear purpose and uses meaningful variable names.\n",
        "\n",
        "We use built-in Pandas functions, such as `mean()` and `shape[0]`, to perform calculations instead of writing complex loops or repetitive code. This simplifies the code and improves readability.\n",
        "\n",
        "We also define constants, such as `DIABETES_THRESHOLD`, to make the code more maintainable. By placing constants at the beginning of the script, it becomes easier to modify them when needed.\n",
        "\n",
        "Overall, following these clean coding practices enhances code maintainability, readability, and collaboration with other developers.\n"
      ],
      "metadata": {
        "id": "YtiHMuazRVQD"
      }
    },
    {
      "cell_type": "markdown",
      "source": [
        "# Reflection Points"
      ],
      "metadata": {
        "id": "Ya-qbXRBRXpl"
      }
    },
    {
      "cell_type": "markdown",
      "source": [
        "1. **SOLID Principles**:\n",
        "   - What are the SOLID principles in software development?\n",
        "   - How can SOLID principles help in writing better code?\n",
        "   - Reflect on examples where you have applied each SOLID principle in your Python projects.\n",
        "   - What challenges did you face while adhering to the SOLID principles? How did you overcome them?\n",
        "   - How can you refactor existing code to align with the SOLID principles?\n",
        "\n",
        "2. **DRY (Don't Repeat Yourself) Principle**:\n",
        "   - What is the DRY principle and why is it important in software development?\n",
        "   - Reflect on situations where you have encountered code duplication in your Python projects.\n",
        "   - How can you identify and eliminate code duplication in your codebase?\n",
        "   - Share examples of techniques or patterns you have used to achieve code reusability.\n",
        "   - Discuss the benefits and challenges of adhering to the DRY principle.\n",
        "\n",
        "3. **Code Organization and Modularity**:\n",
        "   - Why is code organization and modularity important for maintainability and scalability?\n",
        "   - Reflect on projects where you have experienced challenges related to code organization.\n",
        "   - Discuss strategies for organizing code into modules and packages effectively.\n",
        "   - Share examples of how you have implemented separation of concerns and encapsulation in your Python projects.\n",
        "   - How can you refactor existing code to improve code organization and modularity?\n",
        "\n",
        "4. **Writing Clean and Maintainable Code**:\n",
        "   - What does it mean to write clean and maintainable code in Python?\n",
        "   - Reflect on code examples where you have encountered readability or maintainability issues.\n",
        "   - Discuss best practices for writing clean and readable code, such as naming conventions and code formatting.\n",
        "   - Share techniques for writing self-explanatory code and adding meaningful comments and documentation.\n",
        "   - How can you ensure code quality and maintainability through code reviews and automated testing?\n"
      ],
      "metadata": {
        "id": "J3WnE3M3h6mO"
      }
    },
    {
      "cell_type": "markdown",
      "source": [
        "# A quiz on Best Practices and Design Principles"
      ],
      "metadata": {
        "id": "GHhUkmmo-2Qm"
      }
    },
    {
      "cell_type": "markdown",
      "source": [
        "\n",
        "\n",
        "1. What is one of the best practices for importing Python libraries in your script or notebook?\n",
        "<br>a) Import all necessary libraries at the end of your code.\n",
        "<br>b) Import libraries as you need them throughout the code.\n",
        "<br>c) Import the entire standard library to ensure availability.\n",
        "<br>d) Do not use any external libraries to maintain code simplicity.\n",
        "\n",
        "2. When working with large datasets, what is the best approach to load the data efficiently using Pandas?\n",
        "<br>a) Use the `pd.load_data()` function.\n",
        "<br>b) Load the entire dataset into memory at once.\n",
        "<br>c) Use generators or chunking to read the data in smaller portions.\n",
        "<br>d) Convert the dataset into a Python list for faster access.\n",
        "\n",
        "3. To make your code more maintainable and readable, what should you do with variable names?\n",
        "<br>a) Use single-letter variable names to save space.\n",
        "<br>b) Avoid meaningful names as they make the code longer.\n",
        "<br>c) Use descriptive and meaningful names for variables.\n",
        "<br>d) Mix different naming conventions to keep it interesting.\n",
        "\n",
        "4. In Python, which of the following is a good practice for handling exceptions?\n",
        "<br>a) Use a single broad `try-except` block to catch all exceptions.\n",
        "<br>b) Avoid using exception handling to keep the code concise.\n",
        "<br>c) Handle specific exceptions separately to take appropriate actions.\n",
        "<br>d) Always let exceptions crash the program for faster debugging.\n",
        "\n",
        "5. Which design principle suggests that a function should have a single, clear purpose?\n",
        "<br>a) The Single Responsibility Principle (SRP).\n",
        "<br>b) The Don't Repeat Yourself (DRY) principle.\n",
        "<br>c) The Keep It Simple, Stupid (KISS) principle.\n",
        "<br>d) The Separation of Concerns (SoC) principle.\n",
        "\n",
        "6. What is the benefit of using virtual environments in Python projects?\n",
        "<br>a) Virtual environments allow you to use older Python versions only.\n",
        "<br>b) They isolate project dependencies, preventing conflicts.\n",
        "<br>c) Virtual environments are not recommended as they slow down the code.\n",
        "<br>d) They are used solely for hiding proprietary code.\n",
        "\n",
        "7. When dealing with the Pima Indian Dataset or any other data, what should you do before processing it further?\n",
        "<br>a) No need for data exploration; start the analysis right away.\n",
        "<br>b) Clean and preprocess the data to handle missing values and anomalies.\n",
        "<br>c) Visualize the data only after building a complete analysis pipeline.\n",
        "<br>d) Use the data as is; avoid any preprocessing to maintain integrity.\n",
        "\n",
        "8. Which of the following statements is true about code comments?\n",
        "<br>a) Code comments are unnecessary and should be avoided.\n",
        "<br>b) Comments should only be written in a non-English language.\n",
        "<br>c) Comments are essential for documenting your code and providing clarity.\n",
        "<br>d) Comments slow down the code execution and should be minimized.\n",
        "\n",
        "---\n",
        "Answer:\n",
        "1. b) Import libraries as you need them throughout the code.\n",
        "2. c) Use generators or chunking to read the data in smaller portions.\n",
        "3. c) Use descriptive and meaningful names for variables.\n",
        "4. c) Handle specific exceptions separately to take appropriate actions.\n",
        "5. a) The Single Responsibility Principle (SRP).\n",
        "6. b) They isolate project dependencies, preventing conflicts.\n",
        "7. b) Clean and preprocess the data to handle missing values and anomalies.\n",
        "8. c) Comments are essential for documenting your code and providing clarity.\n",
        "---"
      ],
      "metadata": {
        "id": "0Txkyh_s-4Vb"
      }
    }
  ]
}