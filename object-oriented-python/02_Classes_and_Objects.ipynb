{
  "nbformat": 4,
  "nbformat_minor": 0,
  "metadata": {
    "colab": {
      "provenance": [],
      "toc_visible": true,
      "authorship_tag": "ABX9TyOankHfKZejc9+lJ955oNMX",
      "include_colab_link": true
    },
    "kernelspec": {
      "name": "python3",
      "display_name": "Python 3"
    },
    "language_info": {
      "name": "python"
    }
  },
  "cells": [
    {
      "cell_type": "markdown",
      "metadata": {
        "id": "view-in-github",
        "colab_type": "text"
      },
      "source": [
        "<a href=\"https://colab.research.google.com/github/cloudpedagogy/object-oriented-python/blob/main/02_Classes_and_Objects.ipynb\" target=\"_parent\"><img src=\"https://colab.research.google.com/assets/colab-badge.svg\" alt=\"Open In Colab\"/></a>"
      ]
    },
    {
      "cell_type": "markdown",
      "source": [
        "#Classes and Objects\n"
      ],
      "metadata": {
        "id": "dThYdB4rB86n"
      }
    },
    {
      "cell_type": "markdown",
      "source": [
        "##Overview"
      ],
      "metadata": {
        "id": "sDcaG92TE0ZQ"
      }
    },
    {
      "cell_type": "markdown",
      "source": [
        "\n",
        "\n",
        "In Python, classes and objects are fundamental concepts that form the backbone of object-oriented programming (OOP). OOP is a paradigm that revolves around organizing code into reusable and modular structures called classes, which represent real-world entities or abstract concepts. These classes serve as blueprints for creating individual instances known as objects. Each object is a unique entity that encapsulates data and behavior, making it an essential tool for writing clean, efficient, and maintainable code.\n",
        "\n",
        "At the heart of OOP is the class, which acts as a template for defining the attributes and methods that characterize an object. Attributes, also referred to as properties or data members, represent the state of an object and can be variables of different data types, such as integers, strings, lists, or even other objects. On the other hand, methods are functions defined within a class that define the object's behavior and how it interacts with other objects or the external environment.\n",
        "\n",
        "The process of creating an object from a class is called instantiation, and each object derived from the same class possesses the same set of attributes and methods defined in that class. However, the individual objects can have their own unique data stored in the attributes, giving them distinct identities and enabling them to operate independently.\n",
        "\n",
        "One of the key advantages of using classes and objects is the concept of encapsulation. Encapsulation refers to the bundling of data and methods within a class, ensuring that the internal details and implementation are hidden from the outside world. This feature promotes data abstraction and information hiding, as external code can interact with objects through their methods without worrying about the underlying complexity.\n",
        "\n",
        "Another crucial aspect of classes and objects is the ability to create relationships between them. Inheritance allows a class to inherit attributes and methods from another class, establishing an \"is-a\" relationship. This fosters code reusability and promotes a hierarchical organization of classes, with more specialized subclasses inheriting characteristics from more general base classes.\n",
        "\n",
        "In Python, creating and using classes and objects is straightforward, thanks to the language's simplicity and elegance. With just a few lines of code, programmers can define classes, instantiate objects, and leverage the power of OOP to build sophisticated and flexible applications. Whether it's modeling real-world scenarios, simulating complex systems, or building user interfaces, classes and objects provide a powerful toolset for developers to tackle a wide range of programming challenges. As a result, mastering the principles of classes and objects in Python is a fundamental step in becoming a proficient and versatile programmer."
      ],
      "metadata": {
        "id": "tuCeYQF3E2JI"
      }
    },
    {
      "cell_type": "markdown",
      "source": [
        "##Defining classes and objects in Python\n",
        "Classes and objects are fundamental concepts in object-oriented programming (OOP) in Python.\n",
        "\n",
        "A class is a blueprint or template that defines the structure and behavior of objects. It encapsulates data (attributes) and functions (methods) that operate on that data. An object is an instance of a class, representing a specific entity that can have its own unique data and behavior.\n",
        "\n",
        "Here's an example of using classes and objects with the Pima Indian Diabetes dataset:\n"
      ],
      "metadata": {
        "id": "H7S56b1BCCK3"
      }
    },
    {
      "cell_type": "code",
      "source": [
        "import pandas as pd\n",
        "\n",
        "# Define the class\n",
        "class DatasetAnalysis:\n",
        "    def __init__(self, dataset):\n",
        "        self.dataset = dataset\n",
        "\n",
        "    def calculate_average_glucose(self):\n",
        "        glucose_values = self.dataset['Glucose']\n",
        "        total_glucose = sum(glucose_values)\n",
        "        num_entries = len(glucose_values)\n",
        "        average_glucose = total_glucose / num_entries\n",
        "        return average_glucose\n",
        "\n",
        "    def check_diabetes(self, threshold):\n",
        "        glucose_values = self.dataset['Glucose']\n",
        "        outcome_values = self.dataset['Outcome']\n",
        "        num_diabetes = sum(1 for glucose, outcome in zip(glucose_values, outcome_values) if glucose >= threshold and outcome == 1)\n",
        "        return num_diabetes\n",
        "\n",
        "# Load the Pima Indian Diabetes dataset\n",
        "url = \"https://raw.githubusercontent.com/jbrownlee/Datasets/master/pima-indians-diabetes.data.csv\"\n",
        "column_names = [\"Pregnancies\", \"Glucose\", \"BloodPressure\", \"SkinThickness\", \"Insulin\", \"BMI\", \"DiabetesPedigreeFunction\", \"Age\", \"Outcome\"]\n",
        "dataset = pd.read_csv(url, names=column_names)\n",
        "\n",
        "# Create an object of the DatasetAnalysis class\n",
        "analysis = DatasetAnalysis(dataset)\n",
        "\n",
        "# Call the methods on the object to perform analysis\n",
        "average_glucose = analysis.calculate_average_glucose()\n",
        "print(\"Average Glucose Level:\", average_glucose)\n",
        "\n",
        "diabetes_threshold = 140\n",
        "num_diabetes = analysis.check_diabetes(diabetes_threshold)\n",
        "print(\"Number of People with Diabetes:\", num_diabetes)\n"
      ],
      "metadata": {
        "id": "CAZlCY_jCJ2q"
      },
      "execution_count": null,
      "outputs": []
    },
    {
      "cell_type": "markdown",
      "source": [
        "In this example, we define a class called `DatasetAnalysis` that encapsulates the analysis functionalities related to the Pima Indian Diabetes dataset. The `__init__` method is a special method used to initialize the object. It takes the dataset as a parameter and assigns it to the `dataset` attribute of the object.\n",
        "\n",
        "The class contains two methods: `calculate_average_glucose()` and `check_diabetes()`. These methods operate on the dataset stored in the object. The `calculate_average_glucose()` method calculates the average glucose level, and the `check_diabetes()` method checks the number of people with diabetes based on a glucose threshold.\n",
        "\n",
        "We create an object `analysis` of the `DatasetAnalysis` class, passing the dataset as a parameter. We then call the methods on the object to perform the desired analysis on the dataset and print the results.\n",
        "\n",
        "Using classes and objects allows for encapsulating related functionality and data together, promoting code reusability and making the code more organized and maintainable.\n"
      ],
      "metadata": {
        "id": "Oo9pmSEzCbSk"
      }
    },
    {
      "cell_type": "markdown",
      "source": [
        "##Instance variables and methods\n",
        "\n",
        "In Python, instance variables and methods are associated with specific instances or objects of a class. Instance variables are unique to each instance of a class and hold different values for each object. Instance methods are functions defined within a class that operate on instance variables and can be called on specific objects of that class.\n",
        "\n",
        "Here's an example of instance variables and methods using the Pima Indian Diabetes dataset:\n"
      ],
      "metadata": {
        "id": "nZxIi5kmChZp"
      }
    },
    {
      "cell_type": "code",
      "source": [
        "import pandas as pd\n",
        "\n",
        "# Load the Pima Indian Diabetes dataset\n",
        "url = \"https://raw.githubusercontent.com/jbrownlee/Datasets/master/pima-indians-diabetes.data.csv\"\n",
        "column_names = [\"Pregnancies\", \"Glucose\", \"BloodPressure\", \"SkinThickness\", \"Insulin\", \"BMI\", \"DiabetesPedigreeFunction\", \"Age\", \"Outcome\"]\n",
        "dataset = pd.read_csv(url, names=column_names)\n",
        "\n",
        "# Define a class to represent a person in the dataset\n",
        "class Person:\n",
        "    def __init__(self, pregnancies, glucose, blood_pressure, skin_thickness, insulin, bmi, dpf, age, outcome):\n",
        "        self.pregnancies = pregnancies\n",
        "        self.glucose = glucose\n",
        "        self.blood_pressure = blood_pressure\n",
        "        self.skin_thickness = skin_thickness\n",
        "        self.insulin = insulin\n",
        "        self.bmi = bmi\n",
        "        self.dpf = dpf\n",
        "        self.age = age\n",
        "        self.outcome = outcome\n",
        "\n",
        "    def calculate_bmi(self):\n",
        "        return self.bmi\n",
        "\n",
        "    def has_diabetes(self):\n",
        "        return self.outcome == 1\n",
        "\n",
        "# Create an instance of the Person class for the first person in the dataset\n",
        "person1 = Person(dataset['Pregnancies'][0], dataset['Glucose'][0], dataset['BloodPressure'][0], dataset['SkinThickness'][0], dataset['Insulin'][0], dataset['BMI'][0], dataset['DiabetesPedigreeFunction'][0], dataset['Age'][0], dataset['Outcome'][0])\n",
        "\n",
        "# Access and print the instance variables\n",
        "print(\"Glucose:\", person1.glucose)\n",
        "print(\"Age:\", person1.age)\n",
        "\n",
        "# Call the instance methods\n",
        "bmi = person1.calculate_bmi()\n",
        "print(\"BMI:\", bmi)\n",
        "\n",
        "has_diabetes = person1.has_diabetes()\n",
        "print(\"Has Diabetes:\", has_diabetes)\n"
      ],
      "metadata": {
        "id": "jqaqdKv0Cl4W"
      },
      "execution_count": null,
      "outputs": []
    },
    {
      "cell_type": "markdown",
      "source": [
        "In this example, we define a `Person` class to represent an individual in the Pima Indian Diabetes dataset. The `__init__` method is used as the constructor to initialize the instance variables for each person. The arguments passed to `__init__` correspond to the column values for a person in the dataset.\n",
        "\n",
        "We define two instance methods within the `Person` class. The `calculate_bmi()` method calculates the Body Mass Index (BMI) for the person based on their instance variable values. The `has_diabetes()` method checks if the person has diabetes based on their `outcome` instance variable.\n",
        "\n",
        "We create an instance of the `Person` class named `person1` using the values from the first row of the dataset. We can access the instance variables using dot notation (`person1.glucose`, `person1.age`) and print their values.\n",
        "\n",
        "We also call the instance methods on `person1` to calculate the BMI and check if the person has diabetes. The results are stored in variables (`bmi`, `has_diabetes`) and printed.\n",
        "\n",
        "Instance variables and methods allow objects of a class to have their own unique state and behavior, providing flexibility and modularity in object-oriented programming.\n"
      ],
      "metadata": {
        "id": "_K8pdWSkDLbQ"
      }
    },
    {
      "cell_type": "markdown",
      "source": [
        "##Class variables and methods\n",
        "\n",
        "\n",
        "Class variables and methods in Python are associated with a class rather than specific instances of the class. They are shared among all instances of the class and can be accessed and modified using either the class name or an instance of the class.\n",
        "\n",
        "Here's an example of class variables and methods using the Pima Indian Diabetes dataset:\n"
      ],
      "metadata": {
        "id": "QtU5TfvZDO80"
      }
    },
    {
      "cell_type": "code",
      "source": [
        "import pandas as pd\n",
        "\n",
        "# Load the Pima Indian Diabetes dataset\n",
        "url = \"https://raw.githubusercontent.com/jbrownlee/Datasets/master/pima-indians-diabetes.data.csv\"\n",
        "column_names = [\"Pregnancies\", \"Glucose\", \"BloodPressure\", \"SkinThickness\", \"Insulin\", \"BMI\", \"DiabetesPedigreeFunction\", \"Age\", \"Outcome\"]\n",
        "dataset = pd.read_csv(url, names=column_names)\n",
        "\n",
        "# Define a class to work with the diabetes dataset\n",
        "class DiabetesData:\n",
        "    # Class variable\n",
        "    threshold = 140\n",
        "\n",
        "    # Class method to calculate average glucose level\n",
        "    @classmethod\n",
        "    def calculate_average_glucose(cls, data):\n",
        "        glucose_values = data['Glucose']\n",
        "        total_glucose = sum(glucose_values)\n",
        "        num_entries = len(glucose_values)\n",
        "        average_glucose = total_glucose / num_entries\n",
        "        return average_glucose\n",
        "\n",
        "    # Class method to check the number of people with diabetes\n",
        "    @classmethod\n",
        "    def check_diabetes(cls, data):\n",
        "        glucose_values = data['Glucose']\n",
        "        outcome_values = data['Outcome']\n",
        "        num_diabetes = sum(1 for glucose, outcome in zip(glucose_values, outcome_values) if glucose >= cls.threshold and outcome == 1)\n",
        "        return num_diabetes\n",
        "\n",
        "# Calculate and print the average glucose level using the class method\n",
        "average_glucose = DiabetesData.calculate_average_glucose(dataset)\n",
        "print(\"Average Glucose Level:\", average_glucose)\n",
        "\n",
        "# Check the number of people with diabetes using the class method\n",
        "num_diabetes = DiabetesData.check_diabetes(dataset)\n",
        "print(\"Number of People with Diabetes:\", num_diabetes)\n",
        "\n",
        "# Access and modify the class variable\n",
        "DiabetesData.threshold = 150\n",
        "new_num_diabetes = DiabetesData.check_diabetes(dataset)\n",
        "print(\"Number of People with Diabetes (Threshold 150):\", new_num_diabetes)\n"
      ],
      "metadata": {
        "id": "xoSCKyWnDS-3"
      },
      "execution_count": null,
      "outputs": []
    },
    {
      "cell_type": "markdown",
      "source": [
        "In this example, we define a class named `DiabetesData` to work with the Pima Indian Diabetes dataset. The class includes a class variable `threshold` set to 140, representing the glucose threshold for determining diabetes.\n",
        "\n",
        "We also define two class methods within the class: `calculate_average_glucose()` and `check_diabetes()`. These methods are decorated with `@classmethod` to indicate that they are class methods rather than instance methods.\n",
        "\n",
        "The class methods use the `cls` parameter to refer to the class itself. This allows them to access the class variable `threshold` and perform calculations using the dataset.\n",
        "\n",
        "We can then call the class methods directly using the class name `DiabetesData`. This enables us to calculate the average glucose level and check the number of people with diabetes based on the defined threshold.\n",
        "\n",
        "We can also access and modify the class variable `threshold` using the class name. In the example, we update the threshold to 150 and check the number of people with diabetes using the updated threshold.\n",
        "\n",
        "Class variables and methods are useful when certain attributes or behaviors are shared among all instances of a class. They provide a convenient way to manage and interact with shared data within a class.\n"
      ],
      "metadata": {
        "id": "Ub6h0zqzDXNM"
      }
    },
    {
      "cell_type": "markdown",
      "source": [
        "##Access modifiers: public, private, protected\n",
        "\n",
        "\n",
        "In Python, access modifiers such as public, private, and protected are not enforced in the same way as in some other programming languages like Java. However, there are certain conventions that developers follow to indicate the intended visibility of class members.\n",
        "\n",
        "Here's an example using the Pima Indian Diabetes dataset to demonstrate the concept:\n"
      ],
      "metadata": {
        "id": "oB3Gvf8uDaDl"
      }
    },
    {
      "cell_type": "code",
      "source": [
        "import pandas as pd\n",
        "\n",
        "# Load the Pima Indian Diabetes dataset\n",
        "url = \"https://raw.githubusercontent.com/jbrownlee/Datasets/master/pima-indians-diabetes.data.csv\"\n",
        "column_names = [\"Pregnancies\", \"Glucose\", \"BloodPressure\", \"SkinThickness\", \"Insulin\", \"BMI\", \"DiabetesPedigreeFunction\", \"Age\", \"Outcome\"]\n",
        "\n",
        "# Define a class for data analysis\n",
        "class DataAnalyzer:\n",
        "    def __init__(self, dataset):\n",
        "        self.dataset = dataset\n",
        "        self._processed_data = None  # Protected member\n",
        "\n",
        "    def analyze_data(self):\n",
        "        self._preprocess_data()\n",
        "        # Perform analysis using the processed data\n",
        "\n",
        "    def _preprocess_data(self):\n",
        "        # Preprocessing steps on the dataset\n",
        "        self._processed_data = self.dataset.dropna()\n",
        "\n",
        "# Create an instance of the DataAnalyzer class\n",
        "dataset = pd.read_csv(url, names=column_names)\n",
        "analyzer = DataAnalyzer(dataset)\n",
        "\n",
        "# Access the public member 'dataset'\n",
        "print(analyzer.dataset)\n",
        "\n",
        "# Access the protected member '_processed_data'\n",
        "print(analyzer._processed_data)\n"
      ],
      "metadata": {
        "id": "e8ccbD2ADdwD"
      },
      "execution_count": null,
      "outputs": []
    },
    {
      "cell_type": "markdown",
      "source": [
        "In this example, we define a `DataAnalyzer` class for analyzing the Pima Indian Diabetes dataset. The `dataset` is a public member of the class, and it can be accessed directly outside the class.\n",
        "\n",
        "We also have a protected member `_processed_data`, denoted by a single underscore prefix conventionally used to indicate that the member should be treated as protected. Although Python does not enforce access control, this naming convention serves as a signal to other developers that the member is intended for internal use within the class or its subclasses.\n",
        "\n",
        "Inside the class, we have a public method `analyze_data()`, which can access both the `dataset` and `_processed_data` members. Additionally, we have a protected method `_preprocess_data()`, which is intended to be used internally by the class and is prefixed with a single underscore.\n",
        "\n",
        "Outside the class, we can access the public member `dataset` of the `DataAnalyzer` instance (`analyzer.dataset`). However, we can also access the protected member `_processed_data` (`analyzer._processed_data`) even though it is conventionally considered for internal use.\n",
        "\n",
        "It's important to note that these access modifiers are not strictly enforced by the language, and their purpose is mainly to indicate the intended visibility and usage of class members to other developers.\n"
      ],
      "metadata": {
        "id": "0aN1JgOYDh6-"
      }
    },
    {
      "cell_type": "markdown",
      "source": [
        "#Reflection Points"
      ],
      "metadata": {
        "id": "SiMwDpo4DkTU"
      }
    },
    {
      "cell_type": "markdown",
      "source": [
        "1. **Defining Classes and Objects in Python**:\n",
        "   - Reflect on the concept of classes and objects in Python and their relationship.\n",
        "     - Answer: Classes are blueprints or templates for creating objects in Python. Objects are instances of classes, representing specific entities with their own unique characteristics and behaviors.\n",
        "\n",
        "2. **Instance Variables and Methods**:\n",
        "   - Reflect on the purpose and usage of instance variables in Python classes.\n",
        "     - Answer: Instance variables store data specific to each object. They are declared within the class's methods and are accessible through instance objects.\n",
        "   - Reflect on the role of instance methods in Python classes.\n",
        "     - Answer: Instance methods are functions defined within a class that operate on instance variables. They are used to perform actions specific to individual objects.\n",
        "\n",
        "3. **Class Variables and Methods**:\n",
        "   - Reflect on the concept of class variables in Python.\n",
        "     - Answer: Class variables are shared among all instances of a class. They are declared within the class but outside any instance methods, and they are accessed using the class name.\n",
        "   - Reflect on the purpose and usage of class methods in Python.\n",
        "     - Answer: Class methods are methods that operate on class variables rather than instance variables. They are defined using the `@classmethod` decorator and are commonly used for tasks that involve the class as a whole.\n",
        "\n",
        "4. **Access Modifiers: Public, Private, Protected**:\n",
        "   - Reflect on the different access modifiers in Python: public, private, and protected.\n",
        "     - Answer: In Python, there are no strict access modifiers like in some other programming languages. However, by convention, variables and methods starting with a single underscore (_) are considered \"protected\" and should be accessed within the class or its subclasses. Variables and methods starting with double underscores (__) are considered \"private\" and should not be accessed directly from outside the class.\n",
        "   - Reflect on the reasons for using access modifiers in Python classes.\n",
        "     - Answer: Access modifiers provide a way to indicate the intended scope and usage of class members. They help in encapsulating the internal workings of a class and promote data abstraction, making the code more maintainable and less prone to unintended modifications.\n"
      ],
      "metadata": {
        "id": "njCufYFFen-a"
      }
    },
    {
      "cell_type": "markdown",
      "source": [
        "#A quiz on Classes and Objects"
      ],
      "metadata": {
        "id": "4-1EkNLryauv"
      }
    },
    {
      "cell_type": "markdown",
      "source": [
        "\n",
        "1. Which of the following is NOT true about classes and objects in Python?\n",
        "   <br>a) A class is a blueprint for creating objects.\n",
        "   <br>b) An object is an instance of a class.\n",
        "   <br>c) Classes are created using the `def` keyword.\n",
        "   <br>d) Objects have attributes and behaviors.\n",
        "\n",
        "2. What are instance variables in a Python class?\n",
        "   <br>a) Variables that are shared among all instances of the class.\n",
        "   <br>b) Variables that are defined outside the class.\n",
        "   <br>c) Variables that belong to the class itself.\n",
        "   <br>d) Variables that are unique to each instance of the class.\n",
        "\n",
        "3. Which of the following statements is true about class methods in Python?\n",
        "   <br>a) Class methods are defined using the `self` keyword.\n",
        "   <br>b) Class methods can only access class variables, not instance variables.\n",
        "   <br>c) Class methods are used to modify instance-specific data.\n",
        "   <br>d) Class methods are decorated using the `@classmethod` decorator.\n",
        "\n",
        "4. What is the role of a class variable in Python?\n",
        "   <br>a) Class variables store data that is unique to each instance of the class.\n",
        "   <br>b) Class variables are used to define the class constructor.\n",
        "   <br>c) Class variables store data that is shared among all instances of the class.\n",
        "   <br>d) Class variables allow access to private attributes.\n",
        "\n",
        "5. Which access modifier in Python allows a class member to be accessed only within the class and its subclasses?\n",
        "   <br>a) Public\n",
        "   <br>b) Private\n",
        "   <br>c) Protected\n",
        "   <br>d) Global\n",
        "\n",
        "6. Consider the following Python class definition:\n",
        "\n",
        "```python\n",
        "class Patient:\n",
        "    def __init__(self, name, age):\n",
        "        self.name = name\n",
        "        self.age = age\n",
        "        self._medical_history = []\n",
        "\n",
        "    def add_medical_record(self, record):\n",
        "        self._medical_history.append(record)\n",
        "```\n",
        "\n",
        "What is the access modifier of the `_medical_history` variable?\n",
        "   <br>a) Public\n",
        "   <br>b) Private\n",
        "   <br>c) Protected\n",
        "   <br>d) Global\n",
        "\n",
        "7. Using the Pima Indian dataset as an example, which class name is appropriate for representing an individual data record in the dataset?\n",
        "   <br>a) PimaDataset\n",
        "   <br>b) DataRecord\n",
        "   <br>c) IndianRecord\n",
        "   <br>d) PimaRecord\n",
        "\n",
        "8. Based on the Pima Indian dataset example, which of the following class methods would be suitable for calculating the average age of all individuals in the dataset?\n",
        "   <br>a) `def average_age(cls):`\n",
        "   <br>b) `def calculate_average_age(cls, dataset):`\n",
        "   <br>c) `def average_age(self):`\n",
        "   <br>d) `def calculate_average_age(self, dataset):`\n",
        "---\n",
        "Answers:\n",
        "1. c\n",
        "2. d\n",
        "3. d\n",
        "4. c\n",
        "5. c\n",
        "6. b\n",
        "7. b\n",
        "8. a\n",
        "---"
      ],
      "metadata": {
        "id": "lbJBdF3UyeKa"
      }
    }
  ]
}