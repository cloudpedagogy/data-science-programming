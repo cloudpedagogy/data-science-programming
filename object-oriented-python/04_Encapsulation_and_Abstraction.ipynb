{
  "nbformat": 4,
  "nbformat_minor": 0,
  "metadata": {
    "colab": {
      "provenance": [],
      "toc_visible": true,
      "authorship_tag": "ABX9TyNQTl0KehjrFVDdbPgs2wlo",
      "include_colab_link": true
    },
    "kernelspec": {
      "name": "python3",
      "display_name": "Python 3"
    },
    "language_info": {
      "name": "python"
    }
  },
  "cells": [
    {
      "cell_type": "markdown",
      "metadata": {
        "id": "view-in-github",
        "colab_type": "text"
      },
      "source": [
        "<a href=\"https://colab.research.google.com/github/cloudpedagogy/data-science-programming/blob/main/object-oriented-python/04_Encapsulation_and_Abstraction.ipynb\" target=\"_parent\"><img src=\"https://colab.research.google.com/assets/colab-badge.svg\" alt=\"Open In Colab\"/></a>"
      ]
    },
    {
      "cell_type": "markdown",
      "source": [
        "#Encapsulation and Abstraction\n"
      ],
      "metadata": {
        "id": "N8ic8BoLF3uG"
      }
    },
    {
      "cell_type": "markdown",
      "source": [
        "##Overview"
      ],
      "metadata": {
        "id": "P1zJsScuFuYU"
      }
    },
    {
      "cell_type": "markdown",
      "source": [
        "\n",
        "Encapsulation is one of the fundamental principles of object-oriented programming (OOP) in Python and other programming languages. It refers to the bundling of data and methods that operate on that data within a single unit, known as a class. The main goal of encapsulation is to hide the internal implementation details of an object and provide a clean interface through which the object's functionalities can be accessed and manipulated. This helps in achieving better code organization and maintenance.\n",
        "\n",
        "In Python, encapsulation is implemented using access modifiers. These access modifiers control the visibility of attributes and methods of a class. There are three commonly used access modifiers in Python:\n",
        "\n",
        "1. Public (+): Public attributes and methods are accessible from both inside and outside the class. By default, all attributes and methods in a Python class are considered public.\n",
        "\n",
        "2. Private (-): Private attributes and methods are accessible only from within the class itself. They are denoted by a double underscore (__) prefix before their names.\n",
        "\n",
        "3. Protected (#): Protected attributes and methods are not truly enforced by Python, but their names are conventionally prefixed with a single underscore (_) to indicate that they are intended for internal use within the class and its subclasses.\n",
        "\n",
        "Encapsulation promotes data hiding, which prevents direct access to the internal state of an object. Instead, access to the object's data is controlled through well-defined interfaces (public methods). This allows for better control over how data is modified and validated, enhancing the overall robustness and security of the code.\n",
        "\n",
        "**Abstraction**:\n",
        "\n",
        "Abstraction is another crucial concept in object-oriented programming that complements encapsulation. It refers to the process of simplifying complex real-world objects by focusing only on the essential characteristics and behavior relevant to the current context. In simpler terms, abstraction allows us to represent complex entities in a generalized manner, hiding the unnecessary details.\n",
        "\n",
        "In Python, abstraction is achieved by defining abstract classes and methods. An abstract class is a blueprint for other classes and cannot be instantiated directly. It typically contains one or more abstract methods, which are declared but do not contain any implementation. Instead, the responsibility of implementing these methods is left to the subclasses that inherit from the abstract class.\n",
        "\n",
        "Python uses the `abc` module (Abstract Base Classes) to create abstract classes and methods. By using abstraction, programmers can define a common interface for a group of related classes, promoting code reusability and making it easier to maintain and extend the codebase.\n",
        "\n",
        "Abstraction and encapsulation work hand in hand to create robust and maintainable object-oriented programs. While encapsulation hides the internal details and exposes well-defined interfaces, abstraction allows us to model complex systems in a simpler, more generalized manner, resulting in cleaner, more understandable code. Together, these principles contribute to the modularity and extensibility of Python programs, making them easier to maintain and adapt to changing requirements."
      ],
      "metadata": {
        "id": "YXisua0VFwIY"
      }
    },
    {
      "cell_type": "markdown",
      "source": [
        "##Encapsulation and data hiding\n",
        "\n",
        "Encapsulation and data hiding are concepts in object-oriented programming that involve bundling data and methods together within a class and controlling access to them.\n",
        "\n",
        "Encapsulation refers to the practice of encapsulating data (attributes) and methods (functions) into a single entity called a class. It allows for the organization and structuring of code by grouping related data and functionality together.\n",
        "\n",
        "Data hiding, also known as information hiding, is a principle of encapsulation that restricts direct access to the internal state or data of an object. It protects the integrity and consistency of the object by preventing external code from modifying or accessing its internal data directly. Instead, access to the internal data is provided through controlled methods (getters and setters).\n",
        "\n",
        "Here's an example of encapsulation and data hiding using the Pima Indian Diabetes dataset:\n"
      ],
      "metadata": {
        "id": "j8NfBb-qF6lw"
      }
    },
    {
      "cell_type": "code",
      "source": [
        "class Patient:\n",
        "    def __init__(self, pregnancies, glucose, blood_pressure, skin_thickness, insulin, bmi, pedigree_function, age, outcome):\n",
        "        self.__pregnancies = pregnancies\n",
        "        self.__glucose = glucose\n",
        "        self.__blood_pressure = blood_pressure\n",
        "        self.__skin_thickness = skin_thickness\n",
        "        self.__insulin = insulin\n",
        "        self.__bmi = bmi\n",
        "        self.__pedigree_function = pedigree_function\n",
        "        self.__age = age\n",
        "        self.__outcome = outcome\n",
        "\n",
        "    # Getter methods\n",
        "    def get_pregnancies(self):\n",
        "        return self.__pregnancies\n",
        "\n",
        "    def get_glucose(self):\n",
        "        return self.__glucose\n",
        "\n",
        "    # Setter methods\n",
        "    def set_glucose(self, glucose):\n",
        "        if glucose > 0:\n",
        "            self.__glucose = glucose\n",
        "\n",
        "    # Other methods\n",
        "    def calculate_bmi(self):\n",
        "        # Implementation of BMI calculation\n",
        "        pass\n",
        "\n",
        "# Create an instance of the Patient class\n",
        "patient = Patient(6, 148, 72, 35, 0, 33.6, 0.627, 50, 1)\n",
        "\n",
        "# Accessing data using getters\n",
        "print(\"Pregnancies:\", patient.get_pregnancies())\n",
        "print(\"Glucose:\", patient.get_glucose())\n",
        "\n",
        "# Modifying data using setters\n",
        "patient.set_glucose(160)\n",
        "print(\"Modified Glucose:\", patient.get_glucose())\n"
      ],
      "metadata": {
        "id": "eFWndw6pF_dg"
      },
      "execution_count": null,
      "outputs": []
    },
    {
      "cell_type": "markdown",
      "source": [
        "In this example, we create a `Patient` class that encapsulates the attributes of a patient from the Pima Indian Diabetes dataset. The attributes (`pregnancies`, `glucose`, etc.) are declared as private by prefixing them with double underscores (`__`), which hides them from direct access outside the class.\n",
        "\n",
        "To provide controlled access to these private attributes, we define getter methods (`get_pregnancies()` and `get_glucose()`) that allow retrieving their values.\n",
        "\n",
        "Additionally, we define a setter method (`set_glucose()`) that allows modifying the `glucose` attribute but with validation logic. In this example, we only allow setting a positive value for `glucose`.\n",
        "\n",
        "By encapsulating the attributes within the class and controlling access through getters and setters, we achieve data hiding, ensuring that the internal state of the `Patient` object remains protected and controlled.\n",
        "\n",
        "Note: In Python, the use of double underscores (`__`) for attribute names triggers name mangling, making the attribute name prefixed with `_ClassName`. This is a convention to indicate that the attribute is intended to be private. However, it doesn't entirely prevent access to the attribute, as it can still be accessed using the mangled name.\n"
      ],
      "metadata": {
        "id": "I06t7UHNGFL_"
      }
    },
    {
      "cell_type": "markdown",
      "source": [
        "##Accessor and mutator methods\n",
        "\n",
        "Accessor and mutator methods, also known as getter and setter methods, are used to access and modify the values of private attributes in a class. They provide a way to control access to the internal state of an object and ensure proper encapsulation.\n",
        "\n",
        "Here's an example of accessor and mutator methods using the Pima Indian Diabetes dataset:\n"
      ],
      "metadata": {
        "id": "nhh-NHpnGITd"
      }
    },
    {
      "cell_type": "code",
      "source": [
        "import pandas as pd\n",
        "\n",
        "# Load the Pima Indian Diabetes dataset\n",
        "url = \"https://raw.githubusercontent.com/jbrownlee/Datasets/master/pima-indians-diabetes.data.csv\"\n",
        "column_names = [\"Pregnancies\", \"Glucose\", \"BloodPressure\", \"SkinThickness\", \"Insulin\", \"BMI\", \"DiabetesPedigreeFunction\", \"Age\", \"Outcome\"]\n",
        "dataset = pd.read_csv(url, names=column_names)\n",
        "\n",
        "# Define a class to represent a person in the dataset\n",
        "class Person:\n",
        "    def __init__(self, pregnancies, glucose, blood_pressure, skin_thickness, insulin, bmi, diabetes_pedigree, age, outcome):\n",
        "        self._pregnancies = pregnancies\n",
        "        self._glucose = glucose\n",
        "        self._blood_pressure = blood_pressure\n",
        "        self._skin_thickness = skin_thickness\n",
        "        self._insulin = insulin\n",
        "        self._bmi = bmi\n",
        "        self._diabetes_pedigree = diabetes_pedigree\n",
        "        self._age = age\n",
        "        self._outcome = outcome\n",
        "\n",
        "    # Accessor methods (getters)\n",
        "    def get_glucose(self):\n",
        "        return self._glucose\n",
        "\n",
        "    def get_outcome(self):\n",
        "        return self._outcome\n",
        "\n",
        "    # Mutator methods (setters)\n",
        "    def set_glucose(self, new_glucose):\n",
        "        self._glucose = new_glucose\n",
        "\n",
        "    def set_outcome(self, new_outcome):\n",
        "        self._outcome = new_outcome\n",
        "\n",
        "# Create an instance of the Person class\n",
        "person = Person(6, 148, 72, 35, 0, 33.6, 0.627, 50, 1)\n",
        "\n",
        "# Get the glucose value using the accessor method\n",
        "glucose_value = person.get_glucose()\n",
        "print(\"Glucose Value:\", glucose_value)\n",
        "\n",
        "# Get the outcome using the accessor method\n",
        "outcome = person.get_outcome()\n",
        "print(\"Outcome:\", outcome)\n",
        "\n",
        "# Set a new glucose value using the mutator method\n",
        "person.set_glucose(200)\n",
        "\n",
        "# Set a new outcome using the mutator method\n",
        "person.set_outcome(0)\n",
        "\n",
        "# Get the updated glucose value using the accessor method\n",
        "updated_glucose = person.get_glucose()\n",
        "print(\"Updated Glucose Value:\", updated_glucose)\n",
        "\n",
        "# Get the updated outcome using the accessor method\n",
        "updated_outcome = person.get_outcome()\n",
        "print(\"Updated Outcome:\", updated_outcome)\n"
      ],
      "metadata": {
        "id": "-io-WqoLGQcC"
      },
      "execution_count": null,
      "outputs": []
    },
    {
      "cell_type": "markdown",
      "source": [
        "In this example, we define a `Person` class to represent an individual from the Pima Indian Diabetes dataset. The class has private attributes prefixed with an underscore (`_`) to indicate that they should not be accessed directly.\n",
        "\n",
        "We provide accessor methods (`get_glucose()` and `get_outcome()`) to retrieve the values of the private attributes. These methods allow controlled access to the attribute values.\n",
        "\n",
        "We also provide mutator methods (`set_glucose()` and `set_outcome()`) to modify the values of the private attributes. These methods allow controlled modification of the attribute values.\n",
        "\n",
        "We create an instance of the `Person` class, initialize it with specific values, and then use the accessor and mutator methods to access and modify the private attributes. Finally, we print the values before and after the modification to see the effect.\n",
        "\n",
        "Accessor and mutator methods help maintain data encapsulation and provide a controlled interface to access and modify the private attributes of a class.\n"
      ],
      "metadata": {
        "id": "RPMmt2rYGU4R"
      }
    },
    {
      "cell_type": "markdown",
      "source": [
        "##Abstract classes and interfaces\n",
        "\n",
        "In Python, abstract classes and interfaces are concepts from object-oriented programming that allow you to define common behavior and enforce certain contracts for derived classes. Although Python does not have built-in support for abstract classes and interfaces like some other languages, you can achieve similar functionality using modules such as `abc` (Abstract Base Classes) or by convention.\n",
        "\n",
        "Abstract Classes:\n",
        "An abstract class is a class that cannot be instantiated and is meant to be subclassed. It serves as a blueprint for other classes and can define abstract methods (methods without implementation) that must be implemented by its derived classes. Abstract classes can provide common behavior and attributes for their subclasses.\n",
        "\n",
        "Here's an example using an abstract class with the Pima Indian Diabetes dataset:\n"
      ],
      "metadata": {
        "id": "6ZD8kkCRGXxl"
      }
    },
    {
      "cell_type": "code",
      "source": [
        "from abc import ABC, abstractmethod\n",
        "import pandas as pd\n",
        "\n",
        "# Load the Pima Indian Diabetes dataset\n",
        "url = \"https://raw.githubusercontent.com/jbrownlee/Datasets/master/pima-indians-diabetes.data.csv\"\n",
        "column_names = [\"Pregnancies\", \"Glucose\", \"BloodPressure\", \"SkinThickness\", \"Insulin\", \"BMI\", \"DiabetesPedigreeFunction\", \"Age\", \"Outcome\"]\n",
        "dataset = pd.read_csv(url, names=column_names)\n",
        "\n",
        "# Define an abstract class for data analysis\n",
        "class DataAnalysis(ABC):\n",
        "    @abstractmethod\n",
        "    def analyze_data(self):\n",
        "        pass\n",
        "\n",
        "# Define a derived class that implements the abstract method\n",
        "class DiabetesDataAnalysis(DataAnalysis):\n",
        "    def analyze_data(self):\n",
        "        # Perform data analysis specific to diabetes dataset\n",
        "        glucose_mean = dataset['Glucose'].mean()\n",
        "        glucose_std = dataset['Glucose'].std()\n",
        "        print(\"Glucose Mean:\", glucose_mean)\n",
        "        print(\"Glucose Standard Deviation:\", glucose_std)\n",
        "\n",
        "# Create an instance of the derived class\n",
        "diabetes_analysis = DiabetesDataAnalysis()\n",
        "\n",
        "# Call the method defined in the abstract class\n",
        "diabetes_analysis.analyze_data()\n"
      ],
      "metadata": {
        "id": "vx4NrnTZGca4"
      },
      "execution_count": null,
      "outputs": []
    },
    {
      "cell_type": "markdown",
      "source": [
        "In this example, we define an abstract class `DataAnalysis` that inherits from `ABC`, the base class from the `abc` module. The abstract class declares the `analyze_data()` method as an abstract method using the `@abstractmethod` decorator. This indicates that any derived class must implement this method.\n",
        "\n",
        "We then define a derived class `DiabetesDataAnalysis` that inherits from the abstract class. The derived class provides an implementation for the `analyze_data()` method, performing data analysis specific to the diabetes dataset. In this case, it calculates and prints the mean and standard deviation of the 'Glucose' column.\n",
        "\n",
        "We create an instance of the derived class and call the `analyze_data()` method, which executes the implementation provided in the derived class.\n"
      ],
      "metadata": {
        "id": "rkUi-TICGhIi"
      }
    },
    {
      "cell_type": "markdown",
      "source": [
        "##Interfaces\n",
        "\n",
        "In Python, interfaces are not explicitly defined like in some other languages, but they can be emulated through conventions. By convention, an interface in Python is a class that defines a set of method signatures that should be implemented by classes that claim to implement the interface. However, there is no strict enforcement of these methods.\n",
        "\n",
        "Here's an example using an interface-like approach with the Pima Indian Diabetes dataset:\n"
      ],
      "metadata": {
        "id": "QQ9isYPeGk6-"
      }
    },
    {
      "cell_type": "code",
      "source": [
        "import pandas as pd\n",
        "\n",
        "# Load the Pima Indian Diabetes dataset\n",
        "url = \"https://raw.githubusercontent.com/jbrownlee/Datasets/master/pima-indians-diabetes.data.csv\"\n",
        "column_names = [\"Pregnancies\", \"Glucose\", \"BloodPressure\", \"SkinThickness\", \"Insulin\", \"BMI\", \"DiabetesPedigreeFunction\", \"Age\", \"Outcome\"]\n",
        "dataset = pd.read_csv(url, names=column_names)\n",
        "\n",
        "# Define an interface-like class for data analysis\n",
        "class DataAnalysis:\n",
        "    def analyze_data(self):\n",
        "        raise NotImplementedError(\"Subclasses must implement analyze_data()\")\n",
        "\n",
        "# Define a class that implements the interface-like class\n",
        "class DiabetesDataAnalysis(DataAnalysis):\n",
        "    def analyze_data(self):\n",
        "        # Perform data analysis specific to diabetes dataset\n",
        "        glucose_mean = dataset['Glucose'].mean()\n",
        "        glucose_std = dataset['Glucose'].std()\n",
        "        print(\"Glucose Mean:\", glucose_mean)\n",
        "        print(\"Glucose Standard Deviation:\", glucose_std)\n",
        "\n",
        "# Create an instance of the class implementing the interface-like class\n",
        "diabetes_analysis = DiabetesDataAnalysis()\n",
        "\n",
        "# Call the method defined in the interface-like class\n",
        "diabetes_analysis.analyze_data()\n"
      ],
      "metadata": {
        "id": "do8l-so5GqUS"
      },
      "execution_count": null,
      "outputs": []
    },
    {
      "cell_type": "markdown",
      "source": [
        "In this example, we define an interface-like class `DataAnalysis`. The class provides a method `analyze_data()`, but raises a `NotImplementedError` with a message indicating that subclasses must implement this method.\n",
        "\n",
        "We then define a class `DiabetesDataAnalysis` that inherits from the interface-like class and implements the `analyze_data()` method. The implementation performs the data analysis specific to the diabetes dataset.\n",
        "\n",
        "We create an instance of the class and call the `analyze_data()` method, which executes the implementation provided in the class. If a class claims to implement the interface-like class but does not provide an implementation for the required method, a `NotImplementedError` will be raised at runtime.\n"
      ],
      "metadata": {
        "id": "0z42lri9Gtzo"
      }
    },
    {
      "cell_type": "markdown",
      "source": [
        "#Implementing abstraction in Python\n"
      ],
      "metadata": {
        "id": "WNo5A5mP7rwm"
      }
    },
    {
      "cell_type": "markdown",
      "source": [
        "\n",
        "Implementing abstraction in Python involves creating abstract classes or interfaces that define the behavior or contract that concrete classes must adhere to. It allows us to define common methods or attributes that should be present in the derived classes without specifying their implementation details.\n",
        "\n",
        "Here's an example of implementing abstraction using the Pima Indian Diabetes dataset:\n"
      ],
      "metadata": {
        "id": "xy0mdpNwGwjg"
      }
    },
    {
      "cell_type": "code",
      "source": [
        "import pandas as pd\n",
        "from abc import ABC, abstractmethod\n",
        "\n",
        "# Abstract class representing a data analyzer\n",
        "class DataAnalyzer(ABC):\n",
        "    @abstractmethod\n",
        "    def analyze_data(self):\n",
        "        pass\n",
        "\n",
        "# Concrete class implementing the DataAnalyzer abstract class\n",
        "class GlucoseAnalyzer(DataAnalyzer):\n",
        "    def __init__(self, dataset):\n",
        "        self.dataset = dataset\n",
        "\n",
        "    def analyze_data(self):\n",
        "        glucose_values = self.dataset['Glucose']\n",
        "        max_glucose = glucose_values.max()\n",
        "        min_glucose = glucose_values.min()\n",
        "        print(\"Glucose Analysis:\")\n",
        "        print(\"Maximum Glucose Level:\", max_glucose)\n",
        "        print(\"Minimum Glucose Level:\", min_glucose)\n",
        "\n",
        "# Load the Pima Indian Diabetes dataset\n",
        "url = \"https://raw.githubusercontent.com/jbrownlee/Datasets/master/pima-indians-diabetes.data.csv\"\n",
        "column_names = [\"Pregnancies\", \"Glucose\", \"BloodPressure\", \"SkinThickness\", \"Insulin\", \"BMI\", \"DiabetesPedigreeFunction\", \"Age\", \"Outcome\"]\n",
        "dataset = pd.read_csv(url, names=column_names)\n",
        "\n",
        "# Create an instance of the concrete class\n",
        "glucose_analyzer = GlucoseAnalyzer(dataset)\n",
        "\n",
        "# Call the abstract method on the concrete class object\n",
        "glucose_analyzer.analyze_data()\n"
      ],
      "metadata": {
        "id": "Jji7vRv3G02A"
      },
      "execution_count": null,
      "outputs": []
    },
    {
      "cell_type": "markdown",
      "source": [
        "In this example, we define an abstract class `DataAnalyzer` using the `ABC` module and the `abstractmethod` decorator. The abstract class has a single abstract method `analyze_data()` that should be implemented by its derived classes.\n",
        "\n",
        "We then create a concrete class `GlucoseAnalyzer` that inherits from the `DataAnalyzer` abstract class. The `GlucoseAnalyzer` class takes the dataset as an input during initialization and implements the `analyze_data()` method. In this example, it analyzes the 'Glucose' column of the dataset and prints the maximum and minimum glucose levels.\n",
        "\n",
        "We load the Pima Indian Diabetes dataset and create an instance of the `GlucoseAnalyzer` class. By calling the `analyze_data()` method on the `glucose_analyzer` object, we invoke the concrete implementation of the abstract method.\n",
        "\n",
        "Abstraction allows us to define a common interface or behavior through abstract classes or interfaces while providing flexibility for derived classes to implement their own specific functionalities.\n"
      ],
      "metadata": {
        "id": "Q52FpYHiG4oc"
      }
    },
    {
      "cell_type": "markdown",
      "source": [
        "#Reflection Points"
      ],
      "metadata": {
        "id": "8AOqm224G7UH"
      }
    },
    {
      "cell_type": "markdown",
      "source": [
        "1. **Encapsulation and Data Hiding**:\n",
        "   - What is encapsulation and why is it important in object-oriented programming?\n",
        "   - How does encapsulation promote data hiding and information security?\n",
        "   - Discuss the benefits of encapsulating data and behavior within classes.\n",
        "   - Give examples of how encapsulation and data hiding are implemented in Python.\n",
        "\n",
        "2. **Accessor and Mutator Methods**:\n",
        "   - Explain the purpose of accessor methods (getters) and mutator methods (setters).\n",
        "   - When and why should we use accessor and mutator methods?\n",
        "   - Discuss the advantages and disadvantages of using accessor and mutator methods.\n",
        "   - Provide code examples demonstrating the implementation of accessor and mutator methods in Python.\n",
        "\n",
        "3. **Abstract Classes and Interfaces**:\n",
        "   - Define abstract classes and interfaces and their roles in object-oriented programming.\n",
        "   - Explain the concept of abstract methods and how they are used in abstract classes and interfaces.\n",
        "   - Discuss the differences between abstract classes and interfaces in Python.\n",
        "   - Provide examples of abstract classes and interfaces in Python, along with their practical applications.\n",
        "\n",
        "4. **Implementing Abstraction in Python**:\n",
        "   - Discuss the concept of abstraction and its significance in software development.\n",
        "   - Explain how abstraction helps in managing complexity and creating reusable code.\n",
        "   - Provide examples of implementing abstraction in Python using classes and modules.\n",
        "   - Discuss best practices for designing and implementing abstract classes and modules in Python.\n"
      ],
      "metadata": {
        "id": "ZYRPxkSEfNDO"
      }
    },
    {
      "cell_type": "markdown",
      "source": [
        "#A quiz on Encapsulation and Abstraction"
      ],
      "metadata": {
        "id": "dX6fcEI60IXb"
      }
    },
    {
      "cell_type": "markdown",
      "source": [
        "\n",
        "**1. What is Encapsulation in Python?**\n",
        "<br>a) A way to hide the implementation details of an object and expose only the necessary information through methods.\n",
        "<br>b) The process of converting data into a format that cannot be easily understood by unauthorized users.\n",
        "<br>c) A method to create multiple instances of an object from a class.\n",
        "<br>d) A way to define attributes and methods in a class.\n",
        "\n",
        "**2. How can you achieve Data Hiding in Python?**\n",
        "<br>a) By using the `private` keyword before attributes and methods.\n",
        "<br>b) By using double underscores `__` before attributes and methods.\n",
        "<br>c) By using square brackets `[]` before attributes and methods.\n",
        "<br>d) By defining attributes and methods within parentheses `()`.\n",
        "\n",
        "**3. Accessor methods in Python are used for:**\n",
        "<br>a) Modifying the state of an object.\n",
        "<br>b) Initializing the object.\n",
        "<br>c) Hiding the data.\n",
        "<br>d) Retrieving the data from an object.\n",
        "\n",
        "**4. Mutator methods in Python are used for:**\n",
        "<br>a) Modifying the state of an object.\n",
        "<br>b) Initializing the object.\n",
        "<br>c) Hiding the data.\n",
        "<br>d) Retrieving the data from an object.\n",
        "\n",
        "**5. What is an Abstract Class in Python?**\n",
        "<br>a) A class that cannot be instantiated and serves as a blueprint for other classes.\n",
        "<br>b) A class that can be instantiated but cannot have any methods or attributes.\n",
        "<br>c) A class that is fully implemented and can be used directly to create objects.\n",
        "<br>d) A class that can only have static methods and attributes.\n",
        "\n",
        "**6. How can you define an Abstract Class in Python?**\n",
        "<br>a) By using the `abstract` keyword before the class definition.\n",
        "<br>b) By importing the `abc` module and using the `@abstractmethod` decorator.\n",
        "<br>c) By using the `abstract` keyword before the methods in the class.\n",
        "<br>d) By defining all the methods as `abstract` within the class.\n",
        "\n",
        "**7. What is an Interface in Python?**\n",
        "<br>a) A way to define attributes in a class.\n",
        "<br>b) A way to create multiple instances of a class.\n",
        "<br>c) A way to implement multiple inheritance.\n",
        "<br>d) A collection of abstract methods that must be implemented by a class.\n",
        "\n",
        "**8. How can you create an Interface in Python using the pima indian dataset as an example?**\n",
        "<br>a) By defining a class with abstract methods representing the operations that can be performed on the dataset.\n",
        "<br>b) By importing the dataset and using it directly in the class.\n",
        "<br>c) By creating a function that accesses the dataset and calling it in the class.\n",
        "<br>d) By defining the dataset as a global variable and using it in the class methods.\n",
        "\n",
        "**9. Which of the following is NOT a benefit of using Interfaces in Python?**\n",
        "<br>a) Encourages code reusability and modularity.\n",
        "<br>b) Allows multiple inheritance in Python.\n",
        "<br>) Provides a clear contract for classes that implement the interface.\n",
        "<br>d) Reduces potential errors by enforcing method implementations.\n",
        "\n",
        "**10. What is the main difference between Abstract Classes and Interfaces?**\n",
        "<br>a) Abstract classes can have both abstract and concrete methods, while interfaces can only have abstract methods.\n",
        "<br>b) Abstract classes can be instantiated, while interfaces cannot be instantiated.\n",
        "<br>c) Abstract classes can have attributes, while interfaces cannot have attributes.\n",
        "<br>d) Interfaces can be inherited, while abstract classes cannot be inherited.\n",
        "\n",
        "---\n",
        "**Answers:**\n",
        "\n",
        "1. a) A way to hide the implementation details of an object and expose only the necessary information through methods.\n",
        "2. b) By using double underscores `__` before attributes and methods.\n",
        "3. d) Retrieving the data from an object.\n",
        "4. a) Modifying the state of an object.\n",
        "5. a) A class that cannot be instantiated and serves as a blueprint for other classes.\n",
        "6. b) By importing the `abc` module and using the `@abstractmethod` decorator.\n",
        "7. d) A collection of abstract methods that must be implemented by a class.\n",
        "8. a) By defining a class with abstract methods representing the operations that can be performed on the dataset.\n",
        "9. b) Allows multiple inheritance in Python.\n",
        "10. a) Abstract classes can have both abstract and concrete methods, while interfaces can only have abstract methods.\n",
        "---"
      ],
      "metadata": {
        "id": "CNfWoctD0LDS"
      }
    }
  ]
}
