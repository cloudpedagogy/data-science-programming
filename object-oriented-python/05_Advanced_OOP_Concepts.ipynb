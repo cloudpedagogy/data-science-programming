{
  "nbformat": 4,
  "nbformat_minor": 0,
  "metadata": {
    "colab": {
      "provenance": [],
      "toc_visible": true,
      "authorship_tag": "ABX9TyO0ioaqTE1QOCU4Gub+g5pr",
      "include_colab_link": true
    },
    "kernelspec": {
      "name": "python3",
      "display_name": "Python 3"
    },
    "language_info": {
      "name": "python"
    }
  },
  "cells": [
    {
      "cell_type": "markdown",
      "metadata": {
        "id": "view-in-github",
        "colab_type": "text"
      },
      "source": [
        "<a href=\"https://colab.research.google.com/github/cloudpedagogy/data-science-programming/blob/main/object-oriented-python/05_Advanced_OOP_Concepts.ipynb\" target=\"_parent\"><img src=\"https://colab.research.google.com/assets/colab-badge.svg\" alt=\"Open In Colab\"/></a>"
      ]
    },
    {
      "cell_type": "markdown",
      "source": [
        "# Composition and aggregation\n"
      ],
      "metadata": {
        "id": "zI-6s_0a7NA_"
      }
    },
    {
      "cell_type": "markdown",
      "source": [
        "## Overview"
      ],
      "metadata": {
        "id": "hHNh4NnKGfz3"
      }
    },
    {
      "cell_type": "markdown",
      "source": [
        "\n",
        "In object-oriented programming, Composition and Aggregation are two fundamental concepts that enable the creation of complex and reusable code structures. Both techniques facilitate the design of robust and modular software systems by allowing classes to interact with one another in meaningful ways. Composition and Aggregation emphasize the relationships between objects and provide developers with powerful tools to model real-world scenarios effectively.\n",
        "\n",
        "**Composition:**\n",
        "Composition is a design principle in object-oriented programming where a class contains one or more objects of other classes as its member variables. The key idea behind composition is that a complex object can be built by combining smaller, more manageable objects. In this relationship, the composed objects cannot exist independently of the parent object; their lifecycle is tightly bound to that of the parent. When the parent object is created or destroyed, so are the composed objects.\n",
        "\n",
        "By leveraging composition, developers can create flexible and maintainable code structures. Each component can have its specific functionality and can be reused across different contexts, promoting code modularity. This approach also helps to avoid class inheritance complexities that can arise with large and deeply nested class hierarchies.\n",
        "\n",
        "**Aggregation:**\n",
        "Aggregation is another object-oriented design principle that represents a \"has-a\" relationship between classes. In contrast to composition, the aggregated objects can exist independently of the parent object. The parent object contains a reference to the aggregated objects, but the aggregated objects can belong to multiple parent objects or may exist on their own.\n",
        "\n",
        "Aggregation is particularly useful when there is a need to model a relationship where objects are associated, but their lifecycles are not tightly coupled. For example, consider a library system where a library contains multiple books. Books can be added to or removed from the library without affecting the existence of the books themselves.\n",
        "\n",
        "In Python programming, both composition and aggregation are facilitated by creating class instances as member variables within another class. This allows for the creation of complex object structures that accurately represent real-world relationships, leading to more maintainable and scalable codebases.\n",
        "\n"
      ],
      "metadata": {
        "id": "rU6uhwTrGh1Z"
      }
    },
    {
      "cell_type": "markdown",
      "source": [
        "## Composition and aggregation are two forms of object relationships in Python.\n"
      ],
      "metadata": {
        "id": "o5NnySfTSQYD"
      }
    },
    {
      "cell_type": "markdown",
      "source": [
        "\n",
        "Composition is a strong form of aggregation where the child object cannot exist independently of the parent object. In composition, the child object is created and managed by the parent object. If the parent object is destroyed, the child object is also destroyed.\n",
        "\n",
        "Aggregation, on the other hand, is a weaker form of association where the child object can exist independently of the parent object. In aggregation, the child object can be associated with multiple parent objects, and it retains its existence even if the parent object is destroyed.\n",
        "\n",
        "Here's an example using the Pima Indian Diabetes dataset to illustrate composition and aggregation:\n"
      ],
      "metadata": {
        "id": "ilDYJjPOIahR"
      }
    },
    {
      "cell_type": "code",
      "source": [
        "import pandas as pd\n",
        "\n",
        "# Load the Pima Indian Diabetes dataset\n",
        "url = \"https://raw.githubusercontent.com/jbrownlee/Datasets/master/pima-indians-diabetes.data.csv\"\n",
        "column_names = [\"Pregnancies\", \"Glucose\", \"BloodPressure\", \"SkinThickness\", \"Insulin\", \"BMI\", \"DiabetesPedigreeFunction\", \"Age\", \"Outcome\"]\n",
        "dataset = pd.read_csv(url, names=column_names)\n",
        "\n",
        "# Composition example: Person and HealthRecord classes\n",
        "class Person:\n",
        "    def __init__(self, name, age):\n",
        "        self.name = name\n",
        "        self.age = age\n",
        "        self.health_record = HealthRecord(self)\n",
        "\n",
        "    def get_health_record(self):\n",
        "        return self.health_record\n",
        "\n",
        "class HealthRecord:\n",
        "    def __init__(self, person):\n",
        "        self.person = person\n",
        "        self.blood_pressure = None\n",
        "        self.glucose_level = None\n",
        "\n",
        "    def update_blood_pressure(self, blood_pressure):\n",
        "        self.blood_pressure = blood_pressure\n",
        "\n",
        "    def update_glucose_level(self, glucose_level):\n",
        "        self.glucose_level = glucose_level\n",
        "\n",
        "# Create a person with associated health record (composition)\n",
        "person1 = Person(\"John\", 35)\n",
        "person1.get_health_record().update_blood_pressure(120)\n",
        "person1.get_health_record().update_glucose_level(90)\n",
        "\n",
        "# Aggregation example: Person and MedicalHistory classes\n",
        "class MedicalHistory:\n",
        "    def __init__(self, conditions):\n",
        "        self.conditions = conditions\n",
        "\n",
        "class Person:\n",
        "    def __init__(self, name, age):\n",
        "        self.name = name\n",
        "        self.age = age\n",
        "        self.medical_history = None\n",
        "\n",
        "    def update_medical_history(self, conditions):\n",
        "        self.medical_history = MedicalHistory(conditions)\n",
        "\n",
        "# Create a person with associated medical history (aggregation)\n",
        "person2 = Person(\"Alice\", 42)\n",
        "person2.update_medical_history([\"Diabetes\", \"Hypertension\"])\n",
        "\n",
        "# Access and print the person's information\n",
        "print(person1.name, person1.age)\n",
        "print(person1.get_health_record().blood_pressure, person1.get_health_record().glucose_level)\n",
        "\n",
        "print(person2.name, person2.age)\n",
        "print(person2.medical_history.conditions)\n"
      ],
      "metadata": {
        "id": "Vq9R4cj6Ifux"
      },
      "execution_count": null,
      "outputs": []
    },
    {
      "cell_type": "markdown",
      "source": [
        "In this example, we demonstrate composition and aggregation using classes related to a person's health.\n",
        "\n",
        "For composition, we have the `Person` class and the `HealthRecord` class. The `Person` class has a composition relationship with the `HealthRecord` class, as a person's health record is created and managed by the person object. The `Person` class has a method `get_health_record()` to access the associated health record. We create an instance of the `Person` class (`person1`) and update the associated health record with blood pressure and glucose level.\n",
        "\n",
        "For aggregation, we have the `Person` class and the `MedicalHistory` class. The `Person` class has an aggregation relationship with the `MedicalHistory` class, as a person's medical history can exist independently and be associated with multiple persons. We create another instance of the `Person` class (`person2`) and update the associated medical history.\n",
        "\n",
        "We then access and print the information of the persons, including their name, age, health record details (for composition), and medical history (for aggregation).\n"
      ],
      "metadata": {
        "id": "YLE6YLtBIl7a"
      }
    },
    {
      "cell_type": "markdown",
      "source": [
        "## Multiple inheritance\n"
      ],
      "metadata": {
        "id": "RywzyrRsSR-f"
      }
    },
    {
      "cell_type": "markdown",
      "source": [
        "\n",
        "Multiple inheritance in Python refers to the ability of a class to inherit attributes and methods from more than one parent class. This means that a child class can inherit from multiple parent classes, allowing it to access and utilize the attributes and methods of all the parent classes.\n",
        "\n",
        "Here's an example of multiple inheritance using the Pima Indian Diabetes dataset:\n"
      ],
      "metadata": {
        "id": "LCkQ1k__IoyN"
      }
    },
    {
      "cell_type": "code",
      "source": [
        "import pandas as pd\n",
        "\n",
        "# Load the Pima Indian Diabetes dataset\n",
        "url = \"https://raw.githubusercontent.com/jbrownlee/Datasets/master/pima-indians-diabetes.data.csv\"\n",
        "column_names = [\"Pregnancies\", \"Glucose\", \"BloodPressure\", \"SkinThickness\", \"Insulin\", \"BMI\", \"DiabetesPedigreeFunction\", \"Age\", \"Outcome\"]\n",
        "dataset = pd.read_csv(url, names=column_names)\n",
        "\n",
        "# Define parent classes\n",
        "class DataAnalysis:\n",
        "    def analyze_data(self):\n",
        "        print(\"Performing data analysis...\")\n",
        "\n",
        "class DataVisualization:\n",
        "    def visualize_data(self):\n",
        "        print(\"Visualizing data...\")\n",
        "\n",
        "# Define child class inheriting from multiple parents\n",
        "class DiabetesDataAnalysis(DataAnalysis, DataVisualization):\n",
        "    def perform_analysis(self):\n",
        "        self.analyze_data()\n",
        "        self.visualize_data()\n",
        "        # Additional analysis steps specific to diabetes data\n",
        "\n",
        "# Create an instance of the child class\n",
        "diabetes_analysis = DiabetesDataAnalysis()\n",
        "\n",
        "# Perform analysis on the diabetes dataset\n",
        "diabetes_analysis.perform_analysis()\n"
      ],
      "metadata": {
        "id": "aRfuEqB7IssO"
      },
      "execution_count": null,
      "outputs": []
    },
    {
      "cell_type": "markdown",
      "source": [
        "In this example, we have two parent classes: `DataAnalysis` and `DataVisualization`. Each parent class defines specific behaviors related to data analysis and data visualization, respectively.\n",
        "\n",
        "The child class `DiabetesDataAnalysis` inherits from both parent classes using multiple inheritance. It has access to the `analyze_data()` method from the `DataAnalysis` class and the `visualize_data()` method from the `DataVisualization` class.\n",
        "\n",
        "By creating an instance of the `DiabetesDataAnalysis` class and calling the `perform_analysis()` method, the child class combines the functionality from both parent classes and performs analysis specific to diabetes data.\n",
        "\n",
        "Note: The example uses the concept of multiple inheritance for illustrative purposes. In practice, it's important to carefully design and manage multiple inheritance to avoid complications and conflicts between parent classes.\n"
      ],
      "metadata": {
        "id": "tU8krdfPIwsN"
      }
    },
    {
      "cell_type": "markdown",
      "source": [
        "## Method resolution order (MRO)\n"
      ],
      "metadata": {
        "id": "SOW87gG-SUER"
      }
    },
    {
      "cell_type": "markdown",
      "source": [
        "\n",
        "Method Resolution Order (MRO) in Python refers to the order in which the inheritance hierarchy is traversed to resolve method or attribute lookup in a class hierarchy that involves multiple inheritance. MRO ensures that the method or attribute is searched for in a consistent and predictable manner.\n",
        "\n",
        "Python uses the C3 linearization algorithm to determine the MRO. The MRO is determined based on the order in which the base classes are specified in the class definition and follows the depth-first, left-to-right approach.\n",
        "\n",
        "Here's an example using the Pima Indian Diabetes dataset to illustrate the MRO:\n"
      ],
      "metadata": {
        "id": "iRQ3a_QyI0y_"
      }
    },
    {
      "cell_type": "code",
      "source": [
        "import pandas as pd\n",
        "\n",
        "# Load the Pima Indian Diabetes dataset\n",
        "url = \"https://raw.githubusercontent.com/jbrownlee/Datasets/master/pima-indians-diabetes.data.csv\"\n",
        "column_names = [\"Pregnancies\", \"Glucose\", \"BloodPressure\", \"SkinThickness\", \"Insulin\", \"BMI\", \"DiabetesPedigreeFunction\", \"Age\", \"Outcome\"]\n",
        "dataset = pd.read_csv(url, names=column_names)\n",
        "\n",
        "# Define parent classes\n",
        "class DataPreprocessing:\n",
        "    def preprocess_data(self):\n",
        "        print(\"Performing data preprocessing...\")\n",
        "\n",
        "class DataAnalysis:\n",
        "    def analyze_data(self):\n",
        "        print(\"Performing data analysis...\")\n",
        "\n",
        "class DataVisualization:\n",
        "    def visualize_data(self):\n",
        "        print(\"Visualizing data...\")\n",
        "\n",
        "# Define child class inheriting from multiple parents\n",
        "class DiabetesDataAnalysis(DataPreprocessing, DataAnalysis, DataVisualization):\n",
        "    def perform_analysis(self):\n",
        "        self.preprocess_data()\n",
        "        self.analyze_data()\n",
        "        self.visualize_data()\n",
        "        # Additional analysis steps specific to diabetes data\n",
        "\n",
        "# Create an instance of the child class\n",
        "diabetes_analysis = DiabetesDataAnalysis()\n",
        "\n",
        "# Perform analysis on the diabetes dataset\n",
        "diabetes_analysis.perform_analysis()\n"
      ],
      "metadata": {
        "id": "VIBYk6C4I4eZ"
      },
      "execution_count": null,
      "outputs": []
    },
    {
      "cell_type": "markdown",
      "source": [
        "In this example, we have three parent classes: `DataPreprocessing`, `DataAnalysis`, and `DataVisualization`. The child class `DiabetesDataAnalysis` inherits from all three parent classes using multiple inheritance.\n",
        "\n",
        "When we call the `perform_analysis()` method on an instance of `DiabetesDataAnalysis`, the method resolution order (MRO) determines the order in which the methods `preprocess_data()`, `analyze_data()`, and `visualize_data()` are executed. The MRO follows the order of inheritance specified in the class definition, which is left-to-right in this case.\n",
        "\n",
        "So, the MRO for `DiabetesDataAnalysis` would be: `DiabetesDataAnalysis -> DataPreprocessing -> DataAnalysis -> DataVisualization`.\n",
        "\n",
        "As a result, the `perform_analysis()` method will first call `preprocess_data()` from the `DataPreprocessing` class, then `analyze_data()` from the `DataAnalysis` class, and finally `visualize_data()` from the `DataVisualization` class.\n",
        "\n",
        "MRO ensures that method or attribute lookup is resolved in a consistent and predictable manner, maintaining the order of inheritance specified in the class definition.\n"
      ],
      "metadata": {
        "id": "t8o5-IaRJCVT"
      }
    },
    {
      "cell_type": "markdown",
      "source": [
        "## Operator overloading\n"
      ],
      "metadata": {
        "id": "3z2n272WSWFD"
      }
    },
    {
      "cell_type": "markdown",
      "source": [
        "\n",
        "Operator overloading in Python refers to the ability to define or redefine the behavior of built-in operators (+, -, *, /, ==, etc.) for user-defined objects or classes. It allows objects to exhibit customized behavior when used with operators, making the code more intuitive and expressive.\n",
        "\n",
        "Here's an example of operator overloading using the Pima Indian Diabetes dataset:\n"
      ],
      "metadata": {
        "id": "nTZPxdkjJFY9"
      }
    },
    {
      "cell_type": "code",
      "source": [
        "import pandas as pd\n",
        "\n",
        "# Load the Pima Indian Diabetes dataset\n",
        "url = \"https://raw.githubusercontent.com/jbrownlee/Datasets/master/pima-indians-diabetes.data.csv\"\n",
        "column_names = [\"Pregnancies\", \"Glucose\", \"BloodPressure\", \"SkinThickness\", \"Insulin\", \"BMI\", \"DiabetesPedigreeFunction\", \"Age\", \"Outcome\"]\n",
        "dataset = pd.read_csv(url, names=column_names)\n",
        "\n",
        "# Define a custom class for diabetes patients\n",
        "class Patient:\n",
        "    def __init__(self, glucose):\n",
        "        self.glucose = glucose\n",
        "\n",
        "    # Operator overloading for addition\n",
        "    def __add__(self, other):\n",
        "        return self.glucose + other.glucose\n",
        "\n",
        "    # Operator overloading for subtraction\n",
        "    def __sub__(self, other):\n",
        "        return self.glucose - other.glucose\n",
        "\n",
        "# Create patient objects\n",
        "patient1 = Patient(dataset['Glucose'][0])\n",
        "patient2 = Patient(dataset['Glucose'][1])\n",
        "\n",
        "# Perform addition and subtraction using operator overloading\n",
        "add_result = patient1 + patient2\n",
        "sub_result = patient1 - patient2\n",
        "\n",
        "# Print the results\n",
        "print(\"Addition result:\", add_result)\n",
        "print(\"Subtraction result:\", sub_result)\n"
      ],
      "metadata": {
        "id": "di78U6XrJJOB"
      },
      "execution_count": null,
      "outputs": []
    },
    {
      "cell_type": "markdown",
      "source": [
        "In this example, we define a custom class called `Patient` to represent diabetes patients. The class has an `__init__` method to initialize a patient object with their glucose level.\n",
        "\n",
        "We perform operator overloading by defining special methods for the addition (`__add__`) and subtraction (`__sub__`) operators within the class. These methods specify the customized behavior for the respective operators.\n",
        "\n",
        "Inside the `__add__` method, we define the addition operation between two patient objects as the addition of their glucose levels.\n",
        "\n",
        "Inside the `__sub__` method, we define the subtraction operation between two patient objects as the subtraction of their glucose levels.\n",
        "\n",
        "We create two patient objects (`patient1` and `patient2`) using glucose values from the dataset. We then perform addition and subtraction operations using the `+` and `-` operators, respectively, on the patient objects. The operator overloading enables the customized behavior defined within the class methods.\n",
        "\n",
        "Finally, we print the results of the addition and subtraction operations.\n",
        "\n",
        "Operator overloading allows you to define the behavior of operators based on the context of your objects, providing flexibility and customization in how they interact with operators.\n"
      ],
      "metadata": {
        "id": "XgS6ngU5JN3y"
      }
    },
    {
      "cell_type": "markdown",
      "source": [
        "# Reflection points"
      ],
      "metadata": {
        "id": "EcunRLyBJQ_i"
      }
    },
    {
      "cell_type": "markdown",
      "source": [
        "1. **Composition and Aggregation**:\n",
        "   - Composition is a strong relationship between classes where one class contains another class as a part. Aggregation is a weaker form of composition where one class references another class as a member.\n",
        "   - Composition implies a \"whole-part\" relationship, where the lifetime of the contained object is dependent on the container object. Aggregation implies a \"has-a\" relationship, where the contained object can exist independently.\n",
        "   - Example: Composition can be seen in a `Car` class that contains a `Engine` class as a part. Aggregation can be seen in a `University` class that has a reference to multiple `Student` objects.\n",
        "   - Advantages of composition include strong encapsulation and better control over the lifecycle of objects. Advantages of aggregation include flexibility and the ability to reuse objects.\n",
        "   - Composition is suitable when the relationship between objects is exclusive and the contained object is an essential part of the container. Aggregation is suitable when the relationship is non-exclusive and the contained object can exist independently.\n",
        "\n",
        "2. **Multiple Inheritance**:\n",
        "   - Multiple inheritance allows a class to inherit from multiple base classes. It is different from single inheritance where a class can inherit from only one base class.\n",
        "   - Method Resolution Order (MRO) determines the order in which methods are searched and executed in a class hierarchy. It follows a depth-first, left-to-right traversal of the inheritance tree.\n",
        "   - The diamond problem occurs when a class inherits from two or more classes that have a common base class. MRO helps resolve the diamond problem by following the order defined by the class hierarchy.\n",
        "   - Multiple inheritance can be useful when a class needs to inherit behavior from multiple unrelated classes or when code reuse is required from multiple sources.\n",
        "   - Challenges of multiple inheritance include potential naming conflicts, complexity in understanding and maintaining code, and the risk of creating brittle and tightly coupled designs.\n",
        "\n",
        "3. **Method Resolution Order (MRO)**:\n",
        "   - MRO is the order in which Python searches for and executes methods in a class hierarchy.\n",
        "   - Python determines the MRO using the C3 linearization algorithm, which merges the MROs of the base classes in a consistent and predictable manner.\n",
        "   - The MRO of a class can be viewed by calling the `mro()` method on the class.\n",
        "   - Understanding MRO is crucial in cases of multiple inheritance to ensure that methods are resolved correctly and conflicts are appropriately handled.\n",
        "   - Scenarios where MRO is important include resolving method overriding, understanding the order in which base class methods are called, and avoiding unexpected behavior in complex class hierarchies.\n",
        "\n",
        "4. **Operator Overloading**:\n",
        "   - Operator overloading allows Python classes to define their own behavior for built-in operators.\n",
        "   - Operators can be overloaded using special methods such as `__add__`, `__sub__`, `__mul__`, `__div__`, and `__eq__`, among others.\n",
        "   - Example: Overloading the `+` operator allows two instances of a class to be added using the `+` operator, enabling custom behavior.\n",
        "   - Guidelines for implementing operator overloading include following Python's conventions, avoiding ambiguity or confusion, and providing consistent and intuitive behavior.\n",
        "   - Benefits of operator overloading include code readability, expressiveness, and the ability to work with objects in a natural and intuitive way. Pitfalls can include misuse, confusion, and potential loss of clarity in code.\n"
      ],
      "metadata": {
        "id": "bCaLAYGmfsrU"
      }
    },
    {
      "cell_type": "markdown",
      "source": [
        "# Exercise"
      ],
      "metadata": {
        "id": "UTJbivGxLzyb"
      }
    },
    {
      "cell_type": "markdown",
      "source": [
        "\n",
        "1. Load the dataset and preprocess it.\n",
        "2. Implement a class to represent a single instance (a row) from the dataset.\n",
        "3. Create a class to represent the dataset using composition, where instances of the previous class are aggregated.\n",
        "4. Use the dataset class to perform some basic analysis.\n"
      ],
      "metadata": {
        "id": "wJ9r4d7GL8Jl"
      }
    },
    {
      "cell_type": "code",
      "source": [
        "import pandas as pd\n",
        "\n",
        "# Step 1: Load the dataset and preprocess it\n",
        "url = 'https://raw.githubusercontent.com/jbrownlee/Datasets/master/pima-indians-diabetes.data.csv'\n",
        "column_names = [\n",
        "    'Pregnancies', 'Glucose', 'BloodPressure', 'SkinThickness', 'Insulin', 'BMI',\n",
        "    'DiabetesPedigreeFunction', 'Age', 'Outcome'\n",
        "]\n",
        "df = pd.read_csv(url, names=column_names)\n",
        "\n",
        "# Step 2: Implement a class to represent a single instance from the dataset\n",
        "class PimaInstance:\n",
        "    def __init__(self, pregnancies, glucose, blood_pressure, skin_thickness, insulin, bmi, pedigree_function, age, outcome):\n",
        "        self.pregnancies = pregnancies\n",
        "        self.glucose = glucose\n",
        "        self.blood_pressure = blood_pressure\n",
        "        self.skin_thickness = skin_thickness\n",
        "        self.insulin = insulin\n",
        "        self.bmi = bmi\n",
        "        self.pedigree_function = pedigree_function\n",
        "        self.age = age\n",
        "        self.outcome = outcome\n",
        "\n",
        "# Step 3: Create a class to represent the dataset using composition\n",
        "class PimaDataset:\n",
        "    def __init__(self, data):\n",
        "        self.data = data\n",
        "\n",
        "    def get_instances_count(self):\n",
        "        return len(self.data)\n",
        "\n",
        "    def get_average_age(self):\n",
        "        total_age = sum(instance.age for instance in self.data)\n",
        "        return total_age / len(self.data)\n",
        "\n",
        "    def get_diabetes_cases(self):\n",
        "        return sum(instance.outcome for instance in self.data)\n",
        "\n",
        "    def get_non_diabetes_cases(self):\n",
        "        return len(self.data) - self.get_diabetes_cases()\n",
        "\n",
        "# Step 4: Use the dataset class to perform some basic analysis\n",
        "if __name__ == \"__main__\":\n",
        "    # Create instances from the dataset\n",
        "    instances = []\n",
        "    for _, row in df.iterrows():\n",
        "        instance = PimaInstance(\n",
        "            row['Pregnancies'], row['Glucose'], row['BloodPressure'], row['SkinThickness'],\n",
        "            row['Insulin'], row['BMI'], row['DiabetesPedigreeFunction'], row['Age'], row['Outcome']\n",
        "        )\n",
        "        instances.append(instance)\n",
        "\n",
        "    # Create the dataset object\n",
        "    pima_dataset = PimaDataset(instances)\n",
        "\n",
        "    # Perform basic analysis\n",
        "    print(\"Number of instances in the dataset:\", pima_dataset.get_instances_count())\n",
        "    print(\"Average age of Pima Indian women in the dataset:\", pima_dataset.get_average_age())\n",
        "    print(\"Number of cases with diabetes:\", pima_dataset.get_diabetes_cases())\n",
        "    print(\"Number of cases without diabetes:\", pima_dataset.get_non_diabetes_cases())\n"
      ],
      "metadata": {
        "id": "CZR7cY3gL19f"
      },
      "execution_count": null,
      "outputs": []
    },
    {
      "cell_type": "markdown",
      "source": [
        "# A quiz on Advanced OOP Concepts"
      ],
      "metadata": {
        "id": "cOwsQeM06OCk"
      }
    },
    {
      "cell_type": "markdown",
      "source": [
        "\n",
        "1. What is Composition in object-oriented programming (OOP)?\n",
        "   <br>a) A design pattern that allows objects to be composed of other objects.\n",
        "   <br>b) The process of creating multiple instances of a class.\n",
        "   <br>c) A design pattern that allows objects to share characteristics through inheritance.\n",
        "\n",
        "2. What is Aggregation in object-oriented programming (OOP)?\n",
        "   <br>a) The process of creating multiple instances of a class.\n",
        "   <br>b) A design pattern that allows objects to share characteristics through inheritance.\n",
        "   <br>c) A design pattern that allows objects to be composed of other objects.\n",
        "\n",
        "3. In Python, how is Multiple Inheritance achieved?\n",
        "   <br>a) By defining multiple classes in a single file.\n",
        "   <br>b) By inheriting from multiple base classes in a class definition.\n",
        "   <br>c) By importing multiple modules into a class.\n",
        "\n",
        "4. What is the Method Resolution Order (MRO) in Python?\n",
        "   <br>a) The process of resolving conflicts that arise due to method overloading.\n",
        "   <br>b) The order in which methods are defined in a class.\n",
        "   <br>c) The order in which base classes are searched for a method during inheritance.\n",
        "\n",
        "5. Which special method in Python allows us to define operator overloading for custom objects?\n",
        "   <br>a) `__add__`\n",
        "   <br>b) `__init__`\n",
        "   <br>c) `__method__`\n",
        "\n",
        "6. How can you overload the \"+\" operator for a custom class named `Patient` in Python?\n",
        "   <br>a) Define a method `__add__` inside the `Patient` class.\n",
        "   <br>b) Python does not allow overloading the \"+\" operator for custom classes.\n",
        "   <br>c) Modify the built-in `__add__` method in Python.\n",
        "\n",
        "---\n",
        "**Quiz Answers:**\n",
        "\n",
        "1. a) A design pattern that allows objects to be composed of other objects.\n",
        "2. c) A design pattern that allows objects to be composed of other objects.\n",
        "3. b) By inheriting from multiple base classes in a class definition.\n",
        "4. c) The order in which base classes are searched for a method during inheritance.\n",
        "5. a) `__add__`\n",
        "6. a) Define a method `__add__` inside the `Patient` class.\n"
      ],
      "metadata": {
        "id": "Y4yY4Ec16t7t"
      }
    }
  ]
}