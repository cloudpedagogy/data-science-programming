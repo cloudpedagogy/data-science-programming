{
  "nbformat": 4,
  "nbformat_minor": 0,
  "metadata": {
    "colab": {
      "provenance": [],
      "toc_visible": true
    },
    "kernelspec": {
      "name": "python3",
      "display_name": "Python 3"
    },
    "language_info": {
      "name": "python"
    }
  },
  "cells": [
    {
      "cell_type": "markdown",
      "source": [
        "# Design Patterns\n"
      ],
      "metadata": {
        "id": "hh1QwoIzJf6g"
      }
    },
    {
      "cell_type": "markdown",
      "source": [
        "## Overview"
      ],
      "metadata": {
        "id": "OgIp3X-wG7sY"
      }
    },
    {
      "cell_type": "markdown",
      "source": [
        "\n",
        "Design Patterns in object-oriented Python programming are a set of proven and reusable solutions to common software design problems. They provide structured approaches for designing software that promotes code organization, flexibility, maintainability, and scalability. These patterns are based on decades of collective experience and have emerged as standard solutions to recurring design challenges faced by developers in the software development process.\n",
        "\n",
        "In object-oriented programming (OOP), the fundamental building blocks are classes and objects, which allow developers to model real-world entities and their interactions. While OOP provides a powerful paradigm for organizing code and data, it can sometimes lead to design complexities, especially in large-scale applications. Design Patterns aim to address these complexities and make software development more manageable and efficient.\n",
        "\n",
        "Design Patterns can be broadly categorized into three types: creational, structural, and behavioral patterns. Creational patterns focus on object creation mechanisms, enabling developers to create objects in a flexible and extensible way. Structural patterns deal with how objects are composed and combined to form larger structures while keeping the system flexible and efficient. Behavioral patterns, on the other hand, define communication patterns and interactions among objects to achieve specific functionalities.\n",
        "\n",
        "One of the key advantages of using Design Patterns is their ability to facilitate code reuse. By encapsulating commonly used design approaches into distinct patterns, developers can avoid reinventing the wheel for every new project. Instead, they can apply these patterns as building blocks to create robust and maintainable codebases. Additionally, design patterns enhance code readability, as developers familiar with these patterns can quickly understand the underlying design decisions.\n",
        "\n",
        "Python, being an object-oriented language, is well-suited for implementing Design Patterns. Its simplicity and expressiveness make it easier to apply various patterns without excessive boilerplate code. Python's dynamic nature and support for functional programming concepts further enhance the possibilities of utilizing design patterns effectively.\n",
        "\n"
      ],
      "metadata": {
        "id": "RDqOZHzCG9Zf"
      }
    },
    {
      "cell_type": "markdown",
      "source": [
        "## Introduction to design patterns\n"
      ],
      "metadata": {
        "id": "u_YNKW54j_tJ"
      }
    },
    {
      "cell_type": "markdown",
      "source": [
        "Design patterns in software development are reusable solutions to common problems that occur during the design and implementation of software systems. They provide a structured approach to solving recurring design problems and promote code reusability, flexibility, and maintainability. Design patterns help improve the overall architecture and organization of code.\n",
        "\n",
        "There are various types of design patterns, including creational, structural, and behavioral patterns. Creational patterns focus on object creation mechanisms, structural patterns deal with object composition and relationships, and behavioral patterns define how objects communicate and interact.\n"
      ],
      "metadata": {
        "id": "F7m9Xo3uJjvz"
      }
    },
    {
      "cell_type": "markdown",
      "source": [
        "## Creational patterns: Singleton, Factory, Builder\n"
      ],
      "metadata": {
        "id": "yPmQ7p4tkBgm"
      }
    },
    {
      "cell_type": "markdown",
      "source": [
        "\n",
        "Here's an example of using the Singleton design pattern with the Pima Indian Diabetes dataset:\n"
      ],
      "metadata": {
        "id": "n09yZQEdJn-e"
      }
    },
    {
      "cell_type": "code",
      "source": [
        "import pandas as pd\n",
        "\n",
        "# Singleton class for loading and accessing the Pima Indian Diabetes dataset\n",
        "class DiabetesDataset:\n",
        "    __instance = None\n",
        "\n",
        "    def __new__(cls):\n",
        "        if cls.__instance is None:\n",
        "            cls.__instance = super().__new__(cls)\n",
        "            # Load the Pima Indian Diabetes dataset\n",
        "            url = \"https://raw.githubusercontent.com/jbrownlee/Datasets/master/pima-indians-diabetes.data.csv\"\n",
        "            column_names = [\"Pregnancies\", \"Glucose\", \"BloodPressure\", \"SkinThickness\", \"Insulin\", \"BMI\", \"DiabetesPedigreeFunction\", \"Age\", \"Outcome\"]\n",
        "            cls.__instance.dataset = pd.read_csv(url, names=column_names)\n",
        "        return cls.__instance\n",
        "\n",
        "    def get_dataset(self):\n",
        "        return self.dataset\n",
        "\n",
        "# Usage\n",
        "dataset1 = DiabetesDataset().get_dataset()\n",
        "dataset2 = DiabetesDataset().get_dataset()\n",
        "\n",
        "# Check if dataset1 and dataset2 are the same instance\n",
        "print(dataset1 is dataset2)\n"
      ],
      "metadata": {
        "id": "MP0bRkVHJtiM"
      },
      "execution_count": null,
      "outputs": []
    },
    {
      "cell_type": "markdown",
      "source": [
        "In this example, we implement the Singleton design pattern to ensure that only one instance of the `DiabetesDataset` class exists and the dataset is loaded only once.\n",
        "\n",
        "The `DiabetesDataset` class uses the `__new__()` method to control the creation of instances. If an instance of the class doesn't exist (`cls.__instance is None`), it creates a new instance and loads the dataset. Otherwise, it returns the existing instance. This ensures that only one instance of the class exists throughout the program.\n",
        "\n",
        "The `get_dataset()` method provides a way to access the loaded dataset.\n",
        "\n",
        "In the usage section, `dataset1` and `dataset2` are both obtained from the `DiabetesDataset` class. By checking if `dataset1 is dataset2`, we can verify that they refer to the same instance, confirming that the Singleton pattern is working.\n",
        "\n",
        "The Singleton pattern is useful when you need to ensure that only one instance of a class exists and provide a global point of access to that instance. In this example, it allows efficient loading and sharing of the Pima Indian Diabetes dataset across different parts of the program.\n"
      ],
      "metadata": {
        "id": "Za64Eqy1JzWi"
      }
    },
    {
      "cell_type": "markdown",
      "source": [
        "## Factory\n"
      ],
      "metadata": {
        "id": "xu92suO7kEPw"
      }
    },
    {
      "cell_type": "markdown",
      "source": [
        "\n",
        "The Factory design pattern is a creational design pattern in software development that provides an interface for creating objects without specifying their concrete classes. It allows for the creation of objects based on a common interface or base class, providing a way to delegate the object creation logic to a factory class.\n",
        "\n",
        "In Python, the Factory design pattern is implemented using a factory function or a factory class. The factory function or class encapsulates the object creation logic and returns an instance of a specific class based on the input parameters or configuration.\n",
        "\n",
        "Here's an example of using the Factory design pattern with the Pima Indian Diabetes dataset:\n"
      ],
      "metadata": {
        "id": "W7i5SrVgJ2sM"
      }
    },
    {
      "cell_type": "code",
      "source": [
        "import pandas as pd\n",
        "\n",
        "# Load the Pima Indian Diabetes dataset\n",
        "url = \"https://raw.githubusercontent.com/jbrownlee/Datasets/master/pima-indians-diabetes.data.csv\"\n",
        "column_names = [\"Pregnancies\", \"Glucose\", \"BloodPressure\", \"SkinThickness\", \"Insulin\", \"BMI\", \"DiabetesPedigreeFunction\", \"Age\", \"Outcome\"]\n",
        "dataset = pd.read_csv(url, names=column_names)\n",
        "\n",
        "\n",
        "# Define a base class for data analysis\n",
        "class DataAnalyzer:\n",
        "    def analyze(self):\n",
        "        raise NotImplementedError()\n",
        "\n",
        "\n",
        "# Concrete implementation for glucose analysis\n",
        "class GlucoseAnalyzer(DataAnalyzer):\n",
        "    def analyze(self):\n",
        "        # Add specific logic for glucose analysis\n",
        "        glucose_mean = dataset['Glucose'].mean()\n",
        "        glucose_std = dataset['Glucose'].std()\n",
        "        print(\"Glucose Analysis:\")\n",
        "        print(\"Mean:\", glucose_mean)\n",
        "        print(\"Standard Deviation:\", glucose_std)\n",
        "\n",
        "\n",
        "# Concrete implementation for blood pressure analysis\n",
        "class BloodPressureAnalyzer(DataAnalyzer):\n",
        "    def analyze(self):\n",
        "        # Add specific logic for blood pressure analysis\n",
        "        bp_mean = dataset['BloodPressure'].mean()\n",
        "        bp_std = dataset['BloodPressure'].std()\n",
        "        print(\"Blood Pressure Analysis:\")\n",
        "        print(\"Mean:\", bp_mean)\n",
        "        print(\"Standard Deviation:\", bp_std)\n",
        "\n",
        "\n",
        "# Factory class to create the appropriate analyzer based on the input\n",
        "class AnalyzerFactory:\n",
        "    @staticmethod\n",
        "    def create_analyzer(analyzer_type):\n",
        "        if analyzer_type == 'glucose':\n",
        "            return GlucoseAnalyzer()\n",
        "        elif analyzer_type == 'blood_pressure':\n",
        "            return BloodPressureAnalyzer()\n",
        "        else:\n",
        "            raise ValueError(\"Invalid analyzer type\")\n",
        "\n",
        "\n",
        "# Create an instance of the analyzer using the factory\n",
        "analyzer_type = 'glucose'\n",
        "analyzer = AnalyzerFactory.create_analyzer(analyzer_type)\n",
        "\n",
        "# Perform analysis using the created analyzer\n",
        "analyzer.analyze()\n"
      ],
      "metadata": {
        "id": "-0-bfvTmJ9dr"
      },
      "execution_count": null,
      "outputs": []
    },
    {
      "cell_type": "markdown",
      "source": [
        "In this example, we define a base class `DataAnalyzer` that declares a common interface `analyze()`. We then create concrete implementations of the `DataAnalyzer` class for glucose analysis (`GlucoseAnalyzer`) and blood pressure analysis (`BloodPressureAnalyzer`).\n",
        "\n",
        "The `AnalyzerFactory` class serves as the factory, encapsulating the logic to create the appropriate analyzer object based on the input `analyzer_type`. It provides a `create_analyzer()` static method that takes the `analyzer_type` as a parameter and returns an instance of the corresponding analyzer.\n",
        "\n",
        "To use the factory, we create an instance of the desired analyzer by calling `AnalyzerFactory.create_analyzer()` with the appropriate `analyzer_type`. In this example, we create an instance of the `GlucoseAnalyzer` by specifying the `analyzer_type` as 'glucose'.\n",
        "\n",
        "Finally, we call the `analyze()` method on the created analyzer object, which performs the specific analysis logic based on the selected analyzer type.\n",
        "\n",
        "The Factory design pattern allows for flexible object creation and decouples the client code from the specific implementations, making it easier to add or modify different analyzers in the future without impacting the client code.\n"
      ],
      "metadata": {
        "id": "A2dvNjwPKBrf"
      }
    },
    {
      "cell_type": "markdown",
      "source": [
        "## Builder\n"
      ],
      "metadata": {
        "id": "caNKQ6TlkHTb"
      }
    },
    {
      "cell_type": "markdown",
      "source": [
        "\n",
        "The Builder design pattern is a creational design pattern that allows you to construct complex objects step by step. It separates the construction of an object from its representation, enabling the same construction process to create different representations.\n",
        "\n",
        "Here's an example of implementing the Builder design pattern using the Pima Indian Diabetes dataset:\n"
      ],
      "metadata": {
        "id": "G3USxKDOKEev"
      }
    },
    {
      "cell_type": "code",
      "source": [
        "class DatasetBuilder:\n",
        "    def __init__(self):\n",
        "        self.dataset = None\n",
        "\n",
        "    def create_dataset(self):\n",
        "        self.dataset = Dataset()\n",
        "\n",
        "    def set_features(self, features):\n",
        "        self.dataset.features = features\n",
        "\n",
        "    def set_labels(self, labels):\n",
        "        self.dataset.labels = labels\n",
        "\n",
        "    def set_metadata(self, metadata):\n",
        "        self.dataset.metadata = metadata\n",
        "\n",
        "    def get_dataset(self):\n",
        "        return self.dataset\n",
        "\n",
        "\n",
        "class Dataset:\n",
        "    def __init__(self):\n",
        "        self.features = None\n",
        "        self.labels = None\n",
        "        self.metadata = None\n",
        "\n",
        "    def describe(self):\n",
        "        print(\"Features:\", self.features)\n",
        "        print(\"Labels:\", self.labels)\n",
        "        print(\"Metadata:\", self.metadata)\n",
        "\n",
        "\n",
        "# Usage example\n",
        "builder = DatasetBuilder()\n",
        "\n",
        "# Building the dataset\n",
        "builder.create_dataset()\n",
        "builder.set_features([\"Pregnancies\", \"Glucose\", \"BloodPressure\", \"SkinThickness\", \"Insulin\", \"BMI\", \"DiabetesPedigreeFunction\", \"Age\"])\n",
        "builder.set_labels([\"Outcome\"])\n",
        "builder.set_metadata({\"source\": \"Pima Indian Diabetes dataset\"})\n",
        "\n",
        "# Getting the constructed dataset\n",
        "dataset = builder.get_dataset()\n",
        "\n",
        "# Describe the dataset\n",
        "dataset.describe()\n"
      ],
      "metadata": {
        "id": "zjSBmbyPKInW"
      },
      "execution_count": null,
      "outputs": []
    },
    {
      "cell_type": "markdown",
      "source": [
        "In this example, we have a `DatasetBuilder` class that represents the builder. It provides methods to create a dataset, set features, labels, and metadata, and retrieve the constructed dataset.\n",
        "\n",
        "The `Dataset` class represents the complex object being built. It has attributes for features, labels, and metadata, and a `describe()` method to print information about the dataset.\n",
        "\n",
        "To use the Builder design pattern, we first create an instance of the `DatasetBuilder` class. Then, we use its methods to construct the dataset step by step: creating the dataset, setting features, labels, and metadata. Finally, we retrieve the constructed dataset using the `get_dataset()` method.\n",
        "\n",
        "The `Dataset` object can be further utilized or processed as needed. In the example, we call the `describe()` method to print information about the dataset.\n",
        "\n",
        "The Builder design pattern allows you to have different builders with varying construction processes, enabling the creation of different representations of complex objects while keeping the construction logic separate from the object's class.\n"
      ],
      "metadata": {
        "id": "4YNQYVRDKMva"
      }
    },
    {
      "cell_type": "markdown",
      "source": [
        "# Structural patterns: Adapter, Decorator, Proxy\n"
      ],
      "metadata": {
        "id": "6SVWUT0bkLBp"
      }
    },
    {
      "cell_type": "markdown",
      "source": [
        "## Adapter\n"
      ],
      "metadata": {
        "id": "fMeb3XenkMwr"
      }
    },
    {
      "cell_type": "markdown",
      "source": [
        "\n",
        "\n",
        "The Adapter design pattern in Python is a structural design pattern that allows objects with incompatible interfaces to work together. It acts as a bridge between two incompatible interfaces by converting the interface of one class into another interface that clients expect.\n",
        "\n",
        "The Adapter pattern consists of the following components:\n",
        "- Target: The interface that the client expects to work with.\n",
        "- Adaptee: The class that has an incompatible interface.\n",
        "- Adapter: The class that adapts the Adaptee to the Target interface.\n",
        "\n",
        "Here's an example of the Adapter design pattern using the Pima Indian Diabetes dataset:\n"
      ],
      "metadata": {
        "id": "7lpekuJOKQtI"
      }
    },
    {
      "cell_type": "code",
      "source": [
        "import pandas as pd\n",
        "\n",
        "# Load the Pima Indian Diabetes dataset\n",
        "url = \"https://raw.githubusercontent.com/jbrownlee/Datasets/master/pima-indians-diabetes.data.csv\"\n",
        "column_names = [\"Pregnancies\", \"Glucose\", \"BloodPressure\", \"SkinThickness\", \"Insulin\", \"BMI\", \"DiabetesPedigreeFunction\", \"Age\", \"Outcome\"]\n",
        "dataset = pd.read_csv(url, names=column_names)\n",
        "\n",
        "# Adaptee: Existing class with an incompatible interface\n",
        "class PimaIndianData:\n",
        "    def get_diabetes_count(self):\n",
        "        return dataset['Outcome'].sum()\n",
        "\n",
        "# Target: The interface the client expects to work with\n",
        "class DiabetesData:\n",
        "    def count_diabetes(self):\n",
        "        pass\n",
        "\n",
        "# Adapter: Adapts the Adaptee to the Target interface\n",
        "class PimaIndianDataAdapter(DiabetesData):\n",
        "    def __init__(self, adaptee):\n",
        "        self.adaptee = adaptee\n",
        "\n",
        "    def count_diabetes(self):\n",
        "        return self.adaptee.get_diabetes_count()\n",
        "\n",
        "# Client code\n",
        "data_adapter = PimaIndianDataAdapter(PimaIndianData())\n",
        "diabetes_count = data_adapter.count_diabetes()\n",
        "print(\"Number of people with diabetes:\", diabetes_count)\n"
      ],
      "metadata": {
        "id": "swGpSQQBKVzW"
      },
      "execution_count": null,
      "outputs": []
    },
    {
      "cell_type": "markdown",
      "source": [
        "In this example, we have an existing class `PimaIndianData` which represents the Adaptee. It has a method `get_diabetes_count()` that retrieves the sum of the 'Outcome' column from the Pima Indian Diabetes dataset.\n",
        "\n",
        "The `DiabetesData` class represents the Target interface that the client expects. It has a method `count_diabetes()`.\n",
        "\n",
        "The `PimaIndianDataAdapter` class acts as the Adapter. It adapts the `PimaIndianData` class to the `DiabetesData` interface. It takes an instance of the `PimaIndianData` class as a parameter and implements the `count_diabetes()` method by delegating the call to the `get_diabetes_count()` method of the Adaptee.\n",
        "\n",
        "In the client code, we create an instance of the `PimaIndianDataAdapter`, passing an instance of the `PimaIndianData` class as a parameter. We then call the `count_diabetes()` method on the adapter, which internally invokes the `get_diabetes_count()` method of the Adaptee, and returns the count of people with diabetes.\n",
        "\n",
        "This allows the client to work with the `DiabetesData` interface, even though the underlying implementation uses the `PimaIndianData` class with an incompatible interface.\n"
      ],
      "metadata": {
        "id": "S59oVza3KZmV"
      }
    },
    {
      "cell_type": "markdown",
      "source": [
        "# Decorator\n"
      ],
      "metadata": {
        "id": "gwwes4CRkP-8"
      }
    },
    {
      "cell_type": "markdown",
      "source": [
        "\n",
        "\n",
        "The Decorator design pattern is a structural design pattern in Python that allows behavior to be added to an object dynamically, without modifying its structure. It involves creating a decorator class that wraps the original object and provides additional functionality by intercepting method calls or modifying attributes.\n",
        "\n",
        "Here's an example of the Decorator design pattern using the Pima Indian Diabetes dataset:\n"
      ],
      "metadata": {
        "id": "ToVje-9NKcYM"
      }
    },
    {
      "cell_type": "code",
      "source": [
        "import pandas as pd\n",
        "\n",
        "# Load the Pima Indian Diabetes dataset\n",
        "url = \"https://raw.githubusercontent.com/jbrownlee/Datasets/master/pima-indians-diabetes.data.csv\"\n",
        "column_names = [\"Pregnancies\", \"Glucose\", \"BloodPressure\", \"SkinThickness\", \"Insulin\", \"BMI\", \"DiabetesPedigreeFunction\", \"Age\", \"Outcome\"]\n",
        "dataset = pd.read_csv(url, names=column_names)\n",
        "\n",
        "# Decorator class for dataset analysis\n",
        "class DatasetAnalyzer:\n",
        "    def __init__(self, dataset):\n",
        "        self.dataset = dataset\n",
        "\n",
        "    def analyze(self):\n",
        "        self._preprocess()\n",
        "        self._perform_analysis()\n",
        "\n",
        "    def _preprocess(self):\n",
        "        print(\"Preprocessing the dataset...\")\n",
        "\n",
        "    def _perform_analysis(self):\n",
        "        print(\"Performing analysis on the dataset...\")\n",
        "        # Analysis code goes here\n",
        "\n",
        "# Create an instance of the DatasetAnalyzer decorator\n",
        "analyzer = DatasetAnalyzer(dataset)\n",
        "\n",
        "# Perform dataset analysis\n",
        "analyzer.analyze()\n"
      ],
      "metadata": {
        "id": "7O2ZnAhqKglF"
      },
      "execution_count": null,
      "outputs": []
    },
    {
      "cell_type": "markdown",
      "source": [
        "In this example, we have a decorator class called `DatasetAnalyzer`, which takes the dataset as a parameter in its constructor. The `DatasetAnalyzer` class provides additional functionality to analyze the dataset without modifying the original dataset structure.\n",
        "\n",
        "The `DatasetAnalyzer` class has two private methods: `_preprocess()` and `_perform_analysis()`. These methods are called within the `analyze()` method, which is the primary method for dataset analysis. The `_preprocess()` method performs preprocessing steps, and the `_perform_analysis()` method contains the analysis code.\n",
        "\n",
        "By creating an instance of the `DatasetAnalyzer` class and calling the `analyze()` method, the decorator wraps the dataset and performs the desired analysis tasks. The decorator class adds functionality to the dataset analysis process, such as preprocessing or additional analysis steps, without directly modifying the original dataset.\n",
        "\n",
        "The Decorator design pattern allows for dynamic extension of an object's functionality and promotes code reusability and flexibility.\n"
      ],
      "metadata": {
        "id": "IoEh_d9KKkrO"
      }
    },
    {
      "cell_type": "markdown",
      "source": [
        "## Proxy\n"
      ],
      "metadata": {
        "id": "7oCFgfSUkSwa"
      }
    },
    {
      "cell_type": "markdown",
      "source": [
        "\n",
        "The Proxy design pattern in Python is a structural design pattern that provides a surrogate or placeholder for another object to control access to it. The Proxy acts as an intermediary between the client and the real object, allowing the Proxy to perform additional tasks before or after accessing the real object.\n",
        "\n",
        "The Proxy pattern can be useful in various scenarios, such as implementing access control, caching, lazy initialization, logging, or remote communication.\n",
        "\n",
        "Here's an example of the Proxy design pattern using the Pima Indian Diabetes dataset:\n"
      ],
      "metadata": {
        "id": "w45mAhWjKnp9"
      }
    },
    {
      "cell_type": "code",
      "source": [
        "import pandas as pd\n",
        "\n",
        "# Real object class\n",
        "class DiabetesDataset:\n",
        "    def __init__(self, url):\n",
        "        self.url = url\n",
        "        self.column_names = [\"Pregnancies\", \"Glucose\", \"BloodPressure\", \"SkinThickness\", \"Insulin\", \"BMI\", \"DiabetesPedigreeFunction\", \"Age\", \"Outcome\"]\n",
        "        self.dataset = None\n",
        "\n",
        "    def load_dataset(self):\n",
        "        if self.dataset is None:\n",
        "            self.dataset = pd.read_csv(self.url, names=self.column_names)\n",
        "        print(\"Dataset loaded.\")\n",
        "\n",
        "    def get_dataset(self):\n",
        "        self.load_dataset()\n",
        "        return self.dataset\n",
        "\n",
        "# Proxy class\n",
        "class DiabetesDatasetProxy:\n",
        "    def __init__(self, url):\n",
        "        self.real_dataset = DiabetesDataset(url)\n",
        "\n",
        "    def get_dataset(self):\n",
        "        print(\"Accessing dataset through the proxy.\")\n",
        "        return self.real_dataset.get_dataset()\n",
        "\n",
        "# Client code\n",
        "proxy_dataset = DiabetesDatasetProxy(\"https://raw.githubusercontent.com/jbrownlee/Datasets/master/pima-indians-diabetes.data.csv\")\n",
        "dataset = proxy_dataset.get_dataset()\n",
        "\n",
        "# Perform operations on the dataset\n",
        "print(dataset.head())\n"
      ],
      "metadata": {
        "id": "fuI9KTggKsQr"
      },
      "execution_count": null,
      "outputs": []
    },
    {
      "cell_type": "markdown",
      "source": [
        "In this example, we have a real object class called `DiabetesDataset` that represents the Pima Indian Diabetes dataset. It has a method `load_dataset()` that loads the dataset from the given URL and a method `get_dataset()` that returns the dataset.\n",
        "\n",
        "We also have a Proxy class called `DiabetesDatasetProxy` that acts as an intermediary. It has a reference to the real object `DiabetesDataset`. When the `get_dataset()` method is called on the Proxy, it first performs some additional tasks (in this case, printing a message) and then delegates the call to the real object's `get_dataset()` method.\n",
        "\n",
        "In the client code, we create an instance of the Proxy class `DiabetesDatasetProxy` and call its `get_dataset()` method. Behind the scenes, the Proxy accesses the real object through its reference and returns the dataset. The client can then perform operations on the dataset, as shown in the example where we print the first few rows of the dataset.\n",
        "\n",
        "The Proxy pattern allows us to add extra functionality or control access to the real object without the client needing to be aware of it. In this example, the Proxy provides a layer of abstraction for loading the dataset lazily, so it is only loaded when needed, reducing unnecessary resource consumption.\n"
      ],
      "metadata": {
        "id": "3SV_ExefKwUc"
      }
    },
    {
      "cell_type": "markdown",
      "source": [
        "# Behavioral patterns: Observer, Strategy, Template\n"
      ],
      "metadata": {
        "id": "-VO0oNPekl7x"
      }
    },
    {
      "cell_type": "markdown",
      "source": [
        "## Observer\n"
      ],
      "metadata": {
        "id": "S99qUSZ3knZg"
      }
    },
    {
      "cell_type": "markdown",
      "source": [
        "\n",
        "\n",
        "The Observer design pattern is a behavioral design pattern in which an object, called the subject, maintains a list of its dependents, called observers, and notifies them automatically of any state changes. It establishes a one-to-many relationship between the subject and the observers, allowing multiple objects to observe and react to changes in the subject's state.\n",
        "\n",
        "Here's an example of the Observer design pattern using the Pima Indian Diabetes dataset:\n"
      ],
      "metadata": {
        "id": "IUIppl4XKz10"
      }
    },
    {
      "cell_type": "code",
      "source": [
        "class Subject:\n",
        "    def __init__(self):\n",
        "        self.observers = []\n",
        "\n",
        "    def attach(self, observer):\n",
        "        self.observers.append(observer)\n",
        "\n",
        "    def detach(self, observer):\n",
        "        self.observers.remove(observer)\n",
        "\n",
        "    def notify(self, data):\n",
        "        for observer in self.observers:\n",
        "            observer.update(data)\n",
        "\n",
        "class Observer:\n",
        "    def update(self, data):\n",
        "        raise NotImplementedError()\n",
        "\n",
        "class DiabetesObserver(Observer):\n",
        "    def update(self, data):\n",
        "        if data['Outcome'] == 1:\n",
        "            print(\"Diabetes detected!\")\n",
        "\n",
        "# Load the Pima Indian Diabetes dataset\n",
        "url = \"https://raw.githubusercontent.com/jbrownlee/Datasets/master/pima-indians-diabetes.data.csv\"\n",
        "column_names = [\"Pregnancies\", \"Glucose\", \"BloodPressure\", \"SkinThickness\", \"Insulin\", \"BMI\", \"DiabetesPedigreeFunction\", \"Age\", \"Outcome\"]\n",
        "dataset = pd.read_csv(url, names=column_names)\n",
        "\n",
        "# Create subject and observer objects\n",
        "subject = Subject()\n",
        "observer = DiabetesObserver()\n",
        "\n",
        "# Attach the observer to the subject\n",
        "subject.attach(observer)\n",
        "\n",
        "# Simulate state change and notify the observers\n",
        "new_data = {'Outcome': 1}  # Simulating new data with diabetes outcome\n",
        "subject.notify(new_data)\n"
      ],
      "metadata": {
        "id": "ybrGf4QHK4TX"
      },
      "execution_count": null,
      "outputs": []
    },
    {
      "cell_type": "markdown",
      "source": [
        "In this example, we implement the Observer design pattern to detect diabetes in the Pima Indian Diabetes dataset.\n",
        "\n",
        "The `Subject` class represents the subject (or the dataset) that maintains a list of observers (`observers`). It provides methods to attach an observer (`attach()`), detach an observer (`detach()`), and notify all observers of a state change (`notify()`).\n",
        "\n",
        "The `Observer` class is an abstract class that defines the interface for all observers. It declares the `update()` method, which is implemented by concrete observer classes.\n",
        "\n",
        "The `DiabetesObserver` class is a concrete observer that extends the `Observer` class. It implements the `update()` method to check if the 'Outcome' value in the data indicates diabetes. In this example, if the 'Outcome' is 1, it prints \"Diabetes detected!\".\n",
        "\n",
        "We load the Pima Indian Diabetes dataset and create a subject object (`subject`) and an observer object (`observer`). We attach the observer to the subject using the `attach()` method. Then, we simulate a state change by creating new data with an 'Outcome' value of 1. Finally, we notify the observers using the `notify()` method of the subject.\n",
        "\n",
        "When the `DiabetesObserver` receives the notification, it checks the 'Outcome' value and prints \"Diabetes detected!\" if it indicates diabetes.\n"
      ],
      "metadata": {
        "id": "P3ZnBoIuK-Fc"
      }
    },
    {
      "cell_type": "markdown",
      "source": [
        "## Strategy\n"
      ],
      "metadata": {
        "id": "E_U8ApJukqqr"
      }
    },
    {
      "cell_type": "markdown",
      "source": [
        "The Strategy design pattern is a behavioral design pattern that allows you to define a family of interchangeable algorithms and encapsulate each one separately. It enables you to select a specific algorithm dynamically at runtime, depending on the situation or context.\n",
        "\n",
        "In Python, you can implement the Strategy design pattern using classes and interfaces. The idea is to define a common interface (or base class) for all the strategies, and then implement different concrete strategies that adhere to that interface.\n",
        "\n",
        "Here's an example of implementing the Strategy design pattern using the Pima Indian Diabetes dataset:\n"
      ],
      "metadata": {
        "id": "cQbgj9pmLAya"
      }
    },
    {
      "cell_type": "code",
      "source": [
        "import pandas as pd\n",
        "\n",
        "# Load the Pima Indian Diabetes dataset\n",
        "url = \"https://raw.githubusercontent.com/jbrownlee/Datasets/master/pima-indians-diabetes.data.csv\"\n",
        "column_names = [\"Pregnancies\", \"Glucose\", \"BloodPressure\", \"SkinThickness\", \"Insulin\", \"BMI\", \"DiabetesPedigreeFunction\", \"Age\", \"Outcome\"]\n",
        "dataset = pd.read_csv(url, names=column_names)\n",
        "\n",
        "# Define the Strategy interface\n",
        "class AnalysisStrategy:\n",
        "    def perform_analysis(self, data):\n",
        "        pass\n",
        "\n",
        "# Define Concrete Strategies\n",
        "class AverageGlucoseStrategy(AnalysisStrategy):\n",
        "    def perform_analysis(self, data):\n",
        "        glucose_values = data['Glucose']\n",
        "        average_glucose = glucose_values.mean()\n",
        "        print(\"Average Glucose Level:\", average_glucose)\n",
        "\n",
        "class DiabetesCountStrategy(AnalysisStrategy):\n",
        "    def perform_analysis(self, data):\n",
        "        diabetes_count = data['Outcome'].sum()\n",
        "        print(\"Number of People with Diabetes:\", diabetes_count)\n",
        "\n",
        "# Context class that uses the Strategy\n",
        "class AnalysisContext:\n",
        "    def __init__(self, strategy):\n",
        "        self.strategy = strategy\n",
        "\n",
        "    def perform_analysis(self, data):\n",
        "        self.strategy.perform_analysis(data)\n",
        "\n",
        "# Create an instance of the AnalysisContext with a specific strategy\n",
        "context = AnalysisContext(AverageGlucoseStrategy())\n",
        "\n",
        "# Perform analysis using the selected strategy\n",
        "context.perform_analysis(dataset)\n",
        "\n",
        "# Change the strategy dynamically\n",
        "context.strategy = DiabetesCountStrategy()\n",
        "\n",
        "# Perform analysis using the new strategy\n",
        "context.perform_analysis(dataset)\n"
      ],
      "metadata": {
        "id": "yAODt4-xLEww"
      },
      "execution_count": null,
      "outputs": []
    },
    {
      "cell_type": "markdown",
      "source": [
        "In this example, we have the `AnalysisStrategy` interface, which defines the `perform_analysis()` method. This method represents the algorithm or strategy that can be performed on the dataset.\n",
        "\n",
        "We then have two concrete strategies: `AverageGlucoseStrategy` and `DiabetesCountStrategy`. Each strategy implements the `perform_analysis()` method according to its specific algorithm. The `AverageGlucoseStrategy` calculates the average glucose level, while the `DiabetesCountStrategy` counts the number of people with diabetes.\n",
        "\n",
        "The `AnalysisContext` class is the context that uses the selected strategy. It takes a strategy as an argument during initialization and provides a method `perform_analysis()` that calls the `perform_analysis()` method of the strategy.\n",
        "\n",
        "We create an instance of the `AnalysisContext` with the `AverageGlucoseStrategy` initially and perform the analysis on the dataset using the selected strategy. Then, we dynamically change the strategy to `DiabetesCountStrategy` and perform the analysis again with the new strategy.\n",
        "\n",
        "The Strategy design pattern allows you to swap out or switch between different strategies dynamically, providing flexibility and modularity in your code.\n"
      ],
      "metadata": {
        "id": "G7_gfv8tLJC5"
      }
    },
    {
      "cell_type": "markdown",
      "source": [
        "## Template\n"
      ],
      "metadata": {
        "id": "hrf4IZ-HkwKt"
      }
    },
    {
      "cell_type": "markdown",
      "source": [
        "\n",
        "The Template Design Pattern is a behavioral design pattern that allows you to define the skeleton or structure of an algorithm in a base class while leaving some steps to be implemented by derived classes. It provides a way to create an algorithm's framework while allowing subclasses to provide their own implementations for specific steps.\n",
        "\n",
        "Here's an example of the Template Design Pattern using the Pima Indian Diabetes dataset:\n"
      ],
      "metadata": {
        "id": "fiyL5CTWLLzi"
      }
    },
    {
      "cell_type": "code",
      "source": [
        "import pandas as pd\n",
        "\n",
        "# Load the Pima Indian Diabetes dataset\n",
        "url = \"https://raw.githubusercontent.com/jbrownlee/Datasets/master/pima-indians-diabetes.data.csv\"\n",
        "column_names = [\"Pregnancies\", \"Glucose\", \"BloodPressure\", \"SkinThickness\", \"Insulin\", \"BMI\", \"DiabetesPedigreeFunction\", \"Age\", \"Outcome\"]\n",
        "dataset = pd.read_csv(url, names=column_names)\n",
        "\n",
        "# Abstract base class defining the template algorithm\n",
        "class DataAnalysisTemplate:\n",
        "    def load_data(self):\n",
        "        raise NotImplementedError\n",
        "\n",
        "    def preprocess_data(self):\n",
        "        raise NotImplementedError\n",
        "\n",
        "    def analyze_data(self):\n",
        "        raise NotImplementedError\n",
        "\n",
        "    def visualize_results(self):\n",
        "        raise NotImplementedError\n",
        "\n",
        "    def perform_analysis(self):\n",
        "        self.load_data()\n",
        "        self.preprocess_data()\n",
        "        self.analyze_data()\n",
        "        self.visualize_results()\n",
        "\n",
        "# Concrete class implementing the template algorithm for diabetes data analysis\n",
        "class DiabetesDataAnalysis(DataAnalysisTemplate):\n",
        "    def load_data(self):\n",
        "        print(\"Loading diabetes data...\")  # Placeholder implementation\n",
        "\n",
        "    def preprocess_data(self):\n",
        "        print(\"Preprocessing diabetes data...\")  # Placeholder implementation\n",
        "\n",
        "    def analyze_data(self):\n",
        "        # Specific analysis steps for diabetes data\n",
        "        num_diabetes = sum(dataset['Outcome'] == 1)\n",
        "        num_non_diabetes = sum(dataset['Outcome'] == 0)\n",
        "        print(\"Number of people with diabetes:\", num_diabetes)\n",
        "        print(\"Number of people without diabetes:\", num_non_diabetes)\n",
        "\n",
        "    def visualize_results(self):\n",
        "        print(\"Visualizing diabetes analysis results...\")  # Placeholder implementation\n",
        "\n",
        "# Create an instance of the concrete class and perform the analysis\n",
        "diabetes_analysis = DiabetesDataAnalysis()\n",
        "diabetes_analysis.perform_analysis()\n"
      ],
      "metadata": {
        "id": "xzmLe_IOLP6D"
      },
      "execution_count": null,
      "outputs": []
    },
    {
      "cell_type": "markdown",
      "source": [
        "In this example, we have an abstract base class `DataAnalysisTemplate` that defines the skeleton of the algorithm. It declares several methods, such as `load_data()`, `preprocess_data()`, `analyze_data()`, and `visualize_results()`, which represent the steps of the analysis process.\n",
        "\n",
        "The concrete class `DiabetesDataAnalysis` inherits from the base class and provides implementations for the abstract methods. In this class, the `analyze_data()` method performs specific analysis steps on the diabetes dataset, such as counting the number of people with and without diabetes.\n",
        "\n",
        "By creating an instance of the `DiabetesDataAnalysis` class and calling the `perform_analysis()` method, the template algorithm is executed, and the specific steps for diabetes data analysis are carried out.\n",
        "\n",
        "The Template Design Pattern allows for a consistent algorithm structure while allowing subclasses to customize certain steps. This promotes code reuse, modularity, and extensibility.\n"
      ],
      "metadata": {
        "id": "L1HJI6glLUDb"
      }
    },
    {
      "cell_type": "markdown",
      "source": [
        "# Reflection points"
      ],
      "metadata": {
        "id": "tss33qkdLXE4"
      }
    },
    {
      "cell_type": "markdown",
      "source": [
        "1. **Introduction to Design Patterns**\n",
        "   - What are design patterns, and why are they important in software development?\n",
        "   - How can design patterns improve the quality, flexibility, and maintainability of code?\n",
        "   - Discuss the benefits and potential drawbacks of using design patterns in Python projects.\n",
        "\n",
        "2. **Creational Patterns: Singleton, Factory, Builder**\n",
        "   - Explain the Singleton pattern and its purpose. When and why would you use it in Python?\n",
        "   - What is the Factory pattern, and how does it help with object creation and decoupling?\n",
        "   - Discuss the Builder pattern and its advantages in constructing complex objects step by step.\n",
        "\n",
        "3. **Structural Patterns: Adapter, Decorator, Proxy**\n",
        "   - Describe the Adapter pattern and its role in adapting incompatible interfaces.\n",
        "   - How does the Decorator pattern enhance object functionality dynamically?\n",
        "   - Discuss the Proxy pattern and its use cases, such as controlling access to objects or adding extra behavior.\n",
        "\n",
        "4. **Behavioral Patterns: Observer, Strategy, Template**\n",
        "   - Explain the Observer pattern and how it facilitates the communication between objects.\n",
        "   - Describe the Strategy pattern and its application in dynamically swapping algorithms.\n",
        "   - Discuss the Template pattern and its usefulness in defining a skeletal structure for an algorithm.\n",
        "\n",
        "Answers to these reflection points will vary, but here are some example responses:\n",
        "\n",
        "1. **Introduction to Design Patterns**\n",
        "   - Design patterns are reusable solutions to common software design problems. They provide proven approaches for structuring code, improving code maintainability, and facilitating code reuse. Design patterns help establish best practices and enable developers to communicate effectively using a common language.\n",
        "\n",
        "2. **Creational Patterns: Singleton, Factory, Builder**\n",
        "   - The Singleton pattern restricts the instantiation of a class to a single object, ensuring that there is only one instance of the class throughout the program.\n",
        "   - The Factory pattern encapsulates object creation by providing a centralized factory method. It helps decouple the client code from specific class implementations.\n",
        "   - The Builder pattern separates the construction of complex objects from their representation. It allows step-by-step construction of objects, providing flexibility and control over the construction process.\n",
        "\n",
        "3. **Structural Patterns: Adapter, Decorator, Proxy**\n",
        "   - The Adapter pattern allows objects with incompatible interfaces to work together by providing a common interface. It acts as a bridge between two incompatible classes.\n",
        "   - The Decorator pattern dynamically adds new functionality to an object without altering its structure. It provides a flexible alternative to subclassing for extending functionality.\n",
        "   - The Proxy pattern provides a surrogate or placeholder for another object, controlling access to it. It can be used for lazy loading, access control, or as a protective wrapper around sensitive objects.\n",
        "\n",
        "4. **Behavioral Patterns: Observer, Strategy, Template**\n",
        "   - The Observer pattern establishes a one-to-many relationship between objects, where changes in one object trigger updates in its dependents. It enables loose coupling and facilitates event-driven systems.\n",
        "   - The Strategy pattern defines a family of algorithms, encapsulating each one and making them interchangeable. It allows selecting the algorithm dynamically at runtime.\n",
        "   - The Template pattern provides a skeleton for an algorithm, allowing subclasses to redefine certain steps while preserving the overall structure. It promotes code reuse and standardization.\n"
      ],
      "metadata": {
        "id": "y5AwaJgZgK-t"
      }
    },
    {
      "cell_type": "markdown",
      "source": [
        "# Exercise"
      ],
      "metadata": {
        "id": "cAwW_MM1MP7Z"
      }
    },
    {
      "cell_type": "markdown",
      "source": [
        "\n",
        "1. Download the Pima Indian Diabetes dataset from the given URL.\n",
        "2. Implement a Singleton class called `PimaDatasetLoader`, responsible for loading the dataset.\n",
        "3. The `PimaDatasetLoader` class should have a method `load_data()` that reads the dataset file and returns the data in a suitable format (e.g., Pandas DataFrame).\n",
        "4. Ensure that only one instance of `PimaDatasetLoader` can exist at any time.\n",
        "5. Create two instances of `PimaDatasetLoader` and verify that they are the same object (i.e., Singleton pattern works).\n"
      ],
      "metadata": {
        "id": "PQEKL-_5MaKV"
      }
    },
    {
      "cell_type": "code",
      "source": [
        "import pandas as pd\n",
        "\n",
        "class PimaDatasetLoader:\n",
        "    _instance = None\n",
        "\n",
        "    def __new__(cls):\n",
        "        if cls._instance is None:\n",
        "            cls._instance = super(PimaDatasetLoader, cls).__new__(cls)\n",
        "        return cls._instance\n",
        "\n",
        "    def load_data(self):\n",
        "        url = \"https://raw.githubusercontent.com/jbrownlee/Datasets/master/pima-indians-diabetes.data.csv\"\n",
        "        try:\n",
        "            data = pd.read_csv(url, header=None)\n",
        "            return data\n",
        "        except Exception as e:\n",
        "            print(f\"Error: {e}\")\n",
        "            return None\n",
        "\n",
        "# Test the Singleton pattern\n",
        "if __name__ == \"__main__\":\n",
        "    # Create two instances of PimaDatasetLoader\n",
        "    loader1 = PimaDatasetLoader()\n",
        "    loader2 = PimaDatasetLoader()\n",
        "\n",
        "    # Verify if they are the same object\n",
        "    print(loader1 is loader2)  # Should output True, indicating they are the same instance\n",
        "\n",
        "    # Load the dataset using one instance\n",
        "    data = loader1.load_data()\n",
        "\n",
        "    # Check if the dataset is loaded correctly\n",
        "    if data is not None:\n",
        "        print(\"Dataset loaded successfully:\")\n",
        "        print(data.head())\n",
        "    else:\n",
        "        print(\"Failed to load the dataset.\")\n"
      ],
      "metadata": {
        "id": "Dtby6DSlMRou"
      },
      "execution_count": null,
      "outputs": []
    },
    {
      "cell_type": "markdown",
      "source": [
        "# A quiz on Design Patterns"
      ],
      "metadata": {
        "id": "SEKUDPz29U4y"
      }
    },
    {
      "cell_type": "markdown",
      "source": [
        "\n",
        "1. Which design pattern is used to ensure that a class has only one instance and provides a global point of access to that instance?\n",
        "   <br>a) Singleton\n",
        "   <br>b) Factory\n",
        "   <br>c) Builder\n",
        "   <br>d) Adapter\n",
        "\n",
        "2. The __________ pattern is used to create objects without specifying the exact class of the object that will be created.\n",
        "   <br>a) Singleton\n",
        "   <br>b) Factory\n",
        "   <br>c) Decorator\n",
        "   <br>d) Proxy\n",
        "\n",
        "3. Which design pattern is best suited for separating the construction of a complex object from its representation, allowing the same construction process to create various representations?\n",
        "   <br>a) Singleton\n",
        "   <br>b) Factory\n",
        "   <br>c) Builder\n",
        "   <br>d) Observer\n",
        "\n",
        "4. The __________ pattern is used to modify the behavior of an object at runtime without affecting the individual instances of the object.\n",
        "   <br>a) Strategy\n",
        "   <br>b) Template\n",
        "   <br>c) Decorator\n",
        "   <br>d) Adapter\n",
        "\n",
        "5. Which design pattern provides a way to define a family of algorithms, encapsulate each one as an object, and make them interchangeable?\n",
        "   <br>a) Singleton\n",
        "   <br>b) Factory\n",
        "   <br>c) Observer\n",
        "   <br>d) Strategy\n",
        "\n",
        "6. The __________ pattern is used to add new functionality to an object without changing its structure.\n",
        "   <br>a) Proxy\n",
        "   <br>b) Builder\n",
        "   <br>c) Decorator\n",
        "   <br>d) Template\n",
        "\n",
        "7. Which design pattern allows objects to be notified of a change in the state of another object and automatically update themselves?\n",
        "   <br>a) Singleton\n",
        "   <br>b) Factory\n",
        "   <br>c) Observer\n",
        "   <br>d) Adapter\n",
        "\n",
        "8. The __________ pattern is used to provide a surrogate or placeholder for another object to control access to it.\n",
        "   <br>a) Proxy\n",
        "   <br>b) Strategy\n",
        "   <br>c) Template\n",
        "   <br>d) Decorator\n",
        "\n",
        "9. Which design pattern is used to convert the interface of a class into another interface that clients expect?\n",
        "   <br>a) Adapter\n",
        "   <br>b) Builder\n",
        "   <br>c) Factory\n",
        "   <br>d) Observer\n",
        "\n",
        "10. The __________ pattern is used to define the skeleton of an algorithm in a method but defer some steps to subclasses.\n",
        "    <br>a) Template\n",
        "    <br>b) Proxy\n",
        "    <br>c) Singleton\n",
        "    <br>d) Strategy\n",
        "\n",
        "---\n",
        "\n",
        "Answers:\n",
        "\n",
        "1. a) Singleton\n",
        "2. b) Factory\n",
        "3. c) Builder\n",
        "4. c) Decorator\n",
        "5. d) Strategy\n",
        "6. c) Decorator\n",
        "7. c) Observer\n",
        "8. a) Proxy\n",
        "9. a) Adapter\n",
        "10. a) Template\n",
        "\n",
        "---\n"
      ],
      "metadata": {
        "id": "hdLGXm1I9ZLI"
      }
    }
  ]
}