{
  "nbformat": 4,
  "nbformat_minor": 0,
  "metadata": {
    "colab": {
      "provenance": [],
      "authorship_tag": "ABX9TyMsHhUxVqnK6yw7RJEZVzHW",
      "include_colab_link": true
    },
    "kernelspec": {
      "name": "python3",
      "display_name": "Python 3"
    },
    "language_info": {
      "name": "python"
    }
  },
  "cells": [
    {
      "cell_type": "markdown",
      "metadata": {
        "id": "view-in-github",
        "colab_type": "text"
      },
      "source": [
        "<a href=\"https://colab.research.google.com/github/cloudpedagogy/data-science-programming/blob/main/object-oriented-python/01_Introduction_to_OOP.ipynb\" target=\"_parent\"><img src=\"https://colab.research.google.com/assets/colab-badge.svg\" alt=\"Open In Colab\"/></a>"
      ]
    },
    {
      "cell_type": "markdown",
      "source": [
        "#Introduction to OOP\n"
      ],
      "metadata": {
        "id": "Ye3BXkVhBLX9"
      }
    },
    {
      "cell_type": "markdown",
      "source": [
        "##Basics of procedural programming\n",
        "\n",
        "Procedural programming is a programming paradigm that focuses on the step-by-step execution of a program. It organizes code into procedures or functions that perform specific tasks. In procedural programming, the program consists of a sequence of statements, and control flow is determined by the order in which the statements are executed.\n",
        "\n",
        "Here's an example of procedural programming using the Pima Indian Diabetes dataset:\n"
      ],
      "metadata": {
        "id": "Ozhjc_PdBPe9"
      }
    },
    {
      "cell_type": "code",
      "source": [
        "import pandas as pd\n",
        "\n",
        "# Load the Pima Indian Diabetes dataset\n",
        "url = \"https://raw.githubusercontent.com/jbrownlee/Datasets/master/pima-indians-diabetes.data.csv\"\n",
        "column_names = [\"Pregnancies\", \"Glucose\", \"BloodPressure\", \"SkinThickness\", \"Insulin\", \"BMI\", \"DiabetesPedigreeFunction\", \"Age\", \"Outcome\"]\n",
        "dataset = pd.read_csv(url, names=column_names)\n",
        "\n",
        "# Function to calculate average glucose level\n",
        "def calculate_average_glucose(data):\n",
        "    glucose_values = data['Glucose']\n",
        "    total_glucose = sum(glucose_values)\n",
        "    num_entries = len(glucose_values)\n",
        "    average_glucose = total_glucose / num_entries\n",
        "    return average_glucose\n",
        "\n",
        "# Function to check if a person has diabetes\n",
        "def check_diabetes(data, threshold):\n",
        "    glucose_values = data['Glucose']\n",
        "    outcome_values = data['Outcome']\n",
        "    num_diabetes = sum(1 for glucose, outcome in zip(glucose_values, outcome_values) if glucose >= threshold and outcome == 1)\n",
        "    return num_diabetes\n",
        "\n",
        "# Calculate and print the average glucose level\n",
        "average_glucose = calculate_average_glucose(dataset)\n",
        "print(\"Average Glucose Level:\", average_glucose)\n",
        "\n",
        "# Check the number of people with diabetes (Glucose >= 140 and Outcome = 1)\n",
        "diabetes_threshold = 140\n",
        "num_diabetes = check_diabetes(dataset, diabetes_threshold)\n",
        "print(\"Number of People with Diabetes:\", num_diabetes)\n"
      ],
      "metadata": {
        "id": "9OLxbhlVBULX"
      },
      "execution_count": null,
      "outputs": []
    },
    {
      "cell_type": "markdown",
      "source": [
        "In this example, we use procedural programming to perform calculations and analysis on the Pima Indian Diabetes dataset.\n",
        "\n",
        "We define two functions: `calculate_average_glucose()` and `check_diabetes()`. The `calculate_average_glucose()` function takes the dataset as input, calculates the total glucose level by summing the 'Glucose' column, calculates the number of entries by counting the length of the 'Glucose' column, and returns the average glucose level.\n",
        "\n",
        "The `check_diabetes()` function takes the dataset and a glucose threshold as input. It iterates over the 'Glucose' and 'Outcome' columns simultaneously using the `zip()` function, counts the number of people with glucose levels above or equal to the threshold and an outcome of 1 (indicating diabetes), and returns the count.\n",
        "\n",
        "We then call these functions, passing the dataset and necessary parameters, and print the results.\n",
        "\n",
        "Procedural programming focuses on breaking down the problem into smaller functions or procedures, making the code modular, readable, and easier to maintain.\n"
      ],
      "metadata": {
        "id": "k7WYkdL7BYKr"
      }
    },
    {
      "cell_type": "markdown",
      "source": [
        "##Understanding the need for OOP\n",
        "\n",
        "Object-oriented programming (OOP) is a programming paradigm that organizes code into objects, which are instances of classes. OOP provides a way to structure and manage code by encapsulating data and behavior into objects, promoting modularity, reusability, and code organization. It emphasizes concepts such as encapsulation, inheritance, and polymorphism.\n",
        "\n",
        "The need for OOP arises when the complexity of a program increases and there is a requirement for code organization, modularity, and reusability. OOP allows for the creation of objects that encapsulate both data and the methods that operate on that data. This helps in achieving better code organization and promotes code reuse, making it easier to manage and maintain large-scale applications.\n",
        "\n",
        "Here's an example of utilizing OOP principles with the Pima Indian Diabetes dataset:\n"
      ],
      "metadata": {
        "id": "8JxSClSLBb5l"
      }
    },
    {
      "cell_type": "code",
      "source": [
        "import pandas as pd\n",
        "\n",
        "# Define a class to represent the Diabetes dataset\n",
        "class DiabetesDataset:\n",
        "    def __init__(self, url, column_names):\n",
        "        self.url = url\n",
        "        self.column_names = column_names\n",
        "        self.dataset = None\n",
        "\n",
        "    def load_data(self):\n",
        "        self.dataset = pd.read_csv(self.url, names=self.column_names)\n",
        "\n",
        "    def calculate_average_glucose(self):\n",
        "        glucose_values = self.dataset['Glucose']\n",
        "        total_glucose = sum(glucose_values)\n",
        "        num_entries = len(glucose_values)\n",
        "        average_glucose = total_glucose / num_entries\n",
        "        return average_glucose\n",
        "\n",
        "    def check_diabetes(self, threshold):\n",
        "        glucose_values = self.dataset['Glucose']\n",
        "        outcome_values = self.dataset['Outcome']\n",
        "        num_diabetes = sum(1 for glucose, outcome in zip(glucose_values, outcome_values) if glucose >= threshold and outcome == 1)\n",
        "        return num_diabetes\n",
        "\n",
        "# Create an instance of the DiabetesDataset class\n",
        "diabetes_data = DiabetesDataset(\n",
        "    \"https://raw.githubusercontent.com/jbrownlee/Datasets/master/pima-indians-diabetes.data.csv\",\n",
        "    [\"Pregnancies\", \"Glucose\", \"BloodPressure\", \"SkinThickness\", \"Insulin\", \"BMI\", \"DiabetesPedigreeFunction\", \"Age\", \"Outcome\"]\n",
        ")\n",
        "\n",
        "# Load the dataset\n",
        "diabetes_data.load_data()\n",
        "\n",
        "# Calculate and print the average glucose level\n",
        "average_glucose = diabetes_data.calculate_average_glucose()\n",
        "print(\"Average Glucose Level:\", average_glucose)\n",
        "\n",
        "# Check the number of people with diabetes (Glucose >= 140 and Outcome = 1)\n",
        "diabetes_threshold = 140\n",
        "num_diabetes = diabetes_data.check_diabetes(diabetes_threshold)\n",
        "print(\"Number of People with Diabetes:\", num_diabetes)\n"
      ],
      "metadata": {
        "id": "sVFHp_GuBgHR"
      },
      "execution_count": null,
      "outputs": []
    },
    {
      "cell_type": "markdown",
      "source": [
        "In this example, we define a class called `DiabetesDataset` that represents the Pima Indian Diabetes dataset. The class encapsulates the dataset URL and column names as attributes and provides methods for loading the data, calculating the average glucose level, and checking the number of people with diabetes.\n",
        "\n",
        "By creating an instance of the `DiabetesDataset` class, we can work with the dataset using the object-oriented approach. The `load_data()` method loads the dataset into the object, and the `calculate_average_glucose()` and `check_diabetes()` methods perform the respective calculations on the dataset.\n",
        "\n",
        "Using OOP in this case allows us to encapsulate the dataset-related operations into a class, promoting code organization, reusability, and making it easier to manage and maintain the codebase.\n"
      ],
      "metadata": {
        "id": "eZf8Z3MmBmPD"
      }
    },
    {
      "cell_type": "markdown",
      "source": [
        "##The key concepts of Object-Oriented Programming (OOP) are:\n",
        "\n",
        "Classes: A class is a blueprint or a template that defines the characteristics and behavior of objects. It describes the attributes and methods that objects of that class will possess. Classes serve as a blueprint for creating multiple instances or objects.\n",
        "\n",
        "Objects: An object is an instance of a class. It represents a specific entity that has its own unique state and behavior. Objects are created from a class, and they can interact with other objects and manipulate their own data.\n",
        "\n",
        "Methods: Methods are functions defined within a class that perform actions or operations on objects. They encapsulate the behavior associated with the objects of the class. Methods can access and modify the object's attributes and perform specific actions.\n",
        "\n",
        "Attributes: Attributes, also known as properties or member variables, are the characteristics or data associated with an object. They define the state of an object. Attributes can be variables, constants, or other objects. Each object can have its own set of attribute values, which can be accessed and modified by methods.\n",
        "\n",
        "In OOP, the relationship between classes, objects, methods, and attributes is as follows: classes define the structure and behavior of objects, objects are instances of classes that encapsulate state and behavior, methods define the actions or operations that objects can perform, and attributes define the data or characteristics associated with objects.\n"
      ],
      "metadata": {
        "id": "PT4Y8Hk7BpQ9"
      }
    },
    {
      "cell_type": "markdown",
      "source": [
        "#Reflection Points"
      ],
      "metadata": {
        "id": "RpvR7mJhBsWv"
      }
    },
    {
      "cell_type": "markdown",
      "source": [
        "1. **Basics of Procedural Programming:**\n",
        "   - Reflect on the fundamental principles of procedural programming in Python.\n",
        "   - Consider how procedural programming enables you to break down tasks into smaller, reusable functions.\n",
        "   - Evaluate the advantages and limitations of procedural programming in different scenarios.\n",
        "   - Share experiences of using procedural programming to solve specific problems in Python.\n",
        "\n",
        "2. **Understanding the Need for OOP:**\n",
        "   - Reflect on the limitations of procedural programming in handling complex systems or larger codebases.\n",
        "   - Discuss the benefits of OOP, such as modularity, encapsulation, and code reusability.\n",
        "   - Identify scenarios where OOP is particularly useful and why it is chosen over procedural programming.\n",
        "   - Share personal experiences or examples of problems that are better suited for an OOP approach.\n",
        "\n",
        "3. **Key Concepts of OOP - Classes, Objects, Methods, Attributes:**\n",
        "   - Reflect on the concept of a class as a blueprint for creating objects with shared properties and behaviors.\n",
        "   - Discuss the role of objects as instances of classes and how they encapsulate data and methods.\n",
        "   - Evaluate different types of methods in Python classes, such as instance methods, class methods, and static methods.\n",
        "   - Reflect on the use of attributes in classes to store and manipulate data associated with objects.\n",
        "\n",
        "Answers to the reflection points will depend on the learner's understanding and experiences. Here are sample answers to help guide the discussion:\n",
        "\n",
        "1. **Basics of Procedural Programming:**\n",
        "   - Procedural programming focuses on breaking down a problem into a series of sequential steps using functions.\n",
        "   - Procedural programming is beneficial for small-scale programs and linear workflows.\n",
        "   - One advantage is that it allows for easy debugging and maintenance since functions can be independently tested and modified.\n",
        "   - However, as programs become more complex, maintaining code organization and managing state can become challenging.\n",
        "\n",
        "2. **Understanding the Need for OOP:**\n",
        "   - OOP provides a way to structure code around objects that encapsulate both data and behavior.\n",
        "   - OOP promotes code reusability through the concept of inheritance, allowing classes to inherit properties and methods from parent classes.\n",
        "   - OOP enables better code organization and modularity, making it easier to maintain and update large codebases.\n",
        "   - OOP is particularly useful for modeling complex real-world systems or designing software with multiple interacting components.\n",
        "\n",
        "3. **Key Concepts of OOP - Classes, Objects, Methods, Attributes:**\n",
        "   - A class is a blueprint that defines the structure and behavior of objects. It encapsulates data and methods related to a specific concept or entity.\n",
        "   - Objects are instances of classes, created using the class blueprint. They have their own unique data and can perform actions through methods.\n",
        "   - Methods are functions defined within a class that can operate on object data or modify object state.\n",
        "   - Attributes are variables associated with objects, representing their characteristics or properties.\n"
      ],
      "metadata": {
        "id": "f1fOzm_ZeO6f"
      }
    }
  ]
}
