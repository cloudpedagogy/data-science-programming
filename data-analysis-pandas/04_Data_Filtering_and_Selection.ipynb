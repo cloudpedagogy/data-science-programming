{
  "nbformat": 4,
  "nbformat_minor": 0,
  "metadata": {
    "colab": {
      "provenance": [],
      "toc_visible": true,
      "authorship_tag": "ABX9TyNkU5Bc1K0NZ90YWENsErJR",
      "include_colab_link": true
    },
    "kernelspec": {
      "name": "python3",
      "display_name": "Python 3"
    },
    "language_info": {
      "name": "python"
    }
  },
  "cells": [
    {
      "cell_type": "markdown",
      "metadata": {
        "id": "view-in-github",
        "colab_type": "text"
      },
      "source": [
        "<a href=\"https://colab.research.google.com/github/cloudpedagogy/data-science-programming/blob/main/data-analysis-pandas/04_Data_Filtering_and_Selection.ipynb\" target=\"_parent\"><img src=\"https://colab.research.google.com/assets/colab-badge.svg\" alt=\"Open In Colab\"/></a>"
      ]
    },
    {
      "cell_type": "markdown",
      "source": [
        "# Data Filtering and Selection\n"
      ],
      "metadata": {
        "id": "BKgKmtWyXQWN"
      }
    },
    {
      "cell_type": "markdown",
      "source": [
        "## Overview"
      ],
      "metadata": {
        "id": "7rg-WiccSgKt"
      }
    },
    {
      "cell_type": "markdown",
      "source": [
        "\n",
        "Pandas is a powerful and popular library in Python for data manipulation and analysis. One of its key features is the ability to filter and select data based on specific conditions or criteria. Filtering and selection in Pandas allow you to extract and work with subsets of data from a DataFrame or a Series.\n",
        "\n",
        "Data filtering involves selecting rows or columns from a dataset that meet certain conditions. This can be useful when you want to focus on a specific subset of data that meets your criteria. For example, you may want to filter a dataset to only include records from a specific time period, or to select rows where a certain column value is greater than a certain threshold.\n",
        "\n",
        "Data selection, on the other hand, refers to the process of extracting specific rows or columns from a DataFrame or a Series based on their position or labels. This can be helpful when you want to isolate particular portions of your data for further analysis or manipulation.\n",
        "\n",
        "In Pandas, you can perform data filtering and selection using various techniques. Some commonly used methods include:\n",
        "\n",
        "1. Boolean Indexing: This method involves using Boolean conditions to filter rows or columns. For instance, you can create a Boolean mask that checks if a specific condition is met, and then use that mask to select the corresponding rows or columns.\n",
        "\n",
        "2. Comparison Operators: You can use comparison operators such as greater than (>), less than (<), equal to (==), and not equal to (!=) to filter and select data based on specific numerical or string conditions.\n",
        "\n",
        "3. Conditional Statements: Pandas provides the ability to use conditional statements like if-else or while loops to apply complex filtering conditions to your data.\n",
        "\n",
        "4. Query Method: The query() method in Pandas allows you to filter data using SQL-like syntax. This method is particularly useful when dealing with large datasets and complex conditions.\n",
        "\n",
        "By utilizing these filtering and selection techniques, you can efficiently extract, manipulate, and analyze the data that is most relevant to your specific tasks or research objectives. Whether you need to filter data based on specific criteria or select specific rows or columns for further analysis, Pandas provides a comprehensive set of tools to handle these operations effectively."
      ],
      "metadata": {
        "id": "vsqk2T19SinV"
      }
    },
    {
      "cell_type": "markdown",
      "source": [
        "## Filtering rows based on specific conditions\n"
      ],
      "metadata": {
        "id": "9Q2OEPtVWcna"
      }
    },
    {
      "cell_type": "markdown",
      "source": [
        "\n",
        "Filtering rows based on specific conditions in Pandas involves selecting rows that satisfy certain criteria or conditions. You can use logical operators and comparison operators to specify the conditions and create boolean masks to filter the dataframe.\n",
        "\n",
        "Here's an example of filtering rows based on specific conditions in the Pima Indian Diabetes dataset:\n"
      ],
      "metadata": {
        "id": "gs9Cvb7iXTUf"
      }
    },
    {
      "cell_type": "code",
      "source": [
        "import pandas as pd\n",
        "\n",
        "# Load the Pima Indian Diabetes dataset\n",
        "url = \"https://raw.githubusercontent.com/jbrownlee/Datasets/master/pima-indians-diabetes.data.csv\"\n",
        "column_names = [\"Pregnancies\", \"Glucose\", \"BloodPressure\", \"SkinThickness\", \"Insulin\", \"BMI\", \"DiabetesPedigreeFunction\", \"Age\", \"Outcome\"]\n",
        "dataset = pd.read_csv(url, names=column_names)\n",
        "\n",
        "# Filter the dataset to select rows where the Glucose level is above 140\n",
        "filtered_data = dataset[dataset['Glucose'] > 140]\n",
        "\n",
        "# Print the filtered dataset\n",
        "print(filtered_data)\n"
      ],
      "metadata": {
        "id": "pxTHgtg7XWdC"
      },
      "execution_count": null,
      "outputs": []
    },
    {
      "cell_type": "markdown",
      "source": [
        "In this example, we load the Pima Indian Diabetes dataset using Pandas. We then create a boolean mask by specifying the condition `dataset['Glucose'] > 140`, which checks if the Glucose level is above 140 for each row in the dataset. We use this boolean mask to filter the dataset and select only the rows that satisfy the condition. The resulting `filtered_data` dataframe will contain only the rows where the Glucose level is above 140. Finally, we print the filtered dataset to see the output.\n",
        "\n",
        "You can modify the condition to filter the dataset based on different criteria or combine multiple conditions using logical operators (e.g., `&` for \"and\", `|` for \"or\").\n"
      ],
      "metadata": {
        "id": "JvKXeeHkXamk"
      }
    },
    {
      "cell_type": "markdown",
      "source": [
        "# Selecting columns and subsets of data"
      ],
      "metadata": {
        "id": "5fBc1o1ESKZ6"
      }
    },
    {
      "cell_type": "markdown",
      "source": [
        "## Selecting columns\n"
      ],
      "metadata": {
        "id": "EsPVJFvDWgP7"
      }
    },
    {
      "cell_type": "markdown",
      "source": [
        "\n",
        "\n",
        "In Pandas, you can select specific columns from a DataFrame by using the column names or column indices. The selected columns can then be used for further analysis or manipulation. Here's an example of selecting columns from the Pima Indian Diabetes dataset:\n"
      ],
      "metadata": {
        "id": "gYo3dbH5XddQ"
      }
    },
    {
      "cell_type": "code",
      "source": [
        "import pandas as pd\n",
        "\n",
        "# Load the Pima Indian Diabetes dataset\n",
        "url = \"https://raw.githubusercontent.com/jbrownlee/Datasets/master/pima-indians-diabetes.data.csv\"\n",
        "column_names = [\"Pregnancies\", \"Glucose\", \"BloodPressure\", \"SkinThickness\", \"Insulin\", \"BMI\", \"DiabetesPedigreeFunction\", \"Age\", \"Outcome\"]\n",
        "dataset = pd.read_csv(url, names=column_names)\n",
        "\n",
        "# Select specific columns by name\n",
        "selected_columns = dataset[[\"Glucose\", \"BMI\", \"Age\"]]\n",
        "\n",
        "# Print the selected columns\n",
        "print(selected_columns.head())\n"
      ],
      "metadata": {
        "id": "NFQn6bH0Xi10"
      },
      "execution_count": null,
      "outputs": []
    },
    {
      "cell_type": "markdown",
      "source": [
        "In this example, we load the Pima Indian Diabetes dataset using Pandas and assign it to the `dataset` variable. We then create a new DataFrame called `selected_columns` by selecting specific columns using their names (\"Glucose\", \"BMI\", \"Age\"). We enclose the column names within double brackets to indicate that we want to select multiple columns. Finally, we print the selected columns using `selected_columns.head()` to display the first few rows.\n",
        "\n",
        "By selecting specific columns, you can focus on the relevant features of the dataset for analysis or modeling purposes.\n"
      ],
      "metadata": {
        "id": "FNu-_ksVXmkE"
      }
    },
    {
      "cell_type": "markdown",
      "source": [
        "## Subsets of data\n"
      ],
      "metadata": {
        "id": "8k0TFCVDWig5"
      }
    },
    {
      "cell_type": "markdown",
      "source": [
        "\n",
        "In Pandas, you can select subsets of data by using various techniques like indexing, filtering, and column selection. These methods allow you to extract specific rows or columns from a DataFrame based on certain conditions or criteria.\n",
        "\n",
        "Here's an example of selecting subsets of data from the Pima Indian Diabetes dataset:\n"
      ],
      "metadata": {
        "id": "ZH4uwIvJXsXb"
      }
    },
    {
      "cell_type": "code",
      "source": [
        "import pandas as pd\n",
        "\n",
        "# Load the Pima Indian Diabetes dataset\n",
        "url = \"https://raw.githubusercontent.com/jbrownlee/Datasets/master/pima-indians-diabetes.data.csv\"\n",
        "column_names = [\"Pregnancies\", \"Glucose\", \"BloodPressure\", \"SkinThickness\", \"Insulin\", \"BMI\", \"DiabetesPedigreeFunction\", \"Age\", \"Outcome\"]\n",
        "dataset = pd.read_csv(url, names=column_names)\n",
        "\n",
        "# Select the first 5 rows of the dataset\n",
        "subset1 = dataset.head(5)\n",
        "\n",
        "# Select rows where the BMI is greater than 30\n",
        "subset2 = dataset[dataset['BMI'] > 30]\n",
        "\n",
        "# Select rows where the Outcome is 1 and the Age is less than or equal to 30\n",
        "subset3 = dataset[(dataset['Outcome'] == 1) & (dataset['Age'] <= 30)]\n",
        "\n",
        "# Select specific columns for a subset of rows\n",
        "subset4 = dataset.loc[10:20, ['Glucose', 'BloodPressure', 'BMI', 'Outcome']]\n",
        "\n",
        "# Print the subsets\n",
        "print(\"Subset 1 - First 5 rows:\")\n",
        "print(subset1)\n",
        "\n",
        "print(\"\\nSubset 2 - Rows with BMI > 30:\")\n",
        "print(subset2)\n",
        "\n",
        "print(\"\\nSubset 3 - Rows with Outcome=1 and Age <= 30:\")\n",
        "print(subset3)\n",
        "\n",
        "print(\"\\nSubset 4 - Rows 10-20, with specific columns:\")\n",
        "print(subset4)\n"
      ],
      "metadata": {
        "id": "9v2G4xFWXv7b"
      },
      "execution_count": null,
      "outputs": []
    },
    {
      "cell_type": "markdown",
      "source": [
        "In this example, we load the Pima Indian Diabetes dataset using Pandas. We then demonstrate different techniques for selecting subsets of data:\n",
        "\n",
        "1. `subset1`: We select the first 5 rows of the dataset using the `head()` function.\n",
        "\n",
        "2. `subset2`: We select rows where the BMI is greater than 30 by using a Boolean condition (`dataset['BMI'] > 30`) inside square brackets.\n",
        "\n",
        "3. `subset3`: We select rows where the Outcome is 1 and the Age is less than or equal to 30. Multiple conditions are combined using the bitwise AND operator (`&`).\n",
        "\n",
        "4. `subset4`: We select rows 10-20 and specific columns (`Glucose`, `BloodPressure`, `BMI`, and `Outcome`) using the `loc` indexer.\n",
        "\n",
        "Each subset is printed to display the selected rows and columns from the dataset. You can modify these techniques based on your specific selection criteria.\n"
      ],
      "metadata": {
        "id": "jf_-jhX4XzYR"
      }
    },
    {
      "cell_type": "markdown",
      "source": [
        "# Indexing and slicing data\n"
      ],
      "metadata": {
        "id": "NUW9b_6LSSa7"
      }
    },
    {
      "cell_type": "markdown",
      "source": [
        "## Indexing data\n"
      ],
      "metadata": {
        "id": "ucbStfSFWljp"
      }
    },
    {
      "cell_type": "markdown",
      "source": [
        "\n",
        "\n",
        "\n",
        "Indexing data in Pandas refers to selecting specific rows and columns from a DataFrame or Series. It allows you to extract or manipulate data based on certain conditions or criteria.\n",
        "\n",
        "Here's an example of indexing data in Pandas using the Pima Indian Diabetes dataset:\n"
      ],
      "metadata": {
        "id": "fB4fqnQzX2Ha"
      }
    },
    {
      "cell_type": "code",
      "source": [
        "import pandas as pd\n",
        "\n",
        "# Load the Pima Indian Diabetes dataset\n",
        "url = \"https://raw.githubusercontent.com/jbrownlee/Datasets/master/pima-indians-diabetes.data.csv\"\n",
        "column_names = [\"Pregnancies\", \"Glucose\", \"BloodPressure\", \"SkinThickness\", \"Insulin\", \"BMI\", \"DiabetesPedigreeFunction\", \"Age\", \"Outcome\"]\n",
        "dataset = pd.read_csv(url, names=column_names)\n",
        "\n",
        "# Select specific columns\n",
        "selected_columns = dataset[[\"Glucose\", \"BMI\", \"Age\"]]\n",
        "\n",
        "# Select rows based on a condition\n",
        "selected_rows = dataset[dataset[\"Outcome\"] == 1]\n",
        "\n",
        "# Select rows based on multiple conditions\n",
        "selected_rows_multiple_conditions = dataset[(dataset[\"Glucose\"] > 150) & (dataset[\"BMI\"] > 30)]\n",
        "\n",
        "# Select rows based on a condition and specific columns\n",
        "selected_rows_and_columns = dataset.loc[dataset[\"Age\"] >= 40, [\"Glucose\", \"BMI\", \"Age\"]]\n",
        "\n",
        "# Print the selected data\n",
        "print(\"Selected columns:\")\n",
        "print(selected_columns.head())\n",
        "\n",
        "print(\"\\nSelected rows based on Outcome:\")\n",
        "print(selected_rows.head())\n",
        "\n",
        "print(\"\\nSelected rows based on multiple conditions:\")\n",
        "print(selected_rows_multiple_conditions.head())\n",
        "\n",
        "print(\"\\nSelected rows and columns:\")\n",
        "print(selected_rows_and_columns.head())\n"
      ],
      "metadata": {
        "id": "2llbMi3sX_nV"
      },
      "execution_count": null,
      "outputs": []
    },
    {
      "cell_type": "markdown",
      "source": [
        "In this example, we load the Pima Indian Diabetes dataset using Pandas. We demonstrate different types of indexing operations:\n",
        "\n",
        "1. Selecting specific columns: We create a new DataFrame `selected_columns` by indexing the original dataset and providing a list of column names we want to select.\n",
        "\n",
        "2. Selecting rows based on a condition: We create a new DataFrame `selected_rows` by indexing the original dataset with a condition (`dataset[\"Outcome\"] == 1`) to select rows where the \"Outcome\" column has a value of 1.\n",
        "\n",
        "3. Selecting rows based on multiple conditions: We create a new DataFrame `selected_rows_multiple_conditions` by indexing the original dataset with multiple conditions to select rows where both the \"Glucose\" column is greater than 150 and the \"BMI\" column is greater than 30.\n",
        "\n",
        "4. Selecting rows based on a condition and specific columns: We create a new DataFrame `selected_rows_and_columns` using the `loc` indexer. We provide a condition (`dataset[\"Age\"] >= 40`) to select rows where the \"Age\" column is greater than or equal to 40. We also specify a list of column names to select only the \"Glucose\", \"BMI\", and \"Age\" columns.\n",
        "\n",
        "Finally, we print the selected data to see the output for each indexing operation.\n"
      ],
      "metadata": {
        "id": "rby3AO1mYDsH"
      }
    },
    {
      "cell_type": "markdown",
      "source": [
        "## Slicing data\n"
      ],
      "metadata": {
        "id": "Jc35OkcbWoH6"
      }
    },
    {
      "cell_type": "markdown",
      "source": [
        "\n",
        "Slicing data in Pandas refers to the process of selecting a subset of rows or columns from a DataFrame. It allows you to extract specific portions of the dataset based on criteria such as row indices, column names, or conditions.\n",
        "\n",
        "Here's an example of slicing data in the Pima Indian Diabetes dataset:\n"
      ],
      "metadata": {
        "id": "roRxI1_oYJyz"
      }
    },
    {
      "cell_type": "code",
      "source": [
        "import pandas as pd\n",
        "\n",
        "# Load the Pima Indian Diabetes dataset\n",
        "url = \"https://raw.githubusercontent.com/jbrownlee/Datasets/master/pima-indians-diabetes.data.csv\"\n",
        "column_names = [\"Pregnancies\", \"Glucose\", \"BloodPressure\", \"SkinThickness\", \"Insulin\", \"BMI\", \"DiabetesPedigreeFunction\", \"Age\", \"Outcome\"]\n",
        "dataset = pd.read_csv(url, names=column_names)\n",
        "\n",
        "# Slice the dataset to select the first 5 rows\n",
        "subset = dataset[:5]\n",
        "\n",
        "# Print the subset\n",
        "print(subset)\n"
      ],
      "metadata": {
        "id": "-WB2K18tYNjZ"
      },
      "execution_count": null,
      "outputs": []
    },
    {
      "cell_type": "markdown",
      "source": [
        "In this example, we load the Pima Indian Diabetes dataset using Pandas. We use slicing notation `[:5]` to select the first 5 rows of the dataset. The `subset` variable stores the sliced portion of the dataset. Finally, we print the subset to see the output.\n",
        "\n",
        "You can modify the slicing notation based on your requirements. For example, to select specific columns, you can use the column names within square brackets. Here's an example:\n"
      ],
      "metadata": {
        "id": "eZt7snxSYRB7"
      }
    },
    {
      "cell_type": "code",
      "source": [
        "# Slice the dataset to select specific columns\n",
        "subset = dataset[['Glucose', 'BMI', 'Age']]\n",
        "\n",
        "# Print the subset\n",
        "print(subset)\n"
      ],
      "metadata": {
        "id": "dOTV3hUFYTx-"
      },
      "execution_count": null,
      "outputs": []
    },
    {
      "cell_type": "markdown",
      "source": [
        "In this case, the `subset` variable contains only the 'Glucose', 'BMI', and 'Age' columns of the dataset. Again, you can customize the column names based on your specific needs.\n"
      ],
      "metadata": {
        "id": "L15Fc6buYWl1"
      }
    },
    {
      "cell_type": "markdown",
      "source": [
        "## Using Boolean indexing for advanced filtering\n"
      ],
      "metadata": {
        "id": "G4LuUIKfWqal"
      }
    },
    {
      "cell_type": "markdown",
      "source": [
        "Boolean indexing in pandas allows for advanced filtering of data based on conditions using Boolean expressions. It involves using Boolean operators (such as `&` for AND, `|` for OR, and `~` for NOT) along with comparison operators to create complex conditions for filtering rows or columns of a DataFrame.\n",
        "\n",
        "Here's an example of using Boolean indexing for advanced filtering on the Pima Indian Diabetes dataset:\n"
      ],
      "metadata": {
        "id": "XRaW8rsgYZN5"
      }
    },
    {
      "cell_type": "code",
      "source": [
        "import pandas as pd\n",
        "\n",
        "# Load the Pima Indian Diabetes dataset\n",
        "url = \"https://raw.githubusercontent.com/jbrownlee/Datasets/master/pima-indians-diabetes.data.csv\"\n",
        "column_names = [\"Pregnancies\", \"Glucose\", \"BloodPressure\", \"SkinThickness\", \"Insulin\", \"BMI\", \"DiabetesPedigreeFunction\", \"Age\", \"Outcome\"]\n",
        "dataset = pd.read_csv(url, names=column_names)\n",
        "\n",
        "# Perform advanced filtering using Boolean indexing\n",
        "filtered_data = dataset[(dataset['Glucose'] > 120) & (dataset['Age'] >= 30) & (dataset['Outcome'] == 1)]\n",
        "\n",
        "# Print the filtered dataset\n",
        "print(filtered_data)\n"
      ],
      "metadata": {
        "id": "8m-mPJjzYdNb"
      },
      "execution_count": null,
      "outputs": []
    },
    {
      "cell_type": "markdown",
      "source": [
        "In this example, we load the Pima Indian Diabetes dataset using Pandas. We then use Boolean indexing to filter the dataset based on multiple conditions. The conditions include:\n",
        "- `dataset['Glucose'] > 120`: Select rows where the 'Glucose' value is greater than 120.\n",
        "- `dataset['Age'] >= 30`: Select rows where the 'Age' value is greater than or equal to 30.\n",
        "- `dataset['Outcome'] == 1`: Select rows where the 'Outcome' value is equal to 1 (indicating diabetes).\n",
        "\n",
        "By combining these conditions using the `&` operator, we filter the dataset to include only the rows that satisfy all the conditions. The resulting `filtered_data` DataFrame contains the filtered rows. Finally, we print the filtered dataset to see the output.\n",
        "\n",
        "You can modify the conditions or add more conditions as per your requirements to perform advanced filtering using Boolean indexing in pandas.\n"
      ],
      "metadata": {
        "id": "SmTGg8rbYhbw"
      }
    },
    {
      "cell_type": "markdown",
      "source": [
        "# Reflection Points"
      ],
      "metadata": {
        "id": "185xoqHiYkSf"
      }
    },
    {
      "cell_type": "markdown",
      "source": [
        "1. **Filtering rows based on specific conditions**:\n",
        "   - How do you filter rows in a DataFrame based on a specific condition?\n",
        "   - How can you use comparison operators (e.g., ==, >, <) to filter rows?\n",
        "   - What are some common methods for filtering rows using logical conditions?\n",
        "   - Can you provide an example of filtering rows based on multiple conditions using logical operators (e.g., AND, OR)?\n",
        "\n",
        "   Sample Answer: Filtering rows based on specific conditions can be achieved using the `loc` or `iloc` accessor in pandas. For example, to filter rows where a certain column meets a specific condition, you can use `df.loc[df['column'] > 5]` to select rows where the values in the 'column' column are greater than 5.\n",
        "\n",
        "2. **Selecting columns and subsets of data**:\n",
        "   - How can you select specific columns from a DataFrame?\n",
        "   - What are some techniques to select subsets of data based on criteria?\n",
        "   - How do you extract a single value or a subset of values from a DataFrame using labels or indices?\n",
        "\n",
        "   Sample Answer: To select specific columns from a DataFrame, you can use the indexing operator `[]` or the `loc` and `iloc` accessors. For example, `df['column']` selects a single column, and `df[['column1', 'column2']]` selects multiple columns. To select subsets of data based on criteria, you can use boolean indexing, where you create a boolean condition and pass it inside the indexing operator to filter the data.\n",
        "\n",
        "3. **Indexing and slicing data**:\n",
        "   - What is the purpose of indexes in pandas?\n",
        "   - How can you set and reset indexes in a DataFrame?\n",
        "   - How do you perform slicing operations on a DataFrame or a Series?\n",
        "\n",
        "   Sample Answer: Indexes in pandas help identify and locate data in a DataFrame or Series. You can set a column as the index using the `set_index()` method, and reset the index using the `reset_index()` method. Slicing operations allow you to extract specific subsets of data from a DataFrame or Series based on row or column positions or labels.\n",
        "\n",
        "4. **Using Boolean indexing for advanced filtering**:\n",
        "   - How does Boolean indexing work in pandas?\n",
        "   - Can you explain the process of filtering data using multiple conditions with Boolean indexing?\n",
        "   - What are some common use cases where Boolean indexing is beneficial?\n",
        "\n",
        "   Sample Answer: Boolean indexing in pandas involves using a boolean condition to filter rows or columns of a DataFrame. For example, `df[df['column'] > 5]` selects rows where the values in the 'column' column are greater than 5. To filter data using multiple conditions, you can use logical operators like `&` (AND) and `|` (OR) to combine multiple boolean conditions. Boolean indexing is useful when you need to perform complex filtering operations or extract specific subsets of data based on multiple criteria.\n"
      ],
      "metadata": {
        "id": "buYKHE4aj1KN"
      }
    },
    {
      "cell_type": "markdown",
      "source": [
        "# Exercise"
      ],
      "metadata": {
        "id": "M9EisCF-eMaw"
      }
    },
    {
      "cell_type": "markdown",
      "source": [
        "1. Load the dataset into a Pandas DataFrame.\n",
        "2. Perform data filtering and selection to answer the following questions:\n",
        "   - a. How many patients have diabetes (class variable = 1) in the dataset?\n",
        "   - b. What is the average age of patients who have diabetes (class variable = 1)?\n",
        "   - c. How many patients are above the age of 40 and have a body mass index (BMI) greater than or equal to 30?\n",
        "   - d. Create a new DataFrame containing only the following columns: 'Number of times pregnant', 'Plasma glucose concentration', and 'Age'.\n",
        "\n"
      ],
      "metadata": {
        "id": "rx9LjvTNecbO"
      }
    },
    {
      "cell_type": "markdown",
      "source": [
        "# Sample Solution"
      ],
      "metadata": {
        "id": "HV9TQM3AeigK"
      }
    },
    {
      "cell_type": "code",
      "source": [
        "import pandas as pd\n",
        "\n",
        "# Step 1: Load the dataset into a Pandas DataFrame\n",
        "url = \"https://raw.githubusercontent.com/jbrownlee/Datasets/master/pima-indians-diabetes.data.csv\"\n",
        "column_names = ['Number of times pregnant', 'Plasma glucose concentration', 'Diastolic blood pressure',\n",
        "                'Triceps skinfold thickness', '2-Hour serum insulin', 'Body mass index',\n",
        "                'Diabetes pedigree function', 'Age', 'Class variable']\n",
        "data = pd.read_csv(url, names=column_names)\n",
        "\n",
        "# Step 2: Perform data filtering and selection\n",
        "# a. How many patients have diabetes (class variable = 1) in the dataset?\n",
        "diabetes_patients_count = data[data['Class variable'] == 1].shape[0]\n",
        "print(\"Number of patients with diabetes:\", diabetes_patients_count)\n",
        "\n",
        "# b. What is the average age of patients who have diabetes (class variable = 1)?\n",
        "average_age_diabetes_patients = data[data['Class variable'] == 1]['Age'].mean()\n",
        "print(\"Average age of patients with diabetes:\", average_age_diabetes_patients)\n",
        "\n",
        "# c. How many patients are above the age of 40 and have a body mass index (BMI) greater than or equal to 30?\n",
        "patients_above_40_bmi_30_count = data[(data['Age'] > 40) & (data['Body mass index'] >= 30)].shape[0]\n",
        "print(\"Number of patients above 40 with BMI >= 30:\", patients_above_40_bmi_30_count)\n",
        "\n",
        "# d. Create a new DataFrame containing only the following columns:\n",
        "# 'Number of times pregnant', 'Plasma glucose concentration', and 'Age'.\n",
        "selected_columns_df = data[['Number of times pregnant', 'Plasma glucose concentration', 'Age']]\n",
        "print(\"\\nNew DataFrame with selected columns:\")\n",
        "print(selected_columns_df.head())\n"
      ],
      "metadata": {
        "id": "B_wyVr9xeOc9"
      },
      "execution_count": null,
      "outputs": []
    },
    {
      "cell_type": "markdown",
      "source": [
        "# A quiz on Data Filtering and Selection"
      ],
      "metadata": {
        "id": "j7lLoyQ5UauV"
      }
    },
    {
      "cell_type": "markdown",
      "source": [
        "\n",
        "1. Which pandas function is used to filter rows based on specific conditions?\n",
        "   <br>a) `filter()`\n",
        "   <br>b) `find()`\n",
        "   <br>c) `query()`\n",
        "   <br>d) `select()`\n",
        "\n",
        "2. How can you select specific columns from a pandas DataFrame?\n",
        "   <br>a) Using the `get_columns()` function\n",
        "   <br>b) Using the `select_columns()` function\n",
        "   <br>c) Using the `[]` operator with column names\n",
        "   <br>d) Using the `filter_columns()` function\n",
        "\n",
        "3. What is the correct way to subset a DataFrame based on specific conditions?\n",
        "   <br>a) Using the `subset()` method\n",
        "   <br>b) Using the `filter()` method\n",
        "   <br>c) Using the `slice()` method\n",
        "   <br>d) Using boolean indexing with conditions\n",
        "\n",
        "4. Which operator is used for indexing data in pandas?\n",
        "   <br>a) `()`\n",
        "   <br>b) `{}`\n",
        "   <br>c) `[]`\n",
        "   <br>d) `<>`\n",
        "\n",
        "5. How can you slice rows and columns simultaneously in a DataFrame?\n",
        "   <br>a) Using the `loc[]` or `iloc[]` indexer\n",
        "   <br>b) Using the `slice()` function\n",
        "   <br>c) Using the `get()` method\n",
        "   <br>d) Using the `subset()` function\n",
        "\n",
        "6. What is boolean indexing used for in pandas?\n",
        "   <br>a) To filter rows based on specific conditions\n",
        "   <br>b) To sort data in ascending order\n",
        "   <br>c) To perform mathematical operations on columns\n",
        "   <br>d) To rename column names\n",
        "---\n",
        "Answers:\n",
        "\n",
        "1. c) `query()`\n",
        "2. c) Using the `[]` operator with column names\n",
        "3. d) Using boolean indexing with conditions\n",
        "4. c) `[]`\n",
        "5. a) Using the `loc[]` or `iloc[]` indexer\n",
        "6. a) To filter rows based on specific conditions\n",
        "---"
      ],
      "metadata": {
        "id": "ZVZKDNf3Uzkm"
      }
    }
  ]
}