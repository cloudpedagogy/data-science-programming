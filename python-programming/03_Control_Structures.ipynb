{
  "nbformat": 4,
  "nbformat_minor": 0,
  "metadata": {
    "colab": {
      "provenance": [],
      "toc_visible": true,
      "authorship_tag": "ABX9TyMyPcHeRN7kpcxN0wRamesr",
      "include_colab_link": true
    },
    "kernelspec": {
      "name": "python3",
      "display_name": "Python 3"
    },
    "language_info": {
      "name": "python"
    }
  },
  "cells": [
    {
      "cell_type": "markdown",
      "metadata": {
        "id": "view-in-github",
        "colab_type": "text"
      },
      "source": [
        "<a href=\"https://colab.research.google.com/github/cloudpedagogy/data-science-programming/blob/main/python-programming/03_Control_Structures.ipynb\" target=\"_parent\"><img src=\"https://colab.research.google.com/assets/colab-badge.svg\" alt=\"Open In Colab\"/></a>"
      ]
    },
    {
      "cell_type": "markdown",
      "source": [
        "# Control Structures"
      ],
      "metadata": {
        "id": "aIo0ZYHtnng3"
      }
    },
    {
      "cell_type": "markdown",
      "source": [
        "## Overview\n"
      ],
      "metadata": {
        "id": "F7KEx28z8UdH"
      }
    },
    {
      "cell_type": "markdown",
      "source": [
        "\n",
        "In Python, control structures are used to alter the flow of program execution based on certain conditions or criteria. These structures allow you to make decisions, repeat code blocks, and control the overall flow of your program. The main control structures in Python include:\n",
        "\n",
        "1. **Conditional Statements (if, elif, else)**:\n",
        "   Conditional statements allow you to execute different code blocks based on specific conditions. The `if` statement checks a condition and executes a block of code if it evaluates to true. The `elif` (short for \"else if\") statement allows you to specify additional conditions to check. The `else` statement provides a block of code to be executed if none of the previous conditions are true.\n",
        "\n",
        "2. **Loops**:\n",
        "   Loops enable you to execute a block of code repeatedly. Python offers two main types of loops:\n",
        "\n",
        "   - `for` loop: It allows you to iterate over a sequence (such as a list, tuple, or string) or other iterable objects. You can specify the number of iterations or let Python determine it automatically.\n",
        "\n",
        "   - `while` loop: It repeats a block of code as long as a specified condition remains true. The condition is checked before each iteration.\n",
        "\n",
        "3. **Control Keywords**:\n",
        "   Python provides several control keywords that modify the behavior of control structures:\n",
        "\n",
        "   - `break`: Terminates the nearest enclosing loop or switch statement, and the program continues executing from the next statement after the loop.\n",
        "\n",
        "   - `continue`: Skips the rest of the current iteration and proceeds to the next iteration of the loop.\n",
        "\n",
        "   - `pass`: Acts as a placeholder statement when no action is required. It is commonly used as a placeholder for code that will be implemented later.\n",
        "\n",
        "These control structures provide the necessary tools to control the flow of your Python program and make it dynamic and responsive to different situations."
      ],
      "metadata": {
        "id": "SDzwClgBo99o"
      }
    },
    {
      "cell_type": "markdown",
      "source": [
        "# Conditional Statements\n"
      ],
      "metadata": {
        "id": "RQqVRoFq0rqB"
      }
    },
    {
      "cell_type": "markdown",
      "source": [
        "## If, elif, else\n"
      ],
      "metadata": {
        "id": "pZQI4dfu8WrD"
      }
    },
    {
      "cell_type": "markdown",
      "source": [
        "\n",
        "\n",
        "In Python, the `if`, `elif` (short for \"else if\"), and `else` are control flow statements used for conditional execution. They allow you to specify different actions or paths to take based on certain conditions.\n",
        "\n",
        "Here's an example using the Pima Indian Diabetes dataset to demonstrate the usage of `if`, `elif`, and `else` statements:\n"
      ],
      "metadata": {
        "id": "bsS9T2-K0yz4"
      }
    },
    {
      "cell_type": "code",
      "source": [
        "import pandas as pd\n",
        "\n",
        "# Load the Pima Indian Diabetes dataset\n",
        "url = \"https://raw.githubusercontent.com/jbrownlee/Datasets/master/pima-indians-diabetes.data.csv\"\n",
        "column_names = [\"Pregnancies\", \"Glucose\", \"BloodPressure\", \"SkinThickness\", \"Insulin\", \"BMI\", \"DiabetesPedigreeFunction\", \"Age\", \"Outcome\"]\n",
        "dataset = pd.read_csv(url, names=column_names)\n",
        "\n",
        "# Extract the first row of data\n",
        "first_row = dataset.iloc[0]\n",
        "\n",
        "# Check the BMI value and print a message based on the condition\n",
        "bmi = first_row['BMI']\n",
        "if bmi >= 30:\n",
        "    print(\"BMI is above or equal to 30. Consider taking measures for weight management.\")\n",
        "elif bmi >= 25:\n",
        "    print(\"BMI is between 25 and 29.9. Maintain a healthy lifestyle.\")\n",
        "else:\n",
        "    print(\"BMI is below 25. Good job on maintaining a healthy BMI!\")\n"
      ],
      "metadata": {
        "id": "d0rbWDC806QX",
        "colab": {
          "base_uri": "https://localhost:8080/"
        },
        "outputId": "4be63c71-640e-4e0e-97fb-12a4ae546056"
      },
      "execution_count": null,
      "outputs": [
        {
          "output_type": "stream",
          "name": "stdout",
          "text": [
            "BMI is above or equal to 30. Consider taking measures for weight management.\n"
          ]
        }
      ]
    },
    {
      "cell_type": "markdown",
      "source": [
        "In this example, we load the Pima Indian Diabetes dataset using the Pandas library. We extract the first row of data from the dataset using the `iloc[]` function and store it in the `first_row` variable.\n",
        "\n",
        "We then check the value of the BMI (Body Mass Index) from the first row. If the BMI is greater than or equal to 30, the program prints a message suggesting weight management measures. If the BMI is between 25 and 29.9, it prints a message about maintaining a healthy lifestyle. If the BMI is below 25, it prints a message acknowledging the healthy BMI.\n",
        "\n",
        "The `if` statement checks the condition `bmi >= 30`. If it evaluates to `True`, the corresponding code block under the `if` statement is executed. If the condition is `False`, the program moves to the `elif` statement and checks the condition `bmi >= 25`. If this condition is `True`, the code block under the `elif` statement is executed. If none of the previous conditions are met, the program executes the code block under the `else` statement.\n",
        "\n",
        "In this example, the message printed will depend on the value of the BMI in the first row of the dataset.\n"
      ],
      "metadata": {
        "id": "p-NeJkqQ0_4N"
      }
    },
    {
      "cell_type": "markdown",
      "source": [
        "## Nested if statements\n"
      ],
      "metadata": {
        "id": "UR6mXLvz8ZI1"
      }
    },
    {
      "cell_type": "markdown",
      "source": [
        "\n",
        "Nested if statements in Python allow you to have if statements within other if statements. This allows for more complex conditional logic by checking multiple conditions and executing different blocks of code based on those conditions.\n",
        "\n",
        "Here's an example using the Pima Indian Diabetes dataset to demonstrate nested if statements:\n"
      ],
      "metadata": {
        "id": "2XSmhz1r1D7m"
      }
    },
    {
      "cell_type": "code",
      "source": [
        "import pandas as pd\n",
        "\n",
        "# Load the Pima Indian Diabetes dataset\n",
        "url = \"https://raw.githubusercontent.com/jbrownlee/Datasets/master/pima-indians-diabetes.data.csv\"\n",
        "column_names = [\"Pregnancies\", \"Glucose\", \"BloodPressure\", \"SkinThickness\", \"Insulin\", \"BMI\", \"DiabetesPedigreeFunction\", \"Age\", \"Outcome\"]\n",
        "dataset = pd.read_csv(url, names=column_names)\n",
        "\n",
        "# Get the values for a specific record from the dataset\n",
        "pregnancies = dataset.loc[0, 'Pregnancies']\n",
        "glucose = dataset.loc[0, 'Glucose']\n",
        "outcome = dataset.loc[0, 'Outcome']\n",
        "\n",
        "# Perform nested if statements based on the values\n",
        "if pregnancies > 0:\n",
        "    if glucose >= 140:\n",
        "        if outcome == 1:\n",
        "            print(\"The patient has diabetes with high glucose levels and positive outcome.\")\n",
        "        else:\n",
        "            print(\"The patient has high glucose levels but no diabetes.\")\n",
        "    else:\n",
        "        print(\"The patient has low glucose levels.\")\n",
        "else:\n",
        "    print(\"Invalid number of pregnancies.\")\n"
      ],
      "metadata": {
        "id": "Nt5Rl-LW1K3W",
        "outputId": "0b95965f-0974-495c-94aa-ff8de259c252",
        "colab": {
          "base_uri": "https://localhost:8080/"
        }
      },
      "execution_count": null,
      "outputs": [
        {
          "output_type": "stream",
          "name": "stdout",
          "text": [
            "The patient has diabetes with high glucose levels and positive outcome.\n"
          ]
        }
      ]
    },
    {
      "cell_type": "markdown",
      "source": [
        "In this example, we load the Pima Indian Diabetes dataset using the Pandas library. We then assign specific values from the dataset to variables (`pregnancies`, `glucose`, `outcome`) for a particular record.\n",
        "\n",
        "We use nested if statements to check multiple conditions and execute different blocks of code based on those conditions:\n",
        "\n",
        "- The outer if statement checks if the number of pregnancies is greater than 0. If true, it proceeds to the inner if statement.\n",
        "- The inner if statement checks if the glucose level is greater than or equal to 140. If true, it further checks the outcome variable.\n",
        "- If the outcome is 1 (indicating a positive outcome for diabetes), it prints a specific message.\n",
        "- If the outcome is not 1, it prints a different message.\n",
        "- If the glucose level is not greater than or equal to 140, it prints a different message.\n",
        "- If the number of pregnancies is not greater than 0, it prints an \"Invalid number of pregnancies\" message.\n",
        "\n",
        "The nested if statements allow for conditional branching based on multiple conditions, providing more granular control over the logic and output of the program.\n"
      ],
      "metadata": {
        "id": "X2TOSJP41TN_"
      }
    },
    {
      "cell_type": "markdown",
      "source": [
        "# Loops\n"
      ],
      "metadata": {
        "id": "o5x3fSo4m0Fk"
      }
    },
    {
      "cell_type": "markdown",
      "source": [
        "## For loop, while loop\n"
      ],
      "metadata": {
        "id": "F_dBVVT98bIv"
      }
    },
    {
      "cell_type": "markdown",
      "source": [
        "\n",
        "\n",
        "\n",
        "In Python, for loops and while loops are used for iterative execution of a block of code. They allow you to repeat a set of instructions multiple times, either for a specific number of iterations or until a certain condition is met.\n",
        "\n",
        "1. For Loop:\n",
        "A for loop is used to iterate over a sequence (such as a list, tuple, or string) or any other iterable object. It executes a block of code for each item in the sequence.\n",
        "\n",
        "Here's an example using a for loop with the Pima Indian Diabetes dataset:\n"
      ],
      "metadata": {
        "id": "onAUk0SV1Zde"
      }
    },
    {
      "cell_type": "code",
      "source": [
        "import pandas as pd\n",
        "\n",
        "# Load the Pima Indian Diabetes dataset\n",
        "url = \"https://raw.githubusercontent.com/jbrownlee/Datasets/master/pima-indians-diabetes.data.csv\"\n",
        "column_names = [\"Pregnancies\", \"Glucose\", \"BloodPressure\", \"SkinThickness\", \"Insulin\", \"BMI\", \"DiabetesPedigreeFunction\", \"Age\", \"Outcome\"]\n",
        "dataset = pd.read_csv(url, names=column_names)\n",
        "\n",
        "# Iterate over each row in the dataset using a for loop\n",
        "for index, row in dataset.iterrows():\n",
        "    print(\"Row:\", index)\n",
        "    print(\"Pregnancies:\", row['Pregnancies'])\n",
        "    print(\"Glucose:\", row['Glucose'])\n",
        "    print(\"Outcome:\", row['Outcome'])\n",
        "    print(\"-------------------\")\n"
      ],
      "metadata": {
        "id": "4hJh4xgF1fIa"
      },
      "execution_count": null,
      "outputs": []
    },
    {
      "cell_type": "markdown",
      "source": [
        "In this example, we load the Pima Indian Diabetes dataset using the Pandas library. We use a for loop to iterate over each row in the dataset using the `iterrows()` function.\n",
        "\n",
        "Inside the loop, we access the values in each row using the column names as keys. We print the row index, along with the values of 'Pregnancies', 'Glucose', and 'Outcome' columns.\n",
        "\n",
        "The loop will execute for each row in the dataset, printing the desired information.\n",
        "\n",
        "2. While Loop:\n",
        "A while loop is used to repeatedly execute a block of code as long as a given condition is true. It continues executing until the condition becomes false.\n",
        "\n",
        "Here's an example using a while loop with the Pima Indian Diabetes dataset:\n"
      ],
      "metadata": {
        "id": "milDYwjG1u7V"
      }
    },
    {
      "cell_type": "code",
      "source": [
        "import pandas as pd\n",
        "\n",
        "# Load the Pima Indian Diabetes dataset\n",
        "url = \"https://raw.githubusercontent.com/jbrownlee/Datasets/master/pima-indians-diabetes.data.csv\"\n",
        "column_names = [\"Pregnancies\", \"Glucose\", \"BloodPressure\", \"SkinThickness\", \"Insulin\", \"BMI\", \"DiabetesPedigreeFunction\", \"Age\", \"Outcome\"]\n",
        "dataset = pd.read_csv(url, names=column_names)\n",
        "\n",
        "# Set the initial index and maximum number of iterations\n",
        "index = 0\n",
        "max_iterations = 5\n",
        "\n",
        "# Perform iterations using a while loop\n",
        "while index < len(dataset) and index < max_iterations:\n",
        "    row = dataset.loc[index]\n",
        "    print(\"Row:\", index)\n",
        "    print(\"Pregnancies:\", row['Pregnancies'])\n",
        "    print(\"Glucose:\", row['Glucose'])\n",
        "    print(\"Outcome:\", row['Outcome'])\n",
        "    print(\"-------------------\")\n",
        "    index += 1\n"
      ],
      "metadata": {
        "id": "S9kDYaIm1zht"
      },
      "execution_count": null,
      "outputs": []
    },
    {
      "cell_type": "markdown",
      "source": [
        "In this example, we load the Pima Indian Diabetes dataset using the Pandas library. We use a while loop to perform iterations.\n",
        "\n",
        "We set the initial index to 0 and define a maximum number of iterations to 5. The loop condition checks if the index is less than the length of the dataset and if it is less than the maximum iterations.\n",
        "\n",
        "Inside the loop, we access the values in each row using the column names as keys and print the desired information.\n",
        "\n",
        "The loop will execute until the condition becomes false or until the maximum number of iterations is reached, printing the information for the specified number of rows.\n"
      ],
      "metadata": {
        "id": "C54X_jPG15Hy"
      }
    },
    {
      "cell_type": "markdown",
      "source": [
        "## Break, continue, and pass statements\n"
      ],
      "metadata": {
        "id": "QHNdIUXs8c-s"
      }
    },
    {
      "cell_type": "markdown",
      "source": [
        "\n",
        "In Python, the `break`, `continue`, and `pass` statements are used to control the flow of a loop or conditional statement.\n",
        "\n",
        "1. `break`: The `break` statement is used to exit the current loop prematurely. When encountered, the loop is terminated, and the program execution continues with the next statement after the loop.\n",
        "\n",
        "Here's an example using the Pima Indian Diabetes dataset to demonstrate the `break` statement:\n"
      ],
      "metadata": {
        "id": "NOPqxlWi1-jK"
      }
    },
    {
      "cell_type": "code",
      "source": [
        "import pandas as pd\n",
        "\n",
        "# Load the Pima Indian Diabetes dataset\n",
        "url = \"https://raw.githubusercontent.com/jbrownlee/Datasets/master/pima-indians-diabetes.data.csv\"\n",
        "column_names = [\"Pregnancies\", \"Glucose\", \"BloodPressure\", \"SkinThickness\", \"Insulin\", \"BMI\", \"DiabetesPedigreeFunction\", \"Age\", \"Outcome\"]\n",
        "dataset = pd.read_csv(url, names=column_names)\n",
        "\n",
        "# Iterate over the dataset and break the loop when the outcome is positive\n",
        "for index, row in dataset.iterrows():\n",
        "    if row['Outcome'] == 1:\n",
        "        print(\"Positive outcome found. Breaking the loop.\")\n",
        "        break\n",
        "    else:\n",
        "        print(\"Outcome is not positive. Continuing to the next iteration.\")\n"
      ],
      "metadata": {
        "id": "GSnOA8Hc2K4d"
      },
      "execution_count": null,
      "outputs": []
    },
    {
      "cell_type": "markdown",
      "source": [
        "In this example, we load the Pima Indian Diabetes dataset using the Pandas library. We use a `for` loop to iterate over the dataset using the `iterrows()` function. Inside the loop, we check the value of the 'Outcome' column for each row.\n",
        "\n",
        "If the outcome is positive (1), we print a message indicating a positive outcome is found and then use the `break` statement to exit the loop prematurely. This means that as soon as a positive outcome is found, the loop is terminated, and the program execution continues with the next statement after the loop.\n",
        "\n",
        "**2. `continue`**: The `continue` statement is used to skip the rest of the code within a loop iteration and move to the next iteration.\n",
        "\n",
        "Here's an example using the Pima Indian Diabetes dataset to demonstrate the `continue` statement:\n"
      ],
      "metadata": {
        "id": "fcyOCCMg2ROQ"
      }
    },
    {
      "cell_type": "code",
      "source": [
        "import pandas as pd\n",
        "\n",
        "# Load the Pima Indian Diabetes dataset\n",
        "url = \"https://raw.githubusercontent.com/jbrownlee/Datasets/master/pima-indians-diabetes.data.csv\"\n",
        "column_names = [\"Pregnancies\", \"Glucose\", \"BloodPressure\", \"SkinThickness\", \"Insulin\", \"BMI\", \"DiabetesPedigreeFunction\", \"Age\", \"Outcome\"]\n",
        "dataset = pd.read_csv(url, names=column_names)\n",
        "\n",
        "# Iterate over the dataset and print the rows with positive outcome\n",
        "for index, row in dataset.iterrows():\n",
        "    if row['Outcome'] != 1:\n",
        "        continue\n",
        "    else:\n",
        "        print(\"Positive outcome found:\")\n",
        "        print(row)\n"
      ],
      "metadata": {
        "id": "J_qlnn5d2ViJ"
      },
      "execution_count": null,
      "outputs": []
    },
    {
      "cell_type": "markdown",
      "source": [
        "In this example, we load the Pima Indian Diabetes dataset using the Pandas library. We iterate over the dataset using a `for` loop. Inside the loop, we check if the value of the 'Outcome' column is not equal to 1 (indicating a positive outcome).\n",
        "\n",
        "If the outcome is not positive, we encounter the `continue` statement. This causes the loop to skip the rest of the code within that iteration and move to the next iteration, starting from the next row.\n",
        "\n",
        "If the outcome is positive, we print a message indicating a positive outcome is found and then print the entire row using `print(row)`.\n",
        "\n",
        "\n"
      ],
      "metadata": {
        "id": "3ZJHkzxL2cGd"
      }
    },
    {
      "cell_type": "markdown",
      "source": [
        "**3. `pass`:** The `pass` statement is a null statement that does nothing. It is used as a placeholder when a statement is syntactically required but does not need any action.\n",
        "\n",
        "Here's an example using the Pima Indian Diabetes dataset to demonstrate the `pass` statement:\n"
      ],
      "metadata": {
        "id": "UpcE_tJX35Jm"
      }
    },
    {
      "cell_type": "code",
      "source": [
        "import pandas as pd\n",
        "\n",
        "# Load the Pima Indian Diabetes dataset\n",
        "url = \"https://raw.githubusercontent.com/jbrownlee/Datasets/master/pima-indians-diabetes.data.csv\"\n",
        "column_names = [\"Pregnancies\", \"Glucose\", \"BloodPressure\", \"SkinThickness\", \"Insulin\", \"BMI\", \"DiabetesPedigreeFunction\", \"Age\", \"Outcome\"]\n",
        "dataset = pd.read_csv(url, names=column_names)\n",
        "\n",
        "# Iterate over the dataset and perform some conditional operations\n",
        "for index, row in dataset.iterrows():\n",
        "    if row['Glucose'] > 150:\n",
        "        # Perform some operations for high glucose values\n",
        "        pass\n",
        "    else:\n",
        "        # Perform some operations for other cases\n",
        "        pass\n"
      ],
      "metadata": {
        "id": "sxJkalpu4Owb"
      },
      "execution_count": null,
      "outputs": []
    },
    {
      "cell_type": "markdown",
      "source": [
        "In this example, we load the Pima Indian Diabetes dataset using the Pandas library. We iterate over the dataset using a `for` loop. Inside the loop, we perform conditional operations based on the value of the 'Glucose' column.\n",
        "\n",
        "If the glucose value is greater than 150, we encounter the `pass` statement. This statement does nothing and serves as a placeholder. It allows us to include the syntactically required if-else structure without any specific action.\n",
        "\n",
        "Similarly, for the other cases where the glucose value is not greater than 150, we encounter another `pass` statement, again indicating no specific action is taken.\n",
        "\n",
        "The `pass` statement is useful when you need to define a placeholder for future implementation or when you want to avoid syntax errors without including any code.\n"
      ],
      "metadata": {
        "id": "E7xn1Lx84S8M"
      }
    },
    {
      "cell_type": "markdown",
      "source": [
        "# Reflection points"
      ],
      "metadata": {
        "id": "PNrXzlFu4hno"
      }
    },
    {
      "cell_type": "markdown",
      "source": [
        "Here is a list of reflection points on Conditional Statements and Loops in Python along with sample answers:\n",
        "\n",
        "**Conditional Statements:**\n",
        "\n",
        "1. What are conditional statements in Python, and why are they important?\n",
        "\n",
        "   Conditional statements allow us to make decisions in our code based on certain conditions. They are essential for controlling the flow of execution and making our programs more dynamic and responsive. By evaluating conditions, we can choose different paths and execute specific code blocks accordingly.\n",
        "\n",
        "2. What is the syntax for the `if` statement in Python?\n",
        "\n",
        "   The syntax for the `if` statement is as follows:\n",
        "\n",
        "   ```python\n",
        "   if condition:\n",
        "       # Code to be executed if the condition is true\n",
        "   ```\n",
        "\n",
        "3. How can we handle alternative conditions using `if-else` statements?\n",
        "\n",
        "   `if-else` statements allow us to handle alternative conditions. If the initial condition evaluates to `True`, the code inside the `if` block is executed. Otherwise, the code inside the `else` block is executed.\n",
        "\n",
        "4. What is the purpose of the `elif` statement?\n",
        "\n",
        "   The `elif` statement, short for \"else if,\" allows us to handle multiple conditions in a chain. It is used when we have multiple alternative conditions to consider. If the initial `if` condition is false, the subsequent `elif` conditions are checked one by one until a true condition is found or until the final `else` block is reached.\n",
        "\n",
        "**Loops:**\n",
        "\n",
        "1. What are loops, and why are they important in programming?\n",
        "\n",
        "   Loops enable us to repeat a specific block of code multiple times, making our programs more efficient and reducing the need for repetitive coding. They allow us to automate tasks, iterate over data structures, and solve problems that involve repetitive operations.\n",
        "\n",
        "2. What is the difference between a `for` loop and a `while` loop?\n",
        "\n",
        "   A `for` loop is used when we know the exact number of iterations in advance. It iterates over a sequence (such as a list or a string) or any iterable object. In contrast, a `while` loop is used when we want to repeat a block of code as long as a certain condition is true. The number of iterations in a `while` loop may vary.\n",
        "\n",
        "3. How does the `range()` function work in a `for` loop?\n",
        "\n",
        "   The `range()` function generates a sequence of numbers that can be used to control the iterations in a `for` loop. By specifying the start, stop, and step size, we can determine the range of values the loop will iterate over. For example, `range(1, 10, 2)` will generate odd numbers from 1 to 9.\n",
        "\n",
        "4. What is the purpose of the `break` statement in a loop?\n",
        "\n",
        "   The `break` statement is used to terminate the loop prematurely. When encountered, it immediately exits the loop, regardless of the condition. It is often used when a certain condition is met, and we want to stop the loop execution immediately.\n"
      ],
      "metadata": {
        "id": "M3fP7sMb4q0M"
      }
    },
    {
      "cell_type": "markdown",
      "source": [
        "# A quiz on Conditional Statements"
      ],
      "metadata": {
        "id": "NMLpm64_JNGM"
      }
    },
    {
      "cell_type": "markdown",
      "source": [
        "\n",
        "1. What is the purpose of using if statements in Python programming?\n",
        "<br>a) To iterate over a sequence of elements.\n",
        "<br>b) To perform a specific action based on a condition.\n",
        "<br>c) To define a function.\n",
        "<br>d) To import modules and libraries.\n",
        "\n",
        "2. Which keyword is used to define an if statement in Python?\n",
        "<br>a) for\n",
        "<br>b) while\n",
        "<br>c) if\n",
        "<br>d) def\n",
        "\n",
        "3. Which operator is used to compare two values in an if statement?\n",
        "<br>a) =\n",
        "<br>b) ==\n",
        "<br>c) >\n",
        "<br>d) +\n",
        "\n",
        "4. What is the purpose of using the elif statement?\n",
        "<br>a) To define a new function.\n",
        "<br>b) To handle multiple conditions sequentially.\n",
        "<br>c) To import modules and libraries.\n",
        "<br>d) To perform a specific action repeatedly.\n",
        "\n",
        "5. How do you write a nested if statement in Python?\n",
        "<br>a) Using the keyword \"then\" after the if statement.\n",
        "<br>b) Using the keyword \"else\" after the if statement.\n",
        "<br>c) Indenting the inner if statement within the outer if statement.\n",
        "<br>d) Placing the inner if statement before the outer if statement.\n",
        "\n",
        "6. What does the following code snippet do?\n",
        "```python\n",
        "if age >= 18:\n",
        "    if gender == 'Female':\n",
        "        print(\"You are eligible for the women's category.\")\n",
        "    else:\n",
        "        print(\"You are eligible for the men's category.\")\n",
        "else:\n",
        "    print(\"You are not eligible.\")\n",
        "```\n",
        "<br>a) Checks if a person is eligible for a specific category based on age and gender.\n",
        "<br>b) Checks if a person is eligible for a specific category based on age only.\n",
        "<br>c) Prints a message based on the gender of a person.\n",
        "<br>d) Prints a message based on the age of a person.\n",
        "\n",
        "7. How can you handle multiple conditions using if, elif, and else statements?\n",
        "<br>a) By nesting if statements within each other.\n",
        "<br>b) By using multiple if statements without any nesting.\n",
        "<br>c) By combining if statements with logical operators like \"and\" and \"or\".\n",
        "<br>d) By using loops instead of if statements.\n",
        "\n",
        "---\n",
        "Answers:\n",
        "\n",
        "1. b) To perform a specific action based on a condition.\n",
        "2. c) if\n",
        "3. b) ==\n",
        "4. b) To handle multiple conditions sequentially.\n",
        "5. c) Indenting the inner if statement within the outer if statement.\n",
        "6. a) Checks if a person is eligible for a specific category based on age and gender.\n",
        "7. c) By combining if statements with logical operators like \"and\" and \"or\".\n",
        "---\n",
        "\n"
      ],
      "metadata": {
        "id": "IoJQdtcAJjPb"
      }
    },
    {
      "cell_type": "markdown",
      "source": [
        "# A quiz on Loops"
      ],
      "metadata": {
        "id": "QPeaEZloK3Gn"
      }
    },
    {
      "cell_type": "markdown",
      "source": [
        "\n",
        "\n",
        "1. Which loop is used to iterate over a sequence of elements in Python?\n",
        "<br>a) for loop\n",
        "<br>b) while loop\n",
        "\n",
        "2. How do you create a for loop in Python?\n",
        "<br>a) using the \"for\" keyword\n",
        "<br>b) using the \"while\" keyword\n",
        "\n",
        "3. What is the purpose of the \"break\" statement in a loop?\n",
        "<br>a) It terminates the current loop and transfers control to the next statement after the loop.\n",
        "<br>b) It skips the current iteration of the loop and proceeds to the next iteration.\n",
        "\n",
        "4. What is the purpose of the \"continue\" statement in a loop?\n",
        "<br>a) It terminates the current loop and transfers control to the next statement after the loop.\n",
        "<br>b) It skips the remaining statements in the current iteration and proceeds to the next iteration.\n",
        "\n",
        "5. What is the purpose of the \"pass\" statement in Python?\n",
        "<br>a) It is used as a placeholder for code that will be added later.\n",
        "<br>b) It is used to terminate the current loop and exit the program.\n",
        "\n",
        "6. Which loop is suitable when the number of iterations is unknown?\n",
        "<br>a) for loop\n",
        "<br>b) while loop\n",
        "\n",
        "7. How do you create a while loop in Python?\n",
        "<br>a) using the \"while\" keyword\n",
        "<br>b) using the \"for\" keyword\n",
        "\n",
        "8. Which loop statement is used to skip the remaining statements in the current iteration and move to the next iteration?\n",
        "<br>a) break\n",
        "<br>b) continue\n",
        "\n",
        "Answers:\n",
        "\n",
        "1. a) for loop\n",
        "2. a) using the \"for\" keyword\n",
        "3. a) It terminates the current loop and transfers control to the next statement after the loop.\n",
        "4. b) It skips the remaining statements in the current iteration and proceeds to the next iteration.\n",
        "5. a) It is used as a placeholder for code that will be added later.\n",
        "6. b) while loop\n",
        "7. a) using the \"while\" keyword\n",
        "8. b) continue"
      ],
      "metadata": {
        "id": "khDYVUXVK8pI"
      }
    }
  ]
}