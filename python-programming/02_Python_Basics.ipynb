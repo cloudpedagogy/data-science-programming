{
  "nbformat": 4,
  "nbformat_minor": 0,
  "metadata": {
    "colab": {
      "provenance": [],
      "toc_visible": true,
      "authorship_tag": "ABX9TyNB5O+K5D3a0myv0+fOXuhx",
      "include_colab_link": true
    },
    "kernelspec": {
      "name": "python3",
      "display_name": "Python 3"
    },
    "language_info": {
      "name": "python"
    }
  },
  "cells": [
    {
      "cell_type": "markdown",
      "metadata": {
        "id": "view-in-github",
        "colab_type": "text"
      },
      "source": [
        "<a href=\"https://colab.research.google.com/github/cloudpedagogy/data-science-programming/blob/main/python-programming/02_Python_Basics.ipynb\" target=\"_parent\"><img src=\"https://colab.research.google.com/assets/colab-badge.svg\" alt=\"Open In Colab\"/></a>"
      ]
    },
    {
      "cell_type": "markdown",
      "source": [
        "# Python Basics\n"
      ],
      "metadata": {
        "id": "gWE3EtQ1fdNq"
      }
    },
    {
      "cell_type": "markdown",
      "source": [
        "## Overview\n",
        "\n",
        "When discussing variables and types, operators, basic input, and output in Python, here are some fundamental concepts:\n",
        "\n",
        "**Variables and Types:**\n",
        "1. Variable Declaration: Variables in Python can be declared without specifying their type. For example, `x = 5` assigns the value 5 to the variable `x`.\n",
        "2. Data Types: Python supports various data types, including integers, floats, strings, booleans, lists, tuples, and dictionaries.\n",
        "3. Type Conversion: You can convert between different data types using built-in functions such as `int()`, `float()`, `str()`, etc.\n",
        "4. Variable Naming: Variable names should be descriptive, follow the naming conventions, and start with a letter or underscore.\n",
        "\n",
        "**Operators:**\n",
        "1. Arithmetic Operators: Addition (`+`), subtraction (`-`), multiplication (`*`), division (`/`), modulus (`%`), exponentiation (`**`), and floor division (`//`).\n",
        "2. Comparison Operators: Equal to (`==`), not equal to (`!=`), greater than (`>`), less than (`<`), greater than or equal to (`>=`), and less than or equal to (`<=`).\n",
        "3. Logical Operators: AND (`and`), OR (`or`), and NOT (`not`) for combining or negating conditions.\n",
        "4. Assignment Operators: Assigning values to variables, such as `=`, `+=`, `-=`, `*=`, `/=`, `%=`, `**=`, and `//=`.\n",
        "\n",
        "**Basic Input and Output:**\n",
        "1. Printing Output: The `print()` function is used to display output on the console. For example, `print(\"Hello, World!\")` will print the text \"Hello, World!\".\n",
        "2. Reading Input: The `input()` function allows you to take user input. For example, `name = input(\"Enter your name: \")` prompts the user to enter their name and assigns it to the variable `name`.\n",
        "\n",
        "These are just some of the basics when it comes to variables and types, operators, basic input, and output in Python. There are many more concepts and techniques to explore as you delve deeper into the language."
      ],
      "metadata": {
        "id": "aG92X5kVru1y"
      }
    },
    {
      "cell_type": "markdown",
      "source": [
        "# Variables and Types\n"
      ],
      "metadata": {
        "id": "cvFEqtzihTco"
      }
    },
    {
      "cell_type": "markdown",
      "source": [
        "## Variable assignment\n",
        "\n",
        "Variable assignment in Python refers to the process of assigning a value to a variable. It allows you to store and manipulate data by giving it a name. In Python, variables can hold values of different data types such as integers, floats, strings, and more.\n",
        "\n",
        "Here's an example using the Pima Indian Diabetes dataset to demonstrate variable assignment:\n"
      ],
      "metadata": {
        "id": "se_oaw-pfkRP"
      }
    },
    {
      "cell_type": "code",
      "source": [
        "import pandas as pd\n",
        "\n",
        "# Load the Pima Indian Diabetes dataset\n",
        "url = \"https://raw.githubusercontent.com/jbrownlee/Datasets/master/pima-indians-diabetes.data.csv\"\n",
        "column_names = [\"Pregnancies\", \"Glucose\", \"BloodPressure\", \"SkinThickness\", \"Insulin\", \"BMI\", \"DiabetesPedigreeFunction\", \"Age\", \"Outcome\"]\n",
        "dataset = pd.read_csv(url, names=column_names)\n",
        "\n",
        "# Assign values from the dataset to variables\n",
        "pregnancies = dataset.loc[0, 'Pregnancies']\n",
        "glucose = dataset.loc[0, 'Glucose']\n",
        "outcome = dataset.loc[0, 'Outcome']\n",
        "\n",
        "# Print the variable values\n",
        "print(\"Pregnancies:\", pregnancies)\n",
        "print(\"Glucose:\", glucose)\n",
        "print(\"Outcome:\", outcome)\n"
      ],
      "metadata": {
        "id": "KChwPrydfr8R"
      },
      "execution_count": null,
      "outputs": []
    },
    {
      "cell_type": "markdown",
      "source": [
        "In this example, we load the Pima Indian Diabetes dataset using the Pandas library. We then assign specific values from the dataset to variables using the assignment operator (=).\n",
        "\n",
        "The variable `pregnancies` is assigned the value from the 'Pregnancies' column at the first row (index 0). Similarly, the variable `glucose` is assigned the value from the 'Glucose' column at the first row, and the variable `outcome` is assigned the value from the 'Outcome' column at the first row.\n",
        "\n",
        "We then print the values of these variables using the `print()` function to display the assigned values from the dataset.\n"
      ],
      "metadata": {
        "id": "HxxddKmhfy7h"
      }
    },
    {
      "cell_type": "markdown",
      "source": [
        "## Basic data types (integer, float, string, boolean)\n",
        "\n",
        "In Python, there are several basic data types that represent different kinds of values. The most commonly used basic data types are:\n",
        "\n",
        "1. Integer (int): Represents whole numbers without decimal points. For example, 1, 5, -10.\n",
        "\n",
        "2. Float (float): Represents floating-point numbers, which include decimal points. For example, 3.14, -2.5, 0.75.\n",
        "\n",
        "3. String (str): Represents a sequence of characters enclosed in single quotes (' ') or double quotes (\" \"). For example, \"Hello\", 'Python', \"42\".\n",
        "\n",
        "4. Boolean (bool): Represents a logical value that can be either True or False. This data type is particularly useful in making decisions or controlling the flow of a program.\n",
        "\n",
        "Here's an example using the Pima Indian Diabetes dataset to demonstrate these basic data types:\n"
      ],
      "metadata": {
        "id": "aaUYv1r9f5WM"
      }
    },
    {
      "cell_type": "code",
      "source": [
        "import pandas as pd\n",
        "\n",
        "# Load the Pima Indian Diabetes dataset\n",
        "url = \"https://raw.githubusercontent.com/jbrownlee/Datasets/master/pima-indians-diabetes.data.csv\"\n",
        "column_names = [\"Pregnancies\", \"Glucose\", \"BloodPressure\", \"SkinThickness\", \"Insulin\", \"BMI\", \"DiabetesPedigreeFunction\", \"Age\", \"Outcome\"]\n",
        "dataset = pd.read_csv(url, names=column_names)\n",
        "\n",
        "# Access specific values with different data types from the dataset\n",
        "pregnancies = dataset.loc[0, 'Pregnancies']  # Integer\n",
        "glucose = dataset.loc[0, 'Glucose']  # Integer\n",
        "bmi = dataset.loc[0, 'BMI']  # Float\n",
        "diabetes_pedigree = dataset.loc[0, 'DiabetesPedigreeFunction']  # Float\n",
        "name = \"John\"  # String\n",
        "has_diabetes = dataset.loc[0, 'Outcome']  # Boolean\n",
        "\n",
        "# Print the values and their data types\n",
        "print(\"Pregnancies:\", pregnancies, type(pregnancies))\n",
        "print(\"Glucose:\", glucose, type(glucose))\n",
        "print(\"BMI:\", bmi, type(bmi))\n",
        "print(\"Diabetes Pedigree Function:\", diabetes_pedigree, type(diabetes_pedigree))\n",
        "print(\"Name:\", name, type(name))\n",
        "print(\"Has Diabetes:\", has_diabetes, type(has_diabetes))\n"
      ],
      "metadata": {
        "id": "Cg0y5kVsgCL4"
      },
      "execution_count": null,
      "outputs": []
    },
    {
      "cell_type": "markdown",
      "source": [
        "In this example, we load the Pima Indian Diabetes dataset using the Pandas library. We access specific values from the dataset to demonstrate different data types.\n",
        "\n",
        "The variables `pregnancies` and `glucose` store integer values from the 'Pregnancies' and 'Glucose' columns, respectively. The variables `bmi` and `diabetes_pedigree` store floating-point values from the 'BMI' and 'DiabetesPedigreeFunction' columns, respectively.\n",
        "\n",
        "The variable `name` stores a string value \"John\". We can directly assign a string value to a variable.\n",
        "\n",
        "The variable `has_diabetes` stores a boolean value from the 'Outcome' column. It represents whether a person has diabetes or not.\n",
        "\n",
        "We print the values along with their respective data types using the `type()` function to verify the data types of the variables.\n"
      ],
      "metadata": {
        "id": "Ex0pqt7pgIkB"
      }
    },
    {
      "cell_type": "markdown",
      "source": [
        "## Type conversion\n",
        "\n",
        "\n",
        "Type conversion, also known as type casting, in Python refers to the process of changing the data type of a variable from one type to another. Python provides built-in functions to convert variables from one type to another.\n",
        "\n",
        "Here are some commonly used type conversion functions in Python:\n",
        "\n",
        "1. `int()`: Converts a value to an integer.\n",
        "2. `float()`: Converts a value to a floating-point number.\n",
        "3. `str()`: Converts a value to a string.\n",
        "4. `list()`: Converts a value to a list.\n",
        "5. `tuple()`: Converts a value to a tuple.\n",
        "6. `bool()`: Converts a value to a Boolean.\n",
        "\n",
        "Here's an example using the Pima Indian Diabetes dataset to demonstrate type conversion:\n"
      ],
      "metadata": {
        "id": "e3u6cy_qgNke"
      }
    },
    {
      "cell_type": "code",
      "source": [
        "import pandas as pd\n",
        "\n",
        "# Load the Pima Indian Diabetes dataset\n",
        "url = \"https://raw.githubusercontent.com/jbrownlee/Datasets/master/pima-indians-diabetes.data.csv\"\n",
        "column_names = [\"Pregnancies\", \"Glucose\", \"BloodPressure\", \"SkinThickness\", \"Insulin\", \"BMI\", \"DiabetesPedigreeFunction\", \"Age\", \"Outcome\"]\n",
        "dataset = pd.read_csv(url, names=column_names)\n",
        "\n",
        "# Convert the 'Age' column from float to integer\n",
        "dataset['Age'] = dataset['Age'].astype(int)\n",
        "\n",
        "# Convert the 'Outcome' column from integer to boolean\n",
        "dataset['Outcome'] = dataset['Outcome'].astype(bool)\n",
        "\n",
        "# Convert the 'Glucose' column from integer to string\n",
        "dataset['Glucose'] = dataset['Glucose'].astype(str)\n",
        "\n",
        "# Print the updated dataset with converted types\n",
        "print(dataset.dtypes)\n"
      ],
      "metadata": {
        "id": "mMNMjexQg_p0"
      },
      "execution_count": null,
      "outputs": []
    },
    {
      "cell_type": "markdown",
      "source": [
        "In this example, we load the Pima Indian Diabetes dataset using the Pandas library. We then perform type conversion on different columns of the dataset.\n",
        "\n",
        "First, we convert the 'Age' column from float to integer using the `astype()` method and specifying the `int` type. This converts all values in the 'Age' column to integers.\n",
        "\n",
        "Next, we convert the 'Outcome' column from integer to boolean using the `astype()` method and specifying the `bool` type. This converts all 0 values to False and non-zero values to True.\n",
        "\n",
        "Finally, we convert the 'Glucose' column from integer to string using the `astype()` method and specifying the `str` type. This converts all values in the 'Glucose' column to strings.\n",
        "\n",
        "After performing the type conversions, we print the updated dataset using the `dtypes` attribute to see the data types of each column.\n"
      ],
      "metadata": {
        "id": "ikj8asdBhEEQ"
      }
    },
    {
      "cell_type": "markdown",
      "source": [
        "# Operators\n"
      ],
      "metadata": {
        "id": "_Z-XzM3lhKTN"
      }
    },
    {
      "cell_type": "markdown",
      "source": [
        "## Arithmetic operators\n",
        "\n",
        "Arithmetic operators in Python are used to perform mathematical operations on numeric values. These operators allow you to add, subtract, multiply, divide, and more. Here are the arithmetic operators in Python:\n",
        "\n",
        "1. Addition (+): Adds two values together.\n",
        "2. Subtraction (-): Subtracts the right operand from the left operand.\n",
        "3. Multiplication (*): Multiplies two values.\n",
        "4. Division (/): Divides the left operand by the right operand, returning a floating-point result.\n",
        "5. Floor Division (//): Divides the left operand by the right operand and rounds down to the nearest whole number.\n",
        "6. Modulus (%): Returns the remainder of the division of the left operand by the right operand.\n",
        "7. Exponentiation (**): Raises the left operand to the power of the right operand.\n",
        "\n",
        "Here's an example using the Pima Indian Diabetes dataset to demonstrate the use of arithmetic operators:\n"
      ],
      "metadata": {
        "id": "aI4IFEC5henu"
      }
    },
    {
      "cell_type": "code",
      "source": [
        "import pandas as pd\n",
        "\n",
        "# Load the Pima Indian Diabetes dataset\n",
        "url = \"https://raw.githubusercontent.com/jbrownlee/Datasets/master/pima-indians-diabetes.data.csv\"\n",
        "column_names = [\"Pregnancies\", \"Glucose\", \"BloodPressure\", \"SkinThickness\", \"Insulin\", \"BMI\", \"DiabetesPedigreeFunction\", \"Age\", \"Outcome\"]\n",
        "dataset = pd.read_csv(url, names=column_names)\n",
        "\n",
        "# Calculate the average glucose level\n",
        "average_glucose = dataset['Glucose'].mean()\n",
        "\n",
        "# Calculate the total pregnancies multiplied by the average glucose level\n",
        "total_pregnancies = dataset['Pregnancies'].sum()\n",
        "result = total_pregnancies * average_glucose\n",
        "\n",
        "# Print the result\n",
        "print(\"Total pregnancies multiplied by average glucose level:\", result)\n"
      ],
      "metadata": {
        "id": "SXl2r86IhkrH"
      },
      "execution_count": null,
      "outputs": []
    },
    {
      "cell_type": "markdown",
      "source": [
        "In this example, we load the Pima Indian Diabetes dataset using Pandas library. We then use arithmetic operators to perform calculations. First, we calculate the average glucose level by taking the mean of the 'Glucose' column. Then, we calculate the total number of pregnancies by summing the 'Pregnancies' column. Finally, we multiply the total pregnancies by the average glucose level and store the result in the 'result' variable. We print the result to see the output.\n"
      ],
      "metadata": {
        "id": "S33-t7Cqhpsm"
      }
    },
    {
      "cell_type": "markdown",
      "source": [
        "## Comparison operators\n",
        "\n",
        "Comparison operators in Python are used to compare values and return a Boolean result (True or False) based on the comparison. These operators are commonly used to make decisions or control the flow of a program.\n",
        "\n",
        "The comparison operators in Python are as follows:\n",
        "\n",
        "1. Equal to (==): Checks if two values are equal.\n",
        "2. Not equal to (!=): Checks if two values are not equal.\n",
        "3. Greater than (>): Checks if the left operand is greater than the right operand.\n",
        "4. Less than (<): Checks if the left operand is less than the right operand.\n",
        "5. Greater than or equal to (>=): Checks if the left operand is greater than or equal to the right operand.\n",
        "6. Less than or equal to (<=): Checks if the left operand is less than or equal to the right operand.\n",
        "\n",
        "Here's an example using the Pima Indian Diabetes dataset to demonstrate the use of comparison operators:\n"
      ],
      "metadata": {
        "id": "v0yzZlRUh6VM"
      }
    },
    {
      "cell_type": "code",
      "source": [
        "import pandas as pd\n",
        "\n",
        "# Load the Pima Indian Diabetes dataset\n",
        "url = \"https://raw.githubusercontent.com/jbrownlee/Datasets/master/pima-indians-diabetes.data.csv\"\n",
        "column_names = [\"Pregnancies\", \"Glucose\", \"BloodPressure\", \"SkinThickness\", \"Insulin\", \"BMI\", \"DiabetesPedigreeFunction\", \"Age\", \"Outcome\"]\n",
        "dataset = pd.read_csv(url, names=column_names)\n",
        "\n",
        "# Filter the dataset to select records with BMI greater than or equal to 30\n",
        "filtered_data = dataset[dataset['BMI'] >= 30]\n",
        "\n",
        "# Print the filtered dataset\n",
        "print(filtered_data)\n"
      ],
      "metadata": {
        "id": "_q992wHViAPl"
      },
      "execution_count": null,
      "outputs": []
    },
    {
      "cell_type": "markdown",
      "source": [
        "In this example, we load the Pima Indian Diabetes dataset using Pandas library. We then use a comparison operator (>=) to filter the dataset and select records where the BMI (Body Mass Index) is greater than or equal to 30. The resulting filtered_data contains only the records that satisfy the condition. Finally, we print the filtered dataset to see the output.\n"
      ],
      "metadata": {
        "id": "6GgfFqw_iEo2"
      }
    },
    {
      "cell_type": "markdown",
      "source": [
        "##Logical operators\n",
        "\n",
        "Logical operators in Python are used to combine and evaluate multiple conditions or expressions. These operators are typically used in Boolean logic to make decisions or control the flow of a program. Python provides three logical operators:\n",
        "\n",
        "1. AND (`and`): Returns True if both the left and right operands are True, otherwise returns False.\n",
        "\n",
        "2. OR (`or`): Returns True if at least one of the left and right operands is True, otherwise returns False.\n",
        "\n",
        "3. NOT (`not`): Returns the opposite Boolean value of the operand. If the operand is True, it returns False, and if the operand is False, it returns True.\n",
        "\n",
        "Here's an example using the Pima Indian Diabetes dataset to demonstrate the use of logical operators:\n"
      ],
      "metadata": {
        "id": "L8ZR1u6RiNR2"
      }
    },
    {
      "cell_type": "code",
      "source": [
        "import pandas as pd\n",
        "\n",
        "# Load the Pima Indian Diabetes dataset\n",
        "url = \"https://raw.githubusercontent.com/jbrownlee/Datasets/master/pima-indians-diabetes.data.csv\"\n",
        "column_names = [\"Pregnancies\", \"Glucose\", \"BloodPressure\", \"SkinThickness\", \"Insulin\", \"BMI\", \"DiabetesPedigreeFunction\", \"Age\", \"Outcome\"]\n",
        "dataset = pd.read_csv(url, names=column_names)\n",
        "\n",
        "# Check if a person has high glucose level and high BMI\n",
        "high_glucose = dataset['Glucose'] > 140\n",
        "high_bmi = dataset['BMI'] > 30\n",
        "has_high_glucose_bmi = high_glucose & high_bmi\n",
        "\n",
        "# Check if a person is either older than 50 or has diabetes\n",
        "older_than_50 = dataset['Age'] > 50\n",
        "has_diabetes = dataset['Outcome'] == 1\n",
        "is_older_than_50_or_has_diabetes = older_than_50 | has_diabetes\n",
        "\n",
        "# Print the results\n",
        "print(\"Persons with high glucose and high BMI:\")\n",
        "print(dataset[has_high_glucose_bmi])\n",
        "\n",
        "print(\"\\nPersons older than 50 or have diabetes:\")\n",
        "print(dataset[is_older_than_50_or_has_diabetes])\n"
      ],
      "metadata": {
        "id": "lBInFDFiiXWp"
      },
      "execution_count": null,
      "outputs": []
    },
    {
      "cell_type": "markdown",
      "source": [
        "In this example, we load the Pima Indian Diabetes dataset using the Pandas library. We then use logical operators to combine and evaluate conditions on the dataset.\n",
        "\n",
        "First, we check if a person has a high glucose level (greater than 140) and a high BMI (greater than 30). We create Boolean Series `high_glucose` and `high_bmi` based on these conditions. Then, we use the AND (`&`) operator to combine the two conditions and create a new Boolean Series `has_high_glucose_bmi`. This series will have `True` for the rows where both conditions are satisfied.\n",
        "\n",
        "Next, we check if a person is either older than 50 or has diabetes. We create Boolean Series `older_than_50` and `has_diabetes` based on these conditions. Then, we use the OR (`|`) operator to combine the two conditions and create a new Boolean Series `is_older_than_50_or_has_diabetes`. This series will have `True` for the rows where at least one of the conditions is satisfied.\n",
        "\n",
        "Finally, we print the subsets of the dataset where the conditions are satisfied using Boolean indexing (`dataset[condition]`). This allows us to filter the dataset based on the logical conditions and display the relevant rows.\n"
      ],
      "metadata": {
        "id": "AcoGiJ8ZicMq"
      }
    },
    {
      "cell_type": "markdown",
      "source": [
        "# Basic Input and Output\n"
      ],
      "metadata": {
        "id": "yZzbkj9uXZyv"
      }
    },
    {
      "cell_type": "markdown",
      "source": [
        "\n",
        "## Input function\n",
        "\n",
        "The `input()` function in Python is used to read input from the user during runtime. It allows the user to enter data from the keyboard, which can then be assigned to a variable and used in the program. The `input()` function pauses the program execution and waits for the user to enter input.\n",
        "\n",
        "Here's an example of using the `input()` function with the Pima Indian Diabetes dataset:\n"
      ],
      "metadata": {
        "id": "iUG5yohCi39g"
      }
    },
    {
      "cell_type": "code",
      "source": [
        "import pandas as pd\n",
        "\n",
        "# Load the Pima Indian Diabetes dataset\n",
        "url = \"https://raw.githubusercontent.com/jbrownlee/Datasets/master/pima-indians-diabetes.data.csv\"\n",
        "column_names = [\"Pregnancies\", \"Glucose\", \"BloodPressure\", \"SkinThickness\", \"Insulin\", \"BMI\", \"DiabetesPedigreeFunction\", \"Age\", \"Outcome\"]\n",
        "dataset = pd.read_csv(url, names=column_names)\n",
        "\n",
        "# Get user input for a specific column\n",
        "column_name = input(\"Enter the column name to display: \")\n",
        "\n",
        "# Check if the column exists in the dataset\n",
        "if column_name in dataset.columns:\n",
        "    # Display the values in the specified column\n",
        "    column_values = dataset[column_name]\n",
        "    print(column_values)\n",
        "else:\n",
        "    print(\"Invalid column name.\")\n"
      ],
      "metadata": {
        "id": "s5tbrSHmjGD3"
      },
      "execution_count": null,
      "outputs": []
    },
    {
      "cell_type": "markdown",
      "source": [
        "In this example, after loading the Pima Indian Diabetes dataset using the Pandas library, we use the `input()` function to prompt the user to enter a column name they want to display from the dataset.\n",
        "\n",
        "The user enters a column name, which is stored in the `column_name` variable. We then check if the entered column name exists in the dataset using the `in` operator to compare the input with the column names.\n",
        "\n",
        "If the column name is found in the dataset, we display the values in that column by indexing the dataset with the `column_name`. If the column name is not found, we display an error message.\n",
        "\n",
        "This allows the user to interactively specify a column from the dataset and view its values during runtime by entering the column name through the `input()` function.\n"
      ],
      "metadata": {
        "id": "B2RfQQMzjRPn"
      }
    },
    {
      "cell_type": "markdown",
      "source": [
        "## Print function\n",
        "The `print()` function in Python is used to output data or information to the console or standard output. It allows you to display text, variables, or the result of expressions during program execution.\n",
        "\n",
        "Here's an example using the Pima Indian Diabetes dataset to demonstrate the `print()` function:\n"
      ],
      "metadata": {
        "id": "AHvvjol9jW1K"
      }
    },
    {
      "cell_type": "code",
      "source": [
        "import pandas as pd\n",
        "\n",
        "# Load the Pima Indian Diabetes dataset\n",
        "url = \"https://raw.githubusercontent.com/jbrownlee/Datasets/master/pima-indians-diabetes.data.csv\"\n",
        "column_names = [\"Pregnancies\", \"Glucose\", \"BloodPressure\", \"SkinThickness\", \"Insulin\", \"BMI\", \"DiabetesPedigreeFunction\", \"Age\", \"Outcome\"]\n",
        "dataset = pd.read_csv(url, names=column_names)\n",
        "\n",
        "# Print the dataset information\n",
        "print(\"Dataset Information:\")\n",
        "print(dataset.info())\n",
        "\n",
        "# Print the first 5 rows of the dataset\n",
        "print(\"\\nFirst 5 Rows:\")\n",
        "print(dataset.head())\n",
        "\n",
        "# Print the summary statistics of the dataset\n",
        "print(\"\\nSummary Statistics:\")\n",
        "print(dataset.describe())\n"
      ],
      "metadata": {
        "id": "GVx9FBp_jdIg"
      },
      "execution_count": null,
      "outputs": []
    },
    {
      "cell_type": "markdown",
      "source": [
        "In this example, we load the Pima Indian Diabetes dataset using the Pandas library. We use the `print()` function to display different types of information related to the dataset.\n",
        "\n",
        "First, we print the dataset information using `dataset.info()`. This provides an overview of the dataset, including the number of rows, column names, and data types of each column.\n",
        "\n",
        "Next, we print the first 5 rows of the dataset using `dataset.head()`. This shows a glimpse of the data, displaying the top rows.\n",
        "\n",
        "Finally, we print the summary statistics of the dataset using `dataset.describe()`. This provides statistical information such as count, mean, standard deviation, minimum, maximum, and quartile values for each numerical column in the dataset.\n",
        "\n",
        "By using the `print()` function, we can output these different pieces of information to the console for analysis and understanding of the dataset.\n"
      ],
      "metadata": {
        "id": "biTrvDpOjj63"
      }
    },
    {
      "cell_type": "markdown",
      "source": [
        "# Reflection points"
      ],
      "metadata": {
        "id": "bJsbNi5Ajn8Y"
      }
    },
    {
      "cell_type": "markdown",
      "source": [
        "Here's a list of reflection points with answers on the topics of Variables and Types, Operators, and Basic Input and Output in Python.\n",
        "\n",
        "**Variables and Types:**\n",
        "1. What is a variable in Python, and how is it used?\n",
        "   - A variable is a named container that holds a value in memory. It allows you to store and manipulate data throughout your program.\n",
        "\n",
        "2. How do you declare and assign a value to a variable in Python?\n",
        "   - To declare a variable, you simply write its name followed by the assignment operator (=). For example: `name = \"John\"`. You can assign different types of values, such as strings, numbers, or Boolean, to variables.\n",
        "\n",
        "3. What are the rules for naming variables in Python?\n",
        "   - Variable names in Python must start with a letter or underscore (_) and can contain letters, numbers, and underscores. They are case-sensitive, meaning `name` and `Name` are considered different variables.\n",
        "\n",
        "4. How do you check the type of a variable in Python?\n",
        "   - You can use the `type()` function to determine the type of a variable. For example: `type(age)` will return the type of the `age` variable.\n",
        "\n",
        "**Operators:**\n",
        "1. What are arithmetic operators in Python, and how are they used?\n",
        "   - Arithmetic operators (+, -, *, /, %, **) are used to perform basic mathematical operations such as addition, subtraction, multiplication, division, modulus, and exponentiation.\n",
        "\n",
        "2. How do you use comparison operators in Python?\n",
        "   - Comparison operators (==, !=, >, <, >=, <=) are used to compare values and return Boolean results (True or False) based on the comparison.\n",
        "\n",
        "3. What are logical operators in Python, and how do they work?\n",
        "   - Logical operators (and, or, not) are used to combine or modify Boolean values. They allow you to perform logical operations such as conjunction, disjunction, and negation.\n",
        "\n",
        "4. How do you use assignment operators in Python?\n",
        "   - Assignment operators (+=, -=, *=, /=, %=) are used to modify the value of a variable and assign the result back to the variable in a single step. For example: `count += 1` is equivalent to `count = count + 1`.\n",
        "\n",
        "**Basic Input and Output:**\n",
        "1. How do you take user input in Python?\n",
        "   - You can use the `input()` function to prompt the user for input. The function waits for the user to enter a value and returns it as a string. For example: `name = input(\"Enter your name: \")`.\n",
        "\n",
        "2. How do you display output to the console in Python?\n",
        "   - You can use the `print()` function to display output to the console. It accepts one or more arguments and prints them to the console. For example: `print(\"Hello, World!\")`.\n",
        "\n",
        "3. How do you format output in Python?\n",
        "   - You can use string formatting techniques such as f-strings or the `format()` method to format output in Python. These allow you to insert variables and format them according to specific patterns or placeholders.\n",
        "\n",
        "4. How do you convert data types in Python?\n",
        "   - You can use type-specific functions like `int()`, `float()`, `str()`, and `bool()` to convert data from one type to another. For example: `age = int(input(\"Enter your age: \"))` converts the input value to an integer.\n",
        "\n"
      ],
      "metadata": {
        "id": "cONfPe16jz7a"
      }
    },
    {
      "cell_type": "markdown",
      "source": [
        "# A quiz on Variables and Types"
      ],
      "metadata": {
        "id": "h9Zsddf5HW4T"
      }
    },
    {
      "cell_type": "markdown",
      "source": [
        "\n",
        "1. Which operator is used for variable assignment in Python?\n",
        "   <br>a) =\n",
        "   <br>b) ==\n",
        "   <br>c) :=\n",
        "   <br>d) =>\n",
        "\n",
        "2. What is the data type of the variable \"age\" if it stores the value 25?\n",
        "   <br>a) Integer\n",
        "   <br>b) Float\n",
        "   <br>c) String\n",
        "   <br>d) Boolean\n",
        "\n",
        "3. Which data type would you use to store a person's name?\n",
        "   <br>a) Integer\n",
        "   <br>b) Float\n",
        "   <br>c) String\n",
        "   <br>d) Boolean\n",
        "\n",
        "4. Which data type would you use to store a person's height in meters?\n",
        "   <br>a) Integer\n",
        "   <br>b) Float\n",
        "   <br>c) String\n",
        "   <br>d) Boolean\n",
        "\n",
        "5. How would you convert the variable \"age\" from an integer to a string?\n",
        "   <br>a) str(age)\n",
        "   <br>b) int(age)\n",
        "   <br>c) float(age)\n",
        "   <br>d) bool(age)\n",
        "\n",
        "6. Suppose the variable \"weight\" is assigned the value 65.5. How would you convert it to an integer data type?\n",
        "   <br>a) int(weight)\n",
        "   <br>b) str(weight)\n",
        "   vc) float(weight)\n",
        "   <br>d) bool(weight)\n",
        "\n",
        "7. What is the correct way to convert the string \"3.14\" to a float?\n",
        "   <br>a) float(\"3.14\")\n",
        "   <br>b) int(\"3.14\")\n",
        "   <br>c) str(3.14)\n",
        "   <br>d) bool(\"3.14\")\n",
        "\n",
        "8. Which data type would you use to store a True/False value?\n",
        "   <br>a) Integer\n",
        "   <br>b) Float\n",
        "   <br>c) String\n",
        "   <br>d) Boolean\n",
        "\n",
        "9. Suppose the variable \"is_diabetic\" is assigned the value True. How would you convert it to an integer data type?\n",
        "   <br>a) int(is_diabetic)\n",
        "   <br>b) str(is_diabetic)\n",
        "   <br>c) float(is_diabetic)\n",
        "   <br>d) bool(is_diabetic)\n",
        "\n",
        "10. How would you assign the value 42 to the variable \"answer\"?\n",
        "    <br>a) answer = 42\n",
        "    <br>b) answer == 42\n",
        "    <br>c) answer := 42\n",
        "    <br>d) answer => 42\n",
        "---\n",
        "Answers:\n",
        "1. a) =\n",
        "2. a) Integer\n",
        "3. c) String\n",
        "4. b) Float\n",
        "5. a) str(age)\n",
        "6. a) int(weight)\n",
        "7. a) float(\"3.14\")\n",
        "8. d) Boolean\n",
        "9. a) int(is_diabetic)\n",
        "10. a) answer = 42\n",
        "---"
      ],
      "metadata": {
        "id": "eBJXX-UMH0uZ"
      }
    },
    {
      "cell_type": "markdown",
      "source": [
        "# A quiz on Operators"
      ],
      "metadata": {
        "id": "1jYxysVPITEQ"
      }
    },
    {
      "cell_type": "markdown",
      "source": [
        "\n",
        "1. Arithmetic operators are used to perform mathematical calculations in Python. Which of the following is NOT an arithmetic operator?\n",
        "   <br>a) +\n",
        "   <br>b) /\n",
        "   <br>c) %\n",
        "   <br>d) &\n",
        "   \n",
        "2. Comparison operators are used to compare values in Python. Which of the following is the correct operator to check if two values are equal?\n",
        "   <br>a) ==\n",
        "   <br>b) !=\n",
        "   <br>c) >=\n",
        "   <br>d) >\n",
        "   \n",
        "3. Logical operators are used to combine multiple conditions in Python. Which of the following is the correct logical operator for \"logical OR\"?\n",
        "   <br>a) &&\n",
        "   <br>b) ||\n",
        "   <br>c) !\n",
        "   <br>d) &\n",
        "   \n",
        "4. Consider the following code snippet:\n",
        "\n",
        "   ```python\n",
        "   x = 10\n",
        "   y = 5\n",
        "   z = 7\n",
        "   \n",
        "   result = (x > y) and (z < y)\n",
        "   ```\n",
        "   What will be the value of the `result` variable?\n",
        "   <br>a) True\n",
        "   <br>b) False\n",
        "   \n",
        "5. Consider the following code snippet:\n",
        "\n",
        "   ```python\n",
        "   a = 8\n",
        "   b = 12\n",
        "   \n",
        "   result = (a % 3 == 0) or (b % 3 == 0)\n",
        "   ```\n",
        "   What will be the value of the `result` variable?\n",
        "   <br>a) True\n",
        "   <br>b) False\n",
        "   \n",
        "6. Consider the following code snippet:\n",
        "\n",
        "   ```python\n",
        "   a = 5\n",
        "   b = 7\n",
        "   \n",
        "   result = (a < b) or (a > b)\n",
        "   ```\n",
        "   What will be the value of the `result` variable?\n",
        "   <br>a) True\n",
        "   <br>b) False\n",
        "   \n",
        "7. The Pima Indian dataset contains information about individuals, including their age, blood pressure, glucose level, etc. Which type of operators would you use to compare the age of two individuals in the dataset?\n",
        "   <br>a) Arithmetic operators\n",
        "   <br>b) Comparison operators\n",
        "   <br>c) Logical operators\n",
        "   \n",
        "8. The Pima Indian dataset contains binary classification labels, such as whether an individual has diabetes or not. Which type of operators would you use to check if an individual has diabetes or not based on their label in the dataset?\n",
        "   <br>a) Arithmetic operators\n",
        "   <br>b) Comparison operators\n",
        "   <br>c) Logical operators\n",
        "---\n",
        "Answers:\n",
        "\n",
        "1. d) &\n",
        "\n",
        "2. a) ==\n",
        "\n",
        "3. b) ||\n",
        "\n",
        "4. b) False\n",
        "\n",
        "5. a) True\n",
        "\n",
        "6. a) True\n",
        "\n",
        "7. b) Comparison operators\n",
        "\n",
        "8. c) Logical operators\n",
        "---"
      ],
      "metadata": {
        "id": "y5oy96ppIXuw"
      }
    }
  ]
}