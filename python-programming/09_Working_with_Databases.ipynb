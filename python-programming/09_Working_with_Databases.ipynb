{
  "nbformat": 4,
  "nbformat_minor": 0,
  "metadata": {
    "colab": {
      "provenance": [],
      "toc_visible": true,
      "authorship_tag": "ABX9TyMvouheBJ5hF1Lm6JR3AXLT",
      "include_colab_link": true
    },
    "kernelspec": {
      "name": "python3",
      "display_name": "Python 3"
    },
    "language_info": {
      "name": "python"
    }
  },
  "cells": [
    {
      "cell_type": "markdown",
      "metadata": {
        "id": "view-in-github",
        "colab_type": "text"
      },
      "source": [
        "<a href=\"https://colab.research.google.com/github/cloudpedagogy/data-science-programming/blob/main/python-programming/09_Working_with_Databases.ipynb\" target=\"_parent\"><img src=\"https://colab.research.google.com/assets/colab-badge.svg\" alt=\"Open In Colab\"/></a>"
      ]
    },
    {
      "cell_type": "markdown",
      "source": [
        "# Working with Databases\n"
      ],
      "metadata": {
        "id": "yWNSuGr3_N4g"
      }
    },
    {
      "cell_type": "markdown",
      "source": [
        "## Overview\n",
        "\n",
        "Databases play a crucial role in managing and storing large amounts of data efficiently. Whether you are building a web application, data analysis tool, or any software that deals with data, understanding how to work with databases is essential. In Python programming, there are several libraries and modules available that provide powerful tools for interacting with databases, such as SQLite, MySQL, PostgreSQL, and more.\n",
        "\n",
        "One popular choice for working with databases in Python is SQLite. SQLite is a lightweight, serverless database engine that allows you to create, manage, and manipulate databases directly from your Python code. It is an excellent option for small to medium-sized projects or applications that require a simple and self-contained database system.\n",
        "\n",
        "To start working with databases in Python, you need to import the appropriate library or module that provides the necessary functions and methods for database operations. For SQLite, you can use the built-in `sqlite3` module, which comes pre-installed with Python.\n",
        "\n",
        "The first step is establishing a connection to the database. In SQLite, you can create a connection to a database file using the `connect()` method provided by the `sqlite3` module. This connection allows you to execute SQL queries and perform various database operations.\n",
        "\n",
        "Once you have established a connection, you can create tables, define their structure, and specify constraints using SQL statements. SQLite follows the SQL syntax for defining tables, inserting data, querying data, updating records, and deleting records.\n",
        "\n",
        "To execute SQL queries, you use the `execute()` method of the database connection object. This method takes an SQL query as a parameter and executes it on the connected database. You can retrieve the results of the query using methods like `fetchone()` to fetch a single row, `fetchall()` to fetch all rows, or `fetchmany(n)` to fetch a specific number of rows.\n",
        "\n",
        "Additionally, you can use parameterized queries to prevent SQL injection attacks and increase the security of your database operations. Parameterized queries allow you to safely insert user-provided values into your SQL statements.\n",
        "\n",
        "After performing the required database operations, it is important to close the connection using the `close()` method. This ensures that any pending transactions are committed and resources are released properly.\n",
        "\n",
        "Working with databases in Python provides you with a powerful toolset for managing and manipulating data. Whether you're storing user information, analyzing data, or building complex applications, understanding how to interact with databases using Python opens up a world of possibilities.\n",
        "\n",
        "Remember to choose the appropriate database engine based on the specific requirements of your project. SQLite is an excellent choice for small to medium-sized projects, while other database systems like MySQL or PostgreSQL are more suitable for larger-scale applications.\n",
        "\n",
        "By mastering database operations in Python, you'll be equipped with the skills to efficiently store, retrieve, and manipulate data, enabling you to build robust and scalable applications."
      ],
      "metadata": {
        "id": "tzCAaIrt2mKj"
      }
    },
    {
      "cell_type": "markdown",
      "source": [
        "# Connecting to a database using SQLite in Python\n",
        "\n",
        "To connect to a database using SQLite in Python, you can make use of the `sqlite3` module, which is included in the Python standard library. Here's an example of connecting to a SQLite database and working with the Pima Indian Diabetes dataset:\n"
      ],
      "metadata": {
        "id": "OyNZGHPj_UO1"
      }
    },
    {
      "cell_type": "code",
      "source": [
        "import sqlite3\n",
        "import pandas as pd\n",
        "\n",
        "# Load the Pima Indian Diabetes dataset\n",
        "url = \"https://raw.githubusercontent.com/jbrownlee/Datasets/master/pima-indians-diabetes.data.csv\"\n",
        "column_names = [\"Pregnancies\", \"Glucose\", \"BloodPressure\", \"SkinThickness\", \"Insulin\", \"BMI\", \"DiabetesPedigreeFunction\", \"Age\", \"Outcome\"]\n",
        "dataset = pd.read_csv(url, names=column_names)\n",
        "\n",
        "# Connect to the SQLite database\n",
        "conn = sqlite3.connect('pima.db')\n",
        "\n",
        "# Create a table in the database\n",
        "dataset.to_sql('diabetes', conn, if_exists='replace', index=False)\n",
        "\n",
        "# Execute SQL queries\n",
        "cursor = conn.cursor()\n",
        "\n",
        "# Example 1: Retrieve all records from the 'diabetes' table\n",
        "cursor.execute(\"SELECT * FROM diabetes\")\n",
        "result = cursor.fetchall()\n",
        "for row in result:\n",
        "    print(row)\n",
        "\n",
        "# Example 2: Retrieve specific columns from the 'diabetes' table\n",
        "cursor.execute(\"SELECT Glucose, BMI FROM diabetes\")\n",
        "result = cursor.fetchall()\n",
        "for row in result:\n",
        "    print(row)\n",
        "\n",
        "# Close the database connection\n",
        "conn.close()\n"
      ],
      "metadata": {
        "id": "xdI3vVF5_b0m"
      },
      "execution_count": null,
      "outputs": []
    },
    {
      "cell_type": "markdown",
      "source": [
        "In this example, we first load the Pima Indian Diabetes dataset using Pandas. Then, we establish a connection to a SQLite database by calling `sqlite3.connect()` and passing the database filename ('pima.db' in this case).\n",
        "\n",
        "Next, we create a table in the database using the `to_sql()` function. We specify the name of the table ('diabetes') and set the `if_exists` parameter to 'replace', which means that if the table already exists, it will be dropped and recreated. We also set `index=False` to exclude the index column from the dataset.\n",
        "\n",
        "After creating the table, we use the `cursor()` method to create a cursor object, which allows us to execute SQL queries on the database.\n",
        "\n",
        "In the example queries, we demonstrate two scenarios. In Example 1, we retrieve all records from the 'diabetes' table by executing the SQL query \"SELECT * FROM diabetes\". We fetch the results using `cursor.fetchall()` and iterate over each row to print the data.\n",
        "\n",
        "In Example 2, we retrieve specific columns ('Glucose' and 'BMI') from the 'diabetes' table using the SQL query \"SELECT Glucose, BMI FROM diabetes\". We fetch the results and print them in a similar manner.\n",
        "\n",
        "Finally, we close the database connection using the `close()` method to ensure proper cleanup.\n"
      ],
      "metadata": {
        "id": "azUSvvV3_yRD"
      }
    },
    {
      "cell_type": "markdown",
      "source": [
        "# Executing basic SQL commands from Python\n",
        "\n",
        "\n",
        "To execute basic SQL commands from Python, you can use a database connector library such as `pandas` or `sqlite3`. Here's an example using the `pandas` library to execute SQL commands on the Pima Indian Diabetes dataset:\n"
      ],
      "metadata": {
        "id": "brfAOdQ4_0y5"
      }
    },
    {
      "cell_type": "code",
      "source": [
        "import pandas as pd\n",
        "import sqlite3\n",
        "\n",
        "# Load the Pima Indian Diabetes dataset\n",
        "url = \"https://raw.githubusercontent.com/jbrownlee/Datasets/master/pima-indians-diabetes.data.csv\"\n",
        "column_names = [\"Pregnancies\", \"Glucose\", \"BloodPressure\", \"SkinThickness\", \"Insulin\", \"BMI\", \"DiabetesPedigreeFunction\", \"Age\", \"Outcome\"]\n",
        "dataset = pd.read_csv(url, names=column_names)\n",
        "\n",
        "# Connect to an in-memory SQLite database\n",
        "conn = sqlite3.connect(':memory:')\n",
        "\n",
        "# Create a table and insert the dataset into the database\n",
        "dataset.to_sql('diabetes', conn, if_exists='replace', index=False)\n",
        "\n",
        "# Execute a SQL query to select all records from the table\n",
        "query = \"SELECT * FROM diabetes\"\n",
        "result = pd.read_sql_query(query, conn)\n",
        "\n",
        "# Print the result\n",
        "print(result)\n"
      ],
      "metadata": {
        "id": "RkrqtqNq_4cH"
      },
      "execution_count": null,
      "outputs": []
    },
    {
      "cell_type": "markdown",
      "source": [
        "In this example, we first load the Pima Indian Diabetes dataset using the `pandas` library. Then, we establish a connection to an in-memory SQLite database using the `sqlite3` module.\n",
        "\n",
        "Next, we create a table named 'diabetes' in the database and insert the dataset into it using the `to_sql()` function. The `if_exists='replace'` parameter ensures that if the table already exists, it will be replaced.\n",
        "\n",
        "We then execute a SQL query using the `pd.read_sql_query()` function to select all records from the 'diabetes' table. The query is written as a string.\n",
        "\n",
        "Finally, we store the query result in the 'result' variable and print it to see the output.\n"
      ],
      "metadata": {
        "id": "Fhqohvzw__cy"
      }
    },
    {
      "cell_type": "markdown",
      "source": [
        "# Reflection Points"
      ],
      "metadata": {
        "id": "TH0BQXVxAB48"
      }
    },
    {
      "cell_type": "markdown",
      "source": [
        "1. **What is an SQL database and why is it important in the context of Python programming?**\n",
        "   - An SQL database is a structured database management system that allows for efficient storage, retrieval, and manipulation of data using the Structured Query Language (SQL). It is important in Python programming as it enables applications to interact with persistent data, perform data analysis, and build data-driven solutions.\n",
        "\n",
        "2. **How do you establish a connection to an SQLite database in Python?**\n",
        "   - To establish a connection to an SQLite database in Python, you can use the `sqlite3` module. The `connect()` function from this module allows you to establish a connection by specifying the database file path. For example:\n",
        "   \n",
        "   ```python\n",
        "   import sqlite3\n",
        "   \n",
        "   # Connect to an SQLite database\n",
        "   conn = sqlite3.connect('database.db')\n",
        "   ```\n",
        "\n",
        "3. **What are the advantages of using SQLite as a database engine for Python applications?**\n",
        "   - SQLite is a lightweight, serverless, and self-contained database engine that offers several advantages for Python applications:\n",
        "     - Zero-configuration setup: No need for separate server installation or configuration.\n",
        "     - Portability: The entire database is stored in a single file, making it easy to transport and deploy.\n",
        "     - Compatibility: SQLite is compatible with multiple platforms and programming languages, including Python.\n",
        "     - ACID compliance: It ensures data integrity, reliability, and atomicity through its support for ACID properties.\n",
        "     - Performance: SQLite performs well for small to medium-sized databases and read-heavy workloads.\n",
        "\n",
        "4. **How do you execute basic SQL commands from Python using the SQLite module?**\n",
        "   - The `execute()` method of the SQLite connection object is used to execute SQL commands from Python. For example:\n",
        "\n",
        "   ```python\n",
        "   # Create a cursor object\n",
        "   cursor = conn.cursor()\n",
        "   \n",
        "   # Execute a SQL command\n",
        "   cursor.execute(\"SELECT * FROM tablename\")\n",
        "   \n",
        "   # Fetch the results\n",
        "   results = cursor.fetchall()\n",
        "   ```\n",
        "\n",
        "5. **What are the common SQL commands used to interact with databases in Python?**\n",
        "   - Some common SQL commands used in Python to interact with databases include:\n",
        "     - SELECT: Retrieves data from a table based on specified conditions.\n",
        "     - INSERT: Inserts new records into a table.\n",
        "     - UPDATE: Modifies existing records in a table.\n",
        "     - DELETE: Removes records from a table based on specified conditions.\n",
        "     - CREATE: Creates a new table, view, or other database objects.\n",
        "     - DROP: Deletes a table, view, or other database objects.\n",
        "\n",
        "6. **How do you handle errors and exceptions when working with databases in Python?**\n",
        "   - When working with databases in Python, it's important to handle errors and exceptions effectively. This can be done by using try-except blocks to catch potential exceptions that may arise during database operations. By using proper error handling, you can provide informative error messages, rollback transactions if needed, and gracefully handle unexpected scenarios.\n",
        "\n",
        "7. **Can you give an example of executing a parameterized SQL query in Python using SQLite?**\n",
        "   - Yes, executing parameterized SQL queries is essential for security and to prevent SQL injection attacks. Here's an example:\n",
        "\n",
        "   ```python\n",
        "   # Prepare a parameterized SQL query\n",
        "   query = \"SELECT * FROM tablename WHERE columnname = ?\"\n",
        "   \n",
        "   # Execute the query with parameters\n",
        "   cursor.execute(query, ('value',))\n",
        "   \n",
        "   # Fetch the results\n",
        "   results = cursor.fetchall()\n",
        "   ```\n",
        "\n",
        "8. **How can you ensure the integrity of your database transactions when executing SQL commands from Python?**\n",
        "   - The `commit()` method of the SQLite connection object is used to ensure the integrity of database transactions. After executing a series of SQL commands, you can call `commit()` to permanently save the changes to the database. If any issues arise during the transaction, you can use the `rollback()` method to revert the changes made since the last `commit()`.\n"
      ],
      "metadata": {
        "id": "YQigpn8RAHCH"
      }
    },
    {
      "cell_type": "markdown",
      "source": [
        "# A quiz in working with Database using SQLite"
      ],
      "metadata": {
        "id": "aWYU8VBwz3gK"
      }
    },
    {
      "cell_type": "markdown",
      "source": [
        "\n",
        "1. Which module is required to work with SQLite in Python?\n",
        "<br>A) `mysql.connector`\n",
        "<br>B) `sqlite3`\n",
        "<br>C) `pymysql`\n",
        "<br>D) `pyodbc`\n",
        "\n",
        "2. How do you connect to an SQLite database in Python using the `sqlite3` module?\n",
        "<br>A) `connection = sqlite3.connect('database.db')`\n",
        "<br>B) `connection = sqlite3.connection('database.db')`\n",
        "<br>C) `connection = sqlite3.create_connection('database.db')`\n",
        "<br>D) `connection = sqlite3.open_connection('database.db')`\n",
        "\n",
        "3. Which method is used to execute SQL queries in SQLite using the `sqlite3` module?\n",
        "<br>A) `execute_query()`\n",
        "<br>B) `run_query()`\n",
        "<br>C) `exec_query()`\n",
        "<br>D) `execute()`\n",
        "\n",
        "4. How do you create a table named \"pima_indian\" in an SQLite database using Python?\n",
        "<br>A) `CREATE TABLE pima_indian;`\n",
        "<br>B) `CREATE pima_indian TABLE;`\n",
        "<br>C) `CREATE TABLE IF NOT EXISTS pima_indian;`\n",
        "<br>D) `CREATE pima_indian IF NOT EXISTS TABLE;`\n",
        "\n",
        "5. Which statement is used to insert data into an SQLite table using Python?\n",
        "<br>A) `INSERT INTO table_name VALUES (value1, value2, ...);`\n",
        "<br>B) `INSERT VALUES (table_name, value1, value2, ...);`\n",
        "<br>C) `INSERT INTO value1, value2, ... VALUES table_name;`\n",
        "<br>D) `INSERT table_name INTO (value1, value2, ...);`\n",
        "\n",
        "6. How do you retrieve all rows from an SQLite table using Python?\n",
        "<br>A) `SELECT * FROM table_name;`\n",
        "<br>B) `FETCH ALL FROM table_name;`\n",
        "<br>C) `SELECT ALL table_name;`\n",
        "<br>D) `RETRIEVE * FROM table_name;`\n",
        "\n",
        "7. Which method is used to fetch all the results of an SQLite query using the `sqlite3` module in Python?\n",
        "<br>A) `fetch_all()`\n",
        "<br>B) `fetchone()`\n",
        "<br>C) `fetch()`\n",
        "<br>D) `fetchall()`\n",
        "\n",
        "8. How do you close the connection to an SQLite database in Python using the `sqlite3` module?\n",
        "<br>A) `connection.close()`\n",
        "<br>B) `connection.disconnect()`\n",
        "<br>C) `connection.shutdown()`\n",
        "<br>D) `connection.end()`\n",
        "---\n",
        "Answers:\n",
        "1. B\n",
        "2. A\n",
        "3. D\n",
        "4. C\n",
        "5. A\n",
        "6. A\n",
        "7. D\n",
        "8. A\n",
        "---"
      ],
      "metadata": {
        "id": "AeisvgaZ0DWH"
      }
    }
  ]
}