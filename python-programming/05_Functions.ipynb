{
  "nbformat": 4,
  "nbformat_minor": 0,
  "metadata": {
    "colab": {
      "provenance": [],
      "toc_visible": true,
      "authorship_tag": "ABX9TyNsG0uCk0asDILfU/aaQ9OB",
      "include_colab_link": true
    },
    "kernelspec": {
      "name": "python3",
      "display_name": "Python 3"
    },
    "language_info": {
      "name": "python"
    }
  },
  "cells": [
    {
      "cell_type": "markdown",
      "metadata": {
        "id": "view-in-github",
        "colab_type": "text"
      },
      "source": [
        "<a href=\"https://colab.research.google.com/github/cloudpedagogy/data-science-programming/blob/main/python-programming/05_Functions.ipynb\" target=\"_parent\"><img src=\"https://colab.research.google.com/assets/colab-badge.svg\" alt=\"Open In Colab\"/></a>"
      ]
    },
    {
      "cell_type": "markdown",
      "source": [
        "\n",
        "# Functions\n"
      ],
      "metadata": {
        "id": "CZ7iYXHD7bR-"
      }
    },
    {
      "cell_type": "markdown",
      "source": [
        "## Overview"
      ],
      "metadata": {
        "id": "jhxFLVk_TwOF"
      }
    },
    {
      "cell_type": "markdown",
      "source": [
        "In Python, functions are reusable blocks of code that perform specific tasks. They allow you to break down your code into smaller, more manageable pieces, making it easier to understand, debug, and maintain. Functions in Python can take inputs, process them, and produce outputs. They promote code reusability, as you can call a function multiple times throughout your program.\n",
        "\n",
        "**Defining Functions with `def**`:\n",
        "In Python, functions are defined using the `def` keyword followed by the function name, parentheses, and a colon. You can define a function with or without parameters. For example, consider a function that calculates the average BMI (Body Mass Index) of a group of individuals in the Pima Indian dataset:\n",
        "\n",
        "```python\n",
        "def calculate_average_bmi(heights, weights):\n",
        "    total_bmi = 0\n",
        "    count = 0\n",
        "    for height, weight in zip(heights, weights):\n",
        "        bmi = weight / ((height / 100) ** 2)\n",
        "        total_bmi += bmi\n",
        "        count += 1\n",
        "    average_bmi = total_bmi / count\n",
        "    return average_bmi\n",
        "```\n",
        "\n",
        "**Function Arguments and Return Values**:\n",
        "Functions can have arguments (inputs) and return values (outputs). Arguments are specified within the parentheses when defining the function. Return values are specified using the `return` statement. In the example above, the `calculate_average_bmi` function takes two arguments: `heights` and `weights`. It calculates the BMI for each individual and returns the average BMI.\n",
        "\n",
        "**Anonymous (Lambda) Functions**:\n",
        "Python supports the creation of anonymous functions using the `lambda` keyword. Lambda functions are typically used for short, one-line operations. For instance, suppose we want to calculate the squared value of each weight in the Pima Indian dataset. We can use a lambda function with the `map` function as follows:\n",
        "\n",
        "```python\n",
        "weights = [65, 70, 75, 80, 85]\n",
        "squared_weights = list(map(lambda x: x ** 2, weights))\n",
        "```\n",
        "\n",
        "Here, the lambda function `lambda x: x ** 2` takes each weight `x` and returns its squared value. The `map` function applies this lambda function to each element in the `weights` list, returning a new list `squared_weights` containing the squared values.\n",
        "\n",
        "**Map, Filter, Reduce Functions**:\n",
        "The `map`, `filter`, and `reduce` functions are powerful tools for manipulating data. The `map` function applies a given function to each element in an iterable and returns a new iterable with the transformed values. The `filter` function applies a function to each element in an iterable and returns a new iterable containing only the elements that satisfy a given condition. The `reduce` function applies a function to the elements of an iterable in a cumulative way, reducing them to a single value.\n",
        "\n",
        "For instance, let's say we want to filter out the heights below a certain threshold in the Pima Indian dataset. We can use the `filter` function along with a lambda function:\n",
        "\n",
        "```python\n",
        "heights = [160, 165, 170, 175, 180]\n",
        "threshold = 170\n",
        "filtered_heights = list(filter(lambda x: x >= threshold, heights))\n",
        "```\n",
        "\n",
        "In this example, the lambda function `lambda x: x >= threshold` checks if each height `x` is greater than or equal to the specified threshold. The `filter` function filters out the heights that do not meet this condition, and the result is stored in the `filtered_heights` list.\n",
        "\n",
        "---\n",
        "\n"
      ],
      "metadata": {
        "id": "gKRDa6nET0E-"
      }
    },
    {
      "cell_type": "markdown",
      "source": [
        "## Defining functions with def\n",
        "\n",
        "Defining functions in Python allows you to encapsulate a block of code that performs a specific task or calculation. It enables you to reuse the code and make your program more modular and organized. In Python, you can define a function using the `def` keyword followed by the function name, parameters (if any), and a colon. The function body is indented and contains the code that defines the behavior of the function.\n",
        "\n",
        "Here's an example using the Pima Indian Diabetes dataset to demonstrate defining a function:\n"
      ],
      "metadata": {
        "id": "PDmhs1Kv7iIR"
      }
    },
    {
      "cell_type": "code",
      "source": [
        "import pandas as pd\n",
        "\n",
        "# Load the Pima Indian Diabetes dataset\n",
        "url = \"https://raw.githubusercontent.com/jbrownlee/Datasets/master/pima-indians-diabetes.data.csv\"\n",
        "column_names = [\"Pregnancies\", \"Glucose\", \"BloodPressure\", \"SkinThickness\", \"Insulin\", \"BMI\", \"DiabetesPedigreeFunction\", \"Age\", \"Outcome\"]\n",
        "dataset = pd.read_csv(url, names=column_names)\n",
        "\n",
        "# Define a function to calculate the average BMI\n",
        "def calculate_average_bmi(data):\n",
        "    total_bmi = data['BMI'].sum()\n",
        "    num_entries = data.shape[0]\n",
        "    average_bmi = total_bmi / num_entries\n",
        "    return average_bmi\n",
        "\n",
        "# Call the function and pass the dataset as an argument\n",
        "avg_bmi = calculate_average_bmi(dataset)\n",
        "\n",
        "# Print the average BMI\n",
        "print(\"Average BMI:\", avg_bmi)\n"
      ],
      "metadata": {
        "id": "A7u2sTAO7l2S"
      },
      "execution_count": null,
      "outputs": []
    },
    {
      "cell_type": "markdown",
      "source": [
        "In this example, we load the Pima Indian Diabetes dataset using the Pandas library. We define a function named `calculate_average_bmi` using the `def` keyword. The function takes one parameter, `data`, which represents the dataset.\n",
        "\n",
        "Within the function body, we calculate the sum of the 'BMI' column by using the `sum()` function on `data['BMI']`. We also determine the number of entries in the dataset using the `shape[0]` property of the DataFrame. Then, we calculate the average BMI by dividing the total BMI by the number of entries. The result is stored in the `average_bmi` variable.\n",
        "\n",
        "Finally, we return the `average_bmi` value using the `return` statement. We call the `calculate_average_bmi()` function and pass the `dataset` as an argument. The returned result is assigned to the `avg_bmi` variable. We print the average BMI using the `print()` function.\n"
      ],
      "metadata": {
        "id": "RrUuHAVg7qgE"
      }
    },
    {
      "cell_type": "markdown",
      "source": [
        "## Function arguments and return values\n",
        "\n",
        "In Python, functions can have arguments and return values. Arguments are the inputs that are passed to a function, and return values are the outputs that a function produces and returns back to the caller. Functions provide a way to encapsulate reusable code and perform specific tasks.\n",
        "\n",
        "Here's an example using the Pima Indian Diabetes dataset to demonstrate function arguments and return values:\n"
      ],
      "metadata": {
        "id": "XQXdA5Gi7tjQ"
      }
    },
    {
      "cell_type": "code",
      "source": [
        "import pandas as pd\n",
        "\n",
        "# Load the Pima Indian Diabetes dataset\n",
        "url = \"https://raw.githubusercontent.com/jbrownlee/Datasets/master/pima-indians-diabetes.data.csv\"\n",
        "column_names = [\"Pregnancies\", \"Glucose\", \"BloodPressure\", \"SkinThickness\", \"Insulin\", \"BMI\", \"DiabetesPedigreeFunction\", \"Age\", \"Outcome\"]\n",
        "dataset = pd.read_csv(url, names=column_names)\n",
        "\n",
        "\n",
        "# Define a function to calculate the average glucose level for a given age range\n",
        "def calculate_average_glucose(age_min, age_max):\n",
        "    # Filter the dataset based on the age range\n",
        "    filtered_data = dataset[(dataset['Age'] >= age_min) & (dataset['Age'] <= age_max)]\n",
        "\n",
        "    # Calculate the average glucose level\n",
        "    average_glucose = filtered_data['Glucose'].mean()\n",
        "\n",
        "    # Return the average glucose level\n",
        "    return average_glucose\n",
        "\n",
        "\n",
        "# Call the function with arguments and receive the return value\n",
        "age_range_min = 30\n",
        "age_range_max = 40\n",
        "avg_glucose = calculate_average_glucose(age_range_min, age_range_max)\n",
        "\n",
        "# Print the return value\n",
        "print(\"Average Glucose for age range\", age_range_min, \"-\", age_range_max, \":\", avg_glucose)\n"
      ],
      "metadata": {
        "id": "ARAoTuiK70pC"
      },
      "execution_count": null,
      "outputs": []
    },
    {
      "cell_type": "markdown",
      "source": [
        "In this example, we define a function called `calculate_average_glucose` that takes two arguments: `age_min` and `age_max`. These arguments represent the minimum and maximum age range. Within the function, the dataset is filtered based on the provided age range using comparison operators. Then, the average glucose level is calculated for the filtered dataset using the `mean()` function.\n",
        "\n",
        "Finally, the calculated average glucose value is returned using the `return` statement. We call the function `calculate_average_glucose` by passing the arguments `age_range_min` and `age_range_max` (30 and 40 in this case), and store the returned value in the variable `avg_glucose`. Finally, we print the average glucose value for the specified age range.\n"
      ],
      "metadata": {
        "id": "aE0oc-Z774eC"
      }
    },
    {
      "cell_type": "markdown",
      "source": [
        "## Anonymous (Lambda) Functions\n",
        "\n",
        "\n",
        "Lambda functions, also known as anonymous functions, are a way to create small, one-line functions in Python without using the `def` keyword. They are useful when you need a simple function that you don't want to define separately. Lambda functions are typically used in combination with higher-order functions like `map()`, `filter()`, and `reduce()`.\n",
        "\n",
        "The syntax for a lambda function is as follows:\n",
        "\n",
        "```python\n",
        "lambda arguments: expression\n",
        "```\n",
        "Here's an example using the Pima Indian Diabetes dataset to demonstrate the use of a lambda function:\n",
        "\n"
      ],
      "metadata": {
        "id": "NOgFm1Do77bB"
      }
    },
    {
      "cell_type": "code",
      "source": [
        "import pandas as pd\n",
        "\n",
        "# Load the Pima Indian Diabetes dataset\n",
        "url = \"https://raw.githubusercontent.com/jbrownlee/Datasets/master/pima-indians-diabetes.data.csv\"\n",
        "column_names = [\"Pregnancies\", \"Glucose\", \"BloodPressure\", \"SkinThickness\", \"Insulin\", \"BMI\", \"DiabetesPedigreeFunction\", \"Age\", \"Outcome\"]\n",
        "dataset = pd.read_csv(url, names=column_names)\n",
        "\n",
        "# Use a lambda function to calculate BMI category\n",
        "dataset['BMI_Category'] = dataset['BMI'].apply(lambda bmi: 'Normal' if bmi < 25 else 'Overweight')\n",
        "\n",
        "# Print the updated dataset with BMI category\n",
        "print(dataset[['BMI', 'BMI_Category']].head())\n"
      ],
      "metadata": {
        "id": "7QUmnmPa8Ou5"
      },
      "execution_count": null,
      "outputs": []
    },
    {
      "cell_type": "markdown",
      "source": [
        "In this example, we load the Pima Indian Diabetes dataset using the Pandas library. We use a lambda function with the `apply()` method to calculate the BMI category for each record in the dataset.\n",
        "\n",
        "The lambda function takes the BMI value as an argument (`bmi`) and checks if it is less than 25. If it is, the expression `'Normal'` is returned; otherwise, `'Overweight'` is returned. The result of the lambda function is assigned to a new column called 'BMI_Category' in the dataset.\n",
        "\n",
        "Finally, we print the 'BMI' column and the newly added 'BMI_Category' column using the `head()` method to see the updated dataset with the BMI categories.\n"
      ],
      "metadata": {
        "id": "uFO3nKHb8S1d"
      }
    },
    {
      "cell_type": "markdown",
      "source": [
        "## Map, filter, reduce\n",
        "\n",
        "\n",
        "In Python, `map()`, `filter()`, and `reduce()` are built-in functions that provide powerful tools for manipulating data in different ways.\n",
        "\n",
        "1. `map()`: The `map()` function applies a given function to each item in an iterable (e.g., a list) and returns a new iterator with the results.\n",
        "\n",
        "Here's an example using the `map()` function with the Pima Indian Diabetes dataset:\n"
      ],
      "metadata": {
        "id": "ko_j8Ug38WRm"
      }
    },
    {
      "cell_type": "code",
      "source": [
        "import pandas as pd\n",
        "\n",
        "# Load the Pima Indian Diabetes dataset\n",
        "url = \"https://raw.githubusercontent.com/jbrownlee/Datasets/master/pima-indians-diabetes.data.csv\"\n",
        "column_names = [\"Pregnancies\", \"Glucose\", \"BloodPressure\", \"SkinThickness\", \"Insulin\", \"BMI\", \"DiabetesPedigreeFunction\", \"Age\", \"Outcome\"]\n",
        "dataset = pd.read_csv(url, names=column_names)\n",
        "\n",
        "# Extract the square of the Glucose values using map()\n",
        "squared_glucose = list(map(lambda x: x**2, dataset['Glucose']))\n",
        "\n",
        "# Print the squared Glucose values\n",
        "print(squared_glucose)\n"
      ],
      "metadata": {
        "id": "nQRke8Zp8aff"
      },
      "execution_count": null,
      "outputs": []
    },
    {
      "cell_type": "markdown",
      "source": [
        "In this example, we load the Pima Indian Diabetes dataset using the Pandas library. We then use the `map()` function to apply a lambda function to each value in the 'Glucose' column. The lambda function squares each value, and the `map()` function returns an iterator with the squared values.\n",
        "\n",
        "We convert the iterator to a list using the `list()` function and assign it to the variable `squared_glucose`. Finally, we print the squared Glucose values.\n",
        "\n",
        "2. `filter()`: The `filter()` function creates a new iterator with elements from an iterable that satisfy a given condition.\n",
        "\n",
        "Here's an example using the `filter()` function with the Pima Indian Diabetes dataset:\n"
      ],
      "metadata": {
        "id": "-qoKEBie8g0k"
      }
    },
    {
      "cell_type": "code",
      "source": [
        "import pandas as pd\n",
        "\n",
        "# Load the Pima Indian Diabetes dataset\n",
        "url = \"https://raw.githubusercontent.com/jbrownlee/Datasets/master/pima-indians-diabetes.data.csv\"\n",
        "column_names = [\"Pregnancies\", \"Glucose\", \"BloodPressure\", \"SkinThickness\", \"Insulin\", \"BMI\", \"DiabetesPedigreeFunction\", \"Age\", \"Outcome\"]\n",
        "dataset = pd.read_csv(url, names=column_names)\n",
        "\n",
        "# Filter the dataset to include only records with Age greater than or equal to 30 using filter()\n",
        "filtered_data = list(filter(lambda x: x >= 30, dataset['Age']))\n",
        "\n",
        "# Print the filtered data\n",
        "print(filtered_data)\n"
      ],
      "metadata": {
        "id": "YJnnBpgw86ZI"
      },
      "execution_count": null,
      "outputs": []
    },
    {
      "cell_type": "markdown",
      "source": [
        "In this example, we load the Pima Indian Diabetes dataset using the Pandas library. We then use the `filter()` function to create a new iterator that contains only the values from the 'Age' column that satisfy the lambda function's condition (age greater than or equal to 30).\n",
        "\n",
        "We convert the iterator to a list using the `list()` function and assign it to the variable `filtered_data`. Finally, we print the filtered data.\n"
      ],
      "metadata": {
        "id": "XTHTVVaU9AUz"
      }
    },
    {
      "cell_type": "markdown",
      "source": [
        "3. `reduce()`: The `reduce()` function is used to apply a rolling computation to a sequence of values and returns a single result.\n",
        "\n",
        "To use `reduce()`, we need to import it from the `functools` module:\n",
        "\n",
        "```python\n",
        "from functools import reduce\n",
        "```\n",
        "\n",
        "Here's an example using the `reduce()` function with the Pima Indian Diabetes dataset:\n"
      ],
      "metadata": {
        "id": "XBkh0ug-9JqV"
      }
    },
    {
      "cell_type": "code",
      "source": [
        "import pandas as pd\n",
        "from functools import reduce\n",
        "\n",
        "# Load the Pima Indian Diabetes dataset\n",
        "url = \"https://raw.githubusercontent.com/jbrownlee/Datasets/master/pima-indians-diabetes.data.csv\"\n",
        "column_names = [\"Pregnancies\", \"Glucose\", \"BloodPressure\", \"SkinThickness\", \"Insulin\", \"BMI\", \"DiabetesPedigreeFunction\", \"Age\", \"Outcome\"]\n",
        "dataset = pd.read_csv(url, names=column_names)\n",
        "\n",
        "# Calculate the product of all Glucose values using reduce()\n",
        "glucose_product = reduce(lambda x, y: x * y, dataset['Glucose'])\n",
        "\n",
        "# Print the product of all Glucose values\n",
        "print(glucose_product)\n"
      ],
      "metadata": {
        "id": "18Ky6zEO9S1T"
      },
      "execution_count": null,
      "outputs": []
    },
    {
      "cell_type": "markdown",
      "source": [
        "In this example, we load the Pima Indian Diabetes dataset using the Pandas library. We import the `reduce()` function from the `functools` module.\n",
        "\n",
        "We then use the `reduce()` function to calculate the product of all values in the 'Glucose' column. The lambda function takes two arguments (`x` and `y`) and returns their product. The `reduce()` function applies this lambda function cumulatively to the 'Glucose' values, resulting in a single value, which is the product of all Glucose values.\n",
        "\n",
        "Finally, we print the product of all Glucose values.\n"
      ],
      "metadata": {
        "id": "xonoLvWu9XWX"
      }
    },
    {
      "cell_type": "markdown",
      "source": [
        "# Modules and Packages"
      ],
      "metadata": {
        "id": "mMc59Nc5TCeO"
      }
    },
    {
      "cell_type": "markdown",
      "source": [
        "# Overview"
      ],
      "metadata": {
        "id": "1-9FRfCqVUnY"
      }
    },
    {
      "cell_type": "markdown",
      "source": [
        "Python provides a modular approach to programming through the use of modules and packages. In this introduction, we will explore the concepts of modules and packages, importing modules, and delve into the exploration of built-in modules such as math and os using the Pima Indian dataset as an example.\n",
        "\n",
        "**Modules and Packages**:\n",
        "Modules are files containing Python code that define functions, variables, and classes, which can be used in other programs. A package is a collection of modules organized in a directory structure. Modules and packages help in organizing code and provide a way to reuse functionality across multiple projects. For instance, if we have a set of functions related to data analysis for the Pima Indian dataset, we can group them into a module or package for easy access and reuse.\n",
        "\n",
        "**Exploring Built-in Modules**:\n",
        "Python comes with a rich set of built-in modules that provide various functionalities. Two commonly used built-in modules are math and os. The math module provides mathematical functions and constants, while the os module provides functions for interacting with the operating system."
      ],
      "metadata": {
        "id": "xBdTFqgFVXnV"
      }
    },
    {
      "cell_type": "markdown",
      "source": [
        "\n",
        "\n",
        "## Importing modules\n",
        "\n",
        "In Python, modules are files containing Python definitions and statements that can be used in other Python programs. They allow you to organize and reuse code. To use functions, classes, or variables defined in a module, you need to import the module into your program.\n",
        "\n",
        "Here's an example using the Pima Indian Diabetes dataset to demonstrate importing modules:\n"
      ],
      "metadata": {
        "id": "8sxTNfwc9avH"
      }
    },
    {
      "cell_type": "code",
      "source": [
        "import pandas as pd\n",
        "\n",
        "# Load the Pima Indian Diabetes dataset\n",
        "url = \"https://raw.githubusercontent.com/jbrownlee/Datasets/master/pima-indians-diabetes.data.csv\"\n",
        "column_names = [\"Pregnancies\", \"Glucose\", \"BloodPressure\", \"SkinThickness\", \"Insulin\", \"BMI\", \"DiabetesPedigreeFunction\", \"Age\", \"Outcome\"]\n",
        "dataset = pd.read_csv(url, names=column_names)\n",
        "\n",
        "# Perform some operations using the pandas module\n",
        "average_glucose = dataset['Glucose'].mean()\n",
        "max_blood_pressure = dataset['BloodPressure'].max()\n",
        "\n",
        "# Print the results\n",
        "print(\"Average Glucose:\", average_glucose)\n",
        "print(\"Max Blood Pressure:\", max_blood_pressure)\n"
      ],
      "metadata": {
        "id": "MaJIYcdJ9e-I"
      },
      "execution_count": null,
      "outputs": []
    },
    {
      "cell_type": "markdown",
      "source": [
        "In this example, we import the `pandas` module using the `import` keyword. The `pandas` module provides functions and data structures for data manipulation and analysis.\n",
        "\n",
        "We then use the `pd.read_csv()` function from the `pandas` module to load the Pima Indian Diabetes dataset into a DataFrame. This function allows us to read a CSV file and create a DataFrame object.\n",
        "\n",
        "Next, we perform some operations using functions from the `pandas` module. We calculate the average glucose level by calling the `mean()` function on the 'Glucose' column of the dataset. We also find the maximum blood pressure by calling the `max()` function on the 'BloodPressure' column.\n",
        "\n",
        "Finally, we print the results using the `print()` function to display the average glucose level and maximum blood pressure calculated using functions from the `pandas` module.\n"
      ],
      "metadata": {
        "id": "-Anmz9yS9jY4"
      }
    },
    {
      "cell_type": "markdown",
      "source": [
        "## Exploring built-in modules (like math, os)\n",
        "\n",
        "Built-in modules in Python are pre-existing libraries that provide a wide range of functionalities to perform various operations. These modules extend the capabilities of Python by providing additional functions, classes, and constants. Two commonly used built-in modules in Python are `math` and `os`.\n",
        "\n",
        "1. `math` module: This module provides mathematical functions and constants for numerical operations.\n",
        "\n",
        "Here's an example using the `math` module with the Pima Indian Diabetes dataset:\n"
      ],
      "metadata": {
        "id": "xtI2ac0l9nzZ"
      }
    },
    {
      "cell_type": "code",
      "source": [
        "import pandas as pd\n",
        "import math\n",
        "\n",
        "# Load the Pima Indian Diabetes dataset\n",
        "url = \"https://raw.githubusercontent.com/jbrownlee/Datasets/master/pima-indians-diabetes.data.csv\"\n",
        "column_names = [\"Pregnancies\", \"Glucose\", \"BloodPressure\", \"SkinThickness\", \"Insulin\", \"BMI\", \"DiabetesPedigreeFunction\", \"Age\", \"Outcome\"]\n",
        "dataset = pd.read_csv(url, names=column_names)\n",
        "\n",
        "# Calculate the square root of the average glucose level\n",
        "average_glucose = dataset['Glucose'].mean()\n",
        "square_root = math.sqrt(average_glucose)\n",
        "\n",
        "# Print the square root\n",
        "print(\"Square root of the average glucose level:\", square_root)\n"
      ],
      "metadata": {
        "id": "un3FCE7h9uIU"
      },
      "execution_count": null,
      "outputs": []
    },
    {
      "cell_type": "markdown",
      "source": [
        "In this example, after loading the Pima Indian Diabetes dataset using Pandas, we import the `math` module. We then calculate the average glucose level using the `mean()` function from Pandas. Afterward, we use the `sqrt()` function from the `math` module to calculate the square root of the average glucose level. The `sqrt()` function is a mathematical function provided by the `math` module.\n",
        "\n",
        "Finally, we print the square root of the average glucose level using the `print()` function.\n"
      ],
      "metadata": {
        "id": "_4NcUj8Q9zuc"
      }
    },
    {
      "cell_type": "markdown",
      "source": [
        "2. `os` module: This module provides a way to interact with the operating system, allowing you to perform various operating system-related tasks such as file operations, directory manipulation, and more.\n",
        "\n",
        "Here's an example using the `os` module with the Pima Indian Diabetes dataset:\n"
      ],
      "metadata": {
        "id": "6m8ALUyz90bQ"
      }
    },
    {
      "cell_type": "code",
      "source": [
        "import pandas as pd\n",
        "import os\n",
        "\n",
        "# Load the Pima Indian Diabetes dataset\n",
        "url = \"https://raw.githubusercontent.com/jbrownlee/Datasets/master/pima-indians-diabetes.data.csv\"\n",
        "column_names = [\"Pregnancies\", \"Glucose\", \"BloodPressure\", \"SkinThickness\", \"Insulin\", \"BMI\", \"DiabetesPedigreeFunction\", \"Age\", \"Outcome\"]\n",
        "dataset = pd.read_csv(url, names=column_names)\n",
        "\n",
        "# Get the current working directory\n",
        "current_directory = os.getcwd()\n",
        "\n",
        "# Create a new directory to save the dataset\n",
        "new_directory = os.path.join(current_directory, \"diabetes_dataset\")\n",
        "os.mkdir(new_directory)\n",
        "\n",
        "# Save the dataset in the new directory\n",
        "new_file_path = os.path.join(new_directory, \"diabetes_data.csv\")\n",
        "dataset.to_csv(new_file_path, index=False)\n",
        "\n",
        "# Print the path of the new file\n",
        "print(\"Path of the new file:\", new_file_path)\n"
      ],
      "metadata": {
        "id": "s4cCGj7B950G"
      },
      "execution_count": null,
      "outputs": []
    },
    {
      "cell_type": "markdown",
      "source": [
        "In this example, after loading the Pima Indian Diabetes dataset using Pandas, we import the `os` module. We use the `getcwd()` function from the `os` module to get the current working directory.\n",
        "\n",
        "Then, we create a new directory named \"diabetes_dataset\" using the `mkdir()` function from the `os` module. The `mkdir()` function creates a new directory with the specified name.\n",
        "\n",
        "Afterward, we use the `join()` function from the `os` module to create the file path of the new file within the newly created directory. We save the dataset to the new file using the `to_csv()` function provided by Pandas.\n",
        "\n",
        "Finally, we print the path of the new file using the `print()` function.\n"
      ],
      "metadata": {
        "id": "IEadjSyA9-0a"
      }
    },
    {
      "cell_type": "markdown",
      "source": [
        "# Reflection Points"
      ],
      "metadata": {
        "id": "g4N--PRc-BDS"
      }
    },
    {
      "cell_type": "markdown",
      "source": [
        "**Defining and Calling Functions:**\n",
        "\n",
        "1. What is a function in Python?\n",
        "   - Answer: A function is a named block of code that performs a specific task. It takes inputs (arguments) and may return a value.\n",
        "\n",
        "2. How do you define a function in Python?\n",
        "   - Answer: A function is defined using the `def` keyword, followed by the function name, parentheses for optional parameters, and a colon. The code block is indented below the function definition.\n",
        "\n",
        "3. How do you call a function in Python?\n",
        "   - Answer: To call a function, you simply write the function name followed by parentheses, optionally passing any required arguments.\n",
        "\n",
        "**Anonymous (Lambda) Functions:**\n",
        "\n",
        "1. What is an anonymous function in Python?\n",
        "   - Answer: An anonymous function, also known as a lambda function, is a function without a name. It is a one-liner function used for simple tasks and is defined using the `lambda` keyword.\n",
        "\n",
        "2. How do you define an anonymous function in Python?\n",
        "   - Answer: An anonymous function is defined using the `lambda` keyword, followed by optional parameters, a colon, and the expression to be evaluated.\n",
        "\n",
        "3. When are anonymous functions useful?\n",
        "   - Answer: Anonymous functions are useful when you need a simple function that will not be reused elsewhere in your code. They are commonly used as arguments in higher-order functions or in situations where a function is needed temporarily.\n",
        "\n",
        "**Modules and Packages:**\n",
        "\n",
        "1. What are modules and packages in Python?\n",
        "   - Answer: Modules are Python files containing functions, classes, and variables that can be imported and used in other Python scripts. Packages are directories containing multiple modules and an additional `__init__.py` file.\n",
        "\n",
        "2. How do you import modules in Python?\n",
        "   - Answer: Modules are imported using the `import` statement, followed by the module name. You can also import specific functions or variables from a module using the `from` keyword.\n",
        "\n",
        "3. What is the purpose of the `__init__.py` file in a package?\n",
        "   - Answer: The `__init__.py` file is required in a package directory. It can be left empty, but it signals to Python that the directory should be treated as a package. It may also contain initialization code that runs when the package is imported.\n"
      ],
      "metadata": {
        "id": "f96j1ejoZk-3"
      }
    },
    {
      "cell_type": "markdown",
      "source": [
        "# A quiz on Functions"
      ],
      "metadata": {
        "id": "MgKZaKVAVmmv"
      }
    },
    {
      "cell_type": "markdown",
      "source": [
        "\n",
        "1. What keyword is used to define a function in Python?\n",
        "   <br>a) define\n",
        "   <br>b) function\n",
        "   <br>c) def\n",
        "   <br>d) return\n",
        "\n",
        "2. What is the purpose of function arguments?\n",
        "   <br>a) To specify the number of times a function should execute.\n",
        "   <br>b) To provide input values to a function.\n",
        "   <br>c) To define the output of a function.\n",
        "   <br>d) To determine the name of a function.\n",
        "\n",
        "3. How do you return a value from a function in Python?\n",
        "   <br>a) Using the keyword \"result.\"\n",
        "   <br>b) By printing the value inside the function.\n",
        "   <br>c) By assigning the value to a variable.\n",
        "   <br>d) Using the keyword \"return.\"\n",
        "\n",
        "4. What is an anonymous function in Python?\n",
        "   <br>a) A function that does not have a name.\n",
        "   <br>b) A function that can only be used once.\n",
        "   <br>c) A function that does not accept any arguments.\n",
        "   <br>d) A function that is not defined using the \"def\" keyword.\n",
        "\n",
        "5. Which keyword is used to define an anonymous function in Python?\n",
        "   <br>a) lambda\n",
        "   <br>b) func\n",
        "   <br>c) anon\n",
        "   <br>d) def\n",
        "\n",
        "6. What is the purpose of the map() function in Python?\n",
        "   <br>a) To filter a sequence based on a condition.\n",
        "   <br>b) To perform a specified operation on each item of a sequence.\n",
        "   <br>c) To reduce a sequence to a single value.\n",
        "   <br>d) To sort a sequence in ascending order.\n",
        "\n",
        "7. What is the purpose of the filter() function in Python?\n",
        "   <br>a) To apply a function to each item of a sequence.\n",
        "   <br>b) To check if a condition is True or False for each item of a sequence.\n",
        "   <br>c) To combine a sequence of values into a single value.\n",
        "   <br>d) To create a new sequence based on a condition.\n",
        "\n",
        "8. What is the purpose of the reduce() function in Python?\n",
        "   <br>a) To apply a function to each item of a sequence.\n",
        "   <br>b) To check if a condition is True or False for each item of a sequence.\n",
        "   <br>c) To combine a sequence of values into a single value.\n",
        "   <br>d) To create a new sequence based on a condition.\n",
        "---\n",
        "Answers:\n",
        "\n",
        "1. c) def\n",
        "2. b) To provide input values to a function.\n",
        "3. d) Using the keyword \"return.\"\n",
        "4. a) A function that does not have a name.\n",
        "5. a) lambda\n",
        "6. b) To perform a specified operation on each item of a sequence.\n",
        "7. d) To create a new sequence based on a condition.\n",
        "8. c) To combine a sequence of values into a single value.\n",
        "---"
      ],
      "metadata": {
        "id": "dDGRx12LVqqo"
      }
    },
    {
      "cell_type": "markdown",
      "source": [
        "# A quiz on Modules and Packages"
      ],
      "metadata": {
        "id": "N26AakNDXA1u"
      }
    },
    {
      "cell_type": "markdown",
      "source": [
        "\n",
        "\n",
        "1. Which statement is used to import a module in Python?\n",
        "   <br>a) `require module_name`\n",
        "   <br>b) `import module_name`\n",
        "   <br>c) `include module_name`\n",
        "   <br>d) `load module_name`\n",
        "\n",
        "2. What is the purpose of importing modules in Python?\n",
        "   <br>a) To make the code run faster\n",
        "   <br>b) To add comments to the code\n",
        "   <br>c) To extend the functionality of Python\n",
        "   <br>d) To reduce the number of lines of code\n",
        "\n",
        "3. Which module in Python is commonly used for reading and manipulating data?\n",
        "   <br>a) `numpy`\n",
        "   <br>b) `pandas`\n",
        "   <br>c) `matplotlib`\n",
        "   <br>d) `datetime`\n",
        "\n",
        "4. How can you import a module with a different name in Python?\n",
        "   <br>a) `import module_name as new_name`\n",
        "   <br>b) `import new_name.module_name`\n",
        "   <br>c) `module_name as new_name`\n",
        "   <br>d) `new_name.module_name`\n",
        "\n",
        "5. What does the `dir()` function do in Python?\n",
        "   <br>a) Prints the current directory path\n",
        "   <br>b) Lists all the files in the current directory\n",
        "   <br>c) Lists all the available functions and attributes of a module or object\n",
        "   <br>d) Displays the documentation of a module or object\n",
        "\n",
        "6. Which module can be used for data visualization in Python?\n",
        "   <br>a) `os`\n",
        "   <br>b) `sys`\n",
        "   <br>c) `numpy`\n",
        "   <br>d) `matplotlib`\n",
        "\n",
        "7. How can you install a third-party module in Python?\n",
        "   <br>a) Use the `pip install module_name` command\n",
        "   <br>b) Download the module and manually copy it to the Python installation folder\n",
        "   <br>c) Use the `apt-get install module_name` command\n",
        "   <br>d) Third-party modules cannot be installed in Python\n",
        "\n",
        "8. What is the purpose of the `importlib` module in Python?\n",
        "   <br>a) It allows you to import modules written in other programming languages\n",
        "   <br>b) It provides utilities for working with dynamically imported modules\n",
        "   <br>c) It is used for handling network requests in Python\n",
        "   <br>d) It is a built-in module for handling dates and times\n",
        "\n",
        "9. Which module can be used for performing mathematical operations in Python?\n",
        "   <br>a) `math`\n",
        "   <br>b) `csv`\n",
        "   <br>c) `os`\n",
        "   <br>d) `random`\n",
        "\n",
        "10. Suppose you have a file named \"data.csv\" in the current directory. Which module can be used to read this file in Python?\n",
        "    <br>a) `os`\n",
        "    <br>b) `csv`\n",
        "    <br>c) `pandas`\n",
        "    <br>d) `sys`\n",
        "\n",
        "---\n",
        "\n",
        "**Answers:**\n",
        "\n",
        "1. b) `import module_name`\n",
        "2. c) To extend the functionality of Python\n",
        "3. b) `pandas`\n",
        "4. a) `import module_name as new_name`\n",
        "5. c) Lists all the available functions and attributes of a module or object\n",
        "6. d) `matplotlib`\n",
        "7. a) Use the `pip install module_name` command\n",
        "8. b) It provides utilities for working with dynamically imported modules\n",
        "9. a) `math`\n",
        "10. c) `pandas`\n",
        "\n",
        "---"
      ],
      "metadata": {
        "id": "jSiCnKU6XEzg"
      }
    }
  ]
}