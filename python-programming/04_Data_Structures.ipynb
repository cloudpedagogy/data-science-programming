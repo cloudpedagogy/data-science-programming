{
  "nbformat": 4,
  "nbformat_minor": 0,
  "metadata": {
    "colab": {
      "provenance": [],
      "toc_visible": true,
      "authorship_tag": "ABX9TyNff5R4h8FUml6CRMlG98+N",
      "include_colab_link": true
    },
    "kernelspec": {
      "name": "python3",
      "display_name": "Python 3"
    },
    "language_info": {
      "name": "python"
    }
  },
  "cells": [
    {
      "cell_type": "markdown",
      "metadata": {
        "id": "view-in-github",
        "colab_type": "text"
      },
      "source": [
        "<a href=\"https://colab.research.google.com/github/cloudpedagogy/introduction-python/blob/main/04_Data_Structures.ipynb\" target=\"_parent\"><img src=\"https://colab.research.google.com/assets/colab-badge.svg\" alt=\"Open In Colab\"/></a>"
      ]
    },
    {
      "cell_type": "markdown",
      "source": [
        "#Data Structures\n"
      ],
      "metadata": {
        "id": "BK8aWUs447ht"
      }
    },
    {
      "cell_type": "markdown",
      "source": [
        "##Overview\n",
        "\n",
        "In Python programming, data structures are essential tools for storing and organizing collections of data. Four commonly used data structures are Lists, Tuples, Sets, and Dictionaries. Let's explore each of these data structures and understand how they can be used with the Pima Indian dataset.\n",
        "\n",
        "1. **Lists**:\n",
        "A list is a versatile and mutable data structure that can store an ordered collection of items. It is created using square brackets and allows duplicate values. Lists are commonly used when you have a sequence of elements that may need to be modified. For example, you can use a list to store the diabetes test results of individuals in the Pima Indian dataset.\n",
        "\n",
        "Example:\n",
        "```python\n",
        "diabetes_test_results = [125, 98, 185, 140, 176]\n",
        "```\n",
        "\n",
        "2. **Tuples**:\n",
        "Similar to lists, tuples are also used to store an ordered collection of items. However, tuples are immutable, meaning their values cannot be modified once defined. Tuples are created using parentheses and can contain duplicate values. They are useful when you have a collection of data that shouldn't be changed. In the context of the Pima Indian dataset, tuples can be used to store fixed attributes of individuals, such as their names and ages.\n",
        "\n",
        "Example:\n",
        "```python\n",
        "person_info = (\"John Doe\", 35)\n",
        "```\n",
        "\n",
        "3. **Sets**:\n",
        "A set is an unordered collection of unique elements. It is created using curly braces or the `set()` function. Sets are useful when you want to store a collection of distinct values or perform set operations like union, intersection, and difference. In the context of the Pima Indian dataset, you can use sets to store unique medical conditions among the individuals.\n",
        "\n",
        "Example:\n",
        "```python\n",
        "medical_conditions = {\"diabetes\", \"hypertension\", \"asthma\"}\n",
        "```\n",
        "\n",
        "4. **Dictionaries**:\n",
        "Dictionaries are key-value pairs that allow you to store and retrieve data using a unique key. They are created using curly braces and consist of key-value pairs separated by colons. Dictionaries are useful when you want to associate values with specific labels or attributes. In the Pima Indian dataset, dictionaries can be used to represent the medical records of individuals, with attributes such as age, glucose levels, and blood pressure associated with each person.\n",
        "\n",
        "Example:\n",
        "```python\n",
        "medical_records = {\n",
        "    \"person1\": {\"age\": 45, \"glucose\": 165, \"blood_pressure\": 120},\n",
        "    \"person2\": {\"age\": 32, \"glucose\": 92, \"blood_pressure\": 110},\n",
        "    \"person3\": {\"age\": 50, \"glucose\": 200, \"blood_pressure\": 140}\n",
        "}\n",
        "```\n",
        "\n",
        "These data structures provide different functionalities depending on the requirements of your program. Lists and tuples are useful for ordered collections, sets for unique elements, and dictionaries for key-value associations.\n",
        "\n",
        "By leveraging these data structures, you can effectively organize and manipulate data in Python, making it easier to work with datasets such as the Pima Indian dataset.\n"
      ],
      "metadata": {
        "id": "yuVZFdLzAIuH"
      }
    },
    {
      "cell_type": "markdown",
      "source": [
        "#Lists\n"
      ],
      "metadata": {
        "id": "dBoydbXTnH3I"
      }
    },
    {
      "cell_type": "markdown",
      "source": [
        "\n",
        "##Creating lists\n",
        "\n",
        "Creating lists in Python allows you to store multiple values in a single variable. Lists are ordered, mutable, and can contain elements of different data types. Each element in a list is separated by a comma and enclosed within square brackets ([ ]).\n",
        "\n",
        "Here's an example using the Pima Indian Diabetes dataset to demonstrate creating a list:\n"
      ],
      "metadata": {
        "id": "QhliOYTf5BNW"
      }
    },
    {
      "cell_type": "code",
      "source": [
        "import pandas as pd\n",
        "\n",
        "# Load the Pima Indian Diabetes dataset\n",
        "url = \"https://raw.githubusercontent.com/jbrownlee/Datasets/master/pima-indians-diabetes.data.csv\"\n",
        "column_names = [\"Pregnancies\", \"Glucose\", \"BloodPressure\", \"SkinThickness\", \"Insulin\", \"BMI\", \"DiabetesPedigreeFunction\", \"Age\", \"Outcome\"]\n",
        "dataset = pd.read_csv(url, names=column_names)\n",
        "\n",
        "# Create a list of ages from the dataset\n",
        "ages = list(dataset['Age'])\n",
        "\n",
        "# Print the list of ages\n",
        "print(\"List of Ages:\", ages)\n"
      ],
      "metadata": {
        "id": "QZw6KJih5FFe"
      },
      "execution_count": null,
      "outputs": []
    },
    {
      "cell_type": "markdown",
      "source": [
        "In this example, we load the Pima Indian Diabetes dataset using the Pandas library. We then create a list named `ages` by converting the 'Age' column of the dataset to a list using the `list()` function.\n",
        "\n",
        "The `list()` function takes an iterable (in this case, the 'Age' column) as an argument and returns a list containing all the elements in the iterable.\n",
        "\n",
        "We print the list of ages using the `print()` function to display the created list. The `ages` list contains all the values from the 'Age' column of the dataset.\n"
      ],
      "metadata": {
        "id": "tRpU9jDL5I8a"
      }
    },
    {
      "cell_type": "markdown",
      "source": [
        "##List operations and functions\n",
        "\n",
        "Lists in Python are versatile data structures that can hold a collection of items. They are mutable, meaning their elements can be modified. Python provides several operations and functions to manipulate lists. Here are some common list operations and functions:\n",
        "\n",
        "1. Accessing Elements:\n",
        "   - Indexing: Access an element at a specific index using square brackets. Example: `my_list[0]`.\n",
        "   - Slicing: Extract a sublist by specifying a range of indices. Example: `my_list[1:4]`.\n",
        "\n",
        "2. Modifying Elements:\n",
        "   - Assignment: Change the value of an element by assigning a new value. Example: `my_list[0] = 42`.\n",
        "   - Append: Add an item to the end of the list using the `append()` method. Example: `my_list.append(5)`.\n",
        "\n",
        "3. Removing Elements:\n",
        "   - Remove: Remove an item by specifying its value using the `remove()` method. Example: `my_list.remove(3)`.\n",
        "   - Pop: Remove and return an item at a specific index using the `pop()` method. Example: `my_list.pop(2)`.\n",
        "\n",
        "4. List Functions:\n",
        "   - len(): Returns the length of the list. Example: `len(my_list)`.\n",
        "   - count(): Returns the number of occurrences of a specified item. Example: `my_list.count(2)`.\n",
        "   - sort(): Sorts the list in ascending order. Example: `my_list.sort()`.\n",
        "   - reverse(): Reverses the order of the list. Example: `my_list.reverse()`.\n",
        "\n",
        "Here's an example using the Pima Indian Diabetes dataset to demonstrate list operations and functions:\n"
      ],
      "metadata": {
        "id": "AndgnJGP5M8Z"
      }
    },
    {
      "cell_type": "code",
      "source": [
        "import pandas as pd\n",
        "\n",
        "# Load the Pima Indian Diabetes dataset\n",
        "url = \"https://raw.githubusercontent.com/jbrownlee/Datasets/master/pima-indians-diabetes.data.csv\"\n",
        "column_names = [\"Pregnancies\", \"Glucose\", \"BloodPressure\", \"SkinThickness\", \"Insulin\", \"BMI\", \"DiabetesPedigreeFunction\", \"Age\", \"Outcome\"]\n",
        "dataset = pd.read_csv(url, names=column_names)\n",
        "\n",
        "# Create a list of ages from the dataset\n",
        "age_list = dataset['Age'].tolist()\n",
        "\n",
        "# Accessing Elements\n",
        "first_age = age_list[0]  # Access the first age\n",
        "sublist = age_list[1:5]  # Extract a sublist of ages from index 1 to 4\n",
        "\n",
        "# Modifying Elements\n",
        "age_list[0] = 30  # Change the value of the first age to 30\n",
        "age_list.append(40)  # Add a new age 40 to the end of the list\n",
        "\n",
        "# Removing Elements\n",
        "age_list.remove(25)  # Remove the age 25 from the list\n",
        "removed_age = age_list.pop(2)  # Remove and store the age at index 2\n",
        "\n",
        "# List Functions\n",
        "list_length = len(age_list)  # Get the length of the list\n",
        "age_count = age_list.count(35)  # Count the number of occurrences of age 35\n",
        "age_list.sort()  # Sort the ages in ascending order\n",
        "age_list.reverse()  # Reverse the order of the ages\n",
        "\n",
        "# Print the modified list and other information\n",
        "print(\"Modified Age List:\", age_list)\n",
        "print(\"Length of Age List:\", list_length)\n",
        "print(\"Count of Age 35:\", age_count)\n"
      ],
      "metadata": {
        "id": "HjwgMcOT5Rzv"
      },
      "execution_count": null,
      "outputs": []
    },
    {
      "cell_type": "markdown",
      "source": [
        "In this example, we load the Pima Indian Diabetes dataset using the Pandas library. We create a list `age_list` containing the ages from the 'Age' column of the dataset using the `tolist()` function.\n",
        "\n",
        "We then demonstrate various list operations and functions. For example:\n",
        "- Accessing Elements: We access the first age using indexing and extract a sublist of ages using slicing.\n",
        "- Modifying Elements: We change the value of the first age, append a new age to the list.\n",
        "- Removing Elements: We remove an age by value and remove and store an age by index using `remove()` and `pop()` methods, respectively.\n",
        "- List Functions: We get the length of the list, count the number of occurrences of a specific age, and sort and reverse the list using the respective functions.\n",
        "\n",
        "Finally, we print the modified `age_list`, the length of the list, and the count of a specific age to observe the changes and list-related information.\n"
      ],
      "metadata": {
        "id": "JM0axwT85Wyc"
      }
    },
    {
      "cell_type": "markdown",
      "source": [
        "##List comprehensions\n",
        "\n",
        "List comprehensions in Python provide a concise way to create new lists based on existing lists or other iterable objects. They allow you to generate a new list by applying an expression or transformation to each element in the original list, with optional conditions or filters.\n",
        "\n",
        "Here's an example using the Pima Indian Diabetes dataset to demonstrate list comprehensions:\n"
      ],
      "metadata": {
        "id": "uqnLH3HY5aIk"
      }
    },
    {
      "cell_type": "code",
      "source": [
        "import pandas as pd\n",
        "\n",
        "# Load the Pima Indian Diabetes dataset\n",
        "url = \"https://raw.githubusercontent.com/jbrownlee/Datasets/master/pima-indians-diabetes.data.csv\"\n",
        "column_names = [\"Pregnancies\", \"Glucose\", \"BloodPressure\", \"SkinThickness\", \"Insulin\", \"BMI\", \"DiabetesPedigreeFunction\", \"Age\", \"Outcome\"]\n",
        "dataset = pd.read_csv(url, names=column_names)\n",
        "\n",
        "# Create a new list containing BMI values squared\n",
        "bmi_squared = [bmi ** 2 for bmi in dataset['BMI']]\n",
        "\n",
        "# Create a new list containing the outcome values as strings\n",
        "outcome_strings = ['Diabetic' if outcome else 'Non-Diabetic' for outcome in dataset['Outcome']]\n",
        "\n",
        "# Print the new lists\n",
        "print(\"BMI Squared:\", bmi_squared)\n",
        "print(\"Outcome Strings:\", outcome_strings)\n"
      ],
      "metadata": {
        "id": "UZDV4aeY5d-g"
      },
      "execution_count": null,
      "outputs": []
    },
    {
      "cell_type": "markdown",
      "source": [
        "In this example, we load the Pima Indian Diabetes dataset using the Pandas library. We then use list comprehensions to create new lists based on the existing dataset.\n",
        "\n",
        "The first list comprehension creates a new list called `bmi_squared`, which contains the squared values of each BMI (Body Mass Index) in the dataset. It iterates over each BMI value using the syntax `for bmi in dataset['BMI']`, squares each value with the expression `bmi ** 2`, and appends the squared value to the new list.\n",
        "\n",
        "The second list comprehension creates a new list called `outcome_strings`, which contains string representations of the outcome values. It iterates over each outcome value using the syntax `for outcome in dataset['Outcome']`, checks if the outcome is True (indicating diabetic) with the condition `if outcome`, and appends the string 'Diabetic' or 'Non-Diabetic' based on the condition to the new list.\n",
        "\n",
        "Finally, we print the new lists `bmi_squared` and `outcome_strings` to see the transformed values.\n"
      ],
      "metadata": {
        "id": "C2w5VUnD5iRH"
      }
    },
    {
      "cell_type": "markdown",
      "source": [
        "#Tuples"
      ],
      "metadata": {
        "id": "6yBp0v9A_Jvb"
      }
    },
    {
      "cell_type": "markdown",
      "source": [
        "##Tuples example\n",
        "\n",
        "In Python, a tuple is an immutable sequence of elements, enclosed in parentheses `()`. Tuples can contain elements of different data types, and once created, their values cannot be modified. You can access the elements of a tuple using indexing or slicing.\n",
        "\n",
        "Here's an example using the Pima Indian Diabetes dataset to demonstrate creating and accessing tuples:\n"
      ],
      "metadata": {
        "id": "FQbKkpBs5lTW"
      }
    },
    {
      "cell_type": "code",
      "source": [
        "import pandas as pd\n",
        "\n",
        "# Load the Pima Indian Diabetes dataset\n",
        "url = \"https://raw.githubusercontent.com/jbrownlee/Datasets/master/pima-indians-diabetes.data.csv\"\n",
        "column_names = [\"Pregnancies\", \"Glucose\", \"BloodPressure\", \"SkinThickness\", \"Insulin\", \"BMI\", \"DiabetesPedigreeFunction\", \"Age\", \"Outcome\"]\n",
        "dataset = pd.read_csv(url, names=column_names)\n",
        "\n",
        "# Create a tuple from the first row of the dataset\n",
        "first_row = tuple(dataset.iloc[0])\n",
        "\n",
        "# Accessing elements of the tuple\n",
        "pregnancies = first_row[0]\n",
        "glucose = first_row[1]\n",
        "blood_pressure = first_row[2]\n",
        "\n",
        "# Print the tuple and its elements\n",
        "print(\"First Row Tuple:\", first_row)\n",
        "print(\"Pregnancies:\", pregnancies)\n",
        "print(\"Glucose:\", glucose)\n",
        "print(\"Blood Pressure:\", blood_pressure)\n"
      ],
      "metadata": {
        "id": "kZ92Twh85pM5"
      },
      "execution_count": null,
      "outputs": []
    },
    {
      "cell_type": "markdown",
      "source": [
        "In this example, we load the Pima Indian Diabetes dataset using the Pandas library. We create a tuple `first_row` from the values of the first row of the dataset using the `tuple()` function and passing the values as an argument.\n",
        "\n",
        "We can access individual elements of the tuple using indexing. The variable `pregnancies` is assigned the first element of the tuple (`first_row[0]`), the variable `glucose` is assigned the second element (`first_row[1]`), and the variable `blood_pressure` is assigned the third element (`first_row[2]`).\n",
        "\n",
        "We then print the tuple `first_row` and the individual elements to display their values. Note that the tuple retains the original order and values from the first row of the dataset, and the individual elements can be accessed using indexing.\n"
      ],
      "metadata": {
        "id": "YyVG7BN35tE7"
      }
    },
    {
      "cell_type": "markdown",
      "source": [
        "##Immutable property of tuples\n",
        "\n",
        "In Python, a tuple is an ordered, immutable collection of elements. The immutability of tuples means that once a tuple is created, its elements cannot be modified. You cannot add, remove, or change elements in a tuple. However, you can access the elements of a tuple using indexing or slicing.\n",
        "\n",
        "Here's an example using the Pima Indian Diabetes dataset to demonstrate the immutable property of tuples:\n"
      ],
      "metadata": {
        "id": "V6bRBeuF5v-5"
      }
    },
    {
      "cell_type": "code",
      "source": [
        "import pandas as pd\n",
        "\n",
        "# Load the Pima Indian Diabetes dataset\n",
        "url = \"https://raw.githubusercontent.com/jbrownlee/Datasets/master/pima-indians-diabetes.data.csv\"\n",
        "column_names = [\"Pregnancies\", \"Glucose\", \"BloodPressure\", \"SkinThickness\", \"Insulin\", \"BMI\", \"DiabetesPedigreeFunction\", \"Age\", \"Outcome\"]\n",
        "dataset = pd.read_csv(url, names=column_names)\n",
        "\n",
        "# Create a tuple containing the first row of the dataset\n",
        "first_row = tuple(dataset.loc[0])\n",
        "\n",
        "# Try to modify an element of the tuple\n",
        "# This will raise a TypeError since tuples are immutable\n",
        "first_row[2] = 80\n",
        "\n",
        "# Access and print the elements of the tuple\n",
        "print(\"First Row Tuple:\", first_row)\n",
        "print(\"Pregnancies:\", first_row[0])\n",
        "print(\"Glucose:\", first_row[1])\n",
        "print(\"Blood Pressure:\", first_row[2])\n"
      ],
      "metadata": {
        "id": "ClqEPCzf50j1"
      },
      "execution_count": null,
      "outputs": []
    },
    {
      "cell_type": "markdown",
      "source": [
        "In this example, we load the Pima Indian Diabetes dataset using the Pandas library. We create a tuple named `first_row` by converting the first row of the dataset into a tuple using the `tuple()` constructor.\n",
        "\n",
        "Next, we attempt to modify the value of an element in the `first_row` tuple by assigning a new value to `first_row[2]`. However, this will raise a `TypeError` because tuples are immutable, and their elements cannot be changed.\n",
        "\n",
        "Finally, we access and print the elements of the tuple using indexing (`first_row[0]`, `first_row[1]`, etc.). This demonstrates that we can retrieve and use the elements of a tuple, but we cannot modify them once the tuple is created.\n"
      ],
      "metadata": {
        "id": "FpeecDnY58WR"
      }
    },
    {
      "cell_type": "markdown",
      "source": [
        "#Sets\n"
      ],
      "metadata": {
        "id": "SlaiHqPI-6w1"
      }
    },
    {
      "cell_type": "markdown",
      "source": [
        "\n",
        "##Creating sets\n",
        "\n",
        "In Python, a set is an unordered collection of unique elements. It is denoted by curly braces `{}`. Sets are useful when you want to store a collection of items without any duplicates and perform set operations such as union, intersection, and difference.\n",
        "\n",
        "Here's an example using the Pima Indian Diabetes dataset to demonstrate creating sets in Python:\n"
      ],
      "metadata": {
        "id": "Eer-Al2y5_CD"
      }
    },
    {
      "cell_type": "code",
      "source": [
        "import pandas as pd\n",
        "\n",
        "# Load the Pima Indian Diabetes dataset\n",
        "url = \"https://raw.githubusercontent.com/jbrownlee/Datasets/master/pima-indians-diabetes.data.csv\"\n",
        "column_names = [\"Pregnancies\", \"Glucose\", \"BloodPressure\", \"SkinThickness\", \"Insulin\", \"BMI\", \"DiabetesPedigreeFunction\", \"Age\", \"Outcome\"]\n",
        "dataset = pd.read_csv(url, names=column_names)\n",
        "\n",
        "# Create a set of unique ages from the dataset\n",
        "age_set = set(dataset['Age'])\n",
        "\n",
        "# Print the set of ages\n",
        "print(\"Unique ages in the dataset:\", age_set)\n"
      ],
      "metadata": {
        "id": "9Mbq_9te6EBg"
      },
      "execution_count": null,
      "outputs": []
    },
    {
      "cell_type": "markdown",
      "source": [
        "In this example, we load the Pima Indian Diabetes dataset using the Pandas library. We then create a set called `age_set` using the `set()` function and passing the 'Age' column of the dataset.\n",
        "\n",
        "The `set()` function takes an iterable (in this case, the 'Age' column) and removes any duplicate values, creating a set of unique ages from the dataset.\n",
        "\n",
        "Finally, we print the set of unique ages using the `print()` function. The output will be a set of unique ages present in the 'Age' column of the dataset.\n"
      ],
      "metadata": {
        "id": "Bs0FI1Sa6IAj"
      }
    },
    {
      "cell_type": "markdown",
      "source": [
        "##Set operations\n",
        "Set operations in Python refer to the operations performed on sets, which are unordered collections of unique elements. Python provides various set operations that allow you to perform common set operations such as union, intersection, difference, and more.\n",
        "\n",
        "Here are some commonly used set operations in Python:\n",
        "\n",
        "1. Union: Combines two sets, returning a set that contains all the unique elements from both sets.\n",
        "2. Intersection: Returns a set that contains the common elements between two sets.\n",
        "3. Difference: Returns a set that contains the elements present in one set but not in the other.\n",
        "4. Symmetric Difference: Returns a set that contains the elements present in either of the sets, but not in both.\n",
        "5. Subset: Checks if one set is a subset of another set.\n",
        "6. Superset: Checks if one set is a superset of another set.\n",
        "\n",
        "Here's an example using the Pima Indian Diabetes dataset to demonstrate set operations:\n"
      ],
      "metadata": {
        "id": "KpoZyE4O6LEX"
      }
    },
    {
      "cell_type": "code",
      "source": [
        "import pandas as pd\n",
        "\n",
        "# Load the Pima Indian Diabetes dataset\n",
        "url = \"https://raw.githubusercontent.com/jbrownlee/Datasets/master/pima-indians-diabetes.data.csv\"\n",
        "column_names = [\"Pregnancies\", \"Glucose\", \"BloodPressure\", \"SkinThickness\", \"Insulin\", \"BMI\", \"DiabetesPedigreeFunction\", \"Age\", \"Outcome\"]\n",
        "dataset = pd.read_csv(url, names=column_names)\n",
        "\n",
        "# Create two sets from the 'Age' column and 'Outcome' column\n",
        "age_set = set(dataset['Age'])\n",
        "outcome_set = set(dataset['Outcome'])\n",
        "\n",
        "# Perform set operations\n",
        "union_set = age_set.union(outcome_set)\n",
        "intersection_set = age_set.intersection(outcome_set)\n",
        "age_difference_set = age_set.difference(outcome_set)\n",
        "symmetric_difference_set = age_set.symmetric_difference(outcome_set)\n",
        "is_subset = age_set.issubset(outcome_set)\n",
        "is_superset = age_set.issuperset(outcome_set)\n",
        "\n",
        "# Print the results\n",
        "print(\"Union Set:\", union_set)\n",
        "print(\"Intersection Set:\", intersection_set)\n",
        "print(\"Age Difference Set:\", age_difference_set)\n",
        "print(\"Symmetric Difference Set:\", symmetric_difference_set)\n",
        "print(\"Is Age Set a Subset of Outcome Set?\", is_subset)\n",
        "print(\"Is Age Set a Superset of Outcome Set?\", is_superset)\n"
      ],
      "metadata": {
        "id": "dngSokYY6TBv"
      },
      "execution_count": null,
      "outputs": []
    },
    {
      "cell_type": "markdown",
      "source": [
        "In this example, we load the Pima Indian Diabetes dataset using the Pandas library. We then create two sets, `age_set` and `outcome_set`, by converting the 'Age' column and 'Outcome' column of the dataset to sets using the `set()` function.\n",
        "\n",
        "We then perform various set operations on these sets. The `union()` operation combines both sets and returns a set that contains all the unique elements from both sets. The `intersection()` operation returns a set that contains the common elements between the two sets. The `difference()` operation returns a set that contains the elements present in the `age_set` but not in the `outcome_set`. The `symmetric_difference()` operation returns a set that contains the elements present in either `age_set` or `outcome_set`, but not in both.\n",
        "\n",
        "Additionally, we check if the `age_set` is a subset or superset of the `outcome_set` using the `issubset()` and `issuperset()` operations, respectively.\n",
        "\n",
        "Finally, we print the results of these set operations to see the output.\n"
      ],
      "metadata": {
        "id": "w4xwyFhy6Xv7"
      }
    },
    {
      "cell_type": "markdown",
      "source": [
        "#Dictionaries"
      ],
      "metadata": {
        "id": "F0dJ2nmZ_DeY"
      }
    },
    {
      "cell_type": "markdown",
      "source": [
        "\n",
        "##Creating dictionaries\n",
        "\n",
        "\n",
        "In Python, dictionaries are a built-in data structure that allow you to store and retrieve key-value pairs. Each key in a dictionary is unique, and it is associated with a value. Dictionaries are created using curly braces `{}` and key-value pairs separated by colons `:`.\n",
        "\n",
        "Here's an example using the Pima Indian Diabetes dataset to demonstrate creating dictionaries:\n"
      ],
      "metadata": {
        "id": "Yy7oty-v6dQc"
      }
    },
    {
      "cell_type": "code",
      "source": [
        "import pandas as pd\n",
        "\n",
        "# Load the Pima Indian Diabetes dataset\n",
        "url = \"https://raw.githubusercontent.com/jbrownlee/Datasets/master/pima-indians-diabetes.data.csv\"\n",
        "column_names = [\"Pregnancies\", \"Glucose\", \"BloodPressure\", \"SkinThickness\", \"Insulin\", \"BMI\", \"DiabetesPedigreeFunction\", \"Age\", \"Outcome\"]\n",
        "dataset = pd.read_csv(url, names=column_names)\n",
        "\n",
        "# Create a dictionary using values from the dataset\n",
        "first_person = {\n",
        "    \"Pregnancies\": dataset.loc[0, 'Pregnancies'],\n",
        "    \"Glucose\": dataset.loc[0, 'Glucose'],\n",
        "    \"BloodPressure\": dataset.loc[0, 'BloodPressure'],\n",
        "    \"SkinThickness\": dataset.loc[0, 'SkinThickness'],\n",
        "    \"Insulin\": dataset.loc[0, 'Insulin'],\n",
        "    \"BMI\": dataset.loc[0, 'BMI'],\n",
        "    \"DiabetesPedigreeFunction\": dataset.loc[0, 'DiabetesPedigreeFunction'],\n",
        "    \"Age\": dataset.loc[0, 'Age'],\n",
        "    \"Outcome\": dataset.loc[0, 'Outcome']\n",
        "}\n",
        "\n",
        "# Print the dictionary\n",
        "print(first_person)\n"
      ],
      "metadata": {
        "id": "EdSPL-es6har"
      },
      "execution_count": null,
      "outputs": []
    },
    {
      "cell_type": "markdown",
      "source": [
        "In this example, we load the Pima Indian Diabetes dataset using the Pandas library. We then create a dictionary named `first_person` using values from the first row of the dataset.\n",
        "\n",
        "Each key in the dictionary corresponds to a column name from the dataset, and the associated value is the value from the respective column in the first row.\n",
        "\n",
        "We print the dictionary using the `print()` function to see the key-value pairs stored in the dictionary. The output will show the key-value pairs for the first person in the dataset.\n"
      ],
      "metadata": {
        "id": "4xN48pHC6lO9"
      }
    },
    {
      "cell_type": "markdown",
      "source": [
        "##Dictionary methods and operations\n",
        "\n",
        "Dictionaries in Python are versatile data structures that store key-value pairs. They allow efficient retrieval and manipulation of data based on the keys. Python provides several methods and operations to work with dictionaries. Here are some commonly used ones:\n",
        "\n",
        "1. Accessing and modifying values in a dictionary:\n",
        "   - `dictionary[key]`: Retrieves the value associated with the specified key.\n",
        "   - `dictionary[key] = value`: Sets the value associated with the specified key or creates a new key-value pair if the key does not exist.\n",
        "   - `del dictionary[key]`: Deletes the key-value pair with the specified key.\n",
        "   - `dictionary.get(key, default)`: Retrieves the value associated with the specified key, or returns a default value if the key is not found.\n",
        "\n",
        "2. Checking membership:\n",
        "   - `key in dictionary`: Checks if a key is present in the dictionary.\n",
        "   - `key not in dictionary`: Checks if a key is not present in the dictionary.\n",
        "\n",
        "3. Dictionary length and manipulation:\n",
        "   - `len(dictionary)`: Returns the number of key-value pairs in the dictionary.\n",
        "   - `dictionary.keys()`: Returns a list of all the keys in the dictionary.\n",
        "   - `dictionary.values()`: Returns a list of all the values in the dictionary.\n",
        "   - `dictionary.items()`: Returns a list of tuples containing key-value pairs in the dictionary.\n",
        "\n",
        "Here's an example using the Pima Indian Diabetes dataset to demonstrate dictionary methods and operations:\n"
      ],
      "metadata": {
        "id": "SAqvAKol6pyi"
      }
    },
    {
      "cell_type": "code",
      "source": [
        "import pandas as pd\n",
        "\n",
        "# Load the Pima Indian Diabetes dataset\n",
        "url = \"https://raw.githubusercontent.com/jbrownlee/Datasets/master/pima-indians-diabetes.data.csv\"\n",
        "column_names = [\"Pregnancies\", \"Glucose\", \"BloodPressure\", \"SkinThickness\", \"Insulin\", \"BMI\", \"DiabetesPedigreeFunction\", \"Age\", \"Outcome\"]\n",
        "dataset = pd.read_csv(url, names=column_names)\n",
        "\n",
        "# Create a dictionary to store summary statistics\n",
        "summary_stats = {\n",
        "    \"Total Rows\": len(dataset),\n",
        "    \"Mean Glucose\": dataset['Glucose'].mean(),\n",
        "    \"Max Blood Pressure\": dataset['BloodPressure'].max(),\n",
        "    \"Min Skin Thickness\": dataset['SkinThickness'].min()\n",
        "}\n",
        "\n",
        "# Access values in the dictionary\n",
        "print(\"Total Rows:\", summary_stats[\"Total Rows\"])\n",
        "print(\"Mean Glucose:\", summary_stats[\"Mean Glucose\"])\n",
        "\n",
        "# Modify values in the dictionary\n",
        "summary_stats[\"Max Blood Pressure\"] = 90\n",
        "summary_stats[\"Min Skin Thickness\"] = 10\n",
        "\n",
        "# Check membership\n",
        "if \"Age\" in summary_stats:\n",
        "    print(\"Age is present in the dictionary.\")\n",
        "else:\n",
        "    print(\"Age is not present in the dictionary.\")\n",
        "\n",
        "# Delete a key-value pair\n",
        "del summary_stats[\"Total Rows\"]\n",
        "\n",
        "# Print all keys and values in the dictionary\n",
        "print(\"Keys:\", summary_stats.keys())\n",
        "print(\"Values:\", summary_stats.values())\n",
        "\n",
        "# Print key-value pairs in the dictionary\n",
        "for key, value in summary_stats.items():\n",
        "    print(key + \":\", value)\n"
      ],
      "metadata": {
        "id": "QFmItkdE6zUp"
      },
      "execution_count": null,
      "outputs": []
    },
    {
      "cell_type": "markdown",
      "source": [
        "In this example, we load the Pima Indian Diabetes dataset using the Pandas library. We create a dictionary called `summary_stats` to store summary statistics of the dataset.\n",
        "\n",
        "We access values in the dictionary using the keys and print them. We then modify two values in the dictionary to update the statistics.\n",
        "\n",
        "Next, we check if the key \"Age\" is present in the dictionary using the `in` operator.\n",
        "\n",
        "We delete the key \"Total Rows\" from the dictionary using the `del` statement.\n",
        "\n",
        "Finally, we print all the keys and values in the dictionary using the `keys()` and `values()` methods. We also iterate over the key-value pairs using the `items()` method and print them.\n"
      ],
      "metadata": {
        "id": "jWfuOYqi63pM"
      }
    },
    {
      "cell_type": "markdown",
      "source": [
        "#Reflection points"
      ],
      "metadata": {
        "id": "dl06DO2o65yM"
      }
    },
    {
      "cell_type": "markdown",
      "source": [
        "Here's a list of reflection points with sample answers for the topics of Lists, Tuples, Sets, and Dictionaries in Python:\n",
        "\n",
        "**1. Lists:**\n",
        "- How would you define a list in Python?\n",
        "  - A list is a collection of ordered and mutable elements enclosed in square brackets ([]). It allows storing multiple items, such as integers, strings, or even other lists.\n",
        "\n",
        "- What is the difference between append() and extend() methods in lists?\n",
        "  - The `append()` method is used to add a single element to the end of a list, while the `extend()` method is used to add multiple elements (another list, tuple, or iterable) to the end of a list.\n",
        "\n",
        "- How can you access elements in a list?\n",
        "  - Elements in a list can be accessed using indexing. Indexing starts from 0, so the first element is at index 0, the second at index 1, and so on. You can also use negative indexing to access elements from the end of the list.\n",
        "\n",
        "**2. Tuples:**\n",
        "- What is a tuple in Python?\n",
        "  - A tuple is an ordered and immutable collection of elements enclosed in parentheses (()). Once defined, the elements within a tuple cannot be modified.\n",
        "\n",
        "- How is a tuple different from a list?\n",
        "  - The key difference between tuples and lists is that tuples are immutable, meaning their elements cannot be changed after creation, while lists are mutable and allow modifications.\n",
        "\n",
        "- When would you use a tuple instead of a list?\n",
        "  - Tuples are typically used when you have a collection of items that should not be modified. For example, you might use a tuple to represent a set of coordinates or a record in a database that should remain unchanged.\n",
        "\n",
        "**3. Sets:**\n",
        "- What is a set in Python?\n",
        "  - A set is an unordered collection of unique elements enclosed in curly braces ({}). It is used to store distinct values and does not allow duplicate elements.\n",
        "\n",
        "- How can you perform set operations like union, intersection, and difference?\n",
        "  - Set operations can be performed using built-in methods. The `union()` method combines two sets and returns a new set with all unique elements. The `intersection()` method returns a new set with common elements between two sets. The `difference()` method returns a new set with elements from the first set that are not present in the second set.\n",
        "\n",
        "- How is a set different from a list or tuple?\n",
        "  - Unlike lists and tuples, sets are unordered and do not preserve the order of elements. Sets also do not allow duplicate elements, making them suitable for operations that require unique values.\n",
        "\n",
        "**4. Dictionaries:**\n",
        "- What is a dictionary in Python?\n",
        "  - A dictionary is an unordered collection of key-value pairs enclosed in curly braces ({}). Each value is associated with a unique key, allowing for efficient lookup and retrieval of values.\n",
        "\n",
        "- How do you access values in a dictionary?\n",
        "  - Values in a dictionary are accessed using keys. You can retrieve a value by specifying the corresponding key within square brackets ([]). If the key is not found, it raises a KeyError. Alternatively, you can use the `get()` method, which returns None if the key is not present.\n",
        "\n",
        "- How can you add or modify key-value pairs in a dictionary?\n",
        "  - To add or modify a key-value pair in a dictionary, assign a value to a new or existing key. If the key already exists, its value will be updated. If the key is new, it will be added to the dictionary.\n",
        "\n",
        "\n"
      ],
      "metadata": {
        "id": "APbhf8AV7GtE"
      }
    },
    {
      "cell_type": "markdown",
      "source": [
        "#A quiz on Lists"
      ],
      "metadata": {
        "id": "WTEDSBwKMIjK"
      }
    },
    {
      "cell_type": "markdown",
      "source": [
        "\n",
        "1. Which of the following statements is used to create an empty list in Python?\n",
        "   <br>a) list()\n",
        "   <br>b) []\n",
        "   <br>c) empty_list()\n",
        "   <br>d) None of the above\n",
        "\n",
        "2. How do you access an element in a list given its index?\n",
        "   <br>a) Using the `get()` method\n",
        "   <br>b) Using the `retrieve()` keyword\n",
        "   <br>c) Using the `[]` square brackets notation\n",
        "   <br>d) Using the `access()` function\n",
        "\n",
        "3. What will be the result of the following list operation?\n",
        "   `list1 = [1, 2, 3]\n",
        "    list2 = [4, 5, 6]\n",
        "    result = list1 + list2`\n",
        "   <br>a) [1, 2, 3, 4, 5, 6]\n",
        "   <br>b) [5, 7, 9]\n",
        "   <br>c) [1, 4, 2, 5, 3, 6]\n",
        "   <br>d) [1, 2, 3, [4, 5, 6]]\n",
        "\n",
        "4. Which built-in function can be used to find the length of a list?\n",
        "   <br>a) `length()`\n",
        "   <br>b) `count()`\n",
        "   <br>c) `size()`\n",
        "   <br>d) `len()`\n",
        "\n",
        "5. What does the `append()` method do?\n",
        "   <br>a) Removes the last element from a list\n",
        "   <br>b) Adds an element to the end of a list\n",
        "   <br>c) Reverses the order of the elements in a list\n",
        "   vd) Retrieves the first element of a list\n",
        "\n",
        "6. Which of the following list comprehensions will create a new list containing only the even numbers from the given list?\n",
        "   `numbers = [1, 2, 3, 4, 5, 6, 7, 8, 9, 10]`\n",
        "   <br>a) `[x for x in numbers if x % 2 == 0]`\n",
        "   <br>b) `[x for x in numbers if x % 2 != 0]`\n",
        "   <br>c) `[x for x in numbers if x > 5]`\n",
        "   <br>d) `[x for x in numbers if x < 5]`\n",
        "\n",
        "7. What is the output of the following code snippet?\n",
        "   `numbers = [1, 2, 3, 4, 5]\n",
        "    doubled = [x * 2 for x in numbers]\n",
        "    print(doubled)`\n",
        "   <br>a) [1, 4, 9, 16, 25]\n",
        "   <br>b) [2, 4, 6, 8, 10]\n",
        "   <br>c) [1, 2, 3, 4, 5]\n",
        "   <br>d) [2, 4, 8, 16, 32]\n",
        "\n",
        "---\n",
        "Answers:\n",
        "1. b) []\n",
        "2. c) Using the `[]` square brackets notation\n",
        "3. a) [1, 2, 3, 4, 5, 6]\n",
        "4. d) `len()`\n",
        "5. b) Adds an element to the end of a list\n",
        "6. a) `[x for x in numbers if x % 2 == 0]`\n",
        "7. b) [2, 4, 6, 8, 10]\n",
        "---"
      ],
      "metadata": {
        "id": "1xOME6AtMMDB"
      }
    },
    {
      "cell_type": "markdown",
      "source": [
        "#A quiz on Tuples"
      ],
      "metadata": {
        "id": "r0hfhOZbNWOr"
      }
    },
    {
      "cell_type": "markdown",
      "source": [
        "\n",
        "1. What is a tuple in Python?\n",
        "   <br>a) A mutable sequence of elements\n",
        "   <br>b) An immutable sequence of elements\n",
        "   <br>c) A collection of unordered elements\n",
        "   <br>d) A data type used for mathematical calculations\n",
        "\n",
        "2. How do you create a tuple in Python?\n",
        "   <br>a) Using square brackets []\n",
        "   <br>b) Using curly braces {}\n",
        "   <br>c) Using parentheses ()\n",
        "   <br>d) Using the keyword \"tuple\"\n",
        "\n",
        "3. Which of the following statements about tuples is true?\n",
        "   <br>a) Tuples can be modified after creation\n",
        "   <br>b) Tuples can contain elements of different data types\n",
        "   <br>c) Tuples have a fixed length\n",
        "   <br>d) Tuples can only store numeric values\n",
        "\n",
        "4. How can you access individual elements in a tuple?\n",
        "   <br>a) Using indexing\n",
        "   <br>b) Using the \"split()\" method\n",
        "   <br>c) Using the \"append()\" method\n",
        "   <br>d) Using the \"sort()\" method\n",
        "\n",
        "5. Consider the following tuple: `pima_data = (5, 124, 70, 20, 33)`. How would you access the second element, 124?\n",
        "   <br>a) `pima_data[0]`\n",
        "   <br>b) `pima_data[1]`\n",
        "   <br>c) `pima_data[2]`\n",
        "   <br>d) `pima_data[3]`\n",
        "\n",
        "6. Can tuples be used as keys in dictionaries?\n",
        "   <br>a) Yes\n",
        "   <br>b) No\n",
        "\n",
        "7. How can you concatenate two tuples together?\n",
        "   <br>a) Using the \"+\" operator\n",
        "   <br>b) Using the \"-\" operator\n",
        "   <br>c) Using the \"*\" operator\n",
        "   <br>d) Using the \"/\" operator\n",
        "\n",
        "8. Which of the following methods can be used to count the occurrences of a specific element in a tuple?\n",
        "   <br>a) `count()`\n",
        "   <br>b) `append()`\n",
        "   <br>c) `index()`\n",
        "   <br>d) `sort()`\n",
        "\n",
        "---\n",
        "Answers:\n",
        "\n",
        "1. b) An immutable sequence of elements\n",
        "2. c) Using parentheses ()\n",
        "3. c) Tuples have a fixed length\n",
        "4. a) Using indexing\n",
        "5. b) `pima_data[1]`\n",
        "6. a) Yes\n",
        "7. a) Using the \"+\" operator\n",
        "8. a) `count()`\n",
        "---"
      ],
      "metadata": {
        "id": "F101SBj1NZet"
      }
    },
    {
      "cell_type": "markdown",
      "source": [
        "#A quiz on Sets"
      ],
      "metadata": {
        "id": "Lkh3CXSrOKeC"
      }
    },
    {
      "cell_type": "markdown",
      "source": [
        "\n",
        "\n",
        "1. Which data structure in Python is used to store a collection of unique elements?\n",
        "<br>a) List\n",
        "<br>b) Tuple\n",
        "<br>c) Set\n",
        "<br>d) Dictionary\n",
        "\n",
        "2. How do you create an empty set in Python?\n",
        "<br>a) `s = {}`\n",
        "<br>b) `s = set()`\n",
        "<br>c) `s = []`\n",
        "<br>d) `s = ()`\n",
        "\n",
        "3. Which of the following statements is true about sets in Python?\n",
        "<br>a) Sets are ordered collections of elements.\n",
        "<br>b) Sets can contain duplicate elements.\n",
        "<br>c) Sets are mutable and can be changed after creation.\n",
        "<br>d) Sets can be accessed using indexes.\n",
        "\n",
        "4. Suppose you have a list of numbers `[1, 2, 3, 4, 5]`. How do you convert this list into a set?\n",
        "<br>a) `set(numbers)`\n",
        "<br>b) `numbers.to_set()`\n",
        "<br>c) `set(numbers[])`\n",
        "<br>d) `set(numbers)[]`\n",
        "\n",
        "5. Consider the following two sets: `set1 = {1, 2, 3}` and `set2 = {3, 4, 5}`. What is the result of `set1.union(set2)`?\n",
        "\n",
        "<br>a) `{1, 2, 3, 4, 5}`\n",
        "<br>b) `{1, 2, 3}`\n",
        "<br>c) `{3}`\n",
        "<br>d) `Error: union() is not a valid set operation in Python`\n",
        "\n",
        "6. Which set operation in Python returns the intersection of two sets?\n",
        "<br>a) `set1.intersection(set2)`\n",
        "<br>b) `set1.difference(set2)`\n",
        "<br>c) `set1.union(set2)`\n",
        "<br>d) `set1.symmetric_difference(set2)`\n",
        "\n",
        "7. Consider the following two sets: `set1 = {1, 2, 3}` and `set2 = {3, 4, 5}`. What is the result of `set1.difference(set2)`?\n",
        "<br>a) `{1, 2, 3, 4, 5}`\n",
        "<br>b) `{1, 2}`\n",
        "<br>c) `{3}`\n",
        "<br>d) `{4, 5}`\n",
        "\n",
        "8. Which set operation in Python checks if one set is a subset of another set?\n",
        "<br>a) `set1.union(set2)`\n",
        "<br>b) `set1.difference(set2)`\n",
        "<br>c) `set1.issubset(set2)`\n",
        "<br>d) `set1.issuperset(set2)`\n",
        "\n",
        "9. How do you find the number of elements in a set in Python?\n",
        "<br>a) `len(set)`\n",
        "<br>b) `set.size()`\n",
        "<br>c) `set.length()`\n",
        "<br>d) `set.count()`\n",
        "\n",
        "10. Suppose you have a dataset called \"pima_data\" that contains information about individuals. How do you create a set containing the unique values of the \"age\" column from the dataset?\n",
        "<br>a) `age_set = set(pima_data['age'])`\n",
        "<br>b) `age_set = pima_data.unique('age')`\n",
        "<br>c) `age_set = pima_data['age'].unique()`\n",
        "<br>d) `age_set = pima_data['age'].to_set()`\n",
        "\n",
        "---\n",
        "Answers:\n",
        "\n",
        "1. c) Set\n",
        "2. b) `s = set()`\n",
        "3. b) Sets can contain duplicate elements.\n",
        "4. a) `set(numbers)`\n",
        "5. a) `{1, 2, 3, 4, 5}`\n",
        "6. a) `set1.intersection(set2)`\n",
        "7. b) `{1, 2}`\n",
        "8. c) `set1.issubset(set2)`\n",
        "9. a) `len(set)`\n",
        "10. c) `age_set = pima_data['age'].unique()`\n",
        "---"
      ],
      "metadata": {
        "id": "fNW1m4RdOOgS"
      }
    },
    {
      "cell_type": "markdown",
      "source": [
        "#A quiz on Dictionaries"
      ],
      "metadata": {
        "id": "ejwrAlY9PSgk"
      }
    },
    {
      "cell_type": "markdown",
      "source": [
        "\n",
        "1. Which data structure is used to store key-value pairs in Python?\n",
        "   <br>a) Lists\n",
        "   <br>b) Tuples\n",
        "   <br>c) Dictionaries\n",
        "   <br>d) Sets\n",
        "\n",
        "2. How do you create an empty dictionary in Python?\n",
        "   <br>a) `empty_dict = {}`\n",
        "   <br>b) `empty_dict = dict()`\n",
        "   <br>c) Both a) and b)\n",
        "   <br>d) `empty_dict = []`\n",
        "\n",
        "3. Which of the following is a valid way to access the value associated with a specific key in a dictionary?\n",
        "   <br>a) Using indexing like `my_dict[key]`\n",
        "   <br>b) Using the `get()` method like `my_dict.get(key)`\n",
        "   <br>c) Both a) and b)\n",
        "   <br>d) There is no direct way to access values in a dictionary\n",
        "\n",
        "4. What happens if you try to access a key in a dictionary that does not exist?\n",
        "   <br>a) An error is raised\n",
        "   <br>b) The dictionary returns `None`\n",
        "   <br>c) The dictionary returns an empty string\n",
        "   <br>d) The program crashes\n",
        "\n",
        "5. How do you add a new key-value pair to an existing dictionary?\n",
        "   <br>a) `my_dict.append(key, value)`\n",
        "   <br>b) `my_dict.add(key, value)`\n",
        "   <br>c) `my_dict[key] = value`\n",
        "   <br>d) `my_dict.insert(key, value)`\n",
        "\n",
        "6. Which dictionary method is used to remove a key-value pair from a dictionary?\n",
        "   <br>a) `remove()`\n",
        "   <br>b) `delete()`\n",
        "   <br>c) `pop()`\n",
        "   <br>d) `discard()`\n",
        "\n",
        "7. What does the `keys()` method return?\n",
        "   <br>a) All the keys in the dictionary\n",
        "   <br>b) All the values in the dictionary\n",
        "   <br>c) The number of key-value pairs in the dictionary\n",
        "   <br>d) The size of the dictionary in bytes\n",
        "\n",
        "8. How do you check if a key exists in a dictionary?\n",
        "   <br>a) `if key in my_dict:`\n",
        "   <br>b) `if my_dict.exists(key):`\n",
        "   <br>c) `if my_dict.contains(key):`\n",
        "   <br>d) `if my_dict.has_key(key):`\n",
        "\n",
        "9. Which dictionary method is used to get all the values in a dictionary?\n",
        "   <br>a) `values()`\n",
        "   <br>b) `get_values()`\n",
        "   <br>c) `get_all()`\n",
        "   <br>d) `all_values()`\n",
        "\n",
        "10. In the context of the Pima Indian dataset, how could you use a dictionary to store information about a person's diabetes status?\n",
        "    <br>a) Using the person's name as the key and their diabetes status as the value\n",
        "    <br>b) Using the person's age as the key and their diabetes status as the value\n",
        "    <br>c) Using the person's height as the key and their diabetes status as the value\n",
        "    <br>d) Using the person's weight as the key and their diabetes status as the value\n",
        "\n",
        "---\n",
        "\n",
        "Answers:\n",
        "\n",
        "1. c) Dictionaries\n",
        "2. c) Both a) and b)\n",
        "3. c) Both a) and b)\n",
        "4. a) An error is raised\n",
        "5. c) `my_dict[key] = value`\n",
        "6. c) `pop()`\n",
        "7. a) All the keys in the dictionary\n",
        "8. a) `if key in my_dict:`\n",
        "9. a) `values()`\n",
        "10. a) Using the person's name as the key and their diabetes status as the value\n",
        "\n",
        "---\n",
        "\n"
      ],
      "metadata": {
        "id": "ayDUEBdgPWyQ"
      }
    }
  ]
}