{
  "nbformat": 4,
  "nbformat_minor": 0,
  "metadata": {
    "colab": {
      "provenance": [],
      "toc_visible": true,
      "authorship_tag": "ABX9TyMeQrhbkuKAqH9jdklBR96m",
      "include_colab_link": true
    },
    "kernelspec": {
      "name": "python3",
      "display_name": "Python 3"
    },
    "language_info": {
      "name": "python"
    }
  },
  "cells": [
    {
      "cell_type": "markdown",
      "metadata": {
        "id": "view-in-github",
        "colab_type": "text"
      },
      "source": [
        "<a href=\"https://colab.research.google.com/github/cloudpedagogy/python-programming/blob/main/07_Introduction_to_File_I_O.ipynb\" target=\"_parent\"><img src=\"https://colab.research.google.com/assets/colab-badge.svg\" alt=\"Open In Colab\"/></a>"
      ]
    },
    {
      "cell_type": "markdown",
      "source": [
        "#Introduction to File I/O"
      ],
      "metadata": {
        "id": "75aVNJ6O_1al"
      }
    },
    {
      "cell_type": "markdown",
      "source": [
        "##Overview"
      ],
      "metadata": {
        "id": "QAoUHMZ1fjIL"
      }
    },
    {
      "cell_type": "markdown",
      "source": [
        "\n",
        "File Input/Output (I/O) operations play a crucial role in working with data and manipulating files in Python programming. Python provides a rich set of built-in functions and modules to handle various file operations, allowing you to read data from files, write data to files, and perform other file-related tasks.\n",
        "\n",
        "File I/O allows you to interact with different types of files, such as text files, binary files, CSV files, JSON files, and more. Whether you need to read a large dataset, modify existing files, or create new files, Python's File I/O capabilities provide you with the flexibility and power to handle these operations efficiently.\n",
        "\n",
        "To work with files in Python, you need to follow a few fundamental steps. These steps involve opening the file, performing the desired operation (reading or writing), and then properly closing the file. Let's take a closer look at each step:\n",
        "\n",
        "1. Opening a File:\n",
        "Before you can read from or write to a file, you must open it. Python provides the `open()` function, which takes two parameters: the file path and the mode. The mode can be 'r' for reading, 'w' for writing (creating a new file or overwriting an existing one), 'a' for appending data to an existing file, or 'x' for creating a new file exclusively.\n",
        "\n",
        "2. Reading from a File:\n",
        "To read data from a file, you can use methods like `read()`, `readline()`, or `readlines()`. The `read()` method reads the entire file content as a single string, while `readline()` reads a single line at a time, and `readlines()` reads all lines and returns them as a list.\n",
        "\n",
        "3. Writing to a File:\n",
        "To write data to a file, you can use the `write()` method. It allows you to write data as a string to the file. If you want to write multiple lines, you need to include the newline character (\"\\n\") at the end of each line.\n",
        "\n",
        "4. Closing a File:\n",
        "After you have finished reading from or writing to a file, it's crucial to close it using the `close()` method. Closing the file ensures that any pending operations are completed, and system resources are released.\n",
        "\n",
        "In addition to the basic file operations mentioned above, Python also provides various modules, such as `csv`, `json`, and `pickle`, which offer specialized functionalities for handling specific file formats.\n",
        "\n",
        "File I/O in Python is a fundamental skill for data manipulation, data analysis, and various other tasks. It enables you to work with external data sources, perform data extraction, perform data storage, and much more.\n",
        "\n",
        "By understanding the principles and techniques of File I/O in Python, you gain the ability to efficiently handle files and leverage the power of Python's vast ecosystem for data processing and analysis.\n"
      ],
      "metadata": {
        "id": "OJDtValPflSL"
      }
    },
    {
      "cell_type": "markdown",
      "source": [
        "\n",
        "#Opening files\n",
        "\n",
        "Opening files in Python allows you to read or write data from/to external files. Python provides built-in functions and methods to handle file operations. Here's an example of opening a file and reading data from the Pima Indian Diabetes dataset:\n",
        "\n",
        "```python\n",
        "# Open the Pima Indian Diabetes dataset file in read mode\n",
        "file_path = \"pima-indians-diabetes.data.csv\"\n",
        "file = open(file_path, \"r\")\n",
        "\n",
        "# Read the contents of the file\n",
        "data = file.read()\n",
        "\n",
        "# Close the file\n",
        "file.close()\n",
        "\n",
        "# Print the data\n",
        "print(data)\n",
        "```\n",
        "\n",
        "In this example, we assume that the Pima Indian Diabetes dataset file is located in the same directory as the Python script and its filename is \"pima-indians-diabetes.data.csv\". If the file is in a different location, provide the appropriate file path.\n",
        "\n",
        "We use the `open()` function to open the file in read mode by specifying the second argument as \"r\". This function returns a file object that we can use to perform file operations.\n",
        "\n",
        "Then, we read the contents of the file using the `read()` method of the file object. This method reads the entire contents of the file as a string.\n",
        "\n",
        "After reading the data, it's good practice to close the file using the `close()` method to free up system resources.\n",
        "\n",
        "Finally, we print the contents of the file using the `print()` function to display the data.\n",
        "\n",
        "Note: It's worth mentioning that for working with the Pima Indian Diabetes dataset, using the Pandas library (as shown in previous examples) provides more convenient and efficient ways to handle file operations and data manipulation.\n"
      ],
      "metadata": {
        "id": "s_LodqCfrYTV"
      }
    },
    {
      "cell_type": "markdown",
      "source": [
        "#Reading data\n",
        "\n",
        "\n",
        "Reading data in Python typically involves using appropriate libraries or modules to read data from various sources such as CSV files, Excel files, databases, or web APIs. One commonly used library for reading and manipulating tabular data is Pandas.\n",
        "\n",
        "Here's an example using the Pandas library to read the Pima Indian Diabetes dataset from a CSV file:\n",
        "\n",
        "```python\n",
        "import pandas as pd\n",
        "\n",
        "# Read the Pima Indian Diabetes dataset from a CSV file\n",
        "filename = \"pima-indians-diabetes.csv\"\n",
        "dataset = pd.read_csv(filename)\n",
        "\n",
        "# Display the first few rows of the dataset\n",
        "print(dataset.head())\n",
        "```\n",
        "\n",
        "In this example, we assume that the Pima Indian Diabetes dataset is saved in a CSV file named \"pima-indians-diabetes.csv\" in the same directory as the Python script. We import the Pandas library using the `import` statement.\n",
        "\n",
        "The `pd.read_csv()` function is used to read the CSV file and load it into a Pandas DataFrame, which is a two-dimensional tabular data structure.\n",
        "\n",
        "We pass the filename as an argument to the `read_csv()` function to specify the file to be read. The function automatically parses the file, interprets the data, and creates the DataFrame.\n",
        "\n",
        "Finally, we use the `head()` method of the DataFrame to display the first few rows of the dataset. The `head()` method by default shows the first 5 rows of the DataFrame. You can specify the number of rows to display by passing an argument to the `head()` method (e.g., `dataset.head(10)` to display the first 10 rows).\n",
        "\n",
        "Note: Ensure that the Pandas library is installed (`pip install pandas`) before running this code. Also, make sure the CSV file is present in the correct location with the correct filename. Adjust the filename or file path accordingly if necessary.\n"
      ],
      "metadata": {
        "id": "bfmggBMprhya"
      }
    },
    {
      "cell_type": "markdown",
      "source": [
        "#Writing data\n",
        "\n",
        "Writing data in Python typically refers to the process of saving or exporting data to an external file or storage location. This allows you to persist the data for future use or share it with others. In the context of the Pima Indian Diabetes dataset, we can demonstrate writing data by exporting a modified version of the dataset to a CSV file.\n",
        "\n",
        "Here's an example of writing data to a CSV file using the Pima Indian Diabetes dataset:\n",
        "\n",
        "```python\n",
        "import pandas as pd\n",
        "\n",
        "# Load the Pima Indian Diabetes dataset\n",
        "url = \"https://raw.githubusercontent.com/jbrownlee/Datasets/master/pima-indians-diabetes.data.csv\"\n",
        "column_names = [\"Pregnancies\", \"Glucose\", \"BloodPressure\", \"SkinThickness\", \"Insulin\", \"BMI\", \"DiabetesPedigreeFunction\", \"Age\", \"Outcome\"]\n",
        "dataset = pd.read_csv(url, names=column_names)\n",
        "\n",
        "# Modify the dataset (for example, add a new column)\n",
        "dataset['NewColumn'] = 'New Value'\n",
        "\n",
        "# Write the modified dataset to a new CSV file\n",
        "output_filename = 'pima_dataset_modified.csv'\n",
        "dataset.to_csv(output_filename, index=False)\n",
        "\n",
        "print(f\"Modified dataset has been written to '{output_filename}'.\")\n",
        "```\n",
        "\n",
        "In this example, we load the Pima Indian Diabetes dataset using the Pandas library. We then modify the dataset by adding a new column called 'NewColumn' with a constant value 'New Value'.\n",
        "\n",
        "To write the modified dataset to a new CSV file, we use the `to_csv()` method provided by Pandas. We specify the output file name as 'pima_dataset_modified.csv' and set `index=False` to exclude the row index from being written to the CSV file.\n",
        "\n",
        "After writing the modified dataset, we print a message indicating that the process is completed and mention the filename of the generated CSV file.\n",
        "\n",
        "Please note that when running this code, ensure that you have write access to the directory where the script is executed in order to create the output file.\n"
      ],
      "metadata": {
        "id": "WI6t_YgfrqZV"
      }
    },
    {
      "cell_type": "markdown",
      "source": [
        "#Closing files\n",
        "\n",
        "Closing files in Python refers to the process of releasing system resources associated with an open file. It is important to close files after you have finished reading from or writing to them, as it helps free up system resources and ensures that all data is properly saved.\n",
        "\n",
        "Here's an example using the Pima Indian Diabetes dataset to demonstrate closing files in Python:\n",
        "\n",
        "```python\n",
        "import pandas as pd\n",
        "\n",
        "# Open the Pima Indian Diabetes dataset file\n",
        "file_path = \"pima-indians-diabetes.data.csv\"\n",
        "file = open(file_path, 'r')\n",
        "\n",
        "# Read the dataset using Pandas\n",
        "column_names = [\"Pregnancies\", \"Glucose\", \"BloodPressure\", \"SkinThickness\", \"Insulin\", \"BMI\", \"DiabetesPedigreeFunction\", \"Age\", \"Outcome\"]\n",
        "dataset = pd.read_csv(file, names=column_names)\n",
        "\n",
        "# Process the dataset\n",
        "# ... (perform operations on the dataset)\n",
        "\n",
        "# Close the file\n",
        "file.close()\n",
        "```\n",
        "\n",
        "In this example, we open the Pima Indian Diabetes dataset file using the `open()` function. The file is opened in read mode (`'r'`). We then read the dataset from the file using Pandas' `read_csv()` function and store it in the `dataset` variable.\n",
        "\n",
        "After processing the dataset, it is essential to close the file using the `close()` method of the file object (`file.close()`). This ensures that any system resources associated with the file are properly released.\n",
        "\n",
        "Closing the file is crucial to free up resources and maintain good programming practices, especially when working with large files or when you have finished reading/writing data from/to the file.\n"
      ],
      "metadata": {
        "id": "_4ZAxwGLrwOH"
      }
    },
    {
      "cell_type": "markdown",
      "source": [
        "#Reflection Points"
      ],
      "metadata": {
        "id": "2TE_mmb8rzyw"
      }
    },
    {
      "cell_type": "markdown",
      "source": [
        "Here's a list of reflection points on reading from and writing to files in Python, along with sample answers:\n",
        "\n",
        "1. **Why is reading from files important in Python?**\n",
        "   Reading from files is crucial in Python as it allows you to access and process data stored in external files. It enables you to read text, retrieve structured data, or load configurations from files, expanding the capabilities of your programs.\n",
        "\n",
        "2. **What are the different modes used for file reading in Python?**\n",
        "   The common modes for file reading in Python include:\n",
        "   - `'r'`: Read mode, allowing you to read the contents of a file (default mode).\n",
        "   - `'w'`: Write mode, which truncates the file and lets you write new content.\n",
        "   - `'a'`: Append mode, enabling you to add new content at the end of the file.\n",
        "   - `'x'`: Exclusive creation mode, creating a new file and raising an error if it already exists.\n",
        "\n",
        "3. **How can you open and read a file in Python?**\n",
        "   To open and read a file in Python, you can use the `open()` function with the file path and desired mode. For example:\n",
        "   ```python\n",
        "   file = open('myfile.txt', 'r')\n",
        "   content = file.read()\n",
        "   file.close()\n",
        "   ```\n",
        "\n",
        "4. **What is the difference between `read()` and `readlines()` methods?**\n",
        "   The `read()` method reads the entire file as a single string, while the `readlines()` method reads the file line by line and returns a list of strings, with each string representing a line of the file.\n",
        "\n",
        "5. **How can you iterate through a file line by line?**\n",
        "   You can use a `for` loop to iterate through a file line by line. Here's an example:\n",
        "   ```python\n",
        "   with open('myfile.txt', 'r') as file:\n",
        "       for line in file:\n",
        "           print(line)\n",
        "   ```\n",
        "\n",
        "6. **Why is writing to files important in Python?**\n",
        "   Writing to files allows you to store data, results, or outputs generated by your Python programs. It enables you to save data for future use, create log files, or generate reports.\n",
        "\n",
        "7. **What are the different modes used for file writing in Python?**\n",
        "   The common modes for file writing in Python include:\n",
        "   - `'w'`: Write mode, truncating the file and allowing you to write new content.\n",
        "   - `'a'`: Append mode, enabling you to add new content at the end of the file.\n",
        "   - `'x'`: Exclusive creation mode, creating a new file and raising an error if it already exists.\n",
        "\n",
        "8. **How can you open and write to a file in Python?**\n",
        "   To open and write to a file in Python, you can use the `open()` function with the file path and desired mode. For example:\n",
        "   ```python\n",
        "   file = open('myfile.txt', 'w')\n",
        "   file.write('Hello, world!')\n",
        "   file.close()\n",
        "   ```\n",
        "\n",
        "9. **What is the difference between `'w'` and `'a'` modes?**\n",
        "   The `'w'` mode truncates the file, meaning it erases existing content and allows you to write new content from scratch. The `'a'` mode, on the other hand, appends new content at the end of the file without erasing the existing content.\n",
        "\n",
        "10. **How can you ensure proper file handling in Python?**\n",
        "    It is recommended to use the `with` statement when working with files in Python. It ensures proper file handling by automatically closing the file after you've finished working with it. Here's an example:\n",
        "    ```python\n",
        "    with open('myfile.txt', 'r') as file:\n",
        "        content = file.read()\n",
        "    ```\n",
        "\n",
        "These reflection points and answers provide a starting point for understanding file reading and writing in Python. You can further explore these concepts and expand your knowledge by experimenting with different file operations and handling various scenarios.\n"
      ],
      "metadata": {
        "id": "psLhDRHtr5nf"
      }
    },
    {
      "cell_type": "markdown",
      "source": [
        "#A Quiz on File I/O"
      ],
      "metadata": {
        "id": "1uMe8f-kgfee"
      }
    },
    {
      "cell_type": "markdown",
      "source": [
        "\n",
        "1. Which function is used to open a file in Python?\n",
        "   <br>a) open()\n",
        "   <br>b) read()\n",
        "   <br>c) write()\n",
        "   <br>d) close()\n",
        "\n",
        "2. When opening a file, which mode is used to read data from the file?\n",
        "   <br>a) 'r'\n",
        "   <br>b) 'w'\n",
        "   <br>c) 'a'\n",
        "   <br>d) 'x'\n",
        "\n",
        "3. What is the correct way to open a file named \"data.txt\" in read mode?\n",
        "   <br>a) file = open(\"data.txt\", \"w\")\n",
        "   <br>b) file = open(\"data.txt\", \"r\")\n",
        "   <br>c) file = open(\"data.txt\", \"a\")\n",
        "   <br>d) file = open(\"data.txt\", \"x\")\n",
        "\n",
        "4. How can you read the contents of an opened file?\n",
        "   <br>a) file.write()\n",
        "   <br>b) file.read()\n",
        "   <br>c) file.close()\n",
        "   <br>d) file.open()\n",
        "\n",
        "5. Which method is used to write data to an opened file?\n",
        "   <br>a) file.read()\n",
        "   <br>b) file.write()\n",
        "   <br>c) file.open()\n",
        "   <br>d) file.close()\n",
        "\n",
        "6. What is the correct way to write a string \"Hello, World!\" to an opened file named \"output.txt\"?\n",
        "   <br>a) file.write(\"Hello, World!\")\n",
        "   <br>b) file.read(\"Hello, World!\")\n",
        "   <br>c) file.open(\"Hello, World!\")\n",
        "   <br>d) file.close(\"Hello, World!\")\n",
        "\n",
        "7. How do you close an opened file in Python?\n",
        "   <br>a) file.open()\n",
        "   <br>b) file.read()\n",
        "   <br>c) file.write()\n",
        "   <br>d) file.close()\n",
        "\n",
        "8. Which of the following statements is true about closing files?\n",
        "   <br>a) It is not necessary to close files after reading or writing data.\n",
        "   <br>b) Closing files releases system resources and is good practice.\n",
        "   <br>c) Closing files can cause data loss.\n",
        "   <br>d) Closing files is only required when writing large amounts of data.\n",
        "---\n",
        "Answers:\n",
        "1. a) open()\n",
        "2. a) 'r'\n",
        "3. b) file = open(\"data.txt\", \"r\")\n",
        "4. b) file.read()\n",
        "5. b) file.write()\n",
        "6. a) file.write(\"Hello, World!\")\n",
        "7. d) file.close()\n",
        "8. b) Closing files releases system resources and is good practice.\n",
        "---"
      ],
      "metadata": {
        "id": "w0n7NUqdgj-d"
      }
    }
  ]
}