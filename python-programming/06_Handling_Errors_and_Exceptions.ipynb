{
  "nbformat": 4,
  "nbformat_minor": 0,
  "metadata": {
    "colab": {
      "provenance": [],
      "toc_visible": true,
      "authorship_tag": "ABX9TyMdElZGEUUurg9IT45Ttf31",
      "include_colab_link": true
    },
    "kernelspec": {
      "name": "python3",
      "display_name": "Python 3"
    },
    "language_info": {
      "name": "python"
    }
  },
  "cells": [
    {
      "cell_type": "markdown",
      "metadata": {
        "id": "view-in-github",
        "colab_type": "text"
      },
      "source": [
        "<a href=\"https://colab.research.google.com/github/cloudpedagogy/python-programming/blob/main/06_Handling_Errors_and_Exceptions.ipynb\" target=\"_parent\"><img src=\"https://colab.research.google.com/assets/colab-badge.svg\" alt=\"Open In Colab\"/></a>"
      ]
    },
    {
      "cell_type": "markdown",
      "source": [
        "#Handling Errors and Exceptions\n"
      ],
      "metadata": {
        "id": "Jwb2UKPo-kCo"
      }
    },
    {
      "cell_type": "markdown",
      "source": [
        "##Overview"
      ],
      "metadata": {
        "id": "9801Fca1YEan"
      }
    },
    {
      "cell_type": "markdown",
      "source": [
        "\n",
        "In Python programming, errors and exceptions are a common occurrence during the development process. These errors can arise due to various reasons, such as invalid input, incorrect syntax, or unexpected behavior. To ensure smooth execution of our programs and handle such errors gracefully, Python provides a robust mechanism for error handling known as \"exceptions.\"\n",
        "\n",
        "Python provides several keywords and constructs for handling exceptions, such as `try`, `except`, `else`, and `finally`. The `try` block is used to enclose the code that might raise an exception. If an exception occurs within the `try` block, Python checks if there is a corresponding `except` block to handle that specific exception. The `except` block allows us to specify the action or code to execute when a particular exception occurs.\n",
        "\n",
        "To illustrate this concept, let's consider an example of loading the Pima Indian dataset from a CSV file using the `pandas` library. In this scenario, exceptions can occur if the file is not found or if there are issues with the file's structure or contents.\n",
        "\n",
        "```python\n",
        "import pandas as pd\n",
        "\n",
        "try:\n",
        "    # Attempt to load the Pima Indian dataset from a CSV file\n",
        "    df = pd.read_csv('pima_indian_dataset.csv')\n",
        "    # Further data processing or analysis can be performed here\n",
        "except FileNotFoundError:\n",
        "    print(\"Error: File not found. Please ensure the file exists.\")\n",
        "except pd.errors.ParserError:\n",
        "    print(\"Error: Invalid CSV file. Please check the file structure.\")\n",
        "except Exception as e:\n",
        "    print(f\"An unexpected error occurred: {e}\")\n",
        "else:\n",
        "    # Code to execute if no exceptions occur\n",
        "    print(\"Dataset loaded successfully.\")\n",
        "finally:\n",
        "    # Code to execute regardless of whether an exception occurs\n",
        "    print(\"End of the program.\")\n",
        "```\n",
        "\n",
        "In the example above, we enclose the code for loading the dataset within a `try` block. If a `FileNotFoundError` or `ParserError` occurs, the respective `except` blocks will handle the specific exception and provide appropriate error messages. The `else` block is executed only if no exceptions occur, indicating that the dataset was loaded successfully. The `finally` block is executed regardless of whether an exception occurred, ensuring any necessary cleanup actions are performed.\n",
        "\n",
        "By employing this error handling approach, we can gracefully handle exceptions and provide informative error messages to guide troubleshooting and debugging efforts. This not only improves the user experience but also helps us identify and fix issues more effectively.\n",
        "\n",
        "In conclusion, understanding how to handle errors and exceptions in Python programming is crucial for developing robust and reliable programs. By applying error handling techniques to scenarios involving the Pima Indian dataset or any other dataset, we can ensure our programs handle exceptions gracefully and continue executing smoothly."
      ],
      "metadata": {
        "id": "4cg6KMsnYGb9"
      }
    },
    {
      "cell_type": "markdown",
      "source": [
        "#Understanding Error Types\n"
      ],
      "metadata": {
        "id": "Vft_ZbOKYdqg"
      }
    },
    {
      "cell_type": "markdown",
      "source": [
        "\n",
        "##Syntax errors, logical errors, exceptions\n",
        "\n",
        "\n",
        "In Python, there are several types of errors that can occur during the execution of a program. Here are three common types of errors: syntax errors, logical errors, and exceptions.\n",
        "\n",
        "1. Syntax Errors:\n",
        "Syntax errors occur when the code violates the rules of the programming language. These errors are typically detected by the Python interpreter during the parsing stage and prevent the program from running. Syntax errors need to be fixed before the program can be executed.\n"
      ],
      "metadata": {
        "id": "X-90T6pcANuU"
      }
    },
    {
      "cell_type": "code",
      "source": [
        "print(\"Hello, world!)  # Missing closing quotation mark\n"
      ],
      "metadata": {
        "id": "EKuwX_aGASk5"
      },
      "execution_count": null,
      "outputs": []
    },
    {
      "cell_type": "markdown",
      "source": [
        "In this example, a syntax error occurs because the closing quotation mark is missing. The correct version should be `print(\"Hello, world!\")`."
      ],
      "metadata": {
        "id": "AnJeFF3IAX3U"
      }
    },
    {
      "cell_type": "markdown",
      "source": [
        "2. Logical Errors:\n",
        "Logical errors occur when the code does not produce the expected or desired result due to flawed logic or incorrect implementation. These errors are harder to detect because the code runs without any error messages. Debugging techniques like reviewing the code and using print statements are usually required to identify and fix logical errors.\n",
        "\n",
        "Example of a Logical Error:\n"
      ],
      "metadata": {
        "id": "FIRra357AbqU"
      }
    },
    {
      "cell_type": "code",
      "source": [
        "# Calculate the average glucose level\n",
        "sum_glucose = dataset['Glucose'].sum()\n",
        "count = dataset['Glucose'].count()\n",
        "average_glucose = sum_glucose / count\n",
        "print(\"Average Glucose Level:\", average_glucose)\n"
      ],
      "metadata": {
        "id": "d6BYVMwJAjbY"
      },
      "execution_count": null,
      "outputs": []
    },
    {
      "cell_type": "markdown",
      "source": [
        "In this example, a logical error occurs in calculating the average glucose level. Instead of dividing the sum of glucose levels by the count, we should divide by the count minus one (to exclude the missing values). The correct calculation should be `average_glucose = sum_glucose / (count - 1)`."
      ],
      "metadata": {
        "id": "WbIxOHGOAoVN"
      }
    },
    {
      "cell_type": "markdown",
      "source": [
        "3. Exceptions:\n",
        "Exceptions are errors that occur during the execution of a program and can be handled by the program. They are raised when an exceptional condition or event occurs. Exception handling allows you to catch and respond to specific types of exceptions to prevent the program from crashing.\n",
        "\n",
        "Example of an Exception:\n"
      ],
      "metadata": {
        "id": "fQFEOB7GAq_m"
      }
    },
    {
      "cell_type": "code",
      "source": [
        "# Accessing a non-existent column in the dataset\n",
        "try:\n",
        "    column_data = dataset['NonExistentColumn']\n",
        "except KeyError:\n",
        "    print(\"Error: The column does not exist.\")\n"
      ],
      "metadata": {
        "id": "kVXxrUZYAt75"
      },
      "execution_count": null,
      "outputs": []
    },
    {
      "cell_type": "markdown",
      "source": [
        "In this example, an exception occurs when trying to access a non-existent column 'NonExistentColumn' in the dataset. The code is wrapped in a `try-except` block, and the exception is caught and handled by printing an error message.\n",
        "\n",
        "Please note that the examples provided assume you have already loaded the Pima Indian Diabetes dataset as shown in the previous examples.\n"
      ],
      "metadata": {
        "id": "kkLDA-SmAxOP"
      }
    },
    {
      "cell_type": "markdown",
      "source": [
        "#Exception Handling"
      ],
      "metadata": {
        "id": "UKhP9auTYOln"
      }
    },
    {
      "cell_type": "markdown",
      "source": [
        "\n",
        "\n",
        "\n",
        "##Try, except blocks\n",
        "\n",
        "In Python, `try` and `except` blocks are used for error handling and exception handling. They allow you to catch and handle exceptions that may occur during the execution of your code, preventing the program from terminating abruptly.\n",
        "\n",
        "The general syntax for a `try` and `except` block is as follows:\n",
        "\n",
        "```python\n",
        "try:\n",
        "    # Code that may raise an exception\n",
        "    # ...\n",
        "except ExceptionType:\n",
        "    # Code to handle the exception\n",
        "    # ...\n",
        "```\n",
        "Here's an example using the Pima Indian Diabetes dataset to demonstrate the use of `try` and `except` blocks:"
      ],
      "metadata": {
        "id": "fQ0v1YwOA0iR"
      }
    },
    {
      "cell_type": "code",
      "source": [
        "import pandas as pd\n",
        "\n",
        "# Load the Pima Indian Diabetes dataset\n",
        "url = \"https://raw.githubusercontent.com/jbrownlee/Datasets/master/pima-indians-diabetes.data.csv\"\n",
        "column_names = [\"Pregnancies\", \"Glucose\", \"BloodPressure\", \"SkinThickness\", \"Insulin\", \"BMI\", \"DiabetesPedigreeFunction\", \"Age\", \"Outcome\"]\n",
        "\n",
        "try:\n",
        "    dataset = pd.read_csv(url, names=column_names)\n",
        "    print(\"Dataset loaded successfully!\")\n",
        "except Exception as e:\n",
        "    print(\"An error occurred while loading the dataset:\", e)\n"
      ],
      "metadata": {
        "id": "dupMa9gpBGmY"
      },
      "execution_count": null,
      "outputs": []
    },
    {
      "cell_type": "markdown",
      "source": [
        "In this example, we attempt to load the Pima Indian Diabetes dataset using the Pandas library inside a `try` block. If the dataset loading is successful, the code inside the `try` block executes normally, and \"Dataset loaded successfully!\" is printed.\n",
        "\n",
        "If an exception occurs during the dataset loading, such as a network error or an incorrect file format, the execution jumps to the corresponding `except` block. The exception details are captured in the `Exception` variable (`e` in this example), allowing you to handle the exception gracefully. In this case, an error message is printed along with the exception details.\n",
        "\n",
        "Using `try` and `except` blocks helps in handling potential errors and enables you to provide appropriate error messages or take alternative actions to handle exceptions without abruptly terminating the program.\n"
      ],
      "metadata": {
        "id": "ycjfbRmsBLYx"
      }
    },
    {
      "cell_type": "markdown",
      "source": [
        "##Finally clause\n",
        "\n",
        "\n",
        "In Python, the `finally` clause is used in conjunction with the `try` and `except` clauses to define a block of code that will be executed regardless of whether an exception occurs or not. The `finally` block is optional and comes after the `try` and `except` blocks.\n",
        "\n",
        "Here's an example using the Pima Indian Diabetes dataset to demonstrate the `finally` clause:\n",
        "\n",
        "```python\n",
        "import pandas as pd\n",
        "\n",
        "# Load the Pima Indian Diabetes dataset\n",
        "url = \"https://raw.githubusercontent.com/jbrownlee/Datasets/master/pima-indians-diabetes.data.csv\"\n",
        "column_names = [\"Pregnancies\", \"Glucose\", \"BloodPressure\", \"SkinThickness\", \"Insulin\", \"BMI\", \"DiabetesPedigreeFunction\", \"Age\", \"Outcome\"]\n",
        "\n",
        "try:\n",
        "    dataset = pd.read_csv(url, names=column_names)\n",
        "    # Perform some operations on the dataset\n",
        "    # ...\n",
        "    # ...\n",
        "\n",
        "except Exception as e:\n",
        "    # Handle any exceptions that occur\n",
        "    print(\"An error occurred:\", e)\n",
        "\n",
        "finally:\n",
        "    # This block will be executed regardless of whether an exception occurs or not\n",
        "    print(\"Dataset loading process completed.\")\n",
        "\n",
        "# Rest of the code\n",
        "# ...\n",
        "# ...\n",
        "```\n"
      ],
      "metadata": {
        "id": "yOvd2CVqBOje"
      }
    },
    {
      "cell_type": "markdown",
      "source": [
        "In this example, we attempt to load the Pima Indian Diabetes dataset using the Pandas library inside the `try` block. We may encounter exceptions during the loading process, such as network errors or file not found errors.\n",
        "\n",
        "If an exception occurs, the code inside the `except` block will be executed, where we can handle the exception and print an error message.\n",
        "\n",
        "Regardless of whether an exception occurs or not, the code inside the `finally` block will be executed. In this case, we print the message \"Dataset loading process completed.\" to indicate that the loading process is completed.\n",
        "\n",
        "The `finally` clause is useful for performing cleanup tasks or releasing resources, ensuring that they are executed even if an exception is raised. It helps in maintaining the expected behavior of the program and handling any necessary cleanup steps.\n"
      ],
      "metadata": {
        "id": "8--9PjgrBd3G"
      }
    },
    {
      "cell_type": "markdown",
      "source": [
        "##Raising exceptions\n",
        "\n",
        "Raising exceptions in Python allows you to explicitly raise an error when a certain condition is met or when an exceptional situation occurs. This helps you handle errors and exceptions in a structured manner.\n",
        "\n",
        "Here's an example using the Pima Indian Diabetes dataset to demonstrate raising exceptions:\n"
      ],
      "metadata": {
        "id": "0BK208eIBhEe"
      }
    },
    {
      "cell_type": "code",
      "source": [
        "import pandas as pd\n",
        "\n",
        "# Load the Pima Indian Diabetes dataset\n",
        "url = \"https://raw.githubusercontent.com/jbrownlee/Datasets/master/pima-indians-diabetes.data.csv\"\n",
        "column_names = [\"Pregnancies\", \"Glucose\", \"BloodPressure\", \"SkinThickness\", \"Insulin\", \"BMI\", \"DiabetesPedigreeFunction\", \"Age\", \"Outcome\"]\n",
        "dataset = pd.read_csv(url, names=column_names)\n",
        "\n",
        "# Define a function to calculate BMI category\n",
        "def calculate_bmi_category(bmi):\n",
        "    if bmi < 18.5:\n",
        "        raise Exception(\"Underweight\")\n",
        "    elif bmi >= 18.5 and bmi < 25:\n",
        "        return \"Normal\"\n",
        "    elif bmi >= 25 and bmi < 30:\n",
        "        return \"Overweight\"\n",
        "    else:\n",
        "        return \"Obese\"\n",
        "\n",
        "# Get the BMI value from the dataset\n",
        "bmi = dataset.loc[0, 'BMI']\n",
        "\n",
        "# Calculate the BMI category\n",
        "try:\n",
        "    bmi_category = calculate_bmi_category(bmi)\n",
        "    print(\"BMI Category:\", bmi_category)\n",
        "except Exception as e:\n",
        "    print(\"Error:\", str(e))\n"
      ],
      "metadata": {
        "id": "nTkKcleiBl61"
      },
      "execution_count": null,
      "outputs": []
    },
    {
      "cell_type": "markdown",
      "source": [
        "In this example, we define a function `calculate_bmi_category()` that takes a BMI value as an argument and calculates the BMI category. The function raises an exception when the BMI is less than 18.5, indicating an \"Underweight\" category.\n",
        "\n",
        "We then get the BMI value from the dataset and pass it to the `calculate_bmi_category()` function. We use a `try-except` block to handle the exception that may be raised. If the BMI category can be calculated without any exception, we print the BMI category. Otherwise, if an exception occurs, we catch the exception using the `except` block and print the error message.\n",
        "\n",
        "This example demonstrates how to raise an exception when a specific condition is met, in this case, when the BMI is under 18.5. You can customize the exception type and error message according to your requirements.\n"
      ],
      "metadata": {
        "id": "00okX7u0BsCv"
      }
    },
    {
      "cell_type": "markdown",
      "source": [
        "#Reflection Points"
      ],
      "metadata": {
        "id": "V0U5i1K9Bt-D"
      }
    },
    {
      "cell_type": "markdown",
      "source": [
        "**Exception Handling:**\n",
        "\n",
        "1. What is exception handling in Python?\n",
        "   - Exception handling is a mechanism in Python that allows you to gracefully handle and manage runtime errors or exceptions. It enables you to anticipate potential errors, handle them gracefully, and take appropriate actions to recover or gracefully exit the program.\n",
        "\n",
        "2. What is the purpose of using try-except blocks?\n",
        "   - The try-except block is used to catch and handle exceptions in Python. The code within the try block is executed, and if an exception occurs, it is caught by the except block. This allows you to handle the exception gracefully without terminating the program abruptly.\n",
        "\n",
        "3. How can you handle multiple exceptions using a single except block?\n",
        "   - You can handle multiple exceptions by specifying multiple exception types within a single except block, separated by commas. This allows you to provide different handling mechanisms for different types of exceptions, making your code more robust and flexible.\n",
        "\n",
        "4. What is the role of the finally block in exception handling?\n",
        "   - The finally block is used to specify code that must be executed regardless of whether an exception occurred or not. It is executed after the try and except blocks, providing a way to perform cleanup tasks or release resources, ensuring the execution of certain code segments regardless of exceptions.\n",
        "\n",
        "5. When should you raise custom exceptions?\n",
        "   - You should raise custom exceptions when you want to create and handle specific error scenarios that are not covered by the built-in exception types. Custom exceptions allow you to provide more meaningful error messages and make your code more readable and maintainable.\n"
      ],
      "metadata": {
        "id": "oij8yM6xByDH"
      }
    },
    {
      "cell_type": "markdown",
      "source": [
        "#A quiz on Handling Errors and Exceptions"
      ],
      "metadata": {
        "id": "zsWlCs73acmr"
      }
    },
    {
      "cell_type": "markdown",
      "source": [
        "\n",
        "\n",
        "1. What are syntax errors?\n",
        "   <br>a) Errors that occur when the code violates the rules of the programming language.\n",
        "   <br>b) Errors that occur when the code produces unexpected or incorrect results.\n",
        "   <br>c) Errors that occur when the code tries to handle exceptions.\n",
        "   <br>d) Errors that occur when the code is executed inside a try-except block.\n",
        "\n",
        "2. Which of the following is an example of a syntax error?\n",
        "   <br>a) Dividing a number by zero.\n",
        "   <br>b) Misspelling a variable name.\n",
        "   <br>c) Accessing an index that is out of range.\n",
        "   <br>d) Forgetting to import a required module.\n",
        "\n",
        "3. What are logical errors?\n",
        "   <br>a) Errors that occur when the code violates the rules of the programming language.\n",
        "   <br>b) Errors that occur when the code produces unexpected or incorrect results.\n",
        "   <br>c) Errors that occur when the code tries to handle exceptions.\n",
        "   <br>d) Errors that occur when the code is executed inside a try-except block.\n",
        "\n",
        "4. Which of the following is an example of a logical error?\n",
        "   <br>a) Dividing a number by zero.\n",
        "   <br>b) Misspelling a variable name.\n",
        "   <br>c) Accessing an index that is out of range.\n",
        "   <br>d) Incorrectly implementing a sorting algorithm.\n",
        "\n",
        "5. What is an exception in Python?\n",
        "   <br>a) A condition that occurs when the code violates the rules of the programming language.\n",
        "   <br>b) A condition that occurs when the code produces unexpected or incorrect results.\n",
        "   <br>c) A condition that occurs when the code tries to handle exceptions.\n",
        "   <br>d) A condition that occurs when the code encounters an error during execution.\n",
        "\n",
        "6. How can you handle exceptions in Python?\n",
        "   <br>a) By using the \"catch\" keyword.\n",
        "   <br>b) By using the \"try-except\" blocks.\n",
        "   <br>c) By using the \"finally\" clause.\n",
        "   <br>d) By using the \"raise\" keyword.\n",
        "\n",
        "7. What is the purpose of the \"finally\" clause in a try-except block?\n",
        "   <br>a) To handle exceptions that occur in the try block.\n",
        "   <br>b) To execute a set of statements regardless of whether an exception occurs or not.\n",
        "   <br>c) To raise a new exception.\n",
        "   <br>d) To catch and handle specific exceptions.\n",
        "\n",
        "8. How can you raise an exception manually in Python?\n",
        "   <br>a) By using the \"try-except\" block.\n",
        "   <br>b) By using the \"raise\" keyword.\n",
        "   <br>c) By using the \"finally\" clause.\n",
        "   <br>d) By using the \"catch\" keyword.\n",
        "\n",
        "Answers:\n",
        "1. a) Errors that occur when the code violates the rules of the programming language.\n",
        "2. b) Misspelling a variable name.\n",
        "3. b) Errors that occur when the code produces unexpected or incorrect results.\n",
        "4. d) Incorrectly implementing a sorting algorithm.\n",
        "5. d) A condition that occurs when the code encounters an error during execution.\n",
        "6. b) By using the \"try-except\" blocks.\n",
        "7. b) To execute a set of statements regardless of whether an exception occurs or not.\n",
        "8. b) By using the \"raise\" keyword.\n",
        "\n"
      ],
      "metadata": {
        "id": "M-JJjVcQaj5U"
      }
    }
  ]
}